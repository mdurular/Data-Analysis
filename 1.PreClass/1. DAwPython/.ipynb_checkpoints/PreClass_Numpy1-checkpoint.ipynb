{
 "cells": [
  {
   "cell_type": "code",
   "execution_count": 1,
   "id": "3db3b784",
   "metadata": {},
   "outputs": [],
   "source": [
    "import numpy as np"
   ]
  },
  {
   "cell_type": "code",
   "execution_count": 2,
   "id": "d4886a4d",
   "metadata": {},
   "outputs": [
    {
     "data": {
      "text/plain": [
       "array([0, 1, 2, 3])"
      ]
     },
     "execution_count": 2,
     "metadata": {},
     "output_type": "execute_result"
    }
   ],
   "source": [
    "dizi = np.array([0, 1, 2, 3])\n",
    "dizi"
   ]
  },
  {
   "cell_type": "code",
   "execution_count": 3,
   "id": "1a7cbcd5",
   "metadata": {},
   "outputs": [],
   "source": [
    "yas_dizi = np.array([18, 25, 22, 34, 26, 27, 19, 28, 30, 24])\n",
    "boy_dizi = np.array([1.81, 1.67, 1.71, 1.89, 1.79, 1.75, 1.80, 1.78, 1.89, 1.82])\n",
    "agirlik_dizi = np.array([81, 72, 74, 88, 82, 77, 78, 70, 90, 85])"
   ]
  },
  {
   "cell_type": "code",
   "execution_count": 4,
   "id": "f62c3815",
   "metadata": {},
   "outputs": [
    {
     "name": "stdout",
     "output_type": "stream",
     "text": [
      "(10,)\n",
      "(10,)\n",
      "(10,)\n"
     ]
    }
   ],
   "source": [
    "print(yas_dizi.shape)\n",
    "print(boy_dizi.shape)\n",
    "print(agirlik_dizi.shape)"
   ]
  },
  {
   "cell_type": "code",
   "execution_count": 5,
   "id": "016dc324",
   "metadata": {},
   "outputs": [
    {
     "name": "stdout",
     "output_type": "stream",
     "text": [
      "['Ali' '13' 'True']\n"
     ]
    }
   ],
   "source": [
    "Listem = ['Ali', 13, True]\n",
    "Dizi = np.array(Listem)\n",
    "\n",
    "print(Dizi)"
   ]
  },
  {
   "cell_type": "code",
   "execution_count": 6,
   "id": "0bc72102",
   "metadata": {},
   "outputs": [
    {
     "name": "stdout",
     "output_type": "stream",
     "text": [
      "[13  1]\n"
     ]
    }
   ],
   "source": [
    "Listem = [13, True]\n",
    "Dizi = np.array(Listem)\n",
    "\n",
    "print(Dizi)"
   ]
  },
  {
   "cell_type": "code",
   "execution_count": 7,
   "id": "ac195857",
   "metadata": {},
   "outputs": [
    {
     "name": "stdout",
     "output_type": "stream",
     "text": [
      "[0 1 5 4]\n"
     ]
    }
   ],
   "source": [
    "dizi = np.array([0, 1, 2, 3])\n",
    "dizi[2:] = [5,4]\n",
    "print(dizi)"
   ]
  },
  {
   "cell_type": "code",
   "execution_count": 8,
   "id": "c7fdf0a9",
   "metadata": {},
   "outputs": [
    {
     "name": "stdout",
     "output_type": "stream",
     "text": [
      "[0 1 8 8]\n"
     ]
    }
   ],
   "source": [
    "dizi = np.array([0, 1, 2, 3])\n",
    "dizi[2:] = [8]\n",
    "print(dizi)"
   ]
  },
  {
   "cell_type": "code",
   "execution_count": 9,
   "id": "6a61cac0",
   "metadata": {},
   "outputs": [
    {
     "data": {
      "text/plain": [
       "array([0, 1, 2, 3, 7, 8, 9])"
      ]
     },
     "execution_count": 9,
     "metadata": {},
     "output_type": "execute_result"
    }
   ],
   "source": [
    "dizi = np.array([0, 1, 2, 3])\n",
    "np.append(dizi, (7,8,9))"
   ]
  },
  {
   "cell_type": "code",
   "execution_count": 10,
   "id": "49c8b298",
   "metadata": {},
   "outputs": [
    {
     "data": {
      "text/plain": [
       "array([[0, 1, 2, 3],\n",
       "       [4, 5, 6, 7]])"
      ]
     },
     "execution_count": 10,
     "metadata": {},
     "output_type": "execute_result"
    }
   ],
   "source": [
    "w = np.array([[0, 1, 2, 3],[4, 5, 6, 7]])\n",
    "w"
   ]
  },
  {
   "cell_type": "code",
   "execution_count": 11,
   "id": "c3c3951e",
   "metadata": {},
   "outputs": [
    {
     "name": "stdout",
     "output_type": "stream",
     "text": [
      "[[18.   25.   22.   34.   26.   27.   19.   28.   30.   24.  ]\n",
      " [ 1.81  1.67  1.71  1.89  1.79  1.75  1.8   1.78  1.89  1.82]\n",
      " [81.   72.   74.   88.   82.   77.   78.   70.   90.   85.  ]]\n",
      "(3, 10)\n"
     ]
    }
   ],
   "source": [
    "basketbol_takimi = np.array([[18, 25, 22, 34, 26, 27, 19, 28, 30, 24],\n",
    "                        [1.81, 1.67, 1.71, 1.89, 1.79, 1.75, 1.80, 1.78, 1.89, 1.82],\n",
    "                        [81, 72, 74, 88, 82, 77, 78, 70, 90, 85]])\n",
    "print(basketbol_takimi)\n",
    "\n",
    "print(basketbol_takimi.shape)"
   ]
  },
  {
   "cell_type": "code",
   "execution_count": 12,
   "id": "9deb6542",
   "metadata": {},
   "outputs": [
    {
     "data": {
      "text/plain": [
       "array([ 0. ,  2.5,  5. ,  7.5, 10. , 12.5, 15. , 17.5, 20. ])"
      ]
     },
     "execution_count": 12,
     "metadata": {},
     "output_type": "execute_result"
    }
   ],
   "source": [
    "np.linspace(0,20,9)"
   ]
  },
  {
   "cell_type": "code",
   "execution_count": 13,
   "id": "806a593a",
   "metadata": {},
   "outputs": [
    {
     "data": {
      "text/plain": [
       "array([  0,   2,   4,   6,   8,  10,  12,  14,  16,  18,  20,  22,  24,\n",
       "        26,  28,  30,  32,  34,  36,  38,  40,  42,  44,  46,  48,  50,\n",
       "        52,  54,  56,  58,  60,  62,  64,  66,  68,  70,  72,  74,  76,\n",
       "        78,  80,  82,  84,  86,  88,  90,  92,  94,  96,  98, 100, 102,\n",
       "       104, 106, 108, 110, 112, 114, 116, 118, 120, 122, 124, 126, 128,\n",
       "       130, 132, 134, 136, 138, 140, 142, 144, 146, 148, 150, 152, 154,\n",
       "       156, 158, 160, 162, 164, 166, 168, 170, 172, 174, 176, 178, 180,\n",
       "       182, 184, 186, 188, 190, 192, 194, 196, 198])"
      ]
     },
     "execution_count": 13,
     "metadata": {},
     "output_type": "execute_result"
    }
   ],
   "source": [
    "y = np.arange(0,200,2)\n",
    "y"
   ]
  },
  {
   "cell_type": "code",
   "execution_count": 14,
   "id": "a774642c",
   "metadata": {},
   "outputs": [
    {
     "data": {
      "text/plain": [
       "array([-4., -3., -2., -1.,  0.])"
      ]
     },
     "execution_count": 14,
     "metadata": {},
     "output_type": "execute_result"
    }
   ],
   "source": [
    "arr_1 = np.array([4,9,16,25,36])\n",
    "arr_2 = np.array([2,3,4,5,6])\n",
    "np.sqrt(arr_1)-np.max(arr_2)"
   ]
  },
  {
   "cell_type": "code",
   "execution_count": 15,
   "id": "69bf03aa",
   "metadata": {},
   "outputs": [
    {
     "data": {
      "text/plain": [
       "array([2., 3., 4., 5., 6.])"
      ]
     },
     "execution_count": 15,
     "metadata": {},
     "output_type": "execute_result"
    }
   ],
   "source": [
    "np.sqrt(arr_1)"
   ]
  },
  {
   "cell_type": "code",
   "execution_count": 16,
   "id": "e8a169ee",
   "metadata": {},
   "outputs": [
    {
     "data": {
      "text/plain": [
       "6"
      ]
     },
     "execution_count": 16,
     "metadata": {},
     "output_type": "execute_result"
    }
   ],
   "source": [
    "np.max(arr_2)"
   ]
  },
  {
   "cell_type": "code",
   "execution_count": 17,
   "id": "1ba31bc2",
   "metadata": {},
   "outputs": [
    {
     "data": {
      "text/plain": [
       "array([[ 5, 10, 15],\n",
       "       [20, 25, 30],\n",
       "       [35, 40, 50]])"
      ]
     },
     "execution_count": 17,
     "metadata": {},
     "output_type": "execute_result"
    }
   ],
   "source": [
    "arr_2d = np.array(([5,10,15],[20,25,30],[35,40,50]))\n",
    "arr_2d"
   ]
  },
  {
   "cell_type": "code",
   "execution_count": 18,
   "id": "6edcc6ba",
   "metadata": {},
   "outputs": [
    {
     "data": {
      "text/plain": [
       "array([[10, 15]])"
      ]
     },
     "execution_count": 18,
     "metadata": {},
     "output_type": "execute_result"
    }
   ],
   "source": [
    "arr_2d[:1,1:]"
   ]
  },
  {
   "cell_type": "code",
   "execution_count": 19,
   "id": "cae79545",
   "metadata": {},
   "outputs": [
    {
     "data": {
      "text/plain": [
       "(37,)"
      ]
     },
     "execution_count": 19,
     "metadata": {},
     "output_type": "execute_result"
    }
   ],
   "source": [
    "arr=np.arange(0,37)\n",
    "arr.shape"
   ]
  },
  {
   "cell_type": "code",
   "execution_count": 20,
   "id": "8c140920",
   "metadata": {},
   "outputs": [
    {
     "data": {
      "text/plain": [
       "array([ 0,  1,  2,  3,  4,  5,  6,  7,  8,  9, 10, 11, 12, 13, 14, 15, 16,\n",
       "       17, 18, 19, 20, 21, 22, 23, 24, 25, 26, 27, 28, 29, 30, 31, 32, 33,\n",
       "       34, 35, 36])"
      ]
     },
     "execution_count": 20,
     "metadata": {},
     "output_type": "execute_result"
    }
   ],
   "source": [
    "arr"
   ]
  },
  {
   "cell_type": "code",
   "execution_count": 21,
   "id": "93ecc8f9",
   "metadata": {},
   "outputs": [],
   "source": [
    "py_list=[1,2,3,4,5,6,7,8,9]"
   ]
  },
  {
   "cell_type": "code",
   "execution_count": 22,
   "id": "ddbd9b16",
   "metadata": {},
   "outputs": [],
   "source": [
    "arr=np.array([1,2,3,4,])"
   ]
  },
  {
   "cell_type": "code",
   "execution_count": 23,
   "id": "e0a92b3b",
   "metadata": {},
   "outputs": [
    {
     "data": {
      "text/plain": [
       "numpy.ndarray"
      ]
     },
     "execution_count": 23,
     "metadata": {},
     "output_type": "execute_result"
    }
   ],
   "source": [
    "type(arr)"
   ]
  },
  {
   "cell_type": "markdown",
   "id": "736c8cff",
   "metadata": {},
   "source": [
    "1.(10,15,30,45,60) değerlerine sahip numpy dizisi oluşturunuz"
   ]
  },
  {
   "cell_type": "code",
   "execution_count": 24,
   "id": "e76c2f81",
   "metadata": {},
   "outputs": [
    {
     "data": {
      "text/plain": [
       "array([10, 15, 30, 45, 60])"
      ]
     },
     "execution_count": 24,
     "metadata": {},
     "output_type": "execute_result"
    }
   ],
   "source": [
    "result=np.array([10,15,30,45,60])\n",
    "result"
   ]
  },
  {
   "cell_type": "markdown",
   "id": "4570b934",
   "metadata": {},
   "source": [
    "2. (5-15) arasındaki sayılarla numpğy dizisi oluşturunuz"
   ]
  },
  {
   "cell_type": "code",
   "execution_count": 25,
   "id": "ea19c246",
   "metadata": {},
   "outputs": [
    {
     "data": {
      "text/plain": [
       "array([ 5,  6,  7,  8,  9, 10, 11, 12, 13, 14])"
      ]
     },
     "execution_count": 25,
     "metadata": {},
     "output_type": "execute_result"
    }
   ],
   "source": [
    "result=np.arange(5,15)\n",
    "result"
   ]
  },
  {
   "cell_type": "markdown",
   "id": "c96e158d",
   "metadata": {},
   "source": [
    "3.(50-100) arasında 5'er 5'er artarak mumpy dizisi oluşturun"
   ]
  },
  {
   "cell_type": "code",
   "execution_count": 26,
   "id": "8b37e9f5",
   "metadata": {},
   "outputs": [
    {
     "data": {
      "text/plain": [
       "array([50, 55, 60, 65, 70, 75, 80, 85, 90, 95])"
      ]
     },
     "execution_count": 26,
     "metadata": {},
     "output_type": "execute_result"
    }
   ],
   "source": [
    "result=np.arange(50,100,5)\n",
    "result"
   ]
  },
  {
   "cell_type": "code",
   "execution_count": 27,
   "id": "59732b03",
   "metadata": {},
   "outputs": [
    {
     "ename": "SyntaxError",
     "evalue": "invalid syntax (<ipython-input-27-6d0f0586a779>, line 1)",
     "output_type": "error",
     "traceback": [
      "\u001b[1;36m  File \u001b[1;32m\"<ipython-input-27-6d0f0586a779>\"\u001b[1;36m, line \u001b[1;32m1\u001b[0m\n\u001b[1;33m    4. 10 elemanlı sıfırlardan oluşan bir dizi oluşturunuz\u001b[0m\n\u001b[1;37m       ^\u001b[0m\n\u001b[1;31mSyntaxError\u001b[0m\u001b[1;31m:\u001b[0m invalid syntax\n"
     ]
    }
   ],
   "source": [
    "4. 10 elemanlı sıfırlardan oluşan bir dizi oluşturunuz"
   ]
  },
  {
   "cell_type": "code",
   "execution_count": null,
   "id": "59c5cf41",
   "metadata": {},
   "outputs": [],
   "source": []
  },
  {
   "cell_type": "code",
   "execution_count": null,
   "id": "0a7536e6",
   "metadata": {},
   "outputs": [],
   "source": []
  },
  {
   "cell_type": "code",
   "execution_count": null,
   "id": "1bbc2d97",
   "metadata": {},
   "outputs": [],
   "source": []
  }
 ],
 "metadata": {
  "kernelspec": {
   "display_name": "Python 3",
   "language": "python",
   "name": "python3"
  },
  "language_info": {
   "codemirror_mode": {
    "name": "ipython",
    "version": 3
   },
   "file_extension": ".py",
   "mimetype": "text/x-python",
   "name": "python",
   "nbconvert_exporter": "python",
   "pygments_lexer": "ipython3",
   "version": "3.8.8"
  }
 },
 "nbformat": 4,
 "nbformat_minor": 5
}
