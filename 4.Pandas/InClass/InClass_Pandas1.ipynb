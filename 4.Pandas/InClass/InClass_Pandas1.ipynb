{
 "cells": [
  {
   "cell_type": "code",
   "execution_count": 1,
   "id": "dcfe9239",
   "metadata": {},
   "outputs": [],
   "source": [
    "import pandas as pd\n",
    "import numpy as np"
   ]
  },
  {
   "cell_type": "code",
   "execution_count": 5,
   "id": "61e46713",
   "metadata": {},
   "outputs": [
    {
     "data": {
      "text/plain": [
       "0    1\n",
       "1    2\n",
       "2    3\n",
       "3    4\n",
       "4    5\n",
       "dtype: int64"
      ]
     },
     "execution_count": 5,
     "metadata": {},
     "output_type": "execute_result"
    }
   ],
   "source": [
    "serr = pd.Series([1,2,3,4,5])\n",
    "serr"
   ]
  },
  {
   "cell_type": "code",
   "execution_count": 6,
   "id": "de76a158",
   "metadata": {},
   "outputs": [
    {
     "data": {
      "text/plain": [
       "pandas.core.series.Series"
      ]
     },
     "execution_count": 6,
     "metadata": {},
     "output_type": "execute_result"
    }
   ],
   "source": [
    "type(serr)"
   ]
  },
  {
   "cell_type": "code",
   "execution_count": 9,
   "id": "612f3e05",
   "metadata": {},
   "outputs": [
    {
     "data": {
      "text/plain": [
       "5"
      ]
     },
     "execution_count": 9,
     "metadata": {},
     "output_type": "execute_result"
    }
   ],
   "source": [
    "serr.size"
   ]
  },
  {
   "cell_type": "code",
   "execution_count": 11,
   "id": "cbbbe93b",
   "metadata": {},
   "outputs": [
    {
     "data": {
      "text/plain": [
       "5"
      ]
     },
     "execution_count": 11,
     "metadata": {},
     "output_type": "execute_result"
    }
   ],
   "source": [
    "len(serr)"
   ]
  },
  {
   "cell_type": "code",
   "execution_count": 14,
   "id": "3ebb07a9",
   "metadata": {},
   "outputs": [
    {
     "data": {
      "text/plain": [
       "1"
      ]
     },
     "execution_count": 14,
     "metadata": {},
     "output_type": "execute_result"
    }
   ],
   "source": [
    "serr.ndim"
   ]
  },
  {
   "cell_type": "code",
   "execution_count": 15,
   "id": "fc24c7d1",
   "metadata": {},
   "outputs": [
    {
     "data": {
      "text/plain": [
       "array([1, 2, 3, 4, 5], dtype=int64)"
      ]
     },
     "execution_count": 15,
     "metadata": {},
     "output_type": "execute_result"
    }
   ],
   "source": [
    "serr.values"
   ]
  },
  {
   "cell_type": "code",
   "execution_count": 17,
   "id": "15c42ff9",
   "metadata": {},
   "outputs": [
    {
     "data": {
      "text/plain": [
       "[1, 2, 3, 4, 5]"
      ]
     },
     "execution_count": 17,
     "metadata": {},
     "output_type": "execute_result"
    }
   ],
   "source": [
    "[i for i in serr.values]"
   ]
  },
  {
   "cell_type": "code",
   "execution_count": 18,
   "id": "c044e71c",
   "metadata": {},
   "outputs": [
    {
     "data": {
      "text/plain": [
       "0     11\n",
       "1     21\n",
       "2     13\n",
       "3     41\n",
       "4     15\n",
       "5     61\n",
       "6     11\n",
       "7     21\n",
       "8     13\n",
       "9     41\n",
       "10    15\n",
       "11    61\n",
       "12    11\n",
       "13    21\n",
       "14    13\n",
       "15    41\n",
       "16    15\n",
       "17    61\n",
       "dtype: int64"
      ]
     },
     "execution_count": 18,
     "metadata": {},
     "output_type": "execute_result"
    }
   ],
   "source": [
    "serr2 = pd.Series([11,21,13,41,15,61,11,21,13,41,15,61,11,21,13,41,15,61])\n",
    "serr2"
   ]
  },
  {
   "cell_type": "code",
   "execution_count": 19,
   "id": "72a6fc7e",
   "metadata": {},
   "outputs": [
    {
     "data": {
      "text/plain": [
       "0    11\n",
       "1    21\n",
       "2    13\n",
       "3    41\n",
       "4    15\n",
       "dtype: int64"
      ]
     },
     "execution_count": 19,
     "metadata": {},
     "output_type": "execute_result"
    }
   ],
   "source": [
    "serr2.head()"
   ]
  },
  {
   "cell_type": "code",
   "execution_count": 25,
   "id": "9829771a",
   "metadata": {},
   "outputs": [
    {
     "data": {
      "text/plain": [
       "0    11\n",
       "1    21\n",
       "2    13\n",
       "dtype: int64"
      ]
     },
     "execution_count": 25,
     "metadata": {},
     "output_type": "execute_result"
    }
   ],
   "source": [
    "serr2.head(3)"
   ]
  },
  {
   "cell_type": "code",
   "execution_count": 26,
   "id": "bae928cb",
   "metadata": {},
   "outputs": [
    {
     "data": {
      "text/plain": [
       "15    41\n",
       "16    15\n",
       "17    61\n",
       "dtype: int64"
      ]
     },
     "execution_count": 26,
     "metadata": {},
     "output_type": "execute_result"
    }
   ],
   "source": [
    "serr2.tail(3)"
   ]
  },
  {
   "cell_type": "code",
   "execution_count": 28,
   "id": "c5b3ca7e",
   "metadata": {},
   "outputs": [
    {
     "data": {
      "text/plain": [
       "['c', 'l', 'a', 'r', 'u', 's', 'w', 'a', 'y']"
      ]
     },
     "execution_count": 28,
     "metadata": {},
     "output_type": "execute_result"
    }
   ],
   "source": [
    "list('clarusway')"
   ]
  },
  {
   "cell_type": "code",
   "execution_count": 29,
   "id": "1d97797b",
   "metadata": {},
   "outputs": [
    {
     "data": {
      "text/plain": [
       "0    c\n",
       "1    l\n",
       "2    a\n",
       "3    r\n",
       "4    u\n",
       "5    s\n",
       "6    w\n",
       "7    a\n",
       "8    y\n",
       "dtype: object"
      ]
     },
     "execution_count": 29,
     "metadata": {},
     "output_type": "execute_result"
    }
   ],
   "source": [
    "pd.Series(['c', 'l', 'a', 'r', 'u', 's', 'w', 'a', 'y'])"
   ]
  },
  {
   "cell_type": "code",
   "execution_count": 34,
   "id": "d9ba3fd8",
   "metadata": {},
   "outputs": [],
   "source": [
    "data = [\"paris\", \"london\", \"ankara\"]\n",
    "index = [\"x\",\"y\",\"z\"]"
   ]
  },
  {
   "cell_type": "code",
   "execution_count": 35,
   "id": "19f64320",
   "metadata": {},
   "outputs": [
    {
     "data": {
      "text/plain": [
       "x     paris\n",
       "y    london\n",
       "z    ankara\n",
       "dtype: object"
      ]
     },
     "execution_count": 35,
     "metadata": {},
     "output_type": "execute_result"
    }
   ],
   "source": [
    "pd.Series(data,index)"
   ]
  },
  {
   "cell_type": "code",
   "execution_count": 36,
   "id": "767a1245",
   "metadata": {},
   "outputs": [
    {
     "data": {
      "text/plain": [
       "D    70.0\n",
       "E    60.0\n",
       "A    90.0\n",
       "B    85.0\n",
       "C    99.5\n",
       "dtype: float64"
      ]
     },
     "execution_count": 36,
     "metadata": {},
     "output_type": "execute_result"
    }
   ],
   "source": [
    "Score = [70,60,90,85, 99.5]\n",
    "index = [\"D\",\"E\",\"A\",\"B\",\"C\"]\n",
    "pd.Series(Score,index)\n"
   ]
  },
  {
   "cell_type": "code",
   "execution_count": 37,
   "id": "855fa3fa",
   "metadata": {},
   "outputs": [
    {
     "data": {
      "text/plain": [
       "D    10.0\n",
       "E    20.0\n",
       "A   -30.0\n",
       "B    99.0\n",
       "C     1.1\n",
       "dtype: float64"
      ]
     },
     "execution_count": 37,
     "metadata": {},
     "output_type": "execute_result"
    }
   ],
   "source": [
    "dic = {\"D\":10,\"E\":20,\"A\":-30,\"B\":99,\"C\":1.1}\n",
    "pd.Series(dic)"
   ]
  },
  {
   "cell_type": "code",
   "execution_count": 40,
   "id": "1cc7afbd",
   "metadata": {},
   "outputs": [
    {
     "data": {
      "text/plain": [
       "{2, 3, 4, 5, 32, 45}"
      ]
     },
     "execution_count": 40,
     "metadata": {},
     "output_type": "execute_result"
    }
   ],
   "source": [
    "a = set ([3,2,45,4,3,4,32,4,5,5,4])\n",
    "a"
   ]
  },
  {
   "cell_type": "code",
   "execution_count": 43,
   "id": "faac3f68",
   "metadata": {},
   "outputs": [
    {
     "data": {
      "text/plain": [
       "0    32\n",
       "1     2\n",
       "2     3\n",
       "3     4\n",
       "4     5\n",
       "5    45\n",
       "dtype: int64"
      ]
     },
     "execution_count": 43,
     "metadata": {},
     "output_type": "execute_result"
    }
   ],
   "source": [
    "pd.Series(list(a))"
   ]
  },
  {
   "cell_type": "code",
   "execution_count": 44,
   "id": "f94ae0e7",
   "metadata": {},
   "outputs": [],
   "source": [
    "ser1 = pd.Series([1,2,3,4], index = ['USA', 'Germany','USSR', 'Japan'])\n",
    "ser2 = pd.Series([1,2,5,4], index = ['USA', 'Germany','Italy', 'Japan'])"
   ]
  },
  {
   "cell_type": "code",
   "execution_count": 47,
   "id": "0e5940e8",
   "metadata": {},
   "outputs": [
    {
     "data": {
      "text/plain": [
       "USA        1\n",
       "Germany    2\n",
       "USSR       3\n",
       "Japan      4\n",
       "dtype: int64"
      ]
     },
     "execution_count": 47,
     "metadata": {},
     "output_type": "execute_result"
    }
   ],
   "source": [
    "ser1"
   ]
  },
  {
   "cell_type": "code",
   "execution_count": 48,
   "id": "bc644a23",
   "metadata": {},
   "outputs": [
    {
     "data": {
      "text/plain": [
       "Index(['USA', 'Germany', 'USSR', 'Japan'], dtype='object')"
      ]
     },
     "execution_count": 48,
     "metadata": {},
     "output_type": "execute_result"
    }
   ],
   "source": [
    "ser1.index"
   ]
  },
  {
   "cell_type": "code",
   "execution_count": 49,
   "id": "0bb3f333",
   "metadata": {},
   "outputs": [
    {
     "data": {
      "text/plain": [
       "array([1, 2, 3, 4], dtype=int64)"
      ]
     },
     "execution_count": 49,
     "metadata": {},
     "output_type": "execute_result"
    }
   ],
   "source": [
    "ser1.values"
   ]
  },
  {
   "cell_type": "code",
   "execution_count": 51,
   "id": "f5bbc546",
   "metadata": {},
   "outputs": [
    {
     "data": {
      "text/plain": [
       "Germany    2\n",
       "Japan      4\n",
       "USA        1\n",
       "USSR       3\n",
       "dtype: int64"
      ]
     },
     "execution_count": 51,
     "metadata": {},
     "output_type": "execute_result"
    }
   ],
   "source": [
    "ser1.sort_index()"
   ]
  },
  {
   "cell_type": "code",
   "execution_count": 52,
   "id": "e22cade4",
   "metadata": {},
   "outputs": [
    {
     "data": {
      "text/plain": [
       "USA        1\n",
       "Germany    2\n",
       "USSR       3\n",
       "Japan      4\n",
       "dtype: int64"
      ]
     },
     "execution_count": 52,
     "metadata": {},
     "output_type": "execute_result"
    }
   ],
   "source": [
    "ser1.sort_values()"
   ]
  },
  {
   "cell_type": "code",
   "execution_count": 53,
   "id": "2b08f71a",
   "metadata": {},
   "outputs": [
    {
     "data": {
      "text/plain": [
       "Germany    2\n",
       "Italy      5\n",
       "Japan      4\n",
       "USA        1\n",
       "dtype: int64"
      ]
     },
     "execution_count": 53,
     "metadata": {},
     "output_type": "execute_result"
    }
   ],
   "source": [
    "ser2.sort_index()"
   ]
  },
  {
   "cell_type": "code",
   "execution_count": 54,
   "id": "91b2b7c8",
   "metadata": {},
   "outputs": [
    {
     "data": {
      "text/plain": [
       "USA        1\n",
       "Germany    2\n",
       "Japan      4\n",
       "Italy      5\n",
       "dtype: int64"
      ]
     },
     "execution_count": 54,
     "metadata": {},
     "output_type": "execute_result"
    }
   ],
   "source": [
    "ser2.sort_values()"
   ]
  },
  {
   "cell_type": "code",
   "execution_count": 55,
   "id": "495821e7",
   "metadata": {},
   "outputs": [
    {
     "data": {
      "text/plain": [
       "2"
      ]
     },
     "execution_count": 55,
     "metadata": {},
     "output_type": "execute_result"
    }
   ],
   "source": [
    "ser1[\"Germany\"]"
   ]
  },
  {
   "cell_type": "code",
   "execution_count": 56,
   "id": "af37bad1",
   "metadata": {},
   "outputs": [
    {
     "data": {
      "text/plain": [
       "4"
      ]
     },
     "execution_count": 56,
     "metadata": {},
     "output_type": "execute_result"
    }
   ],
   "source": [
    "ser1[\"Japan\"]"
   ]
  },
  {
   "cell_type": "code",
   "execution_count": 58,
   "id": "fbeef580",
   "metadata": {},
   "outputs": [
    {
     "data": {
      "text/plain": [
       "Japan      4\n",
       "Germany    2\n",
       "dtype: int64"
      ]
     },
     "execution_count": 58,
     "metadata": {},
     "output_type": "execute_result"
    }
   ],
   "source": [
    "ser1[[\"Japan\", \"Germany\"]]"
   ]
  },
  {
   "cell_type": "code",
   "execution_count": 59,
   "id": "c866bbff",
   "metadata": {},
   "outputs": [
    {
     "data": {
      "text/plain": [
       "4"
      ]
     },
     "execution_count": 59,
     "metadata": {},
     "output_type": "execute_result"
    }
   ],
   "source": [
    "ser1.Japan"
   ]
  },
  {
   "cell_type": "code",
   "execution_count": 60,
   "id": "d4ded45b",
   "metadata": {},
   "outputs": [
    {
     "data": {
      "text/plain": [
       "Germany    4.0\n",
       "Italy      NaN\n",
       "Japan      8.0\n",
       "USA        2.0\n",
       "USSR       NaN\n",
       "dtype: float64"
      ]
     },
     "execution_count": 60,
     "metadata": {},
     "output_type": "execute_result"
    }
   ],
   "source": [
    "ser1+ser2"
   ]
  },
  {
   "cell_type": "code",
   "execution_count": 65,
   "id": "1393ba05",
   "metadata": {},
   "outputs": [
    {
     "data": {
      "text/plain": [
       "terry      121\n",
       "micheal    200\n",
       "orion      150\n",
       "jason       99\n",
       "adam       145\n",
       "thomas     120\n",
       "zack       180\n",
       "dtype: int64"
      ]
     },
     "execution_count": 65,
     "metadata": {},
     "output_type": "execute_result"
    }
   ],
   "source": [
    "panser = pd.Series(data   = [121, 200, 150, 99, 145, 120, 180],\n",
    "                    index = [\"terry\", \"micheal\", \"orion\", \"jason\",\"adam\", \"thomas\", \"zack\"])\n",
    "panser"
   ]
  },
  {
   "cell_type": "code",
   "execution_count": 66,
   "id": "20faf5cf",
   "metadata": {},
   "outputs": [
    {
     "data": {
      "text/plain": [
       "99"
      ]
     },
     "execution_count": 66,
     "metadata": {},
     "output_type": "execute_result"
    }
   ],
   "source": [
    "panser.jason"
   ]
  },
  {
   "cell_type": "code",
   "execution_count": 67,
   "id": "d9a62bda",
   "metadata": {},
   "outputs": [
    {
     "data": {
      "text/plain": [
       "99"
      ]
     },
     "execution_count": 67,
     "metadata": {},
     "output_type": "execute_result"
    }
   ],
   "source": [
    "panser[\"jason\"]"
   ]
  },
  {
   "cell_type": "code",
   "execution_count": 69,
   "id": "268851a0",
   "metadata": {},
   "outputs": [
    {
     "data": {
      "text/plain": [
       "orion    150\n",
       "jason     99\n",
       "adam     145\n",
       "dtype: int64"
      ]
     },
     "execution_count": 69,
     "metadata": {},
     "output_type": "execute_result"
    }
   ],
   "source": [
    "panser[\"orion\":\"adam\"]"
   ]
  },
  {
   "cell_type": "code",
   "execution_count": 70,
   "id": "bb14c7a5",
   "metadata": {},
   "outputs": [
    {
     "data": {
      "text/plain": [
       "orion    150\n",
       "adam     145\n",
       "dtype: int64"
      ]
     },
     "execution_count": 70,
     "metadata": {},
     "output_type": "execute_result"
    }
   ],
   "source": [
    "panser[[\"orion\",\"adam\"]]"
   ]
  },
  {
   "cell_type": "code",
   "execution_count": 72,
   "id": "9540489a",
   "metadata": {},
   "outputs": [
    {
     "data": {
      "text/plain": [
       "orion    150\n",
       "jason     99\n",
       "adam     145\n",
       "dtype: int64"
      ]
     },
     "execution_count": 72,
     "metadata": {},
     "output_type": "execute_result"
    }
   ],
   "source": [
    "panser[2:5]"
   ]
  },
  {
   "cell_type": "code",
   "execution_count": 74,
   "id": "c6808d83",
   "metadata": {},
   "outputs": [
    {
     "data": {
      "text/plain": [
       "Index(['terry', 'micheal', 'orion', 'jason', 'adam', 'thomas', 'zack'], dtype='object')"
      ]
     },
     "execution_count": 74,
     "metadata": {},
     "output_type": "execute_result"
    }
   ],
   "source": [
    "panser.keys()"
   ]
  },
  {
   "cell_type": "code",
   "execution_count": 75,
   "id": "f2dde36d",
   "metadata": {},
   "outputs": [
    {
     "data": {
      "text/plain": [
       "Index(['terry', 'micheal', 'orion', 'jason', 'adam', 'thomas', 'zack'], dtype='object')"
      ]
     },
     "execution_count": 75,
     "metadata": {},
     "output_type": "execute_result"
    }
   ],
   "source": [
    "panser.index"
   ]
  },
  {
   "cell_type": "code",
   "execution_count": 81,
   "id": "8f29a7fa",
   "metadata": {},
   "outputs": [
    {
     "data": {
      "text/plain": [
       "array([121, 200, 150,  99, 145, 120, 180], dtype=int64)"
      ]
     },
     "execution_count": 81,
     "metadata": {},
     "output_type": "execute_result"
    }
   ],
   "source": [
    "panser.values"
   ]
  },
  {
   "cell_type": "code",
   "execution_count": 85,
   "id": "69de8fcd",
   "metadata": {},
   "outputs": [
    {
     "data": {
      "text/plain": [
       "[('terry', 121),\n",
       " ('micheal', 200),\n",
       " ('orion', 150),\n",
       " ('jason', 99),\n",
       " ('adam', 145),\n",
       " ('thomas', 120),\n",
       " ('zack', 180)]"
      ]
     },
     "execution_count": 85,
     "metadata": {},
     "output_type": "execute_result"
    }
   ],
   "source": [
    "list(panser.items())"
   ]
  },
  {
   "cell_type": "code",
   "execution_count": 86,
   "id": "d3aace69",
   "metadata": {},
   "outputs": [
    {
     "name": "stdout",
     "output_type": "stream",
     "text": [
      "key:  terry \t value: 121\n",
      "key:  micheal \t value: 200\n",
      "key:  orion \t value: 150\n",
      "key:  jason \t value: 99\n",
      "key:  adam \t value: 145\n",
      "key:  thomas \t value: 120\n",
      "key:  zack \t value: 180\n"
     ]
    }
   ],
   "source": [
    "for key, value in panser.items():\n",
    "    print(\"key: \",key,\"\\t value:\", value)"
   ]
  },
  {
   "cell_type": "code",
   "execution_count": 87,
   "id": "c00af630",
   "metadata": {},
   "outputs": [
    {
     "data": {
      "text/plain": [
       "True"
      ]
     },
     "execution_count": 87,
     "metadata": {},
     "output_type": "execute_result"
    }
   ],
   "source": [
    "\"adam\" in panser"
   ]
  },
  {
   "cell_type": "code",
   "execution_count": 89,
   "id": "22068530",
   "metadata": {},
   "outputs": [
    {
     "data": {
      "text/plain": [
       "True"
      ]
     },
     "execution_count": 89,
     "metadata": {},
     "output_type": "execute_result"
    }
   ],
   "source": [
    "121 in panser.values"
   ]
  },
  {
   "cell_type": "code",
   "execution_count": 96,
   "id": "b05a018e",
   "metadata": {},
   "outputs": [
    {
     "data": {
      "text/plain": [
       "terry       True\n",
       "micheal    False\n",
       "orion      False\n",
       "jason       True\n",
       "adam       False\n",
       "thomas     False\n",
       "zack       False\n",
       "dtype: bool"
      ]
     },
     "execution_count": 96,
     "metadata": {},
     "output_type": "execute_result"
    }
   ],
   "source": [
    "panser.isin([121,99])"
   ]
  },
  {
   "cell_type": "code",
   "execution_count": 97,
   "id": "06f18f28",
   "metadata": {},
   "outputs": [
    {
     "data": {
      "text/plain": [
       "terry      121\n",
       "micheal    200\n",
       "orion      150\n",
       "jason      190\n",
       "adam       145\n",
       "thomas     120\n",
       "zack       180\n",
       "dtype: int64"
      ]
     },
     "execution_count": 97,
     "metadata": {},
     "output_type": "execute_result"
    }
   ],
   "source": [
    "panser.jason = 190\n",
    "panser"
   ]
  },
  {
   "cell_type": "code",
   "execution_count": 98,
   "id": "6574cd2b",
   "metadata": {},
   "outputs": [
    {
     "data": {
      "text/plain": [
       "terry      False\n",
       "micheal     True\n",
       "orion      False\n",
       "jason       True\n",
       "adam       False\n",
       "thomas     False\n",
       "zack        True\n",
       "dtype: bool"
      ]
     },
     "execution_count": 98,
     "metadata": {},
     "output_type": "execute_result"
    }
   ],
   "source": [
    "panser>=180"
   ]
  },
  {
   "cell_type": "code",
   "execution_count": 99,
   "id": "8b1e49e5",
   "metadata": {},
   "outputs": [
    {
     "data": {
      "text/plain": [
       "terry      121\n",
       "micheal    155\n",
       "orion      150\n",
       "jason      155\n",
       "adam       145\n",
       "thomas     120\n",
       "zack       155\n",
       "dtype: int64"
      ]
     },
     "execution_count": 99,
     "metadata": {},
     "output_type": "execute_result"
    }
   ],
   "source": [
    "panser[panser>=180] = 155\n",
    "panser"
   ]
  },
  {
   "cell_type": "code",
   "execution_count": null,
   "id": "946a111d",
   "metadata": {},
   "outputs": [],
   "source": []
  }
 ],
 "metadata": {
  "kernelspec": {
   "display_name": "Python 3",
   "language": "python",
   "name": "python3"
  },
  "language_info": {
   "codemirror_mode": {
    "name": "ipython",
    "version": 3
   },
   "file_extension": ".py",
   "mimetype": "text/x-python",
   "name": "python",
   "nbconvert_exporter": "python",
   "pygments_lexer": "ipython3",
   "version": "3.8.8"
  }
 },
 "nbformat": 4,
 "nbformat_minor": 5
}
