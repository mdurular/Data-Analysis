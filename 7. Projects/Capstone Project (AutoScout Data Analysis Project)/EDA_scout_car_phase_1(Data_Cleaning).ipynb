{
 "cells": [
  {
   "cell_type": "markdown",
   "metadata": {},
   "source": [
    "___\n",
    "\n",
    "<p style=\"text-align: center;\"><img src=\"https://docs.google.com/uc?id=1lY0Uj5R04yMY3-ZppPWxqCr5pvBLYPnV\" class=\"img-fluid\" alt=\"CLRSWY\"></p>\n",
    "\n",
    "___"
   ]
  },
  {
   "cell_type": "markdown",
   "metadata": {},
   "source": [
    "#  The Capstone Project of Data Analytics Module\n",
    "\n",
    "# Car Price Prediction EDA"
   ]
  },
  {
   "cell_type": "markdown",
   "metadata": {},
   "source": [
    "## Introduction\n",
    "Welcome to \"***Car Price Prediction EDA Project***\". This is the capstone project of ***Data Analytics*** Module. **Auto Scout** data which using for this project, scraped from the on-line car trading company in 2019, contains many features of 9 different car models. In this project, you will have the opportunity to apply many commonly used algorithms for Data Cleaning and Exploratory Data Analysis by using many Python libraries such as Numpy, Pandas, Matplotlib, Seaborn, Scipy.\n",
    "\n",
    "The project consists of 3 parts:\n",
    "* First part is related with 'data cleaning'. It deals with Incorrect Headers, Incorrect Format, Anomalies, Dropping useless columns.\n",
    "* Second part is related with 'filling data'. It deals with Missing Values. Categorical to numeric transformation is done.\n",
    "* Third part is related with 'handling outliers of data' via Visualisation libraries. Some insights are extracted."
   ]
  },
  {
   "cell_type": "markdown",
   "metadata": {},
   "source": [
    "# PART- 1 `( Data Cleaning )`"
   ]
  },
  {
   "cell_type": "code",
   "execution_count": 1,
   "metadata": {},
   "outputs": [],
   "source": [
    "import numpy as np\n",
    "import pandas as pd\n",
    "import seaborn as sns \n",
    "import matplotlib.pyplot as plt\n",
    "\n",
    "import warnings\n",
    "warnings.filterwarnings(\"ignore\")\n",
    "warnings.warn(\"this will not show\")\n",
    "\n",
    "%matplotlib inline\n",
    "# %matplotlib notebook\n",
    "\n",
    "plt.rcParams[\"figure.figsize\"] = (10,6)\n",
    "# plt.rcParams['figure.dpi'] = 100\n",
    "\n",
    "sns.set_style(\"whitegrid\")\n",
    "pd.set_option('display.float_format', lambda x: '%.3f' % x)\n",
    "\n",
    "pd.options.display.max_rows = 100\n",
    "pd.options.display.max_columns = 100"
   ]
  },
  {
   "cell_type": "code",
   "execution_count": 2,
   "metadata": {},
   "outputs": [],
   "source": [
    "df = pd.read_json(\"scout_car.json\", lines=True)"
   ]
  },
  {
   "cell_type": "code",
   "execution_count": 3,
   "metadata": {},
   "outputs": [
    {
     "data": {
      "text/html": [
       "<div>\n",
       "<style scoped>\n",
       "    .dataframe tbody tr th:only-of-type {\n",
       "        vertical-align: middle;\n",
       "    }\n",
       "\n",
       "    .dataframe tbody tr th {\n",
       "        vertical-align: top;\n",
       "    }\n",
       "\n",
       "    .dataframe thead th {\n",
       "        text-align: right;\n",
       "    }\n",
       "</style>\n",
       "<table border=\"1\" class=\"dataframe\">\n",
       "  <thead>\n",
       "    <tr style=\"text-align: right;\">\n",
       "      <th></th>\n",
       "      <th>0</th>\n",
       "      <th>1</th>\n",
       "      <th>2</th>\n",
       "    </tr>\n",
       "  </thead>\n",
       "  <tbody>\n",
       "    <tr>\n",
       "      <th>url</th>\n",
       "      <td>https://www.autoscout24.com//offers/audi-a1-sp...</td>\n",
       "      <td>https://www.autoscout24.com//offers/audi-a1-1-...</td>\n",
       "      <td>https://www.autoscout24.com//offers/audi-a1-sp...</td>\n",
       "    </tr>\n",
       "    <tr>\n",
       "      <th>make_model</th>\n",
       "      <td>Audi A1</td>\n",
       "      <td>Audi A1</td>\n",
       "      <td>Audi A1</td>\n",
       "    </tr>\n",
       "    <tr>\n",
       "      <th>short_description</th>\n",
       "      <td>Sportback 1.4 TDI S-tronic Xenon Navi Klima</td>\n",
       "      <td>1.8 TFSI sport</td>\n",
       "      <td>Sportback 1.6 TDI S tronic Einparkhilfe plus+m...</td>\n",
       "    </tr>\n",
       "    <tr>\n",
       "      <th>body_type</th>\n",
       "      <td>Sedans</td>\n",
       "      <td>Sedans</td>\n",
       "      <td>Sedans</td>\n",
       "    </tr>\n",
       "    <tr>\n",
       "      <th>price</th>\n",
       "      <td>15770</td>\n",
       "      <td>14500</td>\n",
       "      <td>14640</td>\n",
       "    </tr>\n",
       "    <tr>\n",
       "      <th>vat</th>\n",
       "      <td>VAT deductible</td>\n",
       "      <td>Price negotiable</td>\n",
       "      <td>VAT deductible</td>\n",
       "    </tr>\n",
       "    <tr>\n",
       "      <th>km</th>\n",
       "      <td>56,013 km</td>\n",
       "      <td>80,000 km</td>\n",
       "      <td>83,450 km</td>\n",
       "    </tr>\n",
       "    <tr>\n",
       "      <th>registration</th>\n",
       "      <td>01/2016</td>\n",
       "      <td>03/2017</td>\n",
       "      <td>02/2016</td>\n",
       "    </tr>\n",
       "    <tr>\n",
       "      <th>prev_owner</th>\n",
       "      <td>2 previous owners</td>\n",
       "      <td>None</td>\n",
       "      <td>1 previous owner</td>\n",
       "    </tr>\n",
       "    <tr>\n",
       "      <th>kW</th>\n",
       "      <td>NaN</td>\n",
       "      <td>NaN</td>\n",
       "      <td>NaN</td>\n",
       "    </tr>\n",
       "    <tr>\n",
       "      <th>hp</th>\n",
       "      <td>66 kW</td>\n",
       "      <td>141 kW</td>\n",
       "      <td>85 kW</td>\n",
       "    </tr>\n",
       "    <tr>\n",
       "      <th>Type</th>\n",
       "      <td>[, Used, , Diesel (Particulate Filter)]</td>\n",
       "      <td>[, Used, , Gasoline]</td>\n",
       "      <td>[, Used, , Diesel (Particulate Filter)]</td>\n",
       "    </tr>\n",
       "    <tr>\n",
       "      <th>Previous Owners</th>\n",
       "      <td>\\n2\\n</td>\n",
       "      <td>NaN</td>\n",
       "      <td>\\n1\\n</td>\n",
       "    </tr>\n",
       "    <tr>\n",
       "      <th>Next Inspection</th>\n",
       "      <td>[\\n06/2021\\n, \\n99 g CO2/km (comb)\\n]</td>\n",
       "      <td>NaN</td>\n",
       "      <td>NaN</td>\n",
       "    </tr>\n",
       "    <tr>\n",
       "      <th>Inspection new</th>\n",
       "      <td>[\\nYes\\n, \\nEuro 6\\n]</td>\n",
       "      <td>NaN</td>\n",
       "      <td>NaN</td>\n",
       "    </tr>\n",
       "    <tr>\n",
       "      <th>Warranty</th>\n",
       "      <td>[\\n, \\n, \\n4 (Green)\\n]</td>\n",
       "      <td>NaN</td>\n",
       "      <td>[\\n, \\n, \\n99 g CO2/km (comb)\\n]</td>\n",
       "    </tr>\n",
       "    <tr>\n",
       "      <th>Full Service</th>\n",
       "      <td>[\\n, \\n]</td>\n",
       "      <td>NaN</td>\n",
       "      <td>NaN</td>\n",
       "    </tr>\n",
       "    <tr>\n",
       "      <th>Non-smoking Vehicle</th>\n",
       "      <td>[\\n, \\n]</td>\n",
       "      <td>NaN</td>\n",
       "      <td>NaN</td>\n",
       "    </tr>\n",
       "    <tr>\n",
       "      <th>null</th>\n",
       "      <td>[]</td>\n",
       "      <td>[]</td>\n",
       "      <td>[]</td>\n",
       "    </tr>\n",
       "    <tr>\n",
       "      <th>Make</th>\n",
       "      <td>\\nAudi\\n</td>\n",
       "      <td>\\nAudi\\n</td>\n",
       "      <td>\\nAudi\\n</td>\n",
       "    </tr>\n",
       "    <tr>\n",
       "      <th>Model</th>\n",
       "      <td>[\\n, A1, \\n]</td>\n",
       "      <td>[\\n, A1, \\n]</td>\n",
       "      <td>[\\n, A1, \\n]</td>\n",
       "    </tr>\n",
       "    <tr>\n",
       "      <th>Offer Number</th>\n",
       "      <td>[\\nLR-062483\\n]</td>\n",
       "      <td>NaN</td>\n",
       "      <td>[\\nAM-95365\\n]</td>\n",
       "    </tr>\n",
       "    <tr>\n",
       "      <th>First Registration</th>\n",
       "      <td>[\\n, 2016, \\n]</td>\n",
       "      <td>[\\n, 2017, \\n]</td>\n",
       "      <td>[\\n, 2016, \\n]</td>\n",
       "    </tr>\n",
       "    <tr>\n",
       "      <th>Body Color</th>\n",
       "      <td>[\\n, Black, \\n]</td>\n",
       "      <td>[\\n, Red, \\n]</td>\n",
       "      <td>[\\n, Black, \\n]</td>\n",
       "    </tr>\n",
       "    <tr>\n",
       "      <th>Paint Type</th>\n",
       "      <td>[\\nMetallic\\n]</td>\n",
       "      <td>NaN</td>\n",
       "      <td>[\\nMetallic\\n]</td>\n",
       "    </tr>\n",
       "    <tr>\n",
       "      <th>Body Color Original</th>\n",
       "      <td>[\\nMythosschwarz\\n]</td>\n",
       "      <td>NaN</td>\n",
       "      <td>[\\nmythosschwarz metallic\\n]</td>\n",
       "    </tr>\n",
       "    <tr>\n",
       "      <th>Upholstery</th>\n",
       "      <td>[\\nCloth, Black\\n]</td>\n",
       "      <td>[\\nCloth, Grey\\n]</td>\n",
       "      <td>[\\nCloth, Black\\n]</td>\n",
       "    </tr>\n",
       "    <tr>\n",
       "      <th>Body</th>\n",
       "      <td>[\\n, Sedans, \\n]</td>\n",
       "      <td>[\\n, Sedans, \\n]</td>\n",
       "      <td>[\\n, Sedans, \\n]</td>\n",
       "    </tr>\n",
       "    <tr>\n",
       "      <th>Nr. of Doors</th>\n",
       "      <td>[\\n5\\n]</td>\n",
       "      <td>[\\n3\\n]</td>\n",
       "      <td>[\\n4\\n]</td>\n",
       "    </tr>\n",
       "    <tr>\n",
       "      <th>Nr. of Seats</th>\n",
       "      <td>[\\n5\\n]</td>\n",
       "      <td>[\\n4\\n]</td>\n",
       "      <td>[\\n4\\n]</td>\n",
       "    </tr>\n",
       "    <tr>\n",
       "      <th>Model Code</th>\n",
       "      <td>[\\n0588/BDF\\n]</td>\n",
       "      <td>[\\n0588/BCY\\n]</td>\n",
       "      <td>NaN</td>\n",
       "    </tr>\n",
       "    <tr>\n",
       "      <th>Gearing Type</th>\n",
       "      <td>[\\n, Automatic, \\n]</td>\n",
       "      <td>[\\n, Automatic, \\n]</td>\n",
       "      <td>[\\n, Automatic, \\n]</td>\n",
       "    </tr>\n",
       "    <tr>\n",
       "      <th>Displacement</th>\n",
       "      <td>[\\n1,422 cc\\n]</td>\n",
       "      <td>[\\n1,798 cc\\n]</td>\n",
       "      <td>[\\n1,598 cc\\n]</td>\n",
       "    </tr>\n",
       "    <tr>\n",
       "      <th>Cylinders</th>\n",
       "      <td>[\\n3\\n]</td>\n",
       "      <td>[\\n4\\n]</td>\n",
       "      <td>NaN</td>\n",
       "    </tr>\n",
       "    <tr>\n",
       "      <th>Weight</th>\n",
       "      <td>[\\n1,220 kg\\n]</td>\n",
       "      <td>[\\n1,255 kg\\n]</td>\n",
       "      <td>NaN</td>\n",
       "    </tr>\n",
       "    <tr>\n",
       "      <th>Drive chain</th>\n",
       "      <td>[\\nfront\\n]</td>\n",
       "      <td>[\\nfront\\n]</td>\n",
       "      <td>[\\nfront\\n]</td>\n",
       "    </tr>\n",
       "    <tr>\n",
       "      <th>Fuel</th>\n",
       "      <td>[\\n, Diesel (Particulate Filter), \\n]</td>\n",
       "      <td>[\\n, Gasoline, \\n]</td>\n",
       "      <td>[\\n, Diesel (Particulate Filter), \\n]</td>\n",
       "    </tr>\n",
       "    <tr>\n",
       "      <th>Consumption</th>\n",
       "      <td>[[3.8 l/100 km (comb)], [4.3 l/100 km (city)],...</td>\n",
       "      <td>[[5.6 l/100 km (comb)], [7.1 l/100 km (city)],...</td>\n",
       "      <td>[[3.8 l/100 km (comb)], [4.4 l/100 km (city)],...</td>\n",
       "    </tr>\n",
       "    <tr>\n",
       "      <th>CO2 Emission</th>\n",
       "      <td>[\\n99 g CO2/km (comb)\\n]</td>\n",
       "      <td>[\\n129 g CO2/km (comb)\\n]</td>\n",
       "      <td>[\\n99 g CO2/km (comb)\\n]</td>\n",
       "    </tr>\n",
       "    <tr>\n",
       "      <th>Emission Class</th>\n",
       "      <td>[\\nEuro 6\\n]</td>\n",
       "      <td>[\\nEuro 6\\n]</td>\n",
       "      <td>[\\nEuro 6\\n]</td>\n",
       "    </tr>\n",
       "    <tr>\n",
       "      <th>\\nComfort &amp; Convenience\\n</th>\n",
       "      <td>[Air conditioning, Armrest, Automatic climate ...</td>\n",
       "      <td>[Air conditioning, Automatic climate control, ...</td>\n",
       "      <td>[Air conditioning, Cruise control, Electrical ...</td>\n",
       "    </tr>\n",
       "    <tr>\n",
       "      <th>\\nEntertainment &amp; Media\\n</th>\n",
       "      <td>[Bluetooth, Hands-free equipment, On-board com...</td>\n",
       "      <td>[Bluetooth, Hands-free equipment, On-board com...</td>\n",
       "      <td>[MP3, On-board computer]</td>\n",
       "    </tr>\n",
       "    <tr>\n",
       "      <th>\\nExtras\\n</th>\n",
       "      <td>[Alloy wheels, Catalytic Converter, Voice Cont...</td>\n",
       "      <td>[Alloy wheels, Sport seats, Sport suspension, ...</td>\n",
       "      <td>[Alloy wheels, Voice Control]</td>\n",
       "    </tr>\n",
       "    <tr>\n",
       "      <th>\\nSafety &amp; Security\\n</th>\n",
       "      <td>[ABS, Central door lock, Daytime running light...</td>\n",
       "      <td>[ABS, Central door lock, Central door lock wit...</td>\n",
       "      <td>[ABS, Central door lock, Daytime running light...</td>\n",
       "    </tr>\n",
       "    <tr>\n",
       "      <th>description</th>\n",
       "      <td>[\\n, Sicherheit:,  , Deaktivierung für Beifahr...</td>\n",
       "      <td>[\\nLangstreckenfahrzeug daher die hohe Kilomet...</td>\n",
       "      <td>[\\n, Fahrzeug-Nummer: AM-95365,  , Ehem. UPE 2...</td>\n",
       "    </tr>\n",
       "    <tr>\n",
       "      <th>Emission Label</th>\n",
       "      <td>NaN</td>\n",
       "      <td>[\\n4 (Green)\\n]</td>\n",
       "      <td>[\\n4 (Green)\\n]</td>\n",
       "    </tr>\n",
       "    <tr>\n",
       "      <th>Gears</th>\n",
       "      <td>NaN</td>\n",
       "      <td>[\\n7\\n]</td>\n",
       "      <td>NaN</td>\n",
       "    </tr>\n",
       "    <tr>\n",
       "      <th>Country version</th>\n",
       "      <td>NaN</td>\n",
       "      <td>NaN</td>\n",
       "      <td>NaN</td>\n",
       "    </tr>\n",
       "    <tr>\n",
       "      <th>Electricity consumption</th>\n",
       "      <td>NaN</td>\n",
       "      <td>NaN</td>\n",
       "      <td>NaN</td>\n",
       "    </tr>\n",
       "    <tr>\n",
       "      <th>Last Service Date</th>\n",
       "      <td>NaN</td>\n",
       "      <td>NaN</td>\n",
       "      <td>NaN</td>\n",
       "    </tr>\n",
       "    <tr>\n",
       "      <th>Other Fuel Types</th>\n",
       "      <td>NaN</td>\n",
       "      <td>NaN</td>\n",
       "      <td>NaN</td>\n",
       "    </tr>\n",
       "    <tr>\n",
       "      <th>Availability</th>\n",
       "      <td>NaN</td>\n",
       "      <td>NaN</td>\n",
       "      <td>NaN</td>\n",
       "    </tr>\n",
       "    <tr>\n",
       "      <th>Last Timing Belt Service Date</th>\n",
       "      <td>NaN</td>\n",
       "      <td>NaN</td>\n",
       "      <td>NaN</td>\n",
       "    </tr>\n",
       "    <tr>\n",
       "      <th>Available from</th>\n",
       "      <td>NaN</td>\n",
       "      <td>NaN</td>\n",
       "      <td>NaN</td>\n",
       "    </tr>\n",
       "  </tbody>\n",
       "</table>\n",
       "</div>"
      ],
      "text/plain": [
       "                                                                               0  \\\n",
       "url                            https://www.autoscout24.com//offers/audi-a1-sp...   \n",
       "make_model                                                               Audi A1   \n",
       "short_description                    Sportback 1.4 TDI S-tronic Xenon Navi Klima   \n",
       "body_type                                                                 Sedans   \n",
       "price                                                                      15770   \n",
       "vat                                                               VAT deductible   \n",
       "km                                                                     56,013 km   \n",
       "registration                                                             01/2016   \n",
       "prev_owner                                                     2 previous owners   \n",
       "kW                                                                           NaN   \n",
       "hp                                                                         66 kW   \n",
       "Type                                     [, Used, , Diesel (Particulate Filter)]   \n",
       "Previous Owners                                                            \\n2\\n   \n",
       "Next Inspection                            [\\n06/2021\\n, \\n99 g CO2/km (comb)\\n]   \n",
       "Inspection new                                             [\\nYes\\n, \\nEuro 6\\n]   \n",
       "Warranty                                                 [\\n, \\n, \\n4 (Green)\\n]   \n",
       "Full Service                                                            [\\n, \\n]   \n",
       "Non-smoking Vehicle                                                     [\\n, \\n]   \n",
       "null                                                                          []   \n",
       "Make                                                                    \\nAudi\\n   \n",
       "Model                                                               [\\n, A1, \\n]   \n",
       "Offer Number                                                     [\\nLR-062483\\n]   \n",
       "First Registration                                                [\\n, 2016, \\n]   \n",
       "Body Color                                                       [\\n, Black, \\n]   \n",
       "Paint Type                                                        [\\nMetallic\\n]   \n",
       "Body Color Original                                          [\\nMythosschwarz\\n]   \n",
       "Upholstery                                                    [\\nCloth, Black\\n]   \n",
       "Body                                                            [\\n, Sedans, \\n]   \n",
       "Nr. of Doors                                                             [\\n5\\n]   \n",
       "Nr. of Seats                                                             [\\n5\\n]   \n",
       "Model Code                                                        [\\n0588/BDF\\n]   \n",
       "Gearing Type                                                 [\\n, Automatic, \\n]   \n",
       "Displacement                                                      [\\n1,422 cc\\n]   \n",
       "Cylinders                                                                [\\n3\\n]   \n",
       "Weight                                                            [\\n1,220 kg\\n]   \n",
       "Drive chain                                                          [\\nfront\\n]   \n",
       "Fuel                                       [\\n, Diesel (Particulate Filter), \\n]   \n",
       "Consumption                    [[3.8 l/100 km (comb)], [4.3 l/100 km (city)],...   \n",
       "CO2 Emission                                            [\\n99 g CO2/km (comb)\\n]   \n",
       "Emission Class                                                      [\\nEuro 6\\n]   \n",
       "\\nComfort & Convenience\\n      [Air conditioning, Armrest, Automatic climate ...   \n",
       "\\nEntertainment & Media\\n      [Bluetooth, Hands-free equipment, On-board com...   \n",
       "\\nExtras\\n                     [Alloy wheels, Catalytic Converter, Voice Cont...   \n",
       "\\nSafety & Security\\n          [ABS, Central door lock, Daytime running light...   \n",
       "description                    [\\n, Sicherheit:,  , Deaktivierung für Beifahr...   \n",
       "Emission Label                                                               NaN   \n",
       "Gears                                                                        NaN   \n",
       "Country version                                                              NaN   \n",
       "Electricity consumption                                                      NaN   \n",
       "Last Service Date                                                            NaN   \n",
       "Other Fuel Types                                                             NaN   \n",
       "Availability                                                                 NaN   \n",
       "Last Timing Belt Service Date                                                NaN   \n",
       "Available from                                                               NaN   \n",
       "\n",
       "                                                                               1  \\\n",
       "url                            https://www.autoscout24.com//offers/audi-a1-1-...   \n",
       "make_model                                                               Audi A1   \n",
       "short_description                                                 1.8 TFSI sport   \n",
       "body_type                                                                 Sedans   \n",
       "price                                                                      14500   \n",
       "vat                                                             Price negotiable   \n",
       "km                                                                     80,000 km   \n",
       "registration                                                             03/2017   \n",
       "prev_owner                                                                  None   \n",
       "kW                                                                           NaN   \n",
       "hp                                                                        141 kW   \n",
       "Type                                                        [, Used, , Gasoline]   \n",
       "Previous Owners                                                              NaN   \n",
       "Next Inspection                                                              NaN   \n",
       "Inspection new                                                               NaN   \n",
       "Warranty                                                                     NaN   \n",
       "Full Service                                                                 NaN   \n",
       "Non-smoking Vehicle                                                          NaN   \n",
       "null                                                                          []   \n",
       "Make                                                                    \\nAudi\\n   \n",
       "Model                                                               [\\n, A1, \\n]   \n",
       "Offer Number                                                                 NaN   \n",
       "First Registration                                                [\\n, 2017, \\n]   \n",
       "Body Color                                                         [\\n, Red, \\n]   \n",
       "Paint Type                                                                   NaN   \n",
       "Body Color Original                                                          NaN   \n",
       "Upholstery                                                     [\\nCloth, Grey\\n]   \n",
       "Body                                                            [\\n, Sedans, \\n]   \n",
       "Nr. of Doors                                                             [\\n3\\n]   \n",
       "Nr. of Seats                                                             [\\n4\\n]   \n",
       "Model Code                                                        [\\n0588/BCY\\n]   \n",
       "Gearing Type                                                 [\\n, Automatic, \\n]   \n",
       "Displacement                                                      [\\n1,798 cc\\n]   \n",
       "Cylinders                                                                [\\n4\\n]   \n",
       "Weight                                                            [\\n1,255 kg\\n]   \n",
       "Drive chain                                                          [\\nfront\\n]   \n",
       "Fuel                                                          [\\n, Gasoline, \\n]   \n",
       "Consumption                    [[5.6 l/100 km (comb)], [7.1 l/100 km (city)],...   \n",
       "CO2 Emission                                           [\\n129 g CO2/km (comb)\\n]   \n",
       "Emission Class                                                      [\\nEuro 6\\n]   \n",
       "\\nComfort & Convenience\\n      [Air conditioning, Automatic climate control, ...   \n",
       "\\nEntertainment & Media\\n      [Bluetooth, Hands-free equipment, On-board com...   \n",
       "\\nExtras\\n                     [Alloy wheels, Sport seats, Sport suspension, ...   \n",
       "\\nSafety & Security\\n          [ABS, Central door lock, Central door lock wit...   \n",
       "description                    [\\nLangstreckenfahrzeug daher die hohe Kilomet...   \n",
       "Emission Label                                                   [\\n4 (Green)\\n]   \n",
       "Gears                                                                    [\\n7\\n]   \n",
       "Country version                                                              NaN   \n",
       "Electricity consumption                                                      NaN   \n",
       "Last Service Date                                                            NaN   \n",
       "Other Fuel Types                                                             NaN   \n",
       "Availability                                                                 NaN   \n",
       "Last Timing Belt Service Date                                                NaN   \n",
       "Available from                                                               NaN   \n",
       "\n",
       "                                                                               2  \n",
       "url                            https://www.autoscout24.com//offers/audi-a1-sp...  \n",
       "make_model                                                               Audi A1  \n",
       "short_description              Sportback 1.6 TDI S tronic Einparkhilfe plus+m...  \n",
       "body_type                                                                 Sedans  \n",
       "price                                                                      14640  \n",
       "vat                                                               VAT deductible  \n",
       "km                                                                     83,450 km  \n",
       "registration                                                             02/2016  \n",
       "prev_owner                                                      1 previous owner  \n",
       "kW                                                                           NaN  \n",
       "hp                                                                         85 kW  \n",
       "Type                                     [, Used, , Diesel (Particulate Filter)]  \n",
       "Previous Owners                                                            \\n1\\n  \n",
       "Next Inspection                                                              NaN  \n",
       "Inspection new                                                               NaN  \n",
       "Warranty                                        [\\n, \\n, \\n99 g CO2/km (comb)\\n]  \n",
       "Full Service                                                                 NaN  \n",
       "Non-smoking Vehicle                                                          NaN  \n",
       "null                                                                          []  \n",
       "Make                                                                    \\nAudi\\n  \n",
       "Model                                                               [\\n, A1, \\n]  \n",
       "Offer Number                                                      [\\nAM-95365\\n]  \n",
       "First Registration                                                [\\n, 2016, \\n]  \n",
       "Body Color                                                       [\\n, Black, \\n]  \n",
       "Paint Type                                                        [\\nMetallic\\n]  \n",
       "Body Color Original                                 [\\nmythosschwarz metallic\\n]  \n",
       "Upholstery                                                    [\\nCloth, Black\\n]  \n",
       "Body                                                            [\\n, Sedans, \\n]  \n",
       "Nr. of Doors                                                             [\\n4\\n]  \n",
       "Nr. of Seats                                                             [\\n4\\n]  \n",
       "Model Code                                                                   NaN  \n",
       "Gearing Type                                                 [\\n, Automatic, \\n]  \n",
       "Displacement                                                      [\\n1,598 cc\\n]  \n",
       "Cylinders                                                                    NaN  \n",
       "Weight                                                                       NaN  \n",
       "Drive chain                                                          [\\nfront\\n]  \n",
       "Fuel                                       [\\n, Diesel (Particulate Filter), \\n]  \n",
       "Consumption                    [[3.8 l/100 km (comb)], [4.4 l/100 km (city)],...  \n",
       "CO2 Emission                                            [\\n99 g CO2/km (comb)\\n]  \n",
       "Emission Class                                                      [\\nEuro 6\\n]  \n",
       "\\nComfort & Convenience\\n      [Air conditioning, Cruise control, Electrical ...  \n",
       "\\nEntertainment & Media\\n                               [MP3, On-board computer]  \n",
       "\\nExtras\\n                                         [Alloy wheels, Voice Control]  \n",
       "\\nSafety & Security\\n          [ABS, Central door lock, Daytime running light...  \n",
       "description                    [\\n, Fahrzeug-Nummer: AM-95365,  , Ehem. UPE 2...  \n",
       "Emission Label                                                   [\\n4 (Green)\\n]  \n",
       "Gears                                                                        NaN  \n",
       "Country version                                                              NaN  \n",
       "Electricity consumption                                                      NaN  \n",
       "Last Service Date                                                            NaN  \n",
       "Other Fuel Types                                                             NaN  \n",
       "Availability                                                                 NaN  \n",
       "Last Timing Belt Service Date                                                NaN  \n",
       "Available from                                                               NaN  "
      ]
     },
     "execution_count": 3,
     "metadata": {},
     "output_type": "execute_result"
    }
   ],
   "source": [
    "df.head(3).T"
   ]
  },
  {
   "cell_type": "code",
   "execution_count": 4,
   "metadata": {},
   "outputs": [
    {
     "name": "stdout",
     "output_type": "stream",
     "text": [
      "<class 'pandas.core.frame.DataFrame'>\n",
      "RangeIndex: 15919 entries, 0 to 15918\n",
      "Data columns (total 54 columns):\n",
      " #   Column                         Non-Null Count  Dtype  \n",
      "---  ------                         --------------  -----  \n",
      " 0   url                            15919 non-null  object \n",
      " 1   make_model                     15919 non-null  object \n",
      " 2   short_description              15873 non-null  object \n",
      " 3   body_type                      15859 non-null  object \n",
      " 4   price                          15919 non-null  int64  \n",
      " 5   vat                            11406 non-null  object \n",
      " 6   km                             15919 non-null  object \n",
      " 7   registration                   15919 non-null  object \n",
      " 8   prev_owner                     9091 non-null   object \n",
      " 9   kW                             0 non-null      float64\n",
      " 10  hp                             15919 non-null  object \n",
      " 11  Type                           15917 non-null  object \n",
      " 12  Previous Owners                9279 non-null   object \n",
      " 13  Next Inspection                3535 non-null   object \n",
      " 14  Inspection new                 3932 non-null   object \n",
      " 15  Warranty                       10499 non-null  object \n",
      " 16  Full Service                   8215 non-null   object \n",
      " 17  Non-smoking Vehicle            7177 non-null   object \n",
      " 18  null                           15919 non-null  object \n",
      " 19  Make                           15919 non-null  object \n",
      " 20  Model                          15919 non-null  object \n",
      " 21  Offer Number                   12744 non-null  object \n",
      " 22  First Registration             14322 non-null  object \n",
      " 23  Body Color                     15322 non-null  object \n",
      " 24  Paint Type                     10147 non-null  object \n",
      " 25  Body Color Original            12160 non-null  object \n",
      " 26  Upholstery                     12199 non-null  object \n",
      " 27  Body                           15859 non-null  object \n",
      " 28  Nr. of Doors                   15707 non-null  object \n",
      " 29  Nr. of Seats                   14942 non-null  object \n",
      " 30  Model Code                     4978 non-null   object \n",
      " 31  Gearing Type                   15919 non-null  object \n",
      " 32  Displacement                   15423 non-null  object \n",
      " 33  Cylinders                      10239 non-null  object \n",
      " 34  Weight                         8945 non-null   object \n",
      " 35  Drive chain                    9061 non-null   object \n",
      " 36  Fuel                           15919 non-null  object \n",
      " 37  Consumption                    14013 non-null  object \n",
      " 38  CO2 Emission                   14111 non-null  object \n",
      " 39  Emission Class                 12898 non-null  object \n",
      " 40  \n",
      "Comfort & Convenience\n",
      "        14999 non-null  object \n",
      " 41  \n",
      "Entertainment & Media\n",
      "        14545 non-null  object \n",
      " 42  \n",
      "Extras\n",
      "                       12957 non-null  object \n",
      " 43  \n",
      "Safety & Security\n",
      "            14937 non-null  object \n",
      " 44  description                    15919 non-null  object \n",
      " 45  Emission Label                 3985 non-null   object \n",
      " 46  Gears                          11207 non-null  object \n",
      " 47  Country version                7586 non-null   object \n",
      " 48  Electricity consumption        137 non-null    object \n",
      " 49  Last Service Date              566 non-null    object \n",
      " 50  Other Fuel Types               880 non-null    object \n",
      " 51  Availability                   635 non-null    object \n",
      " 52  Last Timing Belt Service Date  16 non-null     object \n",
      " 53  Available from                 272 non-null    object \n",
      "dtypes: float64(1), int64(1), object(52)\n",
      "memory usage: 6.6+ MB\n"
     ]
    }
   ],
   "source": [
    "df.info()"
   ]
  },
  {
   "cell_type": "code",
   "execution_count": 5,
   "metadata": {},
   "outputs": [
    {
     "data": {
      "text/plain": [
       "Index(['url', 'make_model', 'short_description', 'body_type', 'price', 'vat',\n",
       "       'km', 'registration', 'prev_owner', 'kW', 'hp', 'Type',\n",
       "       'Previous Owners', 'Next Inspection', 'Inspection new', 'Warranty',\n",
       "       'Full Service', 'Non-smoking Vehicle', 'null', 'Make', 'Model',\n",
       "       'Offer Number', 'First Registration', 'Body Color', 'Paint Type',\n",
       "       'Body Color Original', 'Upholstery', 'Body', 'Nr. of Doors',\n",
       "       'Nr. of Seats', 'Model Code', 'Gearing Type', 'Displacement',\n",
       "       'Cylinders', 'Weight', 'Drive chain', 'Fuel', 'Consumption',\n",
       "       'CO2 Emission', 'Emission Class', '\\nComfort & Convenience\\n',\n",
       "       '\\nEntertainment & Media\\n', '\\nExtras\\n', '\\nSafety & Security\\n',\n",
       "       'description', 'Emission Label', 'Gears', 'Country version',\n",
       "       'Electricity consumption', 'Last Service Date', 'Other Fuel Types',\n",
       "       'Availability', 'Last Timing Belt Service Date', 'Available from'],\n",
       "      dtype='object')"
      ]
     },
     "execution_count": 5,
     "metadata": {},
     "output_type": "execute_result"
    }
   ],
   "source": [
    "df.columns"
   ]
  },
  {
   "cell_type": "code",
   "execution_count": 6,
   "metadata": {},
   "outputs": [],
   "source": [
    "df[\"Comfort_Convenience\"] = df[\"\\nComfort & Convenience\\n\"]\n",
    "df[\"Entertainment_Media\"] = df[\"\\nEntertainment & Media\\n\"]\n",
    "df[\"Extras\"] = df[\"\\nExtras\\n\"]\n",
    "df[\"Safety_Security\"] = df[\"\\nSafety & Security\\n\"]"
   ]
  },
  {
   "cell_type": "code",
   "execution_count": 7,
   "metadata": {},
   "outputs": [],
   "source": [
    "drop_columns = [\"\\nComfort & Convenience\\n\",\"\\nEntertainment & Media\\n\",\"\\nExtras\\n\",\"\\nSafety & Security\\n\"]\n",
    "df.drop(drop_columns, axis = 1, inplace = True)"
   ]
  },
  {
   "cell_type": "code",
   "execution_count": 8,
   "metadata": {},
   "outputs": [
    {
     "name": "stdout",
     "output_type": "stream",
     "text": [
      "<class 'pandas.core.frame.DataFrame'>\n",
      "RangeIndex: 15919 entries, 0 to 15918\n",
      "Data columns (total 54 columns):\n",
      " #   Column                         Non-Null Count  Dtype  \n",
      "---  ------                         --------------  -----  \n",
      " 0   url                            15919 non-null  object \n",
      " 1   make_model                     15919 non-null  object \n",
      " 2   short_description              15873 non-null  object \n",
      " 3   body_type                      15859 non-null  object \n",
      " 4   price                          15919 non-null  int64  \n",
      " 5   vat                            11406 non-null  object \n",
      " 6   km                             15919 non-null  object \n",
      " 7   registration                   15919 non-null  object \n",
      " 8   prev_owner                     9091 non-null   object \n",
      " 9   kW                             0 non-null      float64\n",
      " 10  hp                             15919 non-null  object \n",
      " 11  Type                           15917 non-null  object \n",
      " 12  Previous Owners                9279 non-null   object \n",
      " 13  Next Inspection                3535 non-null   object \n",
      " 14  Inspection new                 3932 non-null   object \n",
      " 15  Warranty                       10499 non-null  object \n",
      " 16  Full Service                   8215 non-null   object \n",
      " 17  Non-smoking Vehicle            7177 non-null   object \n",
      " 18  null                           15919 non-null  object \n",
      " 19  Make                           15919 non-null  object \n",
      " 20  Model                          15919 non-null  object \n",
      " 21  Offer Number                   12744 non-null  object \n",
      " 22  First Registration             14322 non-null  object \n",
      " 23  Body Color                     15322 non-null  object \n",
      " 24  Paint Type                     10147 non-null  object \n",
      " 25  Body Color Original            12160 non-null  object \n",
      " 26  Upholstery                     12199 non-null  object \n",
      " 27  Body                           15859 non-null  object \n",
      " 28  Nr. of Doors                   15707 non-null  object \n",
      " 29  Nr. of Seats                   14942 non-null  object \n",
      " 30  Model Code                     4978 non-null   object \n",
      " 31  Gearing Type                   15919 non-null  object \n",
      " 32  Displacement                   15423 non-null  object \n",
      " 33  Cylinders                      10239 non-null  object \n",
      " 34  Weight                         8945 non-null   object \n",
      " 35  Drive chain                    9061 non-null   object \n",
      " 36  Fuel                           15919 non-null  object \n",
      " 37  Consumption                    14013 non-null  object \n",
      " 38  CO2 Emission                   14111 non-null  object \n",
      " 39  Emission Class                 12898 non-null  object \n",
      " 40  description                    15919 non-null  object \n",
      " 41  Emission Label                 3985 non-null   object \n",
      " 42  Gears                          11207 non-null  object \n",
      " 43  Country version                7586 non-null   object \n",
      " 44  Electricity consumption        137 non-null    object \n",
      " 45  Last Service Date              566 non-null    object \n",
      " 46  Other Fuel Types               880 non-null    object \n",
      " 47  Availability                   635 non-null    object \n",
      " 48  Last Timing Belt Service Date  16 non-null     object \n",
      " 49  Available from                 272 non-null    object \n",
      " 50  Comfort_Convenience            14999 non-null  object \n",
      " 51  Entertainment_Media            14545 non-null  object \n",
      " 52  Extras                         12957 non-null  object \n",
      " 53  Safety_Security                14937 non-null  object \n",
      "dtypes: float64(1), int64(1), object(52)\n",
      "memory usage: 6.6+ MB\n"
     ]
    }
   ],
   "source": [
    "df.info()"
   ]
  },
  {
   "cell_type": "code",
   "execution_count": 9,
   "metadata": {},
   "outputs": [
    {
     "data": {
      "text/plain": [
       "(15919, 54)"
      ]
     },
     "execution_count": 9,
     "metadata": {},
     "output_type": "execute_result"
    }
   ],
   "source": [
    "df.shape"
   ]
  },
  {
   "cell_type": "code",
   "execution_count": 10,
   "metadata": {},
   "outputs": [
    {
     "data": {
      "text/plain": [
       "url                               0.000\n",
       "make_model                        0.000\n",
       "short_description                 0.289\n",
       "body_type                         0.377\n",
       "price                             0.000\n",
       "vat                              28.350\n",
       "km                                0.000\n",
       "registration                      0.000\n",
       "prev_owner                       42.892\n",
       "kW                              100.000\n",
       "hp                                0.000\n",
       "Type                              0.013\n",
       "Previous Owners                  41.711\n",
       "Next Inspection                  77.794\n",
       "Inspection new                   75.300\n",
       "Warranty                         34.047\n",
       "Full Service                     48.395\n",
       "Non-smoking Vehicle              54.916\n",
       "null                              0.000\n",
       "Make                              0.000\n",
       "Model                             0.000\n",
       "Offer Number                     19.945\n",
       "First Registration               10.032\n",
       "Body Color                        3.750\n",
       "Paint Type                       36.259\n",
       "Body Color Original              23.613\n",
       "Upholstery                       23.368\n",
       "Body                              0.377\n",
       "Nr. of Doors                      1.332\n",
       "Nr. of Seats                      6.137\n",
       "Model Code                       68.729\n",
       "Gearing Type                      0.000\n",
       "Displacement                      3.116\n",
       "Cylinders                        35.681\n",
       "Weight                           43.809\n",
       "Drive chain                      43.081\n",
       "Fuel                              0.000\n",
       "Consumption                      11.973\n",
       "CO2 Emission                     11.357\n",
       "Emission Class                   18.977\n",
       "description                       0.000\n",
       "Emission Label                   74.967\n",
       "Gears                            29.600\n",
       "Country version                  52.346\n",
       "Electricity consumption          99.139\n",
       "Last Service Date                96.445\n",
       "Other Fuel Types                 94.472\n",
       "Availability                     96.011\n",
       "Last Timing Belt Service Date    99.899\n",
       "Available from                   98.291\n",
       "Comfort_Convenience               5.779\n",
       "Entertainment_Media               8.631\n",
       "Extras                           18.607\n",
       "Safety_Security                   6.169\n",
       "dtype: float64"
      ]
     },
     "execution_count": 10,
     "metadata": {},
     "output_type": "execute_result"
    }
   ],
   "source": [
    "df.isnull().sum()*100/df.shape[0]"
   ]
  },
  {
   "cell_type": "markdown",
   "metadata": {},
   "source": [
    "**Droping columns that have %90 percent and higher of missing values.**"
   ]
  },
  {
   "cell_type": "code",
   "execution_count": 11,
   "metadata": {},
   "outputs": [],
   "source": [
    "def show_nans(df, limit):\n",
    "    missing = df.isnull().sum()*100/df.shape[0]\n",
    "    return missing.loc[lambda x : x >= limit]\n",
    "\n",
    "def perc_nans(serial):\n",
    "    # display percentage of nans in a Series\n",
    "    return serial.isnull().sum()/serial.shape[0]*100"
   ]
  },
  {
   "cell_type": "code",
   "execution_count": 12,
   "metadata": {},
   "outputs": [
    {
     "data": {
      "text/plain": [
       "kW                              100.000\n",
       "Electricity consumption          99.139\n",
       "Last Service Date                96.445\n",
       "Other Fuel Types                 94.472\n",
       "Availability                     96.011\n",
       "Last Timing Belt Service Date    99.899\n",
       "Available from                   98.291\n",
       "dtype: float64"
      ]
     },
     "execution_count": 12,
     "metadata": {},
     "output_type": "execute_result"
    }
   ],
   "source": [
    "show_nans(df,90)"
   ]
  },
  {
   "cell_type": "code",
   "execution_count": 13,
   "metadata": {},
   "outputs": [
    {
     "data": {
      "text/plain": [
       "Index(['kW', 'Electricity consumption', 'Last Service Date',\n",
       "       'Other Fuel Types', 'Availability', 'Last Timing Belt Service Date',\n",
       "       'Available from'],\n",
       "      dtype='object')"
      ]
     },
     "execution_count": 13,
     "metadata": {},
     "output_type": "execute_result"
    }
   ],
   "source": [
    "drop_columns = show_nans(df,90).index\n",
    "drop_columns"
   ]
  },
  {
   "cell_type": "code",
   "execution_count": 14,
   "metadata": {},
   "outputs": [],
   "source": [
    "df.drop(drop_columns, axis = 1, inplace = True)"
   ]
  },
  {
   "cell_type": "code",
   "execution_count": 15,
   "metadata": {},
   "outputs": [],
   "source": [
    "df.drop(\"null\", axis = 1, inplace = True)"
   ]
  },
  {
   "cell_type": "code",
   "execution_count": 16,
   "metadata": {},
   "outputs": [
    {
     "name": "stdout",
     "output_type": "stream",
     "text": [
      "<class 'pandas.core.frame.DataFrame'>\n",
      "RangeIndex: 15919 entries, 0 to 15918\n",
      "Data columns (total 46 columns):\n",
      " #   Column               Non-Null Count  Dtype \n",
      "---  ------               --------------  ----- \n",
      " 0   url                  15919 non-null  object\n",
      " 1   make_model           15919 non-null  object\n",
      " 2   short_description    15873 non-null  object\n",
      " 3   body_type            15859 non-null  object\n",
      " 4   price                15919 non-null  int64 \n",
      " 5   vat                  11406 non-null  object\n",
      " 6   km                   15919 non-null  object\n",
      " 7   registration         15919 non-null  object\n",
      " 8   prev_owner           9091 non-null   object\n",
      " 9   hp                   15919 non-null  object\n",
      " 10  Type                 15917 non-null  object\n",
      " 11  Previous Owners      9279 non-null   object\n",
      " 12  Next Inspection      3535 non-null   object\n",
      " 13  Inspection new       3932 non-null   object\n",
      " 14  Warranty             10499 non-null  object\n",
      " 15  Full Service         8215 non-null   object\n",
      " 16  Non-smoking Vehicle  7177 non-null   object\n",
      " 17  Make                 15919 non-null  object\n",
      " 18  Model                15919 non-null  object\n",
      " 19  Offer Number         12744 non-null  object\n",
      " 20  First Registration   14322 non-null  object\n",
      " 21  Body Color           15322 non-null  object\n",
      " 22  Paint Type           10147 non-null  object\n",
      " 23  Body Color Original  12160 non-null  object\n",
      " 24  Upholstery           12199 non-null  object\n",
      " 25  Body                 15859 non-null  object\n",
      " 26  Nr. of Doors         15707 non-null  object\n",
      " 27  Nr. of Seats         14942 non-null  object\n",
      " 28  Model Code           4978 non-null   object\n",
      " 29  Gearing Type         15919 non-null  object\n",
      " 30  Displacement         15423 non-null  object\n",
      " 31  Cylinders            10239 non-null  object\n",
      " 32  Weight               8945 non-null   object\n",
      " 33  Drive chain          9061 non-null   object\n",
      " 34  Fuel                 15919 non-null  object\n",
      " 35  Consumption          14013 non-null  object\n",
      " 36  CO2 Emission         14111 non-null  object\n",
      " 37  Emission Class       12898 non-null  object\n",
      " 38  description          15919 non-null  object\n",
      " 39  Emission Label       3985 non-null   object\n",
      " 40  Gears                11207 non-null  object\n",
      " 41  Country version      7586 non-null   object\n",
      " 42  Comfort_Convenience  14999 non-null  object\n",
      " 43  Entertainment_Media  14545 non-null  object\n",
      " 44  Extras               12957 non-null  object\n",
      " 45  Safety_Security      14937 non-null  object\n",
      "dtypes: int64(1), object(45)\n",
      "memory usage: 5.6+ MB\n"
     ]
    }
   ],
   "source": [
    "df.info()"
   ]
  },
  {
   "cell_type": "markdown",
   "metadata": {},
   "source": [
    "## Let's examine and clean all the columns/features one by one"
   ]
  },
  {
   "cell_type": "markdown",
   "metadata": {},
   "source": [
    "## url"
   ]
  },
  {
   "cell_type": "code",
   "execution_count": 17,
   "metadata": {},
   "outputs": [
    {
     "data": {
      "text/plain": [
       "https://www.autoscout24.com//offers/opel-astra-1-6-biturbo-d-cdti-start-stop-innovation-diesel-grey-5d7ba479-7673-4789-89c6-c7143e0dac5d           1\n",
       "https://www.autoscout24.com//offers/audi-a1-sportback-1-4-tdi-design-navi-xenon-pdc-diesel-grey-57b7768a-9587-422a-a485-13a2cadc1946               1\n",
       "https://www.autoscout24.com//offers/renault-clio-energy-tce-220-edc-r-s-18-gasoline-black-de86338b-0142-014d-e053-e250040a444c                     1\n",
       "https://www.autoscout24.com//offers/audi-a3-spb-1-6-tdi-116cv-s-tronic-sport-diesel-black-d67c7f2b-6971-4ee6-9185-c8dcc543a26a                     1\n",
       "https://www.autoscout24.com//offers/opel-insignia-b-5t-1-5-edition-navi900-sichtp-17-gasoline-black-f00434fa-5752-43d2-83d9-0d6612069e9c           1\n",
       "                                                                                                                                                  ..\n",
       "https://www.autoscout24.com//offers/audi-a3-sportback-1-0-tfsi-naviplus-shz-gra-gasoline-silver-3b2e7b1f-7071-4400-a3e5-de2cee7ba96b               1\n",
       "https://www.autoscout24.com//offers/audi-a3-sportback-35-tfsi-150-s-tronic-nav-pdc-shz-gasoline-blue-0a3eb011-3bc8-4e34-9f1c-d7e31a1aa3af          1\n",
       "https://www.autoscout24.com//offers/opel-corsa-1-4-selective-66kw-90cv-gasoline-black-3b3578fc-4dcc-40d6-8241-e1970d203a81                         1\n",
       "https://www.autoscout24.com//offers/audi-a3-sportback-30-tfsi-85-116-kw-ps-klimaautomatik-e-gasoline-white-622e404d-ea3a-4a42-8d40-4c5de21eb121    1\n",
       "https://www.autoscout24.com//offers/opel-insignia-grand-sport-1-5-turbo-business-executive-gasoline-97a8365e-b1a2-4644-82d1-7d2dcd99e374           1\n",
       "Name: url, Length: 15919, dtype: int64"
      ]
     },
     "execution_count": 17,
     "metadata": {},
     "output_type": "execute_result"
    }
   ],
   "source": [
    "df.url.value_counts(dropna=False)"
   ]
  },
  {
   "cell_type": "code",
   "execution_count": 18,
   "metadata": {},
   "outputs": [],
   "source": [
    "df.drop(\"url\", axis = 1, inplace = True)"
   ]
  },
  {
   "cell_type": "markdown",
   "metadata": {},
   "source": [
    "## make_model"
   ]
  },
  {
   "cell_type": "code",
   "execution_count": 19,
   "metadata": {},
   "outputs": [
    {
     "data": {
      "text/plain": [
       "Audi A3           3097\n",
       "Audi A1           2614\n",
       "Opel Insignia     2598\n",
       "Opel Astra        2526\n",
       "Opel Corsa        2219\n",
       "Renault Clio      1839\n",
       "Renault Espace     991\n",
       "Renault Duster      34\n",
       "Audi A2              1\n",
       "Name: make_model, dtype: int64"
      ]
     },
     "execution_count": 19,
     "metadata": {},
     "output_type": "execute_result"
    }
   ],
   "source": [
    "df.make_model.value_counts(dropna=False)"
   ]
  },
  {
   "cell_type": "markdown",
   "metadata": {},
   "source": [
    "## Make"
   ]
  },
  {
   "cell_type": "code",
   "execution_count": 20,
   "metadata": {},
   "outputs": [
    {
     "data": {
      "text/plain": [
       "\\nOpel\\n       7343\n",
       "\\nAudi\\n       5712\n",
       "\\nRenault\\n    2864\n",
       "Name: Make, dtype: int64"
      ]
     },
     "execution_count": 20,
     "metadata": {},
     "output_type": "execute_result"
    }
   ],
   "source": [
    "df.Make.value_counts(dropna=False)"
   ]
  },
  {
   "cell_type": "code",
   "execution_count": 21,
   "metadata": {},
   "outputs": [],
   "source": [
    "df[\"Make\"] = df.Make.str.strip('\\n')"
   ]
  },
  {
   "cell_type": "code",
   "execution_count": 22,
   "metadata": {},
   "outputs": [
    {
     "data": {
      "text/plain": [
       "Opel       7343\n",
       "Audi       5712\n",
       "Renault    2864\n",
       "Name: Make, dtype: int64"
      ]
     },
     "execution_count": 22,
     "metadata": {},
     "output_type": "execute_result"
    }
   ],
   "source": [
    "df.Make.value_counts(dropna=False)"
   ]
  },
  {
   "cell_type": "code",
   "execution_count": 23,
   "metadata": {},
   "outputs": [],
   "source": [
    "df.drop(\"Make\", axis=1, inplace=True)"
   ]
  },
  {
   "cell_type": "markdown",
   "metadata": {},
   "source": [
    "## Model"
   ]
  },
  {
   "cell_type": "code",
   "execution_count": 24,
   "metadata": {},
   "outputs": [
    {
     "ename": "TypeError",
     "evalue": "unhashable type: 'list'",
     "output_type": "error",
     "traceback": [
      "\u001b[1;31m---------------------------------------------------------------------------\u001b[0m",
      "\u001b[1;31mTypeError\u001b[0m                                 Traceback (most recent call last)",
      "\u001b[1;32mpandas\\_libs\\hashtable_class_helper.pxi\u001b[0m in \u001b[0;36mpandas._libs.hashtable.PyObjectHashTable.map_locations\u001b[1;34m()\u001b[0m\n",
      "\u001b[1;31mTypeError\u001b[0m: unhashable type: 'list'"
     ]
    },
    {
     "name": "stderr",
     "output_type": "stream",
     "text": [
      "Exception ignored in: 'pandas._libs.index.IndexEngine._call_map_locations'\n",
      "Traceback (most recent call last):\n",
      "  File \"pandas\\_libs\\hashtable_class_helper.pxi\", line 4588, in pandas._libs.hashtable.PyObjectHashTable.map_locations\n",
      "TypeError: unhashable type: 'list'\n"
     ]
    },
    {
     "data": {
      "text/plain": [
       "[\\n, A3, \\n]          3097\n",
       "[\\n, A1, \\n]          2614\n",
       "[\\n, Insignia, \\n]    2598\n",
       "[\\n, Astra, \\n]       2526\n",
       "[\\n, Corsa, \\n]       2219\n",
       "[\\n, Clio, \\n]        1839\n",
       "[\\n, Espace, \\n]       991\n",
       "[\\n, Duster, \\n]        34\n",
       "[\\n, A2, \\n]             1\n",
       "Name: Model, dtype: int64"
      ]
     },
     "execution_count": 24,
     "metadata": {},
     "output_type": "execute_result"
    }
   ],
   "source": [
    "df.Model.value_counts(dropna=False)"
   ]
  },
  {
   "cell_type": "code",
   "execution_count": 25,
   "metadata": {},
   "outputs": [],
   "source": [
    "df[\"Model\"] = df.Model.str[1]"
   ]
  },
  {
   "cell_type": "code",
   "execution_count": 26,
   "metadata": {},
   "outputs": [
    {
     "data": {
      "text/plain": [
       "A3          3097\n",
       "A1          2614\n",
       "Insignia    2598\n",
       "Astra       2526\n",
       "Corsa       2219\n",
       "Clio        1839\n",
       "Espace       991\n",
       "Duster        34\n",
       "A2             1\n",
       "Name: Model, dtype: int64"
      ]
     },
     "execution_count": 26,
     "metadata": {},
     "output_type": "execute_result"
    }
   ],
   "source": [
    "df.Model.value_counts(dropna=False)"
   ]
  },
  {
   "cell_type": "code",
   "execution_count": 27,
   "metadata": {},
   "outputs": [],
   "source": [
    "df.drop(\"Model\", axis=1, inplace=True)"
   ]
  },
  {
   "cell_type": "markdown",
   "metadata": {},
   "source": [
    "## short_description"
   ]
  },
  {
   "cell_type": "code",
   "execution_count": 28,
   "metadata": {},
   "outputs": [
    {
     "data": {
      "text/plain": [
       "SPB 1.6 TDI 116 CV S tronic Sport                     64\n",
       "NaN                                                   46\n",
       "1.4 66kW (90CV) Selective                             40\n",
       "MOVE KLIMA CD USB ALLWETTER BLUETOOTH                 38\n",
       "SPB 30 TFSI S tronic Admired                          35\n",
       "                                                      ..\n",
       "Sportback 1.6 TDI S tronic EU6 Navi PDC SHZ (Klima     1\n",
       "dCi 160CV EDC Energy Intens NAVI CLIMA AUT.            1\n",
       "INTENS ENERGY TCe 120 EDC Wartungspaket                1\n",
       "dCi 8V 90CV Start&Stop 5 porte duel automatica         1\n",
       "SPORTS TOURER NAVI SHZ AHK                             1\n",
       "Name: short_description, Length: 10002, dtype: int64"
      ]
     },
     "execution_count": 28,
     "metadata": {},
     "output_type": "execute_result"
    }
   ],
   "source": [
    "df.short_description.value_counts(dropna=False)"
   ]
  },
  {
   "cell_type": "code",
   "execution_count": 29,
   "metadata": {},
   "outputs": [],
   "source": [
    "df.drop(\"short_description\", axis = 1, inplace = True)"
   ]
  },
  {
   "cell_type": "markdown",
   "metadata": {},
   "source": [
    "## description"
   ]
  },
  {
   "cell_type": "code",
   "execution_count": 30,
   "metadata": {},
   "outputs": [
    {
     "ename": "TypeError",
     "evalue": "unhashable type: 'list'",
     "output_type": "error",
     "traceback": [
      "\u001b[1;31m---------------------------------------------------------------------------\u001b[0m",
      "\u001b[1;31mTypeError\u001b[0m                                 Traceback (most recent call last)",
      "\u001b[1;32mpandas\\_libs\\hashtable_class_helper.pxi\u001b[0m in \u001b[0;36mpandas._libs.hashtable.PyObjectHashTable.map_locations\u001b[1;34m()\u001b[0m\n",
      "\u001b[1;31mTypeError\u001b[0m: unhashable type: 'list'"
     ]
    },
    {
     "name": "stderr",
     "output_type": "stream",
     "text": [
      "Exception ignored in: 'pandas._libs.index.IndexEngine._call_map_locations'\n",
      "Traceback (most recent call last):\n",
      "  File \"pandas\\_libs\\hashtable_class_helper.pxi\", line 4588, in pandas._libs.hashtable.PyObjectHashTable.map_locations\n",
      "TypeError: unhashable type: 'list'\n"
     ]
    },
    {
     "data": {
      "text/plain": [
       "[]                                                                                                                                                                                                                                                                                                                                                                                                                                                                                                                                                                                                                                                                                                                                                                                                                                                                                                                                                                                                                                                                                                                                                                                                                                                                                                                                                                                                                                                                                                                                                                                                                                                                                                                                                                                                                                                                                                                                                                                                                                                                                                                                                                                                                                                                                                                                                                                                                                                                                                                                                                                                                                                                                                                                                                                                                                                                                                                                                                                                                                                                                                                                                                                 636\n",
       "[\\n, \\n]                                                                                                                                                                                                                                                                                                                                                                                                                                                                                                                                                                                                                                                                                                                                                                                                                                                                                                                                                                                                                                                                                                                                                                                                                                                                                                                                                                                                                                                                                                                                                                                                                                                                                                                                                                                                                                                                                                                                                                                                                                                                                                                                                                                                                                                                                                                                                                                                                                                                                                                                                                                                                                                                                                                                                                                                                                                                                                                                                                                                                                                                                                                                                                            30\n",
       "[\\nSichern Sie sich diesen Opel Astra K 1.4 SIDI Turbo Innovation Start/Stop zum Top-Preis inklusive dem, AUTOHERO-RUNDUM-SORGLOS-PAKET,  , Infos:,  2.Hand, deutsche Auslieferung, Unfallfrei, scheckheftgepflegt, mindestens 12 Monate gültige HU und AU,  , Highlights,  , Rückfahrkamera,  , Voll-LED-Matrix-Scheinwerfer (IntelliLux),  , Audio-Navigationssystem Navi 900 Europa Touch,  , Spurassistent,  , Leichtmetallfelgen , Komfort,  , Sitzheizung vorn,  , Klimaautomatik 2-Zonen,  , Parkpilotsystem vorn und hinten,  , 6-Stufen Automatikgetriebe,  , Tempomat (Geschwindigkeits-Regelanlage) mit Begrenzer ,  , Berganfahrassistent ,  , Servolenkung,  , Lendenwirbelstütze elektropneumatisch für Fahrer ,  , Kopfstützen vorn und hinten ,  , Multifunktionslenkrad in Leder, beheizbar ,  , Mittelarmlehne vorn verschiebbar,  , Zentralverriegelung mit Fernbedienung,  , Fensterheber elektrisch vorn + hinten,  , Berganfahr-Assistent (HSA, Hill Start Assist), Multimedia,  , 8 Zoll Touchscreen-Farbdisplay,  , Verkehrszeichenerkennung,  , Audiostreaming ,  , Apple CarPlay und Android Auto,  , 6 Lautsprecher ,  , Bluetooth-Freisprecheinrichtung ,  , Sprachsteuerung,  , Bordcomputer,  , Multimedia-Schnittstelle (USB / AUX-IN), Licht und Sicht,  , Außenspiegel elektrisch verstell-, heiz- und anklappbar,  , Abbiegelicht,  , LED Tagfahrlicht,  , Nebelscheinwerfer,  , Ambientebeleuchtung,  , Innenrückspiegel automatisch abblendend,  , Fernlichtassistent und Leuchtweitenregulierung ,  , Licht und Regensensor ,  , Wärmeschutzverglasung hinten abgedunkelt (Solar-Protect),  , LED Heckleuchten , Sicherheit,  , Abstandswarner,  , Auffahrwarnsystem,  , Isofix-Aufnahmen für Kindersitz an Rücksitz,  , Frontkamera,  , Airbag für Fahrer- und Beifahrerseite,  , Wegfahrsperre,  , ...]                                                                                                                                                                                                                                                                                                                                                                                                                                                                                                                                                                                                                                                                                                                                                                                                                                                                                                                                                                                                                                                                                                                                                                                                                                                                                                                                      27\n",
       "[\\n, Fahrzeugbeschreibung,  Sichern Sie sich diesen Renault Clio 1.6 TCE Energy Sport Trophy zum Top-Preis inklusive dem , AUTOHERO-RUNDUM-SORGLOS-PAKET,  , Infos:,  1.Hand, deutsche Auslieferung, Unfallfrei, scheckheftgepflegt,  , Highlights,  , Audio-Navigationssystem R-Link Evolution mit Touchscreen und Carminat TomTom,  , Sportsitze ,  , Sportfahrwerk,  , Scheinwerfer Full-LED , Komfort,  , Geschwindigkeits-Regelanlage (Tempomat) ,  , Klimaanlage,  , Einparkhilfe hinten,  , Multifunktionslenkrad (Sport/Leder) mit Schaltwippen/-tasten ,  , Fensterheber elektr. mit Impulsgeber links/rechts vorn,  , Zentralverriegelung / Startanlage Handsfree Entry & Drive ,  , Berganfahr-Assistent (HSA) , Multimedia,  , Audiosystem: Radio R & GO (Bluetooth, DAB-Tuner),  , Bordcomputer,  , Freisprecheinrichtung Bluetooth ,  , USB-Anschluss inkl. AUX-IN-Anschluss (Plug & Music) , Licht und Sicht,  , Außenspiegel elektr. verstell- und heizbar ,  , Licht- und Regensensor ,  , Tagfahrlicht LED ,  , Nebelscheinwerfer LED ,  , Coming-Home-Lichtfunktion ,  , Heckleuchten LED , Sicherheit,  , Isofix-Aufnahmen für Kindersitz ,  , Seitenairbag vorn,  , Wegfahrsperre,  , Differentialsperre,  , Bremsassistent ,  , Elektron. Stabilitäts-Programm (ESP),  , Anti-Blockier-System (ABS),  , Anti-Submarining-Airbag im Fond,  , Airbag Fahrer-/Beifahrerseite ,  , Differentialsperre ,  , Reifendruck-Kontrollsystem ,  , Untersteuerungskontrolle (USC) ,  , Antischlupfregelung (ASR) , Weiteres,  , Start/Stop-Anlage ,  , Servolenkung geschwindigkeitsabhängig,  , R.S. Drive (Fahrmodusschalter) ,  , Gepäckraumabdeckung / Rollo ,  , Heckdiffusor ,  , LM-Felgen ,  , Heckspoiler (Renault Sport) ,  , Pedale Aluminium ,  , Energierückgewinnung (Energy Smart Management) , ...]                                                                                                                                                                                                                                                                                                                                                                                                                                                                                                                                                                                                                                                                                                                                                                                                                                                                                                                                                                                                                                                                                                                                                                                                                                                                                                                                                       27\n",
       "[\\n, Fahrzeugbeschreibung,  Sichern Sie sich diesen Audi A1 1.4 TDI Design zum Top-Preis inklusive dem, AUTOHERO-RUNDUM-SORGLOS-PAKET,  , Infos:,  2. Hand, deutsche Auslieferung, Unfallfrei, scheckheftgepflegt ,  , Highlights,  , Leichtmetallfelgen,  , Sitzheizung vorn,  , Sportsitze vorn,  , Dynamik-Fahrwerk,  , Multi-Media-Interface MMI Navigation,  , Einparkhilfe hinten (APS),  , CO2-optimiert (Ausführung e, Ultra) ,  , Komfort,  , Klimaautomatik,  , Mittelarmlehne vorn mit Fach,  , Fensterheber elektrisch vorn,  , Zentralverriegelung mit Fernbedienung,  , Berganfahr-Assistent,  , Multifunktionslederlenkrad,  , Rücksitzlehne geteilt/klappbar,  , Sitze vorn höhenverstellbar ,  , Lendenwirbelstützen verstellbar ,  , Multimedia,  , Audi music interface,  , Fahrer-Informations-System (FIS),  , Bluetooth-Freisprecheinrichtung,  , Licht und Sicht,  , Außenspiegel elektrisch verstell- und heizbar, beide,  , Tagfahrlicht,  , Scheibenwaschdüsen heizbar,  , Licht- und Regensensor,  , Nebelscheinwerfer integriert,  , Wärmeschutzverglasung grün getönt,  , Heckleuchten LED,  , Sicherheit,  , Isofix-Aufnahmen für Kindersitz,  , Bremsassistent,  , Seitenairbag vorn,  , Reifenkontroll-Anzeige,  , Anti-Blockier-System (ABS),  , Wegfahrsperre (elektronisch),  , Airbag Fahrer-/Beifahrerseite,  , Antriebs-Schlupfregelung (ASR),  , Kopf-Airbag-System (Sideguard),  , Elektronische Differentialsperre (EDS),  , Elektronisches Stabilitäts-Programm (ESP),  , Weiteres,  , Start/Stop-Anlage,  , Wagenheber,  , Servolenkung,  , ...]                                                                                                                                                                                                                                                                                                                                                                                                                                                                                                                                                                                                                                                                                                                                                                                                                                                                                                                                                                                                                                                                                                                                                                                                                                                                                                                                                                                                                                                                                                                                                                                         27\n",
       "                                                                                                                                                                                                                                                                                                                                                                                                                                                                                                                                                                                                                                                                                                                                                                                                                                                                                                                                                                                                                                                                                                                                                                                                                                                                                                                                                                                                                                                                                                                                                                                                                                                                                                                                                                                                                                                                                                                                                                                                                                                                                                                                                                                                                                                                                                                                                                                                                                                                                                                                                                                                                                                                                                                                                                                                                                                                                                                                                                                                                                                                                                                                                                                  ... \n",
       "[\\n, Ausstattungspakete:,  Ablagepaket, Assistenzsysteme:,  Sprachbedienung, Einparkhilfe hinten, Licht und Sicht:,  Tagfahrlicht, Audio & Kommunikation:,  Multi Media Interface MMI, Audio-Schnittstelle: Audi music interface, Räder und Reifen:,  Leichtmetallfelgen: 16 Zoll Aluminium Gussräder, Ganzjahresreifen, Komfort:,  Climatronic, Fahrer-/Beifahrersitz höhenverstellbar, Lordosenstütze Fahrer/Beifahrer, Sitzheizung Fahrer/Beifahrer, Easy-Entry Einstiegshilfe, Armauflage Fahrer/Beifahrer, Servotronic, Zentralver. mit Fernbedienung, Interieur:,  Sitze Stoff schwarz-schwarz-felsgrau, Innenfarbe schwarz, Multifunktions-Sport-/Lederlenkrad, Rücksitze klappbar, Exterieur:,  Sportfahrwerk, Außenspiegel elekt. und beheizt, Start-Stopp System, Sicherheit:,  6 x Airbag, Antriebsschlupfregelung ASR, Reifendruckkontrolle, Weiteres:,  3 Jahre Neuwagenanschlussgarantie bis max. 100.000km, Lehne geteilt umlegbar, geschwindigkeitsabhängig, Nichtraucherfahrzeug, Scheckheft gepflegtes Fahrzeug, Bestand Inzahlungnahme, Weiteres: ehemalige unverbindliche Preisempfehlung des Herstellers 20.974 EUR. TOP Angebot vom VW/Audi/Skoda – Vertragshändler. Besuchen Sie uns auf über 100.000 qm Ausstellungsfläche und sprechen Sie persönlich mit einem/einer unserer 46 Verkaufsberater/-innen. Unsere Öffnungszeiten im Verkauf: Mo.-Fr. 8:00-20:00 – Sa. 9:00-16:00 Willkommen zur Probefahrt. Finanzierung zu Sonderkonditionen, auch ohne Anzahlung möglich. Gerne nehmen wir Ihren Gebrauchtwagen in Zahlung. Irrtümer und Änderungen vorbehalten. Weitere Fahrzeuge finden Sie auf www.potti.de, Audi GW:plus, Kontakt:,  Ihr Direktruf 023819089002, \\n]                                                                                                                                                                                                                                                                                                                                                                                                                                                                                                                                                                                                                                                                                                                                                                                                                                                                                                                                                                                                                                                                                                                                                                                                                                                                                                                                                                                                                                                                                    1\n",
       "[\\n, Highlights: ,  Herstellereigene Garantie 24 Monate, Technik + Sicherheit: , ESP; ASR; Kopfairbags; Heckscheibenwischer; Innenspiegel automatisch abblendend; Außentemperatur-Anzeige; Dynamiklenkung; Elektr. Bremssystem (EBS); Sonstiges Technik & Sicherheit, Multimedia: , Multimediabuchse; Bluetooth; Radio, Assistenzsysteme: , Berganfahrassistent; Reifendruck-Kontrolle; Sonstiges Assistenzsysteme, Innen: , Klima; Bordcomputer; Fensterheber elektr. 2*; Fußmatten; Sonstiges Innenausstattung, Sitze + Polster: , Komfortsitz(e) vorn; Einstieghilfe (\"Easy Entry\"); Fahrersitz höhenverstellbar; Rücksitzbank umlegbar; Rückbank geteilt; Sonstiges Sitze & Polster; Iso-Fix, Aussen: , elektr. Aussenspiegel; Zentralverriegelung: Keyless Entry; getönte Scheiben; Dämmglas, Scheinwerfer + Leuchten: , Leuchtweitenregulierung; Tagfahrlicht; Halogenscheinwerfer; Sonstiges Scheinwerfer & Leuchten, Räder + Reifen: , Leichtmetallfelgen: 14\"; Sommerreifen, Sonstiges: , CO2-Effizienzklasse: D, \"Wir akzeptieren die Bezahlung mit sicherbezahlen.de\", Fahrzeugstandort: Autohaus Am Ruhrdeich GmbH, Daimlerstrasse 1 in 47167 Duisburg, Änderungen, Zwischenverkauf und Irrtümer vorbehalten!, \\n]                                                                                                                                                                                                                                                                                                                                                                                                                                                                                                                                                                                                                                                                                                                                                                                                                                                                                                                                                                                                                                                                                                                                                                                                                                                                                                                                                                                                                                                                                                                                                                                                                                                                                                                                                                                                                                                                                                                                                       1\n",
       "[\\n, Fahrzeugnummer für Anfragen: LA027224, KL, Serienausstattung, ABS mit elektronischem Bremskraftverteiler (EBV) , Airbag, Fahrer- und Beifahrer (abschaltbar) , Airbag, Kopf vorn und hinten , Airbag, Seiten für Fahrer- und Beifahrer , Antriebs-Schlupf-Regelung (ASR) , Audi connect Notruf (\"eCall\") , Audi pre sense front , Blinker (LED) in den Außenspiegeln integriert , Bremsassistent Folgekollision , Dachkantenspoiler , Drehzahlmesser , Elektrisch einstellbare Außenspiegel , Elektrische Fensterheber vorn und hinten , Elektronische Differenzialsperre (EDS) , Elektronische Stabilisierungskontrolle (ESC) , Fahrer- und Beifahrersitz, höhenverstellbar , Fußmatten vorn und hinten , Gepäckraumabdeckung und ?Beleuchtung , Geschwindigkeitsbegrenzer , Geteilt umklappbare Rücksitzlehne (60:40) , Gurtanlegekontrolle , Halogenscheinwerfer in Freiformtechnik mit Klarglasabdeckung , Heckscheibenwischer und -heizung , Karosserie, verzinkt , Kindersitzvorbereitung ??Isofix?? und Top Tether für die äußeren Fondsitze , Klimaanlage, manuell , Kopfstützen vorn und hinten , Lenkrad, höhenverstellbar , Leuchtweitenregulierung , Licht- und Regensensor , Make-up-Spiegel in den Sonnenblenden , Multifunktions-Leder-Lenkrad im 3-Speichen-Design mit bedientasten für das MMI, Nicht-Raucher-Ausführung , Pollen- und Staubfilter , Radioanlage MMI digitales Kombiinstrument 10,25 Zoll, ohne zusätzliches MMI touch-Display, 1 x SDXC- Kartenleser, 1 × USB-Typ-A-Schnittstelle zum Laden externer Geräte, Bluetooth-Schnittstelle (Freisprechen und Audiostreaming), Sprachbedienung für Telefonie und Medien, 4 Passivlautsprecher vorn mit 40 Watt, AM-/FM-Phasendiversity, geschwindigkeitsabhängige Lautstärkeanpassung, , Radschrauben mit Diebstahlsicherung , Reifen-Reparatur-Set , Reifendruck-Kontrollanzeige , Scheibenwischer mit Intervallschaltung , Service-Intervall-Anzeige , Servolenkung , Spiegelgehäuse außen in schwarz, Spurverlassenswarnung (Beim Verlassen der Spur warnt das System über Vibration im Lenkrad den Fahrer), Stahlräder mit Bereifung 185/65 R15 , Start-Stopp-System mit Rekuperation , Stoßstangen in Wagenfarbe , Tagfahrlicht , Wärmeschutzverglasung , Warndreieck , Zentralverriegelung mit Fernbedienung, Sonderausstattung, Diebstahlwarnanlage , Geschwindigkeitsregelanlage (Tempomat) mit -Begrenzer, Innenspiegel automatisch abblendend, Komfortklimaautomatik 2-Zonen, Leder-Multifunktions-Lenkrad plus im 3-Speichen Design, LED-Heckleuchten, Leichtmetallfelgen 15 Zoll im 5-Arm-Design mit Bereifung 185/65 R15, Mittelarmlehne vorn, Raucherpaket beinhaltet: Aschenbecher und Zigarettenanzünder, Sitzheizung für die Vordersitze, Gern nehmen wir Ihren Gebrauchtwagen in Zahlung. Auf Wunsch bieten wir Ihnen eine maßgeschneiderte Finanzierung mit oder ohne Anzahlung! Eine Garantieverlängerung über CarGarantie von zusätzlichen 60 Monaten ist auch möglich, Preis auf Anfrage ( abhängig von Motor- und Laufleistung ). Unser Team berät Sie in Deutsch, russisch, polnisch, französisch, englisch, und hessisch. Zwischenverkauf und Irrtümer vorbehalten.\\n]      1\n",
       "[\\n, Sitzbezug / Polsterung: Velours / Leder, Audio-Navigationssystem R-Link Evolution mit Touchscreen und Carminat TomTom, Tagfahrlicht LED, Anti-Submarining-Airbag im Fond, Airbag Beifahrerseite abschaltbar, Seitenairbag vorn, Klimaautomatik, Anti-Blockier-System (ABS), Elektron. Stabilitäts-Programm (ESP), Einparkhilfe hinten, Zentralverriegelung / Startanlage Handsfree Entry & Drive, Fensterheber elektr. mit Impulsgeber links vorn, Sitzheizung vorn, Servolenkung geschwindigkeitsabhängig, Sound-System BOSE, Geschwindigkeits-Regelanlage (Tempomat), Start/Stop-Anlage, Fahrassistenz-System: Berganfahr-Assistent (HSA), Wegfahrsperre, Licht- und Regensensor, LM-Felgen, Bordcomputer, Außenspiegel elektr. verstell- und heizbar, Innenspiegel mit Abblendautomatik, Lenkrad (Leder), Mittelarmlehne vorn mit Ablagefach, Gepäckraumabdeckung / Rollo, Automatik-Getriebe, Rücksitzlehne geteilt/klappbar, Coming-Home-Lichtfunktion, Reifendruck-Kontrollsystem, Komfort-Paket Plus, Isofix-Aufnahmen für Kindersitz, Isofix-Aufnahmen für Kindersitz an Beifahrersitz, Reserverad in Fahrbereifung, Nebelscheinwerfer LED, AH Standard, Modellpflege, Komfort-Paket, Sitz vorn links höhenverstellbar, Sitz vorn rechts höhenverstellbar, Modularitäts-Paket, Lenksäule (Lenkrad) höhenverstellbar, Lenksäule (Lenkrad) längsverstellbar, Techno-Paket, Look-Paket Chrom (außen), Kühlergrill verchromt, Seitenschutzleisten mit Chromeinlage, Heckzierleiste Chrom, Look-Paket Klavierlack schwarz (innen), Sondermodell Bose Edition, Außenspiegel schwarz hochglänzend, Scheinwerfer Full-LED, Heckleuchten LED, Nebelscheinwerfer, Fensterzierleisten verchromt, Stoßfänger Wagenfarbe, Verglasung hinten abgedunkelt, Subwoofer, Schaltpunktanzeige, Airbag Fahrer-/Beifahrerseite, Kopfstützen verstellbar, Fensterheber elektrisch hinten, Türgriffe außen Wagenfarbe, Gurtstraffer, Leseleuchte Beifahrerseite, Elektr. Bremskraftverteilung, Bremsassistent, Untersteuerungskontrolle (USC), Antischlupfregelung (ASR), Getriebe 6-Gang - Doppelkupplungsgetriebe, Schadstoffarm nach Abgasnorm Euro 6, Energierückgewinnung (Energy Smart Management), Finanzierungsbeispiel, *, Barzahlungspreis: 18.990,00 Euro, Anzahlung: 3.798,00 Euro, Laufzeit: 72 Monate, Nettokreditbetrag: 15.192,00 Euro, Effektiver Jahreszins: 5,99 %, Sollzinssatz (gebunden) p.a.: 5,83 %, Bruttokreditbetrag: 18.041,00 Euro, Monatliche Rate: 251,00 Euro, *Repräsentatives Finanzierungsbeispiel der Renault Bank / Renault Leasing, Geschäftsbereich der RCI Banque S.A. Niederlassung Deutschland, Jagenbergstraße 1, 41468 Neuss für Privatkunden, für die das Autohaus als Darlehnsvermittler beratend tätig ist. Bonität vorausgesetzt. Angaben entsprechen zugleich dem 2/3 Beispiel nach § 6a Abs. 3 PAngV.\\n]                                                                                                                                                                                                                                                                                                                                      1\n",
       "[\\nEuro6, Rückfahrkamera, Klimaautomatik 2-fach, Fahrerairbag, Beifahrerairbag, Fenster-/Kopfairbags vorne, Fenster-/Kopfairbags im Fond, Einparkhilfe Kamera, Einparkhilfe Sensoren vorne, Einparkhilfe Sensoren hinten, Traktionskontrolle, Fensterheber elektrisch 4-fach, Sitz links orthopaedisch, Bluetooth Freisprecheinrichtung, Außenspiegel beheizbar, Bremsassistent, Tempomat, ISOFIX Kindersitzhalterung, Leichtmetallfelgen, Lenksäule einstellbar, Gepäckraumabdeckung, weitere Ausstattungen vorhanden,  Airbag Fahrer-/Beifahrerseite, Audiosystem R 4.0 IntelliLink, Außenspiegel Wagenfarbe, Außenspiegel elektr. verstell- und heizbar, elektr. anklappbar, Bordcomputer, Bremsassistent, Dach, Design-Ausführung, Drehzahlmesser, Ecoflex, Einstiegsleisten mit Schriftzug, Elektron. Stabilitäts-Programm Plus (ESP), Fahrassistenz-System: Berganfahr-Assistent (HSA, Hill Start Assist), Fahrassistenz-System: Notbrems-Assistent, Fahrzeugschlüssel (2) beide klappbar, Fensterheber elektrisch vorn + hinten, Fensterzierleisten Edelstahl / Chrom, Feststellbremse elektrisch, Frontkamera, Geschwindigkeits-Regelanlage (Tempomat), Isofix-Aufnahmen für Kindersitz an Rücksitz, Karosserie: 5-türig, Klimaautomatik 2-Zonen, Kopf-Airbag-System, Laderaumabdeckung, Lendenwirbelstütze Sitz vorn links, elektr. verstellbar, Lenkrad mit Multifunktion, Lenksäule (Lenkrad) verstellbar, Licht-Paket, Motor 1,0 Ltr. - 77 kW 12V, Nebelscheinwerfer, OnStar SOS Service, Parkpilotsystem vorn und hinten, Reifendruck-Kontrollsystem, Rückfahrkamera, Schadstoffarm nach Abgasnorm Euro 6, Seitenairbag vorn, Servolenkung geschwindigkeitsabhängig, Start/Stop-Anlage, Steckdose (12V-Anschluß) in Mittelkonsole, Tagfahrlicht LED, Türgriffe außen Wagenfarbe, Wegfahrsperre, Zentralverriegelung mit Fernbedienung, ecoFLEX-Paket, incl. Winterkompletträder , \\n]                                                                                                                                                                                                                                                                                                                                                                                                                                                                                                                                                                                                                                                                                                                                                                                                                                                                                                                                                                                                                                                                                                                                                                                                                                                                                   1\n",
       "Name: description, Length: 12874, dtype: int64"
      ]
     },
     "execution_count": 30,
     "metadata": {},
     "output_type": "execute_result"
    }
   ],
   "source": [
    "df.description.value_counts(dropna=False)"
   ]
  },
  {
   "cell_type": "code",
   "execution_count": 31,
   "metadata": {},
   "outputs": [],
   "source": [
    "df.drop(\"description\", axis = 1, inplace = True)"
   ]
  },
  {
   "cell_type": "markdown",
   "metadata": {},
   "source": [
    "## body_type"
   ]
  },
  {
   "cell_type": "code",
   "execution_count": 32,
   "metadata": {},
   "outputs": [
    {
     "data": {
      "text/plain": [
       "Sedans           7903\n",
       "Station wagon    3553\n",
       "Compact          3153\n",
       "Van               783\n",
       "Other             290\n",
       "Transporter        88\n",
       "NaN                60\n",
       "Off-Road           56\n",
       "Coupe              25\n",
       "Convertible         8\n",
       "Name: body_type, dtype: int64"
      ]
     },
     "execution_count": 32,
     "metadata": {},
     "output_type": "execute_result"
    }
   ],
   "source": [
    "df.body_type.value_counts(dropna=False)"
   ]
  },
  {
   "cell_type": "markdown",
   "metadata": {},
   "source": [
    "## Body"
   ]
  },
  {
   "cell_type": "code",
   "execution_count": 33,
   "metadata": {},
   "outputs": [
    {
     "ename": "TypeError",
     "evalue": "unhashable type: 'list'",
     "output_type": "error",
     "traceback": [
      "\u001b[1;31m---------------------------------------------------------------------------\u001b[0m",
      "\u001b[1;31mTypeError\u001b[0m                                 Traceback (most recent call last)",
      "\u001b[1;32mpandas\\_libs\\hashtable_class_helper.pxi\u001b[0m in \u001b[0;36mpandas._libs.hashtable.PyObjectHashTable.map_locations\u001b[1;34m()\u001b[0m\n",
      "\u001b[1;31mTypeError\u001b[0m: unhashable type: 'list'"
     ]
    },
    {
     "name": "stderr",
     "output_type": "stream",
     "text": [
      "Exception ignored in: 'pandas._libs.index.IndexEngine._call_map_locations'\n",
      "Traceback (most recent call last):\n",
      "  File \"pandas\\_libs\\hashtable_class_helper.pxi\", line 4588, in pandas._libs.hashtable.PyObjectHashTable.map_locations\n",
      "TypeError: unhashable type: 'list'\n"
     ]
    },
    {
     "data": {
      "text/plain": [
       "[\\n, Sedans, \\n]           7903\n",
       "[\\n, Station wagon, \\n]    3553\n",
       "[\\n, Compact, \\n]          3153\n",
       "[\\n, Van, \\n]               783\n",
       "[\\n, Other, \\n]             290\n",
       "[\\n, Transporter, \\n]        88\n",
       "NaN                          60\n",
       "[\\n, Off-Road, \\n]           56\n",
       "[\\n, Coupe, \\n]              25\n",
       "[\\n, Convertible, \\n]         8\n",
       "Name: Body, dtype: int64"
      ]
     },
     "execution_count": 33,
     "metadata": {},
     "output_type": "execute_result"
    }
   ],
   "source": [
    "df.Body.value_counts(dropna=False)"
   ]
  },
  {
   "cell_type": "code",
   "execution_count": 34,
   "metadata": {},
   "outputs": [],
   "source": [
    "df.drop(\"Body\", axis = 1, inplace = True)"
   ]
  },
  {
   "cell_type": "markdown",
   "metadata": {},
   "source": [
    "## price (target column)"
   ]
  },
  {
   "cell_type": "code",
   "execution_count": 35,
   "metadata": {},
   "outputs": [
    {
     "data": {
      "text/plain": [
       "0"
      ]
     },
     "execution_count": 35,
     "metadata": {},
     "output_type": "execute_result"
    }
   ],
   "source": [
    "df.price.isnull().sum()"
   ]
  },
  {
   "cell_type": "code",
   "execution_count": 36,
   "metadata": {},
   "outputs": [
    {
     "data": {
      "image/png": "[encoded data removed]",
      "text/plain": [
       "<Figure size 720x432 with 1 Axes>"
      ]
     },
     "metadata": {},
     "output_type": "display_data"
    }
   ],
   "source": [
    "sns.boxplot(df.price);"
   ]
  },
  {
   "cell_type": "code",
   "execution_count": 37,
   "metadata": {},
   "outputs": [
    {
     "data": {
      "image/png": "[encoded data removed]",
      "text/plain": [
       "<Figure size 720x432 with 1 Axes>"
      ]
     },
     "metadata": {},
     "output_type": "display_data"
    }
   ],
   "source": [
    "sns.distplot(df.price);"
   ]
  },
  {
   "cell_type": "markdown",
   "metadata": {},
   "source": [
    "## vat\n",
    "The Value Added Tax, or VAT, in the European Union is a general, broadly based consumption tax assessed on the value added to goods and services."
   ]
  },
  {
   "cell_type": "code",
   "execution_count": 38,
   "metadata": {},
   "outputs": [
    {
     "data": {
      "text/plain": [
       "VAT deductible      10980\n",
       "NaN                  4513\n",
       "Price negotiable      426\n",
       "Name: vat, dtype: int64"
      ]
     },
     "execution_count": 38,
     "metadata": {},
     "output_type": "execute_result"
    }
   ],
   "source": [
    "df.vat.value_counts(dropna=False)"
   ]
  },
  {
   "cell_type": "markdown",
   "metadata": {},
   "source": [
    "## km"
   ]
  },
  {
   "cell_type": "code",
   "execution_count": 39,
   "metadata": {},
   "outputs": [
    {
     "data": {
      "text/plain": [
       "10 km        1045\n",
       "- km         1024\n",
       "1 km          367\n",
       "5 km          170\n",
       "50 km         148\n",
       "             ... \n",
       "14,391 km       1\n",
       "27,933 km       1\n",
       "23,033 km       1\n",
       "22,511 km       1\n",
       "76,140 km       1\n",
       "Name: km, Length: 6690, dtype: int64"
      ]
     },
     "execution_count": 39,
     "metadata": {},
     "output_type": "execute_result"
    }
   ],
   "source": [
    "df.km.value_counts(dropna=False)"
   ]
  },
  {
   "cell_type": "code",
   "execution_count": 40,
   "metadata": {},
   "outputs": [
    {
     "data": {
      "text/html": [
       "<div>\n",
       "<style scoped>\n",
       "    .dataframe tbody tr th:only-of-type {\n",
       "        vertical-align: middle;\n",
       "    }\n",
       "\n",
       "    .dataframe tbody tr th {\n",
       "        vertical-align: top;\n",
       "    }\n",
       "\n",
       "    .dataframe thead th {\n",
       "        text-align: right;\n",
       "    }\n",
       "</style>\n",
       "<table border=\"1\" class=\"dataframe\">\n",
       "  <thead>\n",
       "    <tr style=\"text-align: right;\">\n",
       "      <th></th>\n",
       "      <th>0</th>\n",
       "    </tr>\n",
       "  </thead>\n",
       "  <tbody>\n",
       "    <tr>\n",
       "      <th>0</th>\n",
       "      <td>56013</td>\n",
       "    </tr>\n",
       "    <tr>\n",
       "      <th>1</th>\n",
       "      <td>80000</td>\n",
       "    </tr>\n",
       "    <tr>\n",
       "      <th>2</th>\n",
       "      <td>83450</td>\n",
       "    </tr>\n",
       "    <tr>\n",
       "      <th>3</th>\n",
       "      <td>73000</td>\n",
       "    </tr>\n",
       "    <tr>\n",
       "      <th>4</th>\n",
       "      <td>16200</td>\n",
       "    </tr>\n",
       "    <tr>\n",
       "      <th>...</th>\n",
       "      <td>...</td>\n",
       "    </tr>\n",
       "    <tr>\n",
       "      <th>15914</th>\n",
       "      <td>NaN</td>\n",
       "    </tr>\n",
       "    <tr>\n",
       "      <th>15915</th>\n",
       "      <td>9900</td>\n",
       "    </tr>\n",
       "    <tr>\n",
       "      <th>15916</th>\n",
       "      <td>15</td>\n",
       "    </tr>\n",
       "    <tr>\n",
       "      <th>15917</th>\n",
       "      <td>10</td>\n",
       "    </tr>\n",
       "    <tr>\n",
       "      <th>15918</th>\n",
       "      <td>NaN</td>\n",
       "    </tr>\n",
       "  </tbody>\n",
       "</table>\n",
       "<p>15919 rows × 1 columns</p>\n",
       "</div>"
      ],
      "text/plain": [
       "           0\n",
       "0      56013\n",
       "1      80000\n",
       "2      83450\n",
       "3      73000\n",
       "4      16200\n",
       "...      ...\n",
       "15914    NaN\n",
       "15915   9900\n",
       "15916     15\n",
       "15917     10\n",
       "15918    NaN\n",
       "\n",
       "[15919 rows x 1 columns]"
      ]
     },
     "execution_count": 40,
     "metadata": {},
     "output_type": "execute_result"
    }
   ],
   "source": [
    "df.km.str.replace(',','').str.extract('(\\d{1,8})')"
   ]
  },
  {
   "cell_type": "code",
   "execution_count": 41,
   "metadata": {},
   "outputs": [],
   "source": [
    "df[\"km\"] = df.km.str.replace(',','').str.extract('(\\d{1,8})')[0].astype('float')\n",
    "#Function of extract returns a dataframe, that's why we have to use slicing method before changing the type of column"
   ]
  },
  {
   "cell_type": "code",
   "execution_count": 174,
   "metadata": {},
   "outputs": [
    {
     "data": {
      "text/plain": [
       "10.000        1045\n",
       "NaN           1024\n",
       "1.000          367\n",
       "5.000          170\n",
       "50.000         148\n",
       "              ... \n",
       "160542.000       1\n",
       "20719.000        1\n",
       "91910.000        1\n",
       "39860.000        1\n",
       "57889.000        1\n",
       "Name: km, Length: 6690, dtype: int64"
      ]
     },
     "execution_count": 174,
     "metadata": {},
     "output_type": "execute_result"
    }
   ],
   "source": [
    "df.km.value_counts(dropna=False)"
   ]
  },
  {
   "cell_type": "markdown",
   "metadata": {},
   "source": [
    "## registration & First Registration"
   ]
  },
  {
   "cell_type": "code",
   "execution_count": 175,
   "metadata": {},
   "outputs": [
    {
     "ename": "AttributeError",
     "evalue": "'DataFrame' object has no attribute 'registration'",
     "output_type": "error",
     "traceback": [
      "\u001b[1;31m---------------------------------------------------------------------------\u001b[0m",
      "\u001b[1;31mAttributeError\u001b[0m                            Traceback (most recent call last)",
      "\u001b[1;32m<ipython-input-175-9cada8326ca6>\u001b[0m in \u001b[0;36m<module>\u001b[1;34m\u001b[0m\n\u001b[1;32m----> 1\u001b[1;33m \u001b[0mdf\u001b[0m\u001b[1;33m.\u001b[0m\u001b[0mregistration\u001b[0m\u001b[1;33m.\u001b[0m\u001b[0mvalue_counts\u001b[0m\u001b[1;33m(\u001b[0m\u001b[0mdropna\u001b[0m\u001b[1;33m=\u001b[0m\u001b[1;32mFalse\u001b[0m\u001b[1;33m)\u001b[0m\u001b[1;33m\u001b[0m\u001b[1;33m\u001b[0m\u001b[0m\n\u001b[0m",
      "\u001b[1;32m~\\anaconda3\\lib\\site-packages\\pandas\\core\\generic.py\u001b[0m in \u001b[0;36m__getattr__\u001b[1;34m(self, name)\u001b[0m\n\u001b[0;32m   5463\u001b[0m             \u001b[1;32mif\u001b[0m \u001b[0mself\u001b[0m\u001b[1;33m.\u001b[0m\u001b[0m_info_axis\u001b[0m\u001b[1;33m.\u001b[0m\u001b[0m_can_hold_identifiers_and_holds_name\u001b[0m\u001b[1;33m(\u001b[0m\u001b[0mname\u001b[0m\u001b[1;33m)\u001b[0m\u001b[1;33m:\u001b[0m\u001b[1;33m\u001b[0m\u001b[1;33m\u001b[0m\u001b[0m\n\u001b[0;32m   5464\u001b[0m                 \u001b[1;32mreturn\u001b[0m \u001b[0mself\u001b[0m\u001b[1;33m[\u001b[0m\u001b[0mname\u001b[0m\u001b[1;33m]\u001b[0m\u001b[1;33m\u001b[0m\u001b[1;33m\u001b[0m\u001b[0m\n\u001b[1;32m-> 5465\u001b[1;33m             \u001b[1;32mreturn\u001b[0m \u001b[0mobject\u001b[0m\u001b[1;33m.\u001b[0m\u001b[0m__getattribute__\u001b[0m\u001b[1;33m(\u001b[0m\u001b[0mself\u001b[0m\u001b[1;33m,\u001b[0m \u001b[0mname\u001b[0m\u001b[1;33m)\u001b[0m\u001b[1;33m\u001b[0m\u001b[1;33m\u001b[0m\u001b[0m\n\u001b[0m\u001b[0;32m   5466\u001b[0m \u001b[1;33m\u001b[0m\u001b[0m\n\u001b[0;32m   5467\u001b[0m     \u001b[1;32mdef\u001b[0m \u001b[0m__setattr__\u001b[0m\u001b[1;33m(\u001b[0m\u001b[0mself\u001b[0m\u001b[1;33m,\u001b[0m \u001b[0mname\u001b[0m\u001b[1;33m:\u001b[0m \u001b[0mstr\u001b[0m\u001b[1;33m,\u001b[0m \u001b[0mvalue\u001b[0m\u001b[1;33m)\u001b[0m \u001b[1;33m->\u001b[0m \u001b[1;32mNone\u001b[0m\u001b[1;33m:\u001b[0m\u001b[1;33m\u001b[0m\u001b[1;33m\u001b[0m\u001b[0m\n",
      "\u001b[1;31mAttributeError\u001b[0m: 'DataFrame' object has no attribute 'registration'"
     ]
    }
   ],
   "source": [
    "df.registration.value_counts(dropna=False)"
   ]
  },
  {
   "cell_type": "code",
   "execution_count": 44,
   "metadata": {},
   "outputs": [
    {
     "ename": "TypeError",
     "evalue": "unhashable type: 'list'",
     "output_type": "error",
     "traceback": [
      "\u001b[1;31m---------------------------------------------------------------------------\u001b[0m",
      "\u001b[1;31mTypeError\u001b[0m                                 Traceback (most recent call last)",
      "\u001b[1;32mpandas\\_libs\\hashtable_class_helper.pxi\u001b[0m in \u001b[0;36mpandas._libs.hashtable.PyObjectHashTable.map_locations\u001b[1;34m()\u001b[0m\n",
      "\u001b[1;31mTypeError\u001b[0m: unhashable type: 'list'"
     ]
    },
    {
     "name": "stderr",
     "output_type": "stream",
     "text": [
      "Exception ignored in: 'pandas._libs.index.IndexEngine._call_map_locations'\n",
      "Traceback (most recent call last):\n",
      "  File \"pandas\\_libs\\hashtable_class_helper.pxi\", line 4588, in pandas._libs.hashtable.PyObjectHashTable.map_locations\n",
      "TypeError: unhashable type: 'list'\n"
     ]
    },
    {
     "data": {
      "text/plain": [
       "[\\n, 2018, \\n]    4522\n",
       "[\\n, 2016, \\n]    3674\n",
       "[\\n, 2017, \\n]    3273\n",
       "[\\n, 2019, \\n]    2853\n",
       "NaN               1597\n",
       "Name: First Registration, dtype: int64"
      ]
     },
     "execution_count": 44,
     "metadata": {},
     "output_type": "execute_result"
    }
   ],
   "source": [
    "df[\"First Registration\"].value_counts(dropna=False)"
   ]
  },
  {
   "cell_type": "markdown",
   "metadata": {},
   "source": [
    "I prefer \"First Registration\" column because I don't need month values"
   ]
  },
  {
   "cell_type": "code",
   "execution_count": 45,
   "metadata": {},
   "outputs": [],
   "source": [
    "df['First Registration'] = df['First Registration'].str[1].astype('float')"
   ]
  },
  {
   "cell_type": "code",
   "execution_count": 46,
   "metadata": {},
   "outputs": [
    {
     "data": {
      "text/plain": [
       "2018.000    4522\n",
       "2016.000    3674\n",
       "2017.000    3273\n",
       "2019.000    2853\n",
       "NaN         1597\n",
       "Name: First Registration, dtype: int64"
      ]
     },
     "execution_count": 46,
     "metadata": {},
     "output_type": "execute_result"
    }
   ],
   "source": [
    "df[\"First Registration\"].value_counts(dropna=False)"
   ]
  },
  {
   "cell_type": "code",
   "execution_count": 47,
   "metadata": {},
   "outputs": [],
   "source": [
    "df['age'] = 2019 - df['First Registration']"
   ]
  },
  {
   "cell_type": "code",
   "execution_count": 48,
   "metadata": {},
   "outputs": [
    {
     "data": {
      "text/plain": [
       "1.000    4522\n",
       "3.000    3674\n",
       "2.000    3273\n",
       "0.000    2853\n",
       "NaN      1597\n",
       "Name: age, dtype: int64"
      ]
     },
     "execution_count": 48,
     "metadata": {},
     "output_type": "execute_result"
    }
   ],
   "source": [
    "df.age.value_counts(dropna=False)"
   ]
  },
  {
   "cell_type": "code",
   "execution_count": 49,
   "metadata": {},
   "outputs": [],
   "source": [
    "df.drop([\"registration\", \"First Registration\"], axis=1, inplace=True)"
   ]
  },
  {
   "cell_type": "markdown",
   "metadata": {},
   "source": [
    "## prev_owner & Previous Owners"
   ]
  },
  {
   "cell_type": "code",
   "execution_count": 50,
   "metadata": {},
   "outputs": [
    {
     "data": {
      "text/plain": [
       "1 previous owner     8294\n",
       "NaN                  6828\n",
       "2 previous owners     778\n",
       "3 previous owners      17\n",
       "4 previous owners       2\n",
       "Name: prev_owner, dtype: int64"
      ]
     },
     "execution_count": 50,
     "metadata": {},
     "output_type": "execute_result"
    }
   ],
   "source": [
    "df.prev_owner.value_counts(dropna=False)"
   ]
  },
  {
   "cell_type": "code",
   "execution_count": 51,
   "metadata": {},
   "outputs": [
    {
     "ename": "TypeError",
     "evalue": "unhashable type: 'list'",
     "output_type": "error",
     "traceback": [
      "\u001b[1;31m---------------------------------------------------------------------------\u001b[0m",
      "\u001b[1;31mTypeError\u001b[0m                                 Traceback (most recent call last)",
      "\u001b[1;32mpandas\\_libs\\hashtable_class_helper.pxi\u001b[0m in \u001b[0;36mpandas._libs.hashtable.PyObjectHashTable.map_locations\u001b[1;34m()\u001b[0m\n",
      "\u001b[1;31mTypeError\u001b[0m: unhashable type: 'list'"
     ]
    },
    {
     "name": "stderr",
     "output_type": "stream",
     "text": [
      "Exception ignored in: 'pandas._libs.index.IndexEngine._call_map_locations'\n",
      "Traceback (most recent call last):\n",
      "  File \"pandas\\_libs\\hashtable_class_helper.pxi\", line 4588, in pandas._libs.hashtable.PyObjectHashTable.map_locations\n",
      "TypeError: unhashable type: 'list'\n"
     ]
    },
    {
     "data": {
      "text/plain": [
       "\\n1\\n                               8101\n",
       "NaN                                 6640\n",
       "\\n2\\n                                766\n",
       "\\n0\\n                                163\n",
       "\\n3\\n                                 17\n",
       "                                    ... \n",
       "[\\n2\\n, \\n127 g CO2/km (comb)\\n]       1\n",
       "[\\n1\\n, \\n159 g CO2/km (comb)\\n]       1\n",
       "[\\n0\\n, \\n117 g CO2/km (comb)\\n]       1\n",
       "[\\n0\\n, \\n187 g CO2/km (comb)\\n]       1\n",
       "[\\n1\\n, \\n102 g CO2/km (comb)\\n]       1\n",
       "Name: Previous Owners, Length: 103, dtype: int64"
      ]
     },
     "execution_count": 51,
     "metadata": {},
     "output_type": "execute_result"
    }
   ],
   "source": [
    "df[\"Previous Owners\"].value_counts(dropna=False)"
   ]
  },
  {
   "cell_type": "markdown",
   "metadata": {},
   "source": [
    "I prefer \"Previous Owners\" column because it has less NaN values"
   ]
  },
  {
   "cell_type": "code",
   "execution_count": 52,
   "metadata": {},
   "outputs": [
    {
     "data": {
      "text/plain": [
       "['\\n2\\n',\n",
       " nan,\n",
       " '\\n1\\n',\n",
       " '\\n1\\n',\n",
       " '\\n1\\n',\n",
       " '\\n1\\n',\n",
       " '\\n1\\n',\n",
       " '\\n1\\n',\n",
       " '\\n1\\n',\n",
       " nan,\n",
       " nan,\n",
       " '\\n1\\n',\n",
       " '\\n1\\n',\n",
       " nan,\n",
       " '\\n1\\n',\n",
       " '\\n1\\n',\n",
       " nan,\n",
       " '\\n1\\n',\n",
       " nan,\n",
       " nan,\n",
       " '\\n1\\n',\n",
       " '\\n1\\n',\n",
       " '\\n1\\n',\n",
       " nan,\n",
       " '\\n1\\n',\n",
       " nan,\n",
       " '\\n1\\n',\n",
       " '\\n1\\n',\n",
       " nan,\n",
       " nan,\n",
       " nan,\n",
       " '\\n1\\n',\n",
       " '\\n1\\n',\n",
       " '\\n1\\n',\n",
       " nan,\n",
       " '\\n1\\n',\n",
       " '\\n1\\n',\n",
       " '\\n1\\n',\n",
       " '\\n2\\n',\n",
       " '\\n1\\n',\n",
       " '\\n1\\n',\n",
       " '\\n1\\n',\n",
       " '\\n1\\n',\n",
       " '\\n1\\n',\n",
       " '\\n1\\n',\n",
       " '\\n1\\n',\n",
       " '\\n1\\n',\n",
       " '\\n0\\n',\n",
       " '\\n2\\n',\n",
       " '\\n1\\n',\n",
       " '\\n1\\n',\n",
       " '\\n1\\n',\n",
       " nan,\n",
       " nan,\n",
       " '\\n1\\n',\n",
       " '\\n1\\n',\n",
       " '\\n1\\n',\n",
       " '\\n1\\n',\n",
       " '\\n2\\n',\n",
       " nan,\n",
       " '\\n1\\n',\n",
       " '\\n1\\n',\n",
       " '\\n1\\n',\n",
       " '\\n1\\n',\n",
       " '\\n1\\n',\n",
       " nan,\n",
       " nan,\n",
       " nan,\n",
       " '\\n1\\n',\n",
       " '\\n1\\n',\n",
       " nan,\n",
       " '\\n1\\n',\n",
       " '\\n1\\n',\n",
       " '\\n1\\n',\n",
       " '\\n1\\n',\n",
       " '\\n1\\n',\n",
       " '\\n1\\n',\n",
       " '\\n1\\n',\n",
       " '\\n1\\n',\n",
       " '\\n1\\n',\n",
       " '\\n1\\n',\n",
       " nan,\n",
       " '\\n1\\n',\n",
       " '\\n1\\n',\n",
       " '\\n2\\n',\n",
       " nan,\n",
       " nan,\n",
       " '\\n1\\n',\n",
       " '\\n1\\n',\n",
       " '\\n1\\n',\n",
       " '\\n1\\n',\n",
       " '\\n1\\n',\n",
       " '\\n2\\n',\n",
       " '\\n1\\n',\n",
       " nan,\n",
       " nan,\n",
       " nan,\n",
       " nan,\n",
       " '\\n1\\n',\n",
       " '\\n1\\n',\n",
       " nan,\n",
       " nan,\n",
       " '\\n1\\n',\n",
       " nan,\n",
       " nan,\n",
       " nan,\n",
       " nan,\n",
       " nan,\n",
       " nan,\n",
       " nan,\n",
       " nan,\n",
       " nan,\n",
       " nan,\n",
       " nan,\n",
       " '\\n1\\n',\n",
       " nan,\n",
       " nan,\n",
       " '\\n1\\n',\n",
       " nan,\n",
       " '\\n1\\n',\n",
       " '\\n1\\n',\n",
       " '\\n1\\n',\n",
       " nan,\n",
       " '\\n1\\n',\n",
       " '\\n1\\n',\n",
       " '\\n1\\n',\n",
       " '\\n1\\n',\n",
       " '\\n1\\n',\n",
       " '\\n1\\n',\n",
       " '\\n1\\n',\n",
       " nan,\n",
       " nan,\n",
       " nan,\n",
       " '\\n1\\n',\n",
       " nan,\n",
       " '\\n1\\n',\n",
       " '\\n1\\n',\n",
       " '\\n1\\n',\n",
       " '\\n1\\n',\n",
       " '\\n2\\n',\n",
       " nan,\n",
       " nan,\n",
       " '\\n1\\n',\n",
       " '\\n1\\n',\n",
       " '\\n2\\n',\n",
       " '\\n1\\n',\n",
       " '\\n2\\n',\n",
       " '\\n2\\n',\n",
       " '\\n1\\n',\n",
       " '\\n1\\n',\n",
       " nan,\n",
       " '\\n1\\n',\n",
       " '\\n1\\n',\n",
       " '\\n1\\n',\n",
       " '\\n1\\n',\n",
       " '\\n2\\n',\n",
       " '\\n1\\n',\n",
       " '\\n1\\n',\n",
       " '\\n1\\n',\n",
       " nan,\n",
       " '\\n1\\n',\n",
       " '\\n1\\n',\n",
       " '\\n2\\n',\n",
       " '\\n1\\n',\n",
       " '\\n1\\n',\n",
       " '\\n2\\n',\n",
       " '\\n2\\n',\n",
       " '\\n1\\n',\n",
       " nan,\n",
       " '\\n1\\n',\n",
       " nan,\n",
       " nan,\n",
       " '\\n1\\n',\n",
       " nan,\n",
       " '\\n2\\n',\n",
       " '\\n1\\n',\n",
       " nan,\n",
       " '\\n2\\n',\n",
       " '\\n1\\n',\n",
       " '\\n2\\n',\n",
       " '\\n1\\n',\n",
       " '\\n2\\n',\n",
       " '\\n1\\n',\n",
       " '\\n1\\n',\n",
       " '\\n1\\n',\n",
       " '\\n1\\n',\n",
       " '\\n1\\n',\n",
       " '\\n1\\n',\n",
       " '\\n1\\n',\n",
       " '\\n1\\n',\n",
       " nan,\n",
       " nan,\n",
       " '\\n1\\n',\n",
       " '\\n1\\n',\n",
       " '\\n1\\n',\n",
       " nan,\n",
       " '\\n1\\n',\n",
       " nan,\n",
       " '\\n1\\n',\n",
       " '\\n1\\n',\n",
       " '\\n2\\n',\n",
       " nan,\n",
       " '\\n1\\n',\n",
       " '\\n1\\n',\n",
       " '\\n1\\n',\n",
       " nan,\n",
       " '\\n2\\n',\n",
       " '\\n2\\n',\n",
       " nan,\n",
       " '\\n1\\n',\n",
       " nan,\n",
       " '\\n1\\n',\n",
       " '\\n1\\n',\n",
       " '\\n1\\n',\n",
       " '\\n1\\n',\n",
       " '\\n1\\n',\n",
       " '\\n1\\n',\n",
       " '\\n1\\n',\n",
       " '\\n1\\n',\n",
       " nan,\n",
       " '\\n2\\n',\n",
       " '\\n1\\n',\n",
       " '\\n1\\n',\n",
       " '\\n1\\n',\n",
       " '\\n1\\n',\n",
       " '\\n1\\n',\n",
       " '\\n1\\n',\n",
       " nan,\n",
       " nan,\n",
       " nan,\n",
       " '\\n1\\n',\n",
       " nan,\n",
       " nan,\n",
       " nan,\n",
       " '\\n1\\n',\n",
       " '\\n1\\n',\n",
       " '\\n1\\n',\n",
       " '\\n1\\n',\n",
       " '\\n1\\n',\n",
       " '\\n1\\n',\n",
       " '\\n1\\n',\n",
       " '\\n2\\n',\n",
       " '\\n2\\n',\n",
       " '\\n1\\n',\n",
       " nan,\n",
       " '\\n1\\n',\n",
       " '\\n1\\n',\n",
       " nan,\n",
       " '\\n1\\n',\n",
       " '\\n1\\n',\n",
       " nan,\n",
       " '\\n2\\n',\n",
       " nan,\n",
       " nan,\n",
       " '\\n1\\n',\n",
       " '\\n1\\n',\n",
       " '\\n2\\n',\n",
       " '\\n1\\n',\n",
       " '\\n1\\n',\n",
       " '\\n2\\n',\n",
       " nan,\n",
       " nan,\n",
       " nan,\n",
       " '\\n1\\n',\n",
       " '\\n1\\n',\n",
       " '\\n1\\n',\n",
       " '\\n1\\n',\n",
       " '\\n2\\n',\n",
       " '\\n1\\n',\n",
       " '\\n1\\n',\n",
       " nan,\n",
       " '\\n1\\n',\n",
       " '\\n1\\n',\n",
       " '\\n1\\n',\n",
       " nan,\n",
       " nan,\n",
       " nan,\n",
       " '\\n1\\n',\n",
       " nan,\n",
       " '\\n2\\n',\n",
       " '\\n1\\n',\n",
       " '\\n1\\n',\n",
       " '\\n2\\n',\n",
       " '\\n1\\n',\n",
       " '\\n1\\n',\n",
       " '\\n1\\n',\n",
       " '\\n1\\n',\n",
       " '\\n1\\n',\n",
       " '\\n1\\n',\n",
       " '\\n1\\n',\n",
       " '\\n1\\n',\n",
       " '\\n1\\n',\n",
       " '\\n1\\n',\n",
       " '\\n1\\n',\n",
       " '\\n1\\n',\n",
       " '\\n1\\n',\n",
       " '\\n1\\n',\n",
       " '\\n1\\n',\n",
       " '\\n1\\n',\n",
       " '\\n1\\n',\n",
       " '\\n1\\n',\n",
       " '\\n1\\n',\n",
       " '\\n1\\n',\n",
       " '\\n2\\n',\n",
       " '\\n1\\n',\n",
       " '\\n1\\n',\n",
       " '\\n1\\n',\n",
       " '\\n1\\n',\n",
       " '\\n1\\n',\n",
       " nan,\n",
       " nan,\n",
       " '\\n1\\n',\n",
       " '\\n1\\n',\n",
       " '\\n1\\n',\n",
       " '\\n1\\n',\n",
       " '\\n1\\n',\n",
       " '\\n1\\n',\n",
       " '\\n1\\n',\n",
       " '\\n1\\n',\n",
       " '\\n1\\n',\n",
       " '\\n1\\n',\n",
       " '\\n1\\n',\n",
       " '\\n1\\n',\n",
       " '\\n1\\n',\n",
       " '\\n1\\n',\n",
       " '\\n1\\n',\n",
       " '\\n1\\n',\n",
       " nan,\n",
       " '\\n1\\n',\n",
       " '\\n1\\n',\n",
       " '\\n1\\n',\n",
       " nan,\n",
       " '\\n1\\n',\n",
       " '\\n1\\n',\n",
       " nan,\n",
       " '\\n2\\n',\n",
       " '\\n2\\n',\n",
       " '\\n2\\n',\n",
       " '\\n1\\n',\n",
       " '\\n2\\n',\n",
       " '\\n2\\n',\n",
       " '\\n2\\n',\n",
       " '\\n2\\n',\n",
       " '\\n2\\n',\n",
       " '\\n2\\n',\n",
       " '\\n2\\n',\n",
       " '\\n2\\n',\n",
       " '\\n1\\n',\n",
       " '\\n1\\n',\n",
       " '\\n2\\n',\n",
       " '\\n1\\n',\n",
       " '\\n2\\n',\n",
       " '\\n2\\n',\n",
       " '\\n1\\n',\n",
       " '\\n2\\n',\n",
       " nan,\n",
       " '\\n2\\n',\n",
       " '\\n2\\n',\n",
       " '\\n2\\n',\n",
       " '\\n2\\n',\n",
       " '\\n2\\n',\n",
       " nan,\n",
       " '\\n2\\n',\n",
       " '\\n2\\n',\n",
       " '\\n2\\n',\n",
       " '\\n1\\n',\n",
       " '\\n2\\n',\n",
       " nan,\n",
       " '\\n1\\n',\n",
       " '\\n2\\n',\n",
       " nan,\n",
       " '\\n1\\n',\n",
       " nan,\n",
       " '\\n1\\n',\n",
       " nan,\n",
       " '\\n2\\n',\n",
       " '\\n2\\n',\n",
       " '\\n2\\n',\n",
       " '\\n2\\n',\n",
       " '\\n2\\n',\n",
       " '\\n1\\n',\n",
       " nan,\n",
       " '\\n1\\n',\n",
       " '\\n2\\n',\n",
       " '\\n2\\n',\n",
       " '\\n2\\n',\n",
       " '\\n2\\n',\n",
       " nan,\n",
       " nan,\n",
       " '\\n1\\n',\n",
       " '\\n1\\n',\n",
       " '\\n1\\n',\n",
       " '\\n1\\n',\n",
       " '\\n1\\n',\n",
       " '\\n1\\n',\n",
       " '\\n1\\n',\n",
       " '\\n1\\n',\n",
       " nan,\n",
       " '\\n2\\n',\n",
       " '\\n1\\n',\n",
       " '\\n1\\n',\n",
       " '\\n1\\n',\n",
       " '\\n1\\n',\n",
       " '\\n1\\n',\n",
       " nan,\n",
       " nan,\n",
       " nan,\n",
       " nan,\n",
       " nan,\n",
       " '\\n1\\n',\n",
       " '\\n1\\n',\n",
       " '\\n1\\n',\n",
       " '\\n1\\n',\n",
       " '\\n1\\n',\n",
       " '\\n1\\n',\n",
       " '\\n1\\n',\n",
       " '\\n1\\n',\n",
       " '\\n1\\n',\n",
       " '\\n0\\n',\n",
       " nan,\n",
       " '\\n1\\n',\n",
       " '\\n1\\n',\n",
       " '\\n2\\n',\n",
       " '\\n2\\n',\n",
       " '\\n1\\n',\n",
       " '\\n1\\n',\n",
       " '\\n2\\n',\n",
       " nan,\n",
       " '\\n1\\n',\n",
       " '\\n1\\n',\n",
       " '\\n1\\n',\n",
       " '\\n1\\n',\n",
       " '\\n1\\n',\n",
       " '\\n2\\n',\n",
       " '\\n1\\n',\n",
       " nan,\n",
       " '\\n1\\n',\n",
       " '\\n1\\n',\n",
       " '\\n1\\n',\n",
       " '\\n1\\n',\n",
       " '\\n1\\n',\n",
       " '\\n1\\n',\n",
       " '\\n1\\n',\n",
       " '\\n2\\n',\n",
       " nan,\n",
       " '\\n1\\n',\n",
       " nan,\n",
       " nan,\n",
       " nan,\n",
       " '\\n1\\n',\n",
       " '\\n1\\n',\n",
       " '\\n1\\n',\n",
       " '\\n1\\n',\n",
       " '\\n1\\n',\n",
       " '\\n1\\n',\n",
       " '\\n1\\n',\n",
       " '\\n1\\n',\n",
       " nan,\n",
       " '\\n1\\n',\n",
       " nan,\n",
       " nan,\n",
       " nan,\n",
       " '\\n1\\n',\n",
       " '\\n1\\n',\n",
       " '\\n1\\n',\n",
       " '\\n1\\n',\n",
       " nan,\n",
       " '\\n1\\n',\n",
       " nan,\n",
       " nan,\n",
       " nan,\n",
       " '\\n2\\n',\n",
       " '\\n1\\n',\n",
       " '\\n1\\n',\n",
       " '\\n1\\n',\n",
       " '\\n1\\n',\n",
       " nan,\n",
       " '\\n1\\n',\n",
       " '\\n1\\n',\n",
       " nan,\n",
       " nan,\n",
       " '\\n1\\n',\n",
       " '\\n1\\n',\n",
       " nan,\n",
       " nan,\n",
       " nan,\n",
       " nan,\n",
       " nan,\n",
       " '\\n1\\n',\n",
       " nan,\n",
       " '\\n1\\n',\n",
       " '\\n1\\n',\n",
       " '\\n1\\n',\n",
       " '\\n1\\n',\n",
       " '\\n1\\n',\n",
       " '\\n1\\n',\n",
       " '\\n1\\n',\n",
       " nan,\n",
       " '\\n1\\n',\n",
       " '\\n1\\n',\n",
       " '\\n1\\n',\n",
       " nan,\n",
       " '\\n1\\n',\n",
       " '\\n2\\n',\n",
       " '\\n2\\n',\n",
       " nan,\n",
       " '\\n1\\n',\n",
       " '\\n1\\n',\n",
       " '\\n1\\n',\n",
       " '\\n1\\n',\n",
       " nan,\n",
       " '\\n1\\n',\n",
       " '\\n1\\n',\n",
       " '\\n2\\n',\n",
       " '\\n1\\n',\n",
       " nan,\n",
       " '\\n2\\n',\n",
       " nan,\n",
       " nan,\n",
       " '\\n1\\n',\n",
       " '\\n1\\n',\n",
       " '\\n1\\n',\n",
       " '\\n2\\n',\n",
       " '\\n1\\n',\n",
       " nan,\n",
       " '\\n1\\n',\n",
       " '\\n1\\n',\n",
       " '\\n1\\n',\n",
       " '\\n1\\n',\n",
       " '\\n1\\n',\n",
       " nan,\n",
       " '\\n1\\n',\n",
       " nan,\n",
       " '\\n1\\n',\n",
       " '\\n1\\n',\n",
       " '\\n1\\n',\n",
       " '\\n1\\n',\n",
       " '\\n1\\n',\n",
       " '\\n1\\n',\n",
       " '\\n1\\n',\n",
       " '\\n1\\n',\n",
       " '\\n1\\n',\n",
       " '\\n1\\n',\n",
       " '\\n1\\n',\n",
       " '\\n1\\n',\n",
       " '\\n1\\n',\n",
       " nan,\n",
       " nan,\n",
       " '\\n1\\n',\n",
       " '\\n1\\n',\n",
       " '\\n1\\n',\n",
       " '\\n1\\n',\n",
       " '\\n1\\n',\n",
       " '\\n1\\n',\n",
       " '\\n1\\n',\n",
       " '\\n1\\n',\n",
       " '\\n1\\n',\n",
       " '\\n1\\n',\n",
       " '\\n1\\n',\n",
       " '\\n1\\n',\n",
       " '\\n1\\n',\n",
       " '\\n1\\n',\n",
       " nan,\n",
       " nan,\n",
       " nan,\n",
       " nan,\n",
       " nan,\n",
       " '\\n2\\n',\n",
       " '\\n1\\n',\n",
       " nan,\n",
       " nan,\n",
       " '\\n1\\n',\n",
       " '\\n1\\n',\n",
       " '\\n1\\n',\n",
       " '\\n1\\n',\n",
       " '\\n1\\n',\n",
       " '\\n1\\n',\n",
       " nan,\n",
       " nan,\n",
       " '\\n1\\n',\n",
       " '\\n1\\n',\n",
       " nan,\n",
       " '\\n1\\n',\n",
       " '\\n1\\n',\n",
       " nan,\n",
       " '\\n2\\n',\n",
       " '\\n0\\n',\n",
       " '\\n1\\n',\n",
       " '\\n2\\n',\n",
       " nan,\n",
       " '\\n1\\n',\n",
       " '\\n1\\n',\n",
       " '\\n1\\n',\n",
       " '\\n1\\n',\n",
       " '\\n2\\n',\n",
       " nan,\n",
       " '\\n1\\n',\n",
       " '\\n1\\n',\n",
       " nan,\n",
       " '\\n1\\n',\n",
       " '\\n1\\n',\n",
       " nan,\n",
       " '\\n1\\n',\n",
       " '\\n1\\n',\n",
       " '\\n2\\n',\n",
       " nan,\n",
       " '\\n1\\n',\n",
       " '\\n1\\n',\n",
       " nan,\n",
       " '\\n1\\n',\n",
       " '\\n1\\n',\n",
       " '\\n1\\n',\n",
       " '\\n2\\n',\n",
       " '\\n1\\n',\n",
       " '\\n2\\n',\n",
       " '\\n1\\n',\n",
       " '\\n1\\n',\n",
       " nan,\n",
       " '\\n1\\n',\n",
       " '\\n1\\n',\n",
       " '\\n1\\n',\n",
       " '\\n1\\n',\n",
       " '\\n1\\n',\n",
       " nan,\n",
       " '\\n1\\n',\n",
       " '\\n1\\n',\n",
       " '\\n1\\n',\n",
       " '\\n2\\n',\n",
       " '\\n1\\n',\n",
       " '\\n1\\n',\n",
       " '\\n1\\n',\n",
       " '\\n1\\n',\n",
       " '\\n1\\n',\n",
       " '\\n1\\n',\n",
       " nan,\n",
       " '\\n1\\n',\n",
       " '\\n1\\n',\n",
       " nan,\n",
       " '\\n1\\n',\n",
       " '\\n2\\n',\n",
       " '\\n2\\n',\n",
       " nan,\n",
       " '\\n1\\n',\n",
       " nan,\n",
       " nan,\n",
       " '\\n1\\n',\n",
       " '\\n1\\n',\n",
       " nan,\n",
       " '\\n0\\n',\n",
       " '\\n1\\n',\n",
       " '\\n1\\n',\n",
       " '\\n2\\n',\n",
       " '\\n1\\n',\n",
       " '\\n2\\n',\n",
       " '\\n1\\n',\n",
       " nan,\n",
       " nan,\n",
       " '\\n1\\n',\n",
       " '\\n1\\n',\n",
       " '\\n1\\n',\n",
       " '\\n1\\n',\n",
       " nan,\n",
       " nan,\n",
       " '\\n2\\n',\n",
       " '\\n1\\n',\n",
       " nan,\n",
       " '\\n1\\n',\n",
       " '\\n1\\n',\n",
       " '\\n1\\n',\n",
       " '\\n1\\n',\n",
       " '\\n1\\n',\n",
       " nan,\n",
       " nan,\n",
       " '\\n1\\n',\n",
       " nan,\n",
       " '\\n1\\n',\n",
       " '\\n1\\n',\n",
       " '\\n1\\n',\n",
       " nan,\n",
       " '\\n3\\n',\n",
       " '\\n1\\n',\n",
       " nan,\n",
       " '\\n1\\n',\n",
       " '\\n1\\n',\n",
       " '\\n1\\n',\n",
       " '\\n1\\n',\n",
       " '\\n1\\n',\n",
       " '\\n1\\n',\n",
       " nan,\n",
       " nan,\n",
       " '\\n1\\n',\n",
       " '\\n1\\n',\n",
       " '\\n1\\n',\n",
       " '\\n1\\n',\n",
       " '\\n1\\n',\n",
       " nan,\n",
       " '\\n1\\n',\n",
       " '\\n1\\n',\n",
       " '\\n1\\n',\n",
       " '\\n1\\n',\n",
       " '\\n1\\n',\n",
       " '\\n1\\n',\n",
       " '\\n2\\n',\n",
       " '\\n1\\n',\n",
       " '\\n1\\n',\n",
       " '\\n1\\n',\n",
       " nan,\n",
       " '\\n1\\n',\n",
       " nan,\n",
       " '\\n1\\n',\n",
       " nan,\n",
       " '\\n1\\n',\n",
       " '\\n1\\n',\n",
       " nan,\n",
       " '\\n1\\n',\n",
       " '\\n1\\n',\n",
       " '\\n1\\n',\n",
       " '\\n1\\n',\n",
       " '\\n1\\n',\n",
       " '\\n1\\n',\n",
       " nan,\n",
       " '\\n1\\n',\n",
       " '\\n1\\n',\n",
       " nan,\n",
       " '\\n1\\n',\n",
       " '\\n2\\n',\n",
       " '\\n1\\n',\n",
       " '\\n2\\n',\n",
       " '\\n1\\n',\n",
       " '\\n1\\n',\n",
       " '\\n1\\n',\n",
       " '\\n1\\n',\n",
       " '\\n1\\n',\n",
       " nan,\n",
       " '\\n0\\n',\n",
       " nan,\n",
       " '\\n1\\n',\n",
       " '\\n1\\n',\n",
       " '\\n1\\n',\n",
       " '\\n1\\n',\n",
       " '\\n1\\n',\n",
       " nan,\n",
       " '\\n1\\n',\n",
       " '\\n0\\n',\n",
       " nan,\n",
       " '\\n1\\n',\n",
       " '\\n1\\n',\n",
       " '\\n1\\n',\n",
       " '\\n1\\n',\n",
       " '\\n1\\n',\n",
       " '\\n1\\n',\n",
       " '\\n2\\n',\n",
       " nan,\n",
       " '\\n1\\n',\n",
       " nan,\n",
       " nan,\n",
       " nan,\n",
       " nan,\n",
       " '\\n2\\n',\n",
       " '\\n1\\n',\n",
       " nan,\n",
       " '\\n1\\n',\n",
       " '\\n1\\n',\n",
       " '\\n1\\n',\n",
       " '\\n2\\n',\n",
       " '\\n1\\n',\n",
       " '\\n1\\n',\n",
       " nan,\n",
       " nan,\n",
       " nan,\n",
       " nan,\n",
       " nan,\n",
       " nan,\n",
       " nan,\n",
       " nan,\n",
       " nan,\n",
       " nan,\n",
       " nan,\n",
       " nan,\n",
       " nan,\n",
       " '\\n1\\n',\n",
       " nan,\n",
       " nan,\n",
       " nan,\n",
       " nan,\n",
       " nan,\n",
       " nan,\n",
       " nan,\n",
       " nan,\n",
       " '\\n1\\n',\n",
       " '\\n1\\n',\n",
       " nan,\n",
       " '\\n2\\n',\n",
       " '\\n1\\n',\n",
       " nan,\n",
       " nan,\n",
       " '\\n1\\n',\n",
       " '\\n1\\n',\n",
       " nan,\n",
       " '\\n1\\n',\n",
       " '\\n1\\n',\n",
       " '\\n1\\n',\n",
       " nan,\n",
       " '\\n2\\n',\n",
       " '\\n1\\n',\n",
       " nan,\n",
       " '\\n1\\n',\n",
       " '\\n1\\n',\n",
       " '\\n1\\n',\n",
       " '\\n2\\n',\n",
       " nan,\n",
       " nan,\n",
       " '\\n2\\n',\n",
       " nan,\n",
       " nan,\n",
       " '\\n2\\n',\n",
       " nan,\n",
       " '\\n1\\n',\n",
       " '\\n1\\n',\n",
       " '\\n1\\n',\n",
       " '\\n1\\n',\n",
       " '\\n1\\n',\n",
       " '\\n2\\n',\n",
       " '\\n2\\n',\n",
       " '\\n1\\n',\n",
       " '\\n1\\n',\n",
       " '\\n2\\n',\n",
       " '\\n1\\n',\n",
       " '\\n1\\n',\n",
       " '\\n1\\n',\n",
       " '\\n1\\n',\n",
       " nan,\n",
       " nan,\n",
       " nan,\n",
       " '\\n1\\n',\n",
       " '\\n1\\n',\n",
       " '\\n1\\n',\n",
       " nan,\n",
       " nan,\n",
       " '\\n1\\n',\n",
       " '\\n2\\n',\n",
       " '\\n1\\n',\n",
       " '\\n2\\n',\n",
       " nan,\n",
       " '\\n1\\n',\n",
       " '\\n1\\n',\n",
       " '\\n1\\n',\n",
       " '\\n1\\n',\n",
       " '\\n1\\n',\n",
       " '\\n1\\n',\n",
       " '\\n1\\n',\n",
       " '\\n1\\n',\n",
       " '\\n1\\n',\n",
       " '\\n1\\n',\n",
       " nan,\n",
       " nan,\n",
       " '\\n1\\n',\n",
       " '\\n2\\n',\n",
       " '\\n1\\n',\n",
       " '\\n1\\n',\n",
       " nan,\n",
       " nan,\n",
       " nan,\n",
       " nan,\n",
       " '\\n1\\n',\n",
       " nan,\n",
       " nan,\n",
       " nan,\n",
       " nan,\n",
       " '\\n0\\n',\n",
       " '\\n1\\n',\n",
       " '\\n1\\n',\n",
       " '\\n1\\n',\n",
       " '\\n1\\n',\n",
       " nan,\n",
       " nan,\n",
       " nan,\n",
       " nan,\n",
       " '\\n1\\n',\n",
       " nan,\n",
       " '\\n1\\n',\n",
       " nan,\n",
       " '\\n1\\n',\n",
       " '\\n1\\n',\n",
       " '\\n2\\n',\n",
       " nan,\n",
       " nan,\n",
       " '\\n1\\n',\n",
       " nan,\n",
       " nan,\n",
       " nan,\n",
       " '\\n1\\n',\n",
       " '\\n1\\n',\n",
       " '\\n1\\n',\n",
       " '\\n2\\n',\n",
       " '\\n1\\n',\n",
       " nan,\n",
       " '\\n1\\n',\n",
       " nan,\n",
       " nan,\n",
       " '\\n1\\n',\n",
       " nan,\n",
       " nan,\n",
       " nan,\n",
       " '\\n1\\n',\n",
       " '\\n1\\n',\n",
       " nan,\n",
       " '\\n1\\n',\n",
       " nan,\n",
       " '\\n1\\n',\n",
       " '\\n1\\n',\n",
       " '\\n1\\n',\n",
       " '\\n1\\n',\n",
       " '\\n1\\n',\n",
       " '\\n1\\n',\n",
       " '\\n1\\n',\n",
       " '\\n1\\n',\n",
       " '\\n1\\n',\n",
       " '\\n1\\n',\n",
       " '\\n1\\n',\n",
       " '\\n2\\n',\n",
       " '\\n1\\n',\n",
       " '\\n1\\n',\n",
       " '\\n1\\n',\n",
       " '\\n1\\n',\n",
       " '\\n1\\n',\n",
       " '\\n1\\n',\n",
       " nan,\n",
       " '\\n1\\n',\n",
       " '\\n1\\n',\n",
       " nan,\n",
       " '\\n2\\n',\n",
       " nan,\n",
       " nan,\n",
       " '\\n1\\n',\n",
       " '\\n1\\n',\n",
       " nan,\n",
       " nan,\n",
       " nan,\n",
       " nan,\n",
       " nan,\n",
       " nan,\n",
       " '\\n1\\n',\n",
       " '\\n1\\n',\n",
       " '\\n1\\n',\n",
       " '\\n1\\n',\n",
       " nan,\n",
       " '\\n1\\n',\n",
       " '\\n1\\n',\n",
       " '\\n1\\n',\n",
       " '\\n1\\n',\n",
       " '\\n1\\n',\n",
       " nan,\n",
       " nan,\n",
       " nan,\n",
       " '\\n2\\n',\n",
       " '\\n1\\n',\n",
       " '\\n2\\n',\n",
       " '\\n1\\n',\n",
       " '\\n1\\n',\n",
       " nan,\n",
       " nan,\n",
       " nan,\n",
       " '\\n1\\n',\n",
       " '\\n1\\n',\n",
       " '\\n1\\n',\n",
       " nan,\n",
       " '\\n1\\n',\n",
       " '\\n1\\n',\n",
       " nan,\n",
       " '\\n1\\n',\n",
       " '\\n1\\n',\n",
       " '\\n4\\n',\n",
       " '\\n1\\n',\n",
       " nan,\n",
       " '\\n1\\n',\n",
       " '\\n1\\n',\n",
       " nan,\n",
       " '\\n1\\n',\n",
       " '\\n1\\n',\n",
       " '\\n0\\n',\n",
       " '\\n1\\n',\n",
       " nan,\n",
       " '\\n1\\n',\n",
       " nan,\n",
       " '\\n1\\n',\n",
       " '\\n1\\n',\n",
       " nan,\n",
       " '\\n1\\n',\n",
       " '\\n1\\n',\n",
       " nan,\n",
       " nan,\n",
       " nan,\n",
       " nan,\n",
       " '\\n1\\n',\n",
       " '\\n1\\n',\n",
       " '\\n1\\n',\n",
       " '\\n1\\n',\n",
       " '\\n1\\n',\n",
       " '\\n1\\n',\n",
       " ...]"
      ]
     },
     "execution_count": 52,
     "metadata": {},
     "output_type": "execute_result"
    }
   ],
   "source": [
    "[item[0] if type(item) == list else item for item in df[\"Previous Owners\"]]"
   ]
  },
  {
   "cell_type": "code",
   "execution_count": 53,
   "metadata": {},
   "outputs": [
    {
     "data": {
      "text/plain": [
       "0        \\n2\\n\n",
       "1          NaN\n",
       "2        \\n1\\n\n",
       "3        \\n1\\n\n",
       "4        \\n1\\n\n",
       "         ...  \n",
       "15914      NaN\n",
       "15915    \\n1\\n\n",
       "15916    \\n1\\n\n",
       "15917      NaN\n",
       "15918    \\n1\\n\n",
       "Name: Previous_Owners, Length: 15919, dtype: object"
      ]
     },
     "execution_count": 53,
     "metadata": {},
     "output_type": "execute_result"
    }
   ],
   "source": [
    "df[\"Previous_Owners\"] = [item[0] if type(item) == list else item for item in df[\"Previous Owners\"]]\n",
    "df[\"Previous_Owners\"]"
   ]
  },
  {
   "cell_type": "code",
   "execution_count": 54,
   "metadata": {},
   "outputs": [
    {
     "data": {
      "text/plain": [
       "0        \\n2\\n\n",
       "1          NaN\n",
       "2        \\n1\\n\n",
       "3        \\n1\\n\n",
       "4        \\n1\\n\n",
       "         ...  \n",
       "15914      NaN\n",
       "15915    \\n1\\n\n",
       "15916    \\n1\\n\n",
       "15917      NaN\n",
       "15918    \\n1\\n\n",
       "Name: Previous_Owners2, Length: 15919, dtype: object"
      ]
     },
     "execution_count": 54,
     "metadata": {},
     "output_type": "execute_result"
    }
   ],
   "source": [
    "df[\"Previous_Owners2\"] = df[\"Previous Owners\"].apply(lambda item: item[0] if type(item) == list else item)\n",
    "df[\"Previous_Owners2\"]"
   ]
  },
  {
   "cell_type": "code",
   "execution_count": 55,
   "metadata": {},
   "outputs": [],
   "source": [
    "df[\"Previous_Owners\"] = df[\"Previous_Owners\"].str.strip(\"\\n\").astype('float')"
   ]
  },
  {
   "cell_type": "code",
   "execution_count": 56,
   "metadata": {},
   "outputs": [
    {
     "data": {
      "text/plain": [
       "1.000    8294\n",
       "NaN      6640\n",
       "2.000     778\n",
       "0.000     188\n",
       "3.000      17\n",
       "4.000       2\n",
       "Name: Previous_Owners, dtype: int64"
      ]
     },
     "execution_count": 56,
     "metadata": {},
     "output_type": "execute_result"
    }
   ],
   "source": [
    "df[\"Previous_Owners\"].value_counts(dropna=False)"
   ]
  },
  {
   "cell_type": "code",
   "execution_count": 57,
   "metadata": {},
   "outputs": [],
   "source": [
    "df.drop([\"prev_owner\", \"Previous Owners\", \"Previous_Owners2\"], axis=1, inplace=True)"
   ]
  },
  {
   "cell_type": "markdown",
   "metadata": {},
   "source": [
    "## hp"
   ]
  },
  {
   "cell_type": "code",
   "execution_count": 58,
   "metadata": {},
   "outputs": [
    {
     "data": {
      "text/plain": [
       "85 kW     2542\n",
       "66 kW     2122\n",
       "81 kW     1402\n",
       "100 kW    1308\n",
       "110 kW    1112\n",
       "70 kW      888\n",
       "125 kW     707\n",
       "51 kW      695\n",
       "55 kW      569\n",
       "118 kW     516\n",
       "92 kW      466\n",
       "121 kW     392\n",
       "147 kW     380\n",
       "77 kW      345\n",
       "56 kW      286\n",
       "54 kW      276\n",
       "103 kW     253\n",
       "87 kW      232\n",
       "165 kW     194\n",
       "88 kW      177\n",
       "60 kW      160\n",
       "162 kW      98\n",
       "- kW        88\n",
       "74 kW       81\n",
       "96 kW       72\n",
       "71 kW       59\n",
       "101 kW      47\n",
       "67 kW       40\n",
       "154 kW      39\n",
       "122 kW      35\n",
       "119 kW      30\n",
       "164 kW      27\n",
       "135 kW      24\n",
       "52 kW       22\n",
       "82 kW       22\n",
       "1 kW        20\n",
       "78 kW       20\n",
       "294 kW      18\n",
       "146 kW      18\n",
       "141 kW      16\n",
       "57 kW       10\n",
       "104 kW       8\n",
       "120 kW       8\n",
       "191 kW       7\n",
       "112 kW       7\n",
       "155 kW       6\n",
       "117 kW       6\n",
       "184 kW       5\n",
       "65 kW        4\n",
       "90 kW        4\n",
       "76 kW        4\n",
       "93 kW        3\n",
       "80 kW        3\n",
       "98 kW        3\n",
       "168 kW       3\n",
       "149 kW       3\n",
       "140 kW       2\n",
       "228 kW       2\n",
       "143 kW       2\n",
       "150 kW       2\n",
       "86 kW        2\n",
       "89 kW        2\n",
       "53 kW        2\n",
       "127 kW       2\n",
       "63 kW        2\n",
       "270 kW       2\n",
       "40 kW        2\n",
       "167 kW       2\n",
       "115 kW       1\n",
       "44 kW        1\n",
       "195 kW       1\n",
       "137 kW       1\n",
       "84 kW        1\n",
       "133 kW       1\n",
       "4 kW         1\n",
       "75 kW        1\n",
       "239 kW       1\n",
       "123 kW       1\n",
       "9 kW         1\n",
       "163 kW       1\n",
       "132 kW       1\n",
       "Name: hp, dtype: int64"
      ]
     },
     "execution_count": 58,
     "metadata": {},
     "output_type": "execute_result"
    }
   ],
   "source": [
    "df.hp.value_counts(dropna=False)"
   ]
  },
  {
   "cell_type": "code",
   "execution_count": 59,
   "metadata": {},
   "outputs": [],
   "source": [
    "df[\"hp_kW\"] = df.hp.str.extract('(\\d{1,4})')[0].astype('float')"
   ]
  },
  {
   "cell_type": "code",
   "execution_count": 60,
   "metadata": {},
   "outputs": [],
   "source": [
    "#Alternative method\n",
    "#df.replace({\"hp\" : {\" kW\" : \"\"}}, regex = True, inplace = True)\n",
    "#df[\"hp_kw\"] = pd.to_numeric(df.hp)"
   ]
  },
  {
   "cell_type": "code",
   "execution_count": 61,
   "metadata": {},
   "outputs": [],
   "source": [
    "df.drop('hp', axis=1, inplace=True)"
   ]
  },
  {
   "cell_type": "markdown",
   "metadata": {},
   "source": [
    "## Type"
   ]
  },
  {
   "cell_type": "code",
   "execution_count": 62,
   "metadata": {},
   "outputs": [
    {
     "ename": "TypeError",
     "evalue": "unhashable type: 'list'",
     "output_type": "error",
     "traceback": [
      "\u001b[1;31m---------------------------------------------------------------------------\u001b[0m",
      "\u001b[1;31mTypeError\u001b[0m                                 Traceback (most recent call last)",
      "\u001b[1;32mpandas\\_libs\\hashtable_class_helper.pxi\u001b[0m in \u001b[0;36mpandas._libs.hashtable.PyObjectHashTable.map_locations\u001b[1;34m()\u001b[0m\n",
      "\u001b[1;31mTypeError\u001b[0m: unhashable type: 'list'"
     ]
    },
    {
     "name": "stderr",
     "output_type": "stream",
     "text": [
      "Exception ignored in: 'pandas._libs.index.IndexEngine._call_map_locations'\n",
      "Traceback (most recent call last):\n",
      "  File \"pandas\\_libs\\hashtable_class_helper.pxi\", line 4588, in pandas._libs.hashtable.PyObjectHashTable.map_locations\n",
      "TypeError: unhashable type: 'list'\n"
     ]
    },
    {
     "data": {
      "text/plain": [
       "[, Used, , Diesel (Particulate Filter)]                                                                                 3475\n",
       "[, Used, , Diesel]                                                                                                      2516\n",
       "[, Used, , Gasoline]                                                                                                    2367\n",
       "[, Used, , Super 95]                                                                                                    1818\n",
       "[, Pre-registered, , Super 95]                                                                                           500\n",
       "                                                                                                                        ... \n",
       "[, Pre-registered, , CNG]                                                                                                  1\n",
       "[, Used, , Others (Particulate Filter)]                                                                                    1\n",
       "[, New, , Super 95 / Regular/Benzine 91 / Super Plus 98 / Regular/Benzine E10 91 / Super Plus E10 98 / Super E10 95]       1\n",
       "[, Pre-registered, , Super E10 95 (Particulate Filter)]                                                                    1\n",
       "[, Employee's car, , Super E10 95 (Particulate Filter)]                                                                    1\n",
       "Name: Type, Length: 170, dtype: int64"
      ]
     },
     "execution_count": 62,
     "metadata": {},
     "output_type": "execute_result"
    }
   ],
   "source": [
    "df.Type.value_counts(dropna=False)"
   ]
  },
  {
   "cell_type": "code",
   "execution_count": 63,
   "metadata": {},
   "outputs": [],
   "source": [
    "df[\"Type\"] = df.Type.str[1]"
   ]
  },
  {
   "cell_type": "code",
   "execution_count": 64,
   "metadata": {},
   "outputs": [
    {
     "data": {
      "text/plain": [
       "Used              11096\n",
       "New                1650\n",
       "Pre-registered     1364\n",
       "Employee's car     1011\n",
       "Demonstration       796\n",
       "NaN                   2\n",
       "Name: Type, dtype: int64"
      ]
     },
     "execution_count": 64,
     "metadata": {},
     "output_type": "execute_result"
    }
   ],
   "source": [
    "df['Type'].value_counts(dropna=False)"
   ]
  },
  {
   "cell_type": "markdown",
   "metadata": {},
   "source": [
    "## Next Inspection & Inspection new"
   ]
  },
  {
   "cell_type": "code",
   "execution_count": 65,
   "metadata": {},
   "outputs": [
    {
     "ename": "TypeError",
     "evalue": "unhashable type: 'list'",
     "output_type": "error",
     "traceback": [
      "\u001b[1;31m---------------------------------------------------------------------------\u001b[0m",
      "\u001b[1;31mTypeError\u001b[0m                                 Traceback (most recent call last)",
      "\u001b[1;32mpandas\\_libs\\hashtable_class_helper.pxi\u001b[0m in \u001b[0;36mpandas._libs.hashtable.PyObjectHashTable.map_locations\u001b[1;34m()\u001b[0m\n",
      "\u001b[1;31mTypeError\u001b[0m: unhashable type: 'list'"
     ]
    },
    {
     "name": "stderr",
     "output_type": "stream",
     "text": [
      "Exception ignored in: 'pandas._libs.index.IndexEngine._call_map_locations'\n",
      "Traceback (most recent call last):\n",
      "  File \"pandas\\_libs\\hashtable_class_helper.pxi\", line 4588, in pandas._libs.hashtable.PyObjectHashTable.map_locations\n",
      "TypeError: unhashable type: 'list'\n"
     ]
    },
    {
     "data": {
      "text/plain": [
       "NaN                                                                                                12384\n",
       "\\n04/2022\\n                                                                                           62\n",
       "\\n03/2021\\n                                                                                           38\n",
       "\\n03/2022\\n                                                                                           36\n",
       "\\n06/2021\\n                                                                                           34\n",
       "                                                                                                   ...  \n",
       "[\\n06/2020\\n, \\n143 g CO2/km (comb)\\n]                                                                 1\n",
       "[\\n03/2022\\n, \\n135 g CO2/km (comb)\\n]                                                                 1\n",
       "[\\n09/2021\\n, \\n97 g CO2/km (comb)\\n]                                                                  1\n",
       "[\\n06/2021\\n, \\n, 5.4 l/100 km (comb), \\n, 6.7 l/100 km (city), \\n, 4.6 l/100 km (country), \\n]        1\n",
       "[\\n09/2021\\n, \\nEuro 6c\\n]                                                                             1\n",
       "Name: Next Inspection, Length: 1400, dtype: int64"
      ]
     },
     "execution_count": 65,
     "metadata": {},
     "output_type": "execute_result"
    }
   ],
   "source": [
    "df[\"Next Inspection\"].value_counts(dropna=False)"
   ]
  },
  {
   "cell_type": "code",
   "execution_count": 66,
   "metadata": {},
   "outputs": [
    {
     "ename": "TypeError",
     "evalue": "unhashable type: 'list'",
     "output_type": "error",
     "traceback": [
      "\u001b[1;31m---------------------------------------------------------------------------\u001b[0m",
      "\u001b[1;31mTypeError\u001b[0m                                 Traceback (most recent call last)",
      "\u001b[1;32mpandas\\_libs\\hashtable_class_helper.pxi\u001b[0m in \u001b[0;36mpandas._libs.hashtable.PyObjectHashTable.map_locations\u001b[1;34m()\u001b[0m\n",
      "\u001b[1;31mTypeError\u001b[0m: unhashable type: 'list'"
     ]
    },
    {
     "name": "stderr",
     "output_type": "stream",
     "text": [
      "Exception ignored in: 'pandas._libs.index.IndexEngine._call_map_locations'\n",
      "Traceback (most recent call last):\n",
      "  File \"pandas\\_libs\\hashtable_class_helper.pxi\", line 4588, in pandas._libs.hashtable.PyObjectHashTable.map_locations\n",
      "TypeError: unhashable type: 'list'\n"
     ]
    },
    {
     "data": {
      "text/plain": [
       "NaN                                                                                            11987\n",
       "[\\nYes\\n, \\nEuro 6\\n]                                                                            523\n",
       "\\nYes\\n                                                                                          362\n",
       "[\\nYes\\n, \\n102 g CO2/km (comb)\\n]                                                               174\n",
       "[\\nYes\\n, \\n4 (Green)\\n]                                                                         166\n",
       "                                                                                               ...  \n",
       "[\\nYes\\n, \\n, 4.9 l/100 km (comb), \\n, 5.9 l/100 km (city), \\n, 4.3 l/100 km (country), \\n]        1\n",
       "[\\nYes\\n, \\n, 5.9 l/100 km (comb), \\n, 7.4 l/100 km (city), \\n, 5 l/100 km (country), \\n]          1\n",
       "[\\nYes\\n, \\n, 5.2 l/100 km (comb), \\n, 6.7 l/100 km (city), \\n, 4.2 l/100 km (country), \\n]        1\n",
       "[\\nYes\\n, \\n180 g CO2/km (comb)\\n]                                                                 1\n",
       "[\\nYes\\n, \\n, 5.7 l/100 km (comb), \\n, 7.3 l/100 km (city), \\n, 4.9 l/100 km (country), \\n]        1\n",
       "Name: Inspection new, Length: 203, dtype: int64"
      ]
     },
     "execution_count": 66,
     "metadata": {},
     "output_type": "execute_result"
    }
   ],
   "source": [
    "df[\"Inspection new\"].value_counts(dropna=False)"
   ]
  },
  {
   "cell_type": "code",
   "execution_count": 67,
   "metadata": {},
   "outputs": [],
   "source": [
    "df[\"Inspection_new\"] = [item[0] if type(item) == list else item for item in df[\"Inspection new\"]]\n",
    "df[\"Inspection_new\"] = df[\"Inspection_new\"].str.strip(\"\\n\")"
   ]
  },
  {
   "cell_type": "code",
   "execution_count": 68,
   "metadata": {},
   "outputs": [
    {
     "data": {
      "text/plain": [
       "NaN    11987\n",
       "Yes     3932\n",
       "Name: Inspection_new, dtype: int64"
      ]
     },
     "execution_count": 68,
     "metadata": {},
     "output_type": "execute_result"
    }
   ],
   "source": [
    "df[\"Inspection_new\"].value_counts(dropna=False)"
   ]
  },
  {
   "cell_type": "code",
   "execution_count": 69,
   "metadata": {},
   "outputs": [],
   "source": [
    "df.drop([\"Next Inspection\", \"Inspection new\"], axis=1, inplace=True)"
   ]
  },
  {
   "cell_type": "markdown",
   "metadata": {},
   "source": [
    "## Warranty"
   ]
  },
  {
   "cell_type": "code",
   "execution_count": 70,
   "metadata": {},
   "outputs": [
    {
     "ename": "TypeError",
     "evalue": "unhashable type: 'list'",
     "output_type": "error",
     "traceback": [
      "\u001b[1;31m---------------------------------------------------------------------------\u001b[0m",
      "\u001b[1;31mTypeError\u001b[0m                                 Traceback (most recent call last)",
      "\u001b[1;32mpandas\\_libs\\hashtable_class_helper.pxi\u001b[0m in \u001b[0;36mpandas._libs.hashtable.PyObjectHashTable.map_locations\u001b[1;34m()\u001b[0m\n",
      "\u001b[1;31mTypeError\u001b[0m: unhashable type: 'list'"
     ]
    },
    {
     "name": "stderr",
     "output_type": "stream",
     "text": [
      "Exception ignored in: 'pandas._libs.index.IndexEngine._call_map_locations'\n",
      "Traceback (most recent call last):\n",
      "  File \"pandas\\_libs\\hashtable_class_helper.pxi\", line 4588, in pandas._libs.hashtable.PyObjectHashTable.map_locations\n",
      "TypeError: unhashable type: 'list'\n"
     ]
    },
    {
     "data": {
      "text/plain": [
       "NaN                                                                                                  5420\n",
       "[\\n, \\n, \\nEuro 6\\n]                                                                                 1868\n",
       "\\n12 months\\n                                                                                        1177\n",
       "\\n                                                                                                    979\n",
       "\\n24 months\\n                                                                                         566\n",
       "                                                                                                     ... \n",
       "[\\n23 months\\n, \\n119 g CO2/km (comb)\\n]                                                                1\n",
       "[\\n60 months\\n, \\n, 5.2 l/100 km (comb), \\n, 6.8 l/100 km (city), \\n, 4.3 l/100 km (country), \\n]       1\n",
       "[\\n72 months\\n, \\n142 g CO2/km (comb)\\n]                                                                1\n",
       "[\\n24 months\\n, \\n189 g CO2/km (comb)\\n]                                                                1\n",
       "[\\n20 months\\n, \\n4 (Green)\\n]                                                                          1\n",
       "Name: Warranty, Length: 516, dtype: int64"
      ]
     },
     "execution_count": 70,
     "metadata": {},
     "output_type": "execute_result"
    }
   ],
   "source": [
    "df.Warranty.value_counts(dropna=False)"
   ]
  },
  {
   "cell_type": "code",
   "execution_count": 71,
   "metadata": {},
   "outputs": [],
   "source": [
    "df[\"Warranty\"] = df.Warranty.apply(lambda x : x[0] if type(x)==list else x)\n",
    "df[\"Warranty\"] = df.Warranty.str.strip(\"\\n\").str.extract('(\\d{1,2})')[0].astype(\"float\")"
   ]
  },
  {
   "cell_type": "code",
   "execution_count": 72,
   "metadata": {},
   "outputs": [
    {
     "data": {
      "text/plain": [
       "NaN       11066\n",
       "12.000     2594\n",
       "24.000     1118\n",
       "60.000      401\n",
       "36.000      279\n",
       "48.000      149\n",
       "6.000       125\n",
       "72.000       59\n",
       "3.000        33\n",
       "23.000       11\n",
       "18.000       10\n",
       "20.000        7\n",
       "25.000        6\n",
       "2.000         5\n",
       "50.000        4\n",
       "26.000        4\n",
       "16.000        4\n",
       "19.000        3\n",
       "1.000         3\n",
       "4.000         3\n",
       "13.000        3\n",
       "34.000        3\n",
       "45.000        2\n",
       "14.000        2\n",
       "17.000        2\n",
       "11.000        2\n",
       "46.000        2\n",
       "28.000        2\n",
       "21.000        2\n",
       "22.000        2\n",
       "9.000         2\n",
       "30.000        1\n",
       "33.000        1\n",
       "56.000        1\n",
       "40.000        1\n",
       "7.000         1\n",
       "15.000        1\n",
       "8.000         1\n",
       "10.000        1\n",
       "49.000        1\n",
       "47.000        1\n",
       "65.000        1\n",
       "Name: Warranty, dtype: int64"
      ]
     },
     "execution_count": 72,
     "metadata": {},
     "output_type": "execute_result"
    }
   ],
   "source": [
    "df.Warranty.value_counts(dropna=False)"
   ]
  },
  {
   "cell_type": "markdown",
   "metadata": {},
   "source": [
    "## Full Service"
   ]
  },
  {
   "cell_type": "code",
   "execution_count": 73,
   "metadata": {},
   "outputs": [
    {
     "ename": "TypeError",
     "evalue": "unhashable type: 'list'",
     "output_type": "error",
     "traceback": [
      "\u001b[1;31m---------------------------------------------------------------------------\u001b[0m",
      "\u001b[1;31mTypeError\u001b[0m                                 Traceback (most recent call last)",
      "\u001b[1;32mpandas\\_libs\\hashtable_class_helper.pxi\u001b[0m in \u001b[0;36mpandas._libs.hashtable.PyObjectHashTable.map_locations\u001b[1;34m()\u001b[0m\n",
      "\u001b[1;31mTypeError\u001b[0m: unhashable type: 'list'"
     ]
    },
    {
     "name": "stderr",
     "output_type": "stream",
     "text": [
      "Exception ignored in: 'pandas._libs.index.IndexEngine._call_map_locations'\n",
      "Traceback (most recent call last):\n",
      "  File \"pandas\\_libs\\hashtable_class_helper.pxi\", line 4588, in pandas._libs.hashtable.PyObjectHashTable.map_locations\n",
      "TypeError: unhashable type: 'list'\n"
     ]
    },
    {
     "data": {
      "text/plain": [
       "NaN                                                                                           7704\n",
       "[\\n, \\n, \\n4 (Green)\\n]                                                                       2235\n",
       "[\\n, \\n, \\nEuro 6\\n]                                                                          2097\n",
       "[\\n, \\n]                                                                                      1702\n",
       "[\\n, \\n, \\nEuro 6d-TEMP\\n]                                                                     399\n",
       "                                                                                              ... \n",
       "[\\n, \\n, \\n, 5.4 l/100 km (comb), \\n, 7 l/100 km (city), \\n, 4.5 l/100 km (country), \\n]         1\n",
       "[\\n, \\n, \\n, 4.7 l/100 km (comb), \\n, 5.4 l/100 km (city), \\n, 4.2 l/100 km (country), \\n]       1\n",
       "[\\n, \\n, \\n164 g CO2/km (comb)\\n]                                                                1\n",
       "[\\n, \\n, \\n, 5.4 l/100 km (comb), \\n, 7.3 l/100 km (city), \\n, 4.2 l/100 km (country), \\n]       1\n",
       "[\\n, \\n, \\n, 6 l/100 km (comb), \\n, 7.5 l/100 km (city), \\n, 5.2 l/100 km (country), \\n]         1\n",
       "Name: Full Service, Length: 123, dtype: int64"
      ]
     },
     "execution_count": 73,
     "metadata": {},
     "output_type": "execute_result"
    }
   ],
   "source": [
    "df['Full Service'].value_counts(dropna=False)"
   ]
  },
  {
   "cell_type": "code",
   "execution_count": 74,
   "metadata": {},
   "outputs": [],
   "source": [
    "df.drop(\"Full Service\", axis=1, inplace=True)"
   ]
  },
  {
   "cell_type": "markdown",
   "metadata": {},
   "source": [
    "## Non-smoking Vehicle"
   ]
  },
  {
   "cell_type": "code",
   "execution_count": 75,
   "metadata": {},
   "outputs": [
    {
     "ename": "TypeError",
     "evalue": "unhashable type: 'list'",
     "output_type": "error",
     "traceback": [
      "\u001b[1;31m---------------------------------------------------------------------------\u001b[0m",
      "\u001b[1;31mTypeError\u001b[0m                                 Traceback (most recent call last)",
      "\u001b[1;32mpandas\\_libs\\hashtable_class_helper.pxi\u001b[0m in \u001b[0;36mpandas._libs.hashtable.PyObjectHashTable.map_locations\u001b[1;34m()\u001b[0m\n",
      "\u001b[1;31mTypeError\u001b[0m: unhashable type: 'list'"
     ]
    },
    {
     "name": "stderr",
     "output_type": "stream",
     "text": [
      "Exception ignored in: 'pandas._libs.index.IndexEngine._call_map_locations'\n",
      "Traceback (most recent call last):\n",
      "  File \"pandas\\_libs\\hashtable_class_helper.pxi\", line 4588, in pandas._libs.hashtable.PyObjectHashTable.map_locations\n",
      "TypeError: unhashable type: 'list'\n"
     ]
    },
    {
     "data": {
      "text/plain": [
       "NaN                                                                                           8742\n",
       "[\\n, \\n]                                                                                      3647\n",
       "[\\n, \\n, \\n4 (Green)\\n]                                                                       1240\n",
       "[\\n, \\n, \\nEuro 6\\n]                                                                          1127\n",
       "[\\n, \\n, \\nEuro 6d-TEMP\\n]                                                                     345\n",
       "\\n                                                                                              70\n",
       "[\\n, \\n, \\n120 g CO2/km (comb)\\n]                                                               63\n",
       "[\\n, \\n, \\n85 g CO2/km (comb)\\n]                                                                46\n",
       "[\\n, \\n, \\n104 g CO2/km (comb)\\n]                                                               36\n",
       "[\\n, \\n, \\n107 g CO2/km (comb)\\n]                                                               36\n",
       "[\\n, \\n, \\n153 g CO2/km (comb)\\n]                                                               31\n",
       "[\\n, \\n, \\n124 g CO2/km (comb)\\n]                                                               29\n",
       "[\\n, \\n, \\n1 (No sticker)\\n]                                                                    24\n",
       "[\\n, \\n, \\n99 g CO2/km (comb)\\n]                                                                23\n",
       "[\\n, \\n, \\n106 g CO2/km (comb)\\n]                                                               20\n",
       "[\\n, \\n, \\n97 g CO2/km (comb)\\n]                                                                20\n",
       "[\\n, \\n, \\n108 g CO2/km (comb)\\n]                                                               19\n",
       "[\\n, \\n, \\n113 g CO2/km (comb)\\n]                                                               18\n",
       "[\\n, \\n, \\n100 g CO2/km (comb)\\n]                                                               18\n",
       "[\\n, \\n, \\n105 g CO2/km (comb)\\n]                                                               18\n",
       "[\\n, \\n, \\n109 g CO2/km (comb)\\n]                                                               18\n",
       "[\\n, \\n, \\nEuro 6c\\n]                                                                           17\n",
       "[\\n, \\n, \\n98 g CO2/km (comb)\\n]                                                                15\n",
       "[\\n, \\n, \\n129 g CO2/km (comb)\\n]                                                               14\n",
       "[\\n, \\n, \\n131 g CO2/km (comb)\\n]                                                               13\n",
       "[\\n, \\n, \\n114 g CO2/km (comb)\\n]                                                               12\n",
       "[\\n, \\n, \\n103 g CO2/km (comb)\\n]                                                               12\n",
       "[\\n, \\n, \\n133 g CO2/km (comb)\\n]                                                               12\n",
       "[\\n, \\n, \\n135 g CO2/km (comb)\\n]                                                               11\n",
       "[\\n, \\n, \\n116 g CO2/km (comb)\\n]                                                               11\n",
       "[\\n, \\n, \\n102 g CO2/km (comb)\\n]                                                               11\n",
       "[\\n, \\n, \\n143 g CO2/km (comb)\\n]                                                               10\n",
       "[\\n, \\n, \\n127 g CO2/km (comb)\\n]                                                               10\n",
       "[\\n, \\n, \\nEuro 6d\\n]                                                                            9\n",
       "[\\n, \\n, \\n92 g CO2/km (comb)\\n]                                                                 9\n",
       "[\\n, \\n, \\n112 g CO2/km (comb)\\n]                                                                9\n",
       "[\\n, \\n, \\n118 g CO2/km (comb)\\n]                                                                8\n",
       "[\\n, \\n, \\n5 (Blue)\\n]                                                                           8\n",
       "[\\n, \\n, \\n147 g CO2/km (comb)\\n]                                                                7\n",
       "[\\n, \\n, \\n139 g CO2/km (comb)\\n]                                                                7\n",
       "[\\n, \\n, \\n128 g CO2/km (comb)\\n]                                                                7\n",
       "[\\n, \\n, \\n140 g CO2/km (comb)\\n]                                                                6\n",
       "[\\n, \\n, \\n117 g CO2/km (comb)\\n]                                                                6\n",
       "[\\n, \\n, \\n137 g CO2/km (comb)\\n]                                                                6\n",
       "[\\n, \\n, \\n126 g CO2/km (comb)\\n]                                                                6\n",
       "[\\n, \\n, \\n130 g CO2/km (comb)\\n]                                                                5\n",
       "[\\n, \\n, \\n115 g CO2/km (comb)\\n]                                                                5\n",
       "[\\n, \\n, \\n, 5.2 l/100 km (comb), \\n, 5.8 l/100 km (city), \\n, 4.8 l/100 km (country), \\n]       4\n",
       "[\\n, \\n, \\n123 g CO2/km (comb)\\n]                                                                4\n",
       "[\\n, \\n, \\nEuro 5\\n]                                                                             4\n",
       "[\\n, \\n, \\n151 g CO2/km (comb)\\n]                                                                4\n",
       "[\\n, \\n, \\n148 g CO2/km (comb)\\n]                                                                3\n",
       "[\\n, \\n, \\n149 g CO2/km (comb)\\n]                                                                3\n",
       "[\\n, \\n, \\n119 g CO2/km (comb)\\n]                                                                3\n",
       "[\\n, \\n, \\n95 g CO2/km (comb)\\n]                                                                 3\n",
       "[\\n, \\n, \\n157 g CO2/km (comb)\\n]                                                                3\n",
       "[\\n, \\n, \\n136 g CO2/km (comb)\\n]                                                                3\n",
       "[\\n, \\n, \\n110 g CO2/km (comb)\\n]                                                                3\n",
       "[\\n, \\n, \\n125 g CO2/km (comb)\\n]                                                                2\n",
       "[\\n, \\n, \\n142 g CO2/km (comb)\\n]                                                                2\n",
       "[\\n, \\n, \\n, 5.2 l/100 km (comb), \\n, 6.4 l/100 km (city), \\n, 4.4 l/100 km (country), \\n]       2\n",
       "[\\n, \\n, \\n134 g CO2/km (comb)\\n]                                                                2\n",
       "[\\n, \\n, \\n121 g CO2/km (comb)\\n]                                                                2\n",
       "[\\n, \\n, \\n138 g CO2/km (comb)\\n]                                                                2\n",
       "[\\n, \\n, \\n90 g CO2/km (comb)\\n]                                                                 2\n",
       "[\\n, \\n, \\n111 g CO2/km (comb)\\n]                                                                2\n",
       "[\\n, \\n, \\n166 g CO2/km (comb)\\n]                                                                2\n",
       "[\\n, \\n, \\n, 5.6 l/100 km (comb), \\n, 7.3 l/100 km (city), \\n, 4.7 l/100 km (country), \\n]       1\n",
       "[\\n, \\n, \\n152 g CO2/km (comb)\\n]                                                                1\n",
       "[\\n, \\n, \\n146 g CO2/km (comb)\\n]                                                                1\n",
       "[\\n, \\n, \\n175 g CO2/km (comb)\\n]                                                                1\n",
       "[\\n, \\n, \\n, 6.1 l/100 km (comb), \\n, 7.7 l/100 km (city), \\n, 5.2 l/100 km (country), \\n]       1\n",
       "[\\n, \\n, \\n, 6.5 l/100 km (comb), \\n, 7.9 l/100 km (city), \\n, 5.6 l/100 km (country), \\n]       1\n",
       "[\\n, \\n, \\n, 1.6 l/100 km (comb), \\n, \\n, \\n]                                                    1\n",
       "[\\n, \\n, \\n, 6.1 l/100 km (comb), \\n, 7.8 l/100 km (city), \\n, 5.1 l/100 km (country), \\n]       1\n",
       "[\\n, \\n, \\n82 g CO2/km (comb)\\n]                                                                 1\n",
       "[\\n, \\n, \\n159 g CO2/km (comb)\\n]                                                                1\n",
       "[\\n, \\n, \\n, 5.7 l/100 km (comb), \\n, 7.3 l/100 km (city), \\n, 4.7 l/100 km (country), \\n]       1\n",
       "[\\n, \\n, \\n, 6.2 l/100 km (comb), \\n, 7.9 l/100 km (city), \\n, 5.3 l/100 km (country), \\n]       1\n",
       "[\\n, \\n, \\n150 g CO2/km (comb)\\n]                                                                1\n",
       "[\\n, \\n, \\n91 g CO2/km (comb)\\n]                                                                 1\n",
       "[\\n, \\n, \\n189 g CO2/km (comb)\\n]                                                                1\n",
       "[\\n, \\n, \\n154 g CO2/km (comb)\\n]                                                                1\n",
       "[\\n, \\n, \\n, 6.3 l/100 km (comb), \\n, 8 l/100 km (city), \\n, 5.3 l/100 km (country), \\n]         1\n",
       "[\\n, \\n, \\n122 g CO2/km (comb)\\n]                                                                1\n",
       "[\\n, \\n, \\n161 g CO2/km (comb)\\n]                                                                1\n",
       "[\\n, \\n, \\n, 6.5 l/100 km (comb), \\n, 8.5 l/100 km (city), \\n, 5.4 l/100 km (country), \\n]       1\n",
       "[\\n, \\n, \\n172 g CO2/km (comb)\\n]                                                                1\n",
       "[\\n, \\n, \\n132 g CO2/km (comb)\\n]                                                                1\n",
       "[\\n, \\n, \\n158 g CO2/km (comb)\\n]                                                                1\n",
       "[\\n, \\n, \\n101 g CO2/km (comb)\\n]                                                                1\n",
       "[\\n, \\n, \\n169 g CO2/km (comb)\\n]                                                                1\n",
       "[\\n, \\n, \\n156 g CO2/km (comb)\\n]                                                                1\n",
       "[\\n, \\n, \\n, 6.4 l/100 km (comb), \\n, 8.1 l/100 km (city), \\n, 5.4 l/100 km (country), \\n]       1\n",
       "[\\n, \\n, \\n144 g CO2/km (comb)\\n]                                                                1\n",
       "Name: Non-smoking Vehicle, dtype: int64"
      ]
     },
     "execution_count": 75,
     "metadata": {},
     "output_type": "execute_result"
    }
   ],
   "source": [
    "df['Non-smoking Vehicle'].value_counts(dropna=False)"
   ]
  },
  {
   "cell_type": "code",
   "execution_count": 76,
   "metadata": {},
   "outputs": [],
   "source": [
    "df.drop(\"Non-smoking Vehicle\", axis=1, inplace=True)"
   ]
  },
  {
   "cell_type": "markdown",
   "metadata": {},
   "source": [
    "## Offer Number"
   ]
  },
  {
   "cell_type": "code",
   "execution_count": 77,
   "metadata": {},
   "outputs": [
    {
     "ename": "TypeError",
     "evalue": "unhashable type: 'list'",
     "output_type": "error",
     "traceback": [
      "\u001b[1;31m---------------------------------------------------------------------------\u001b[0m",
      "\u001b[1;31mTypeError\u001b[0m                                 Traceback (most recent call last)",
      "\u001b[1;32mpandas\\_libs\\hashtable_class_helper.pxi\u001b[0m in \u001b[0;36mpandas._libs.hashtable.PyObjectHashTable.map_locations\u001b[1;34m()\u001b[0m\n",
      "\u001b[1;31mTypeError\u001b[0m: unhashable type: 'list'"
     ]
    },
    {
     "name": "stderr",
     "output_type": "stream",
     "text": [
      "Exception ignored in: 'pandas._libs.index.IndexEngine._call_map_locations'\n",
      "Traceback (most recent call last):\n",
      "  File \"pandas\\_libs\\hashtable_class_helper.pxi\", line 4588, in pandas._libs.hashtable.PyObjectHashTable.map_locations\n",
      "TypeError: unhashable type: 'list'\n"
     ]
    },
    {
     "data": {
      "text/plain": [
       "NaN                3175\n",
       "[\\nXT61649\\n]        27\n",
       "[\\nHM53619\\n]        27\n",
       "[\\nTP62881\\n]        27\n",
       "[\\nJV03654\\n]        27\n",
       "                   ... \n",
       "[\\n9277941\\n]         1\n",
       "[\\n19155-1\\n]         1\n",
       "[\\n3124254\\n]         1\n",
       "[\\nJ1109546\\n]        1\n",
       "[\\n040394-MO\\n]       1\n",
       "Name: Offer Number, Length: 11441, dtype: int64"
      ]
     },
     "execution_count": 77,
     "metadata": {},
     "output_type": "execute_result"
    }
   ],
   "source": [
    "df['Offer Number'].value_counts(dropna=False)"
   ]
  },
  {
   "cell_type": "code",
   "execution_count": 78,
   "metadata": {},
   "outputs": [],
   "source": [
    "df.drop(\"Offer Number\", axis=1, inplace=True)"
   ]
  },
  {
   "cell_type": "markdown",
   "metadata": {},
   "source": [
    "## Body Color"
   ]
  },
  {
   "cell_type": "code",
   "execution_count": 79,
   "metadata": {},
   "outputs": [
    {
     "ename": "TypeError",
     "evalue": "unhashable type: 'list'",
     "output_type": "error",
     "traceback": [
      "\u001b[1;31m---------------------------------------------------------------------------\u001b[0m",
      "\u001b[1;31mTypeError\u001b[0m                                 Traceback (most recent call last)",
      "\u001b[1;32mpandas\\_libs\\hashtable_class_helper.pxi\u001b[0m in \u001b[0;36mpandas._libs.hashtable.PyObjectHashTable.map_locations\u001b[1;34m()\u001b[0m\n",
      "\u001b[1;31mTypeError\u001b[0m: unhashable type: 'list'"
     ]
    },
    {
     "name": "stderr",
     "output_type": "stream",
     "text": [
      "Exception ignored in: 'pandas._libs.index.IndexEngine._call_map_locations'\n",
      "Traceback (most recent call last):\n",
      "  File \"pandas\\_libs\\hashtable_class_helper.pxi\", line 4588, in pandas._libs.hashtable.PyObjectHashTable.map_locations\n",
      "TypeError: unhashable type: 'list'\n"
     ]
    },
    {
     "data": {
      "text/plain": [
       "[\\n, Black, \\n]     3745\n",
       "[\\n, Grey, \\n]      3505\n",
       "[\\n, White, \\n]     3406\n",
       "[\\n, Silver, \\n]    1647\n",
       "[\\n, Blue, \\n]      1431\n",
       "[\\n, Red, \\n]        957\n",
       "NaN                  597\n",
       "[\\n, Brown, \\n]      289\n",
       "[\\n, Green, \\n]      154\n",
       "[\\n, Beige, \\n]      108\n",
       "[\\n, Yellow, \\n]      51\n",
       "[\\n, Violet, \\n]      18\n",
       "[\\n, Bronze, \\n]       6\n",
       "[\\n, Orange, \\n]       3\n",
       "[\\n, Gold, \\n]         2\n",
       "Name: Body Color, dtype: int64"
      ]
     },
     "execution_count": 79,
     "metadata": {},
     "output_type": "execute_result"
    }
   ],
   "source": [
    "df['Body Color'].value_counts(dropna=False)"
   ]
  },
  {
   "cell_type": "code",
   "execution_count": 80,
   "metadata": {},
   "outputs": [],
   "source": [
    "df['Body_Color'] = df['Body Color'].str[1]"
   ]
  },
  {
   "cell_type": "code",
   "execution_count": 81,
   "metadata": {},
   "outputs": [
    {
     "data": {
      "text/plain": [
       "Black     3745\n",
       "Grey      3505\n",
       "White     3406\n",
       "Silver    1647\n",
       "Blue      1431\n",
       "Red        957\n",
       "NaN        597\n",
       "Brown      289\n",
       "Green      154\n",
       "Beige      108\n",
       "Yellow      51\n",
       "Violet      18\n",
       "Bronze       6\n",
       "Orange       3\n",
       "Gold         2\n",
       "Name: Body_Color, dtype: int64"
      ]
     },
     "execution_count": 81,
     "metadata": {},
     "output_type": "execute_result"
    }
   ],
   "source": [
    "df['Body_Color'].value_counts(dropna=False)"
   ]
  },
  {
   "cell_type": "code",
   "execution_count": 82,
   "metadata": {},
   "outputs": [],
   "source": [
    "df.drop(\"Body Color\", axis=1, inplace=True)"
   ]
  },
  {
   "cell_type": "markdown",
   "metadata": {},
   "source": [
    "## Body Color Original"
   ]
  },
  {
   "cell_type": "code",
   "execution_count": 83,
   "metadata": {},
   "outputs": [
    {
     "ename": "TypeError",
     "evalue": "unhashable type: 'list'",
     "output_type": "error",
     "traceback": [
      "\u001b[1;31m---------------------------------------------------------------------------\u001b[0m",
      "\u001b[1;31mTypeError\u001b[0m                                 Traceback (most recent call last)",
      "\u001b[1;32mpandas\\_libs\\hashtable_class_helper.pxi\u001b[0m in \u001b[0;36mpandas._libs.hashtable.PyObjectHashTable.map_locations\u001b[1;34m()\u001b[0m\n",
      "\u001b[1;31mTypeError\u001b[0m: unhashable type: 'list'"
     ]
    },
    {
     "name": "stderr",
     "output_type": "stream",
     "text": [
      "Exception ignored in: 'pandas._libs.index.IndexEngine._call_map_locations'\n",
      "Traceback (most recent call last):\n",
      "  File \"pandas\\_libs\\hashtable_class_helper.pxi\", line 4588, in pandas._libs.hashtable.PyObjectHashTable.map_locations\n",
      "TypeError: unhashable type: 'list'\n"
     ]
    },
    {
     "data": {
      "text/plain": [
       "NaN                                     3759\n",
       "[\\nOnyx Schwarz\\n]                       338\n",
       "[\\nBianco\\n]                             282\n",
       "[\\nMythosschwarz Metallic\\n]             238\n",
       "[\\nBrillantschwarz\\n]                    216\n",
       "                                        ... \n",
       "[\\nBlu cosmo metallizzato\\n]               1\n",
       "[\\nBlac Ivoire D16\\n]                      1\n",
       "[\\nkarbonschwarz met\\n]                    1\n",
       "[\\nBelugabraun Metallic (bruin me\\n]       1\n",
       "[\\nSATIN STEEL\\n]                          1\n",
       "Name: Body Color Original, Length: 1928, dtype: int64"
      ]
     },
     "execution_count": 83,
     "metadata": {},
     "output_type": "execute_result"
    }
   ],
   "source": [
    "df['Body Color Original'].value_counts(dropna=False)"
   ]
  },
  {
   "cell_type": "code",
   "execution_count": 84,
   "metadata": {},
   "outputs": [],
   "source": [
    "df.drop(\"Body Color Original\", axis=1, inplace=True)"
   ]
  },
  {
   "cell_type": "markdown",
   "metadata": {},
   "source": [
    "## Paint Type"
   ]
  },
  {
   "cell_type": "code",
   "execution_count": 85,
   "metadata": {},
   "outputs": [
    {
     "ename": "TypeError",
     "evalue": "unhashable type: 'list'",
     "output_type": "error",
     "traceback": [
      "\u001b[1;31m---------------------------------------------------------------------------\u001b[0m",
      "\u001b[1;31mTypeError\u001b[0m                                 Traceback (most recent call last)",
      "\u001b[1;32mpandas\\_libs\\hashtable_class_helper.pxi\u001b[0m in \u001b[0;36mpandas._libs.hashtable.PyObjectHashTable.map_locations\u001b[1;34m()\u001b[0m\n",
      "\u001b[1;31mTypeError\u001b[0m: unhashable type: 'list'"
     ]
    },
    {
     "name": "stderr",
     "output_type": "stream",
     "text": [
      "Exception ignored in: 'pandas._libs.index.IndexEngine._call_map_locations'\n",
      "Traceback (most recent call last):\n",
      "  File \"pandas\\_libs\\hashtable_class_helper.pxi\", line 4588, in pandas._libs.hashtable.PyObjectHashTable.map_locations\n",
      "TypeError: unhashable type: 'list'\n"
     ]
    },
    {
     "data": {
      "text/plain": [
       "[\\nMetallic\\n]       9794\n",
       "NaN                  5772\n",
       "[\\nUni/basic\\n]       347\n",
       "[\\nPerl effect\\n]       6\n",
       "Name: Paint Type, dtype: int64"
      ]
     },
     "execution_count": 85,
     "metadata": {},
     "output_type": "execute_result"
    }
   ],
   "source": [
    "df['Paint Type'].value_counts(dropna=False)"
   ]
  },
  {
   "cell_type": "code",
   "execution_count": 86,
   "metadata": {},
   "outputs": [],
   "source": [
    "df['Paint_Type'] = df['Paint Type'].str[0].str.strip('\\n')"
   ]
  },
  {
   "cell_type": "code",
   "execution_count": 87,
   "metadata": {},
   "outputs": [
    {
     "data": {
      "text/plain": [
       "Metallic       9794\n",
       "NaN            5772\n",
       "Uni/basic       347\n",
       "Perl effect       6\n",
       "Name: Paint_Type, dtype: int64"
      ]
     },
     "execution_count": 87,
     "metadata": {},
     "output_type": "execute_result"
    }
   ],
   "source": [
    "df['Paint_Type'].value_counts(dropna=False)"
   ]
  },
  {
   "cell_type": "code",
   "execution_count": 88,
   "metadata": {},
   "outputs": [],
   "source": [
    "df.drop(\"Paint Type\", axis=1, inplace=True)"
   ]
  },
  {
   "cell_type": "markdown",
   "metadata": {},
   "source": [
    "## Upholstery"
   ]
  },
  {
   "cell_type": "code",
   "execution_count": 89,
   "metadata": {},
   "outputs": [
    {
     "ename": "TypeError",
     "evalue": "unhashable type: 'list'",
     "output_type": "error",
     "traceback": [
      "\u001b[1;31m---------------------------------------------------------------------------\u001b[0m",
      "\u001b[1;31mTypeError\u001b[0m                                 Traceback (most recent call last)",
      "\u001b[1;32mpandas\\_libs\\hashtable_class_helper.pxi\u001b[0m in \u001b[0;36mpandas._libs.hashtable.PyObjectHashTable.map_locations\u001b[1;34m()\u001b[0m\n",
      "\u001b[1;31mTypeError\u001b[0m: unhashable type: 'list'"
     ]
    },
    {
     "name": "stderr",
     "output_type": "stream",
     "text": [
      "Exception ignored in: 'pandas._libs.index.IndexEngine._call_map_locations'\n",
      "Traceback (most recent call last):\n",
      "  File \"pandas\\_libs\\hashtable_class_helper.pxi\", line 4588, in pandas._libs.hashtable.PyObjectHashTable.map_locations\n",
      "TypeError: unhashable type: 'list'\n"
     ]
    },
    {
     "data": {
      "text/plain": [
       "[\\nCloth, Black\\n]           5821\n",
       "NaN                          3720\n",
       "[\\nPart leather, Black\\n]    1121\n",
       "[\\nCloth\\n]                  1005\n",
       "[\\nCloth, Grey\\n]             891\n",
       "[\\nCloth, Other\\n]            639\n",
       "[\\nFull leather, Black\\n]     575\n",
       "[\\nBlack\\n]                   491\n",
       "[\\nGrey\\n]                    273\n",
       "[\\nOther, Other\\n]            182\n",
       "[\\nPart leather\\n]            140\n",
       "[\\nFull leather\\n]            139\n",
       "[\\nFull leather, Brown\\n]     116\n",
       "[\\nPart leather, Grey\\n]      116\n",
       "[\\nOther, Black\\n]            110\n",
       "[\\nFull leather, Other\\n]      72\n",
       "[\\nFull leather, Grey\\n]       67\n",
       "[\\nPart leather, Other\\n]      65\n",
       "[\\nOther\\n]                    56\n",
       "[\\nPart leather, Brown\\n]      50\n",
       "[\\nalcantara, Black\\n]         47\n",
       "[\\nFull leather, Beige\\n]      36\n",
       "[\\nVelour, Black\\n]            36\n",
       "[\\nCloth, Brown\\n]             28\n",
       "[\\nVelour\\n]                   16\n",
       "[\\nOther, Grey\\n]              15\n",
       "[\\nCloth, Beige\\n]             13\n",
       "[\\nCloth, Blue\\n]              12\n",
       "[\\nBrown\\n]                    12\n",
       "[\\nCloth, White\\n]              8\n",
       "[\\nVelour, Grey\\n]              8\n",
       "[\\nalcantara, Grey\\n]           6\n",
       "[\\nCloth, Red\\n]                5\n",
       "[\\nOther, Yellow\\n]             4\n",
       "[\\nPart leather, Red\\n]         3\n",
       "[\\nBeige\\n]                     3\n",
       "[\\nalcantara\\n]                 2\n",
       "[\\nFull leather, Blue\\n]        2\n",
       "[\\nBlue\\n]                      2\n",
       "[\\nPart leather, Beige\\n]       2\n",
       "[\\nalcantara, Other\\n]          2\n",
       "[\\nPart leather, White\\n]       2\n",
       "[\\nWhite\\n]                     2\n",
       "[\\nFull leather, Red\\n]         1\n",
       "[\\nOther, Brown\\n]              1\n",
       "[\\nFull leather, White\\n]       1\n",
       "[\\nCloth, Orange\\n]             1\n",
       "Name: Upholstery, dtype: int64"
      ]
     },
     "execution_count": 89,
     "metadata": {},
     "output_type": "execute_result"
    }
   ],
   "source": [
    "df['Upholstery'].value_counts(dropna=False)"
   ]
  },
  {
   "cell_type": "code",
   "execution_count": 90,
   "metadata": {},
   "outputs": [],
   "source": [
    "df[\"Upholstery\"] = [item[0] if type(item) == list else item for item in df.Upholstery]"
   ]
  },
  {
   "cell_type": "code",
   "execution_count": 91,
   "metadata": {},
   "outputs": [],
   "source": [
    "df[\"Upholstery\"] = df.Upholstery.str.strip(\"\\n\").str.split(\", \")"
   ]
  },
  {
   "cell_type": "code",
   "execution_count": 92,
   "metadata": {},
   "outputs": [
    {
     "ename": "TypeError",
     "evalue": "unhashable type: 'list'",
     "output_type": "error",
     "traceback": [
      "\u001b[1;31m---------------------------------------------------------------------------\u001b[0m",
      "\u001b[1;31mTypeError\u001b[0m                                 Traceback (most recent call last)",
      "\u001b[1;32mpandas\\_libs\\hashtable_class_helper.pxi\u001b[0m in \u001b[0;36mpandas._libs.hashtable.PyObjectHashTable.map_locations\u001b[1;34m()\u001b[0m\n",
      "\u001b[1;31mTypeError\u001b[0m: unhashable type: 'list'"
     ]
    },
    {
     "name": "stderr",
     "output_type": "stream",
     "text": [
      "Exception ignored in: 'pandas._libs.index.IndexEngine._call_map_locations'\n",
      "Traceback (most recent call last):\n",
      "  File \"pandas\\_libs\\hashtable_class_helper.pxi\", line 4588, in pandas._libs.hashtable.PyObjectHashTable.map_locations\n",
      "TypeError: unhashable type: 'list'\n"
     ]
    },
    {
     "data": {
      "text/plain": [
       "[Cloth, Black]           5821\n",
       "NaN                      3720\n",
       "[Part leather, Black]    1121\n",
       "[Cloth]                  1005\n",
       "[Cloth, Grey]             891\n",
       "[Cloth, Other]            639\n",
       "[Full leather, Black]     575\n",
       "[Black]                   491\n",
       "[Grey]                    273\n",
       "[Other, Other]            182\n",
       "[Part leather]            140\n",
       "[Full leather]            139\n",
       "[Full leather, Brown]     116\n",
       "[Part leather, Grey]      116\n",
       "[Other, Black]            110\n",
       "[Full leather, Other]      72\n",
       "[Full leather, Grey]       67\n",
       "[Part leather, Other]      65\n",
       "[Other]                    56\n",
       "[Part leather, Brown]      50\n",
       "[alcantara, Black]         47\n",
       "[Full leather, Beige]      36\n",
       "[Velour, Black]            36\n",
       "[Cloth, Brown]             28\n",
       "[Velour]                   16\n",
       "[Other, Grey]              15\n",
       "[Cloth, Beige]             13\n",
       "[Cloth, Blue]              12\n",
       "[Brown]                    12\n",
       "[Cloth, White]              8\n",
       "[Velour, Grey]              8\n",
       "[alcantara, Grey]           6\n",
       "[Cloth, Red]                5\n",
       "[Other, Yellow]             4\n",
       "[Part leather, Red]         3\n",
       "[Beige]                     3\n",
       "[alcantara]                 2\n",
       "[Full leather, Blue]        2\n",
       "[Blue]                      2\n",
       "[Part leather, Beige]       2\n",
       "[alcantara, Other]          2\n",
       "[Part leather, White]       2\n",
       "[White]                     2\n",
       "[Full leather, Red]         1\n",
       "[Other, Brown]              1\n",
       "[Full leather, White]       1\n",
       "[Cloth, Orange]             1\n",
       "Name: Upholstery, dtype: int64"
      ]
     },
     "execution_count": 92,
     "metadata": {},
     "output_type": "execute_result"
    }
   ],
   "source": [
    "df[\"Upholstery\"].value_counts(dropna=False)"
   ]
  },
  {
   "cell_type": "code",
   "execution_count": 93,
   "metadata": {},
   "outputs": [],
   "source": [
    "u_type = [\"Cloth\", 'Part leather', 'Full leather', 'Velour', 'alcantara']\n",
    "df[\"Upholstery_type\"] = df[\"Upholstery\"].apply(lambda x : x[0] if type(x) == list and x[0] in u_type else np.nan)"
   ]
  },
  {
   "cell_type": "code",
   "execution_count": 94,
   "metadata": {},
   "outputs": [
    {
     "data": {
      "text/plain": [
       "Cloth           8423\n",
       "NaN             4871\n",
       "Part leather    1499\n",
       "Full leather    1009\n",
       "Velour            60\n",
       "alcantara         57\n",
       "Name: Upholstery_type, dtype: int64"
      ]
     },
     "execution_count": 94,
     "metadata": {},
     "output_type": "execute_result"
    }
   ],
   "source": [
    "df[\"Upholstery_type\"].value_counts(dropna=False)"
   ]
  },
  {
   "cell_type": "code",
   "execution_count": 95,
   "metadata": {},
   "outputs": [],
   "source": [
    "color = ['Black', 'Grey', 'Brown', 'Beige', 'White', 'Blue', 'Red', 'Yellow', 'Orange']\n",
    "\n",
    "def finder(x):\n",
    "    if type(x) == list and len(x) == 2:\n",
    "        return x[1]\n",
    "    elif type(x) == list and x[0] in color:\n",
    "        return x[0]\n",
    "    else:\n",
    "        return np.nan\n",
    "    \n",
    "df['Upholstery_color'] = df.Upholstery.apply(finder)"
   ]
  },
  {
   "cell_type": "code",
   "execution_count": 96,
   "metadata": {},
   "outputs": [
    {
     "data": {
      "text/plain": [
       "Black     8201\n",
       "NaN       5078\n",
       "Grey      1376\n",
       "Other      960\n",
       "Brown      207\n",
       "Beige       54\n",
       "Blue        16\n",
       "White       13\n",
       "Red          9\n",
       "Yellow       4\n",
       "Orange       1\n",
       "Name: Upholstery_color, dtype: int64"
      ]
     },
     "execution_count": 96,
     "metadata": {},
     "output_type": "execute_result"
    }
   ],
   "source": [
    "df[\"Upholstery_color\"].value_counts(dropna=False)"
   ]
  },
  {
   "cell_type": "code",
   "execution_count": 97,
   "metadata": {},
   "outputs": [],
   "source": [
    "df.drop(\"Upholstery\", axis=1, inplace=True)"
   ]
  },
  {
   "cell_type": "markdown",
   "metadata": {},
   "source": [
    "## Nr. of Doors"
   ]
  },
  {
   "cell_type": "code",
   "execution_count": 98,
   "metadata": {},
   "outputs": [
    {
     "ename": "TypeError",
     "evalue": "unhashable type: 'list'",
     "output_type": "error",
     "traceback": [
      "\u001b[1;31m---------------------------------------------------------------------------\u001b[0m",
      "\u001b[1;31mTypeError\u001b[0m                                 Traceback (most recent call last)",
      "\u001b[1;32mpandas\\_libs\\hashtable_class_helper.pxi\u001b[0m in \u001b[0;36mpandas._libs.hashtable.PyObjectHashTable.map_locations\u001b[1;34m()\u001b[0m\n",
      "\u001b[1;31mTypeError\u001b[0m: unhashable type: 'list'"
     ]
    },
    {
     "name": "stderr",
     "output_type": "stream",
     "text": [
      "Exception ignored in: 'pandas._libs.index.IndexEngine._call_map_locations'\n",
      "Traceback (most recent call last):\n",
      "  File \"pandas\\_libs\\hashtable_class_helper.pxi\", line 4588, in pandas._libs.hashtable.PyObjectHashTable.map_locations\n",
      "TypeError: unhashable type: 'list'\n"
     ]
    },
    {
     "data": {
      "text/plain": [
       "[\\n5\\n]    11575\n",
       "[\\n4\\n]     3079\n",
       "[\\n3\\n]      832\n",
       "[\\n2\\n]      219\n",
       "NaN          212\n",
       "[\\n7\\n]        1\n",
       "[\\n1\\n]        1\n",
       "Name: Nr. of Doors, dtype: int64"
      ]
     },
     "execution_count": 98,
     "metadata": {},
     "output_type": "execute_result"
    }
   ],
   "source": [
    "df[\"Nr. of Doors\"].value_counts(dropna=False)"
   ]
  },
  {
   "cell_type": "code",
   "execution_count": 99,
   "metadata": {},
   "outputs": [],
   "source": [
    "df['Nr_of_Doors'] = df['Nr. of Doors'].str[0].str.strip('\\n').astype('float')"
   ]
  },
  {
   "cell_type": "code",
   "execution_count": 100,
   "metadata": {},
   "outputs": [
    {
     "data": {
      "text/plain": [
       "5.000    11575\n",
       "4.000     3079\n",
       "3.000      832\n",
       "2.000      219\n",
       "NaN        212\n",
       "7.000        1\n",
       "1.000        1\n",
       "Name: Nr_of_Doors, dtype: int64"
      ]
     },
     "execution_count": 100,
     "metadata": {},
     "output_type": "execute_result"
    }
   ],
   "source": [
    "df[\"Nr_of_Doors\"].value_counts(dropna=False)"
   ]
  },
  {
   "cell_type": "code",
   "execution_count": 101,
   "metadata": {},
   "outputs": [],
   "source": [
    "df.drop(\"Nr. of Doors\", axis=1, inplace=True)"
   ]
  },
  {
   "cell_type": "markdown",
   "metadata": {},
   "source": [
    "## Nr. of Seats"
   ]
  },
  {
   "cell_type": "code",
   "execution_count": 102,
   "metadata": {},
   "outputs": [
    {
     "ename": "TypeError",
     "evalue": "unhashable type: 'list'",
     "output_type": "error",
     "traceback": [
      "\u001b[1;31m---------------------------------------------------------------------------\u001b[0m",
      "\u001b[1;31mTypeError\u001b[0m                                 Traceback (most recent call last)",
      "\u001b[1;32mpandas\\_libs\\hashtable_class_helper.pxi\u001b[0m in \u001b[0;36mpandas._libs.hashtable.PyObjectHashTable.map_locations\u001b[1;34m()\u001b[0m\n",
      "\u001b[1;31mTypeError\u001b[0m: unhashable type: 'list'"
     ]
    },
    {
     "name": "stderr",
     "output_type": "stream",
     "text": [
      "Exception ignored in: 'pandas._libs.index.IndexEngine._call_map_locations'\n",
      "Traceback (most recent call last):\n",
      "  File \"pandas\\_libs\\hashtable_class_helper.pxi\", line 4588, in pandas._libs.hashtable.PyObjectHashTable.map_locations\n",
      "TypeError: unhashable type: 'list'\n"
     ]
    },
    {
     "data": {
      "text/plain": [
       "[\\n5\\n]    13336\n",
       "[\\n4\\n]     1125\n",
       "NaN          977\n",
       "[\\n7\\n]      362\n",
       "[\\n2\\n]      116\n",
       "[\\n6\\n]        2\n",
       "[\\n3\\n]        1\n",
       "Name: Nr. of Seats, dtype: int64"
      ]
     },
     "execution_count": 102,
     "metadata": {},
     "output_type": "execute_result"
    }
   ],
   "source": [
    "df[\"Nr. of Seats\"].value_counts(dropna=False)"
   ]
  },
  {
   "cell_type": "code",
   "execution_count": 103,
   "metadata": {},
   "outputs": [],
   "source": [
    "df['Nr_of_Seats'] = df['Nr. of Seats'].str[0].str.strip('\\n').astype('float')"
   ]
  },
  {
   "cell_type": "code",
   "execution_count": 104,
   "metadata": {},
   "outputs": [
    {
     "data": {
      "text/plain": [
       "5.000    13336\n",
       "4.000     1125\n",
       "NaN        977\n",
       "7.000      362\n",
       "2.000      116\n",
       "6.000        2\n",
       "3.000        1\n",
       "Name: Nr_of_Seats, dtype: int64"
      ]
     },
     "execution_count": 104,
     "metadata": {},
     "output_type": "execute_result"
    }
   ],
   "source": [
    "df[\"Nr_of_Seats\"].value_counts(dropna=False)"
   ]
  },
  {
   "cell_type": "code",
   "execution_count": 105,
   "metadata": {},
   "outputs": [],
   "source": [
    "df.drop(\"Nr. of Seats\", axis=1, inplace=True)"
   ]
  },
  {
   "cell_type": "markdown",
   "metadata": {},
   "source": [
    "## Model Code"
   ]
  },
  {
   "cell_type": "code",
   "execution_count": 106,
   "metadata": {},
   "outputs": [
    {
     "ename": "TypeError",
     "evalue": "unhashable type: 'list'",
     "output_type": "error",
     "traceback": [
      "\u001b[1;31m---------------------------------------------------------------------------\u001b[0m",
      "\u001b[1;31mTypeError\u001b[0m                                 Traceback (most recent call last)",
      "\u001b[1;32mpandas\\_libs\\hashtable_class_helper.pxi\u001b[0m in \u001b[0;36mpandas._libs.hashtable.PyObjectHashTable.map_locations\u001b[1;34m()\u001b[0m\n",
      "\u001b[1;31mTypeError\u001b[0m: unhashable type: 'list'"
     ]
    },
    {
     "name": "stderr",
     "output_type": "stream",
     "text": [
      "Exception ignored in: 'pandas._libs.index.IndexEngine._call_map_locations'\n",
      "Traceback (most recent call last):\n",
      "  File \"pandas\\_libs\\hashtable_class_helper.pxi\", line 4588, in pandas._libs.hashtable.PyObjectHashTable.map_locations\n",
      "TypeError: unhashable type: 'list'\n"
     ]
    },
    {
     "data": {
      "text/plain": [
       "NaN               10941\n",
       "[\\n0035/BCB\\n]      268\n",
       "[\\n0588/BNO\\n]      245\n",
       "[\\n0588/BDB\\n]      206\n",
       "[\\n0588/BHX\\n]      188\n",
       "                  ...  \n",
       "[\\n0035/BHX\\n]        1\n",
       "[\\n0588/AVR\\n]        1\n",
       "[\\n0035/ASN\\n]        1\n",
       "[\\n1844/AEG\\n]        1\n",
       "[\\n3333/BBL\\n]        1\n",
       "Name: Model Code, Length: 233, dtype: int64"
      ]
     },
     "execution_count": 106,
     "metadata": {},
     "output_type": "execute_result"
    }
   ],
   "source": [
    "df[\"Model Code\"].value_counts(dropna=False)"
   ]
  },
  {
   "cell_type": "code",
   "execution_count": 107,
   "metadata": {},
   "outputs": [],
   "source": [
    "df.drop(\"Model Code\", axis=1, inplace=True)"
   ]
  },
  {
   "cell_type": "markdown",
   "metadata": {},
   "source": [
    "## Gearing Type"
   ]
  },
  {
   "cell_type": "code",
   "execution_count": 108,
   "metadata": {},
   "outputs": [
    {
     "ename": "TypeError",
     "evalue": "unhashable type: 'list'",
     "output_type": "error",
     "traceback": [
      "\u001b[1;31m---------------------------------------------------------------------------\u001b[0m",
      "\u001b[1;31mTypeError\u001b[0m                                 Traceback (most recent call last)",
      "\u001b[1;32mpandas\\_libs\\hashtable_class_helper.pxi\u001b[0m in \u001b[0;36mpandas._libs.hashtable.PyObjectHashTable.map_locations\u001b[1;34m()\u001b[0m\n",
      "\u001b[1;31mTypeError\u001b[0m: unhashable type: 'list'"
     ]
    },
    {
     "name": "stderr",
     "output_type": "stream",
     "text": [
      "Exception ignored in: 'pandas._libs.index.IndexEngine._call_map_locations'\n",
      "Traceback (most recent call last):\n",
      "  File \"pandas\\_libs\\hashtable_class_helper.pxi\", line 4588, in pandas._libs.hashtable.PyObjectHashTable.map_locations\n",
      "TypeError: unhashable type: 'list'\n"
     ]
    },
    {
     "data": {
      "text/plain": [
       "[\\n, Manual, \\n]            8153\n",
       "[\\n, Automatic, \\n]         7297\n",
       "[\\n, Semi-automatic, \\n]     469\n",
       "Name: Gearing Type, dtype: int64"
      ]
     },
     "execution_count": 108,
     "metadata": {},
     "output_type": "execute_result"
    }
   ],
   "source": [
    "df[\"Gearing Type\"].value_counts(dropna=False)"
   ]
  },
  {
   "cell_type": "code",
   "execution_count": 109,
   "metadata": {},
   "outputs": [],
   "source": [
    "df['Gearing_Type'] = df['Gearing Type'].str[1]"
   ]
  },
  {
   "cell_type": "code",
   "execution_count": 110,
   "metadata": {},
   "outputs": [
    {
     "data": {
      "text/plain": [
       "Manual            8153\n",
       "Automatic         7297\n",
       "Semi-automatic     469\n",
       "Name: Gearing_Type, dtype: int64"
      ]
     },
     "execution_count": 110,
     "metadata": {},
     "output_type": "execute_result"
    }
   ],
   "source": [
    "df[\"Gearing_Type\"].value_counts(dropna=False)"
   ]
  },
  {
   "cell_type": "code",
   "execution_count": 111,
   "metadata": {},
   "outputs": [],
   "source": [
    "df.drop(\"Gearing Type\", axis=1, inplace=True)"
   ]
  },
  {
   "cell_type": "markdown",
   "metadata": {},
   "source": [
    "## Displacement"
   ]
  },
  {
   "cell_type": "code",
   "execution_count": 112,
   "metadata": {},
   "outputs": [
    {
     "ename": "TypeError",
     "evalue": "unhashable type: 'list'",
     "output_type": "error",
     "traceback": [
      "\u001b[1;31m---------------------------------------------------------------------------\u001b[0m",
      "\u001b[1;31mTypeError\u001b[0m                                 Traceback (most recent call last)",
      "\u001b[1;32mpandas\\_libs\\hashtable_class_helper.pxi\u001b[0m in \u001b[0;36mpandas._libs.hashtable.PyObjectHashTable.map_locations\u001b[1;34m()\u001b[0m\n",
      "\u001b[1;31mTypeError\u001b[0m: unhashable type: 'list'"
     ]
    },
    {
     "name": "stderr",
     "output_type": "stream",
     "text": [
      "Exception ignored in: 'pandas._libs.index.IndexEngine._call_map_locations'\n",
      "Traceback (most recent call last):\n",
      "  File \"pandas\\_libs\\hashtable_class_helper.pxi\", line 4588, in pandas._libs.hashtable.PyObjectHashTable.map_locations\n",
      "TypeError: unhashable type: 'list'\n"
     ]
    },
    {
     "data": {
      "text/plain": [
       "[\\n1,598 cc\\n]     4761\n",
       "[\\n999 cc\\n]       2438\n",
       "[\\n1,398 cc\\n]     1314\n",
       "[\\n1,399 cc\\n]      749\n",
       "[\\n1,229 cc\\n]      677\n",
       "[\\n1,956 cc\\n]      670\n",
       "[\\n1,461 cc\\n]      595\n",
       "[\\n1,490 cc\\n]      559\n",
       "NaN                 496\n",
       "[\\n1,422 cc\\n]      467\n",
       "[\\n1,197 cc\\n]      353\n",
       "[\\n898 cc\\n]        351\n",
       "[\\n1,395 cc\\n]      320\n",
       "[\\n1,968 cc\\n]      301\n",
       "[\\n1,149 cc\\n]      288\n",
       "[\\n1,618 cc\\n]      212\n",
       "[\\n1,798 cc\\n]      210\n",
       "[\\n1,498 cc\\n]      196\n",
       "[\\n1,600 cc\\n]      130\n",
       "[\\n1,248 cc\\n]      110\n",
       "[\\n1,997 cc\\n]      103\n",
       "[\\n1,364 cc\\n]      102\n",
       "[\\n1,400 cc\\n]       90\n",
       "[\\n998 cc\\n]         72\n",
       "[\\n1,500 cc\\n]       50\n",
       "[\\n2,000 cc\\n]       46\n",
       "[\\n1,000 cc\\n]       40\n",
       "[\\n1 cc\\n]           36\n",
       "[\\n1,998 cc\\n]       25\n",
       "[\\n2,480 cc\\n]       20\n",
       "[\\n1,984 cc\\n]       18\n",
       "[\\n1,200 cc\\n]       18\n",
       "[\\n1,397 cc\\n]       11\n",
       "[\\n899 cc\\n]         11\n",
       "[\\n160 cc\\n]          6\n",
       "[\\n929 cc\\n]          5\n",
       "[\\n1,499 cc\\n]        5\n",
       "[\\n139 cc\\n]          4\n",
       "[\\n900 cc\\n]          4\n",
       "[\\n1,596 cc\\n]        4\n",
       "[\\n997 cc\\n]          4\n",
       "[\\n1,396 cc\\n]        3\n",
       "[\\n1,199 cc\\n]        3\n",
       "[\\n1,599 cc\\n]        3\n",
       "[\\n995 cc\\n]          2\n",
       "[\\n1,300 cc\\n]        2\n",
       "[\\n1,589 cc\\n]        2\n",
       "[\\n2 cc\\n]            2\n",
       "[\\n1,495 cc\\n]        2\n",
       "[\\n1,696 cc\\n]        1\n",
       "[\\n1,896 cc\\n]        1\n",
       "[\\n54 cc\\n]           1\n",
       "[\\n1,995 cc\\n]        1\n",
       "[\\n15,898 cc\\n]       1\n",
       "[\\n1,533 cc\\n]        1\n",
       "[\\n122 cc\\n]          1\n",
       "[\\n1,350 cc\\n]        1\n",
       "[\\n1,239 cc\\n]        1\n",
       "[\\n16,000 cc\\n]       1\n",
       "[\\n1,198 cc\\n]        1\n",
       "[\\n996 cc\\n]          1\n",
       "[\\n1,496 cc\\n]        1\n",
       "[\\n1,568 cc\\n]        1\n",
       "[\\n1,333 cc\\n]        1\n",
       "[\\n1,390 cc\\n]        1\n",
       "[\\n2,967 cc\\n]        1\n",
       "[\\n890 cc\\n]          1\n",
       "[\\n1,580 cc\\n]        1\n",
       "[\\n1,368 cc\\n]        1\n",
       "[\\n973 cc\\n]          1\n",
       "[\\n1,195 cc\\n]        1\n",
       "[\\n1,100 cc\\n]        1\n",
       "[\\n1,856 cc\\n]        1\n",
       "[\\n1,800 cc\\n]        1\n",
       "[\\n1,686 cc\\n]        1\n",
       "[\\n1,369 cc\\n]        1\n",
       "[\\n140 cc\\n]          1\n",
       "[\\n1,584 cc\\n]        1\n",
       "Name: Displacement, dtype: int64"
      ]
     },
     "execution_count": 112,
     "metadata": {},
     "output_type": "execute_result"
    }
   ],
   "source": [
    "df[\"Displacement\"].value_counts(dropna=False)"
   ]
  },
  {
   "cell_type": "code",
   "execution_count": 113,
   "metadata": {},
   "outputs": [],
   "source": [
    "df[\"Displacement\"] = df.Displacement.str[0].str.strip('\\n').str.replace(',','').str.extract('(\\d{1,5})')[0].astype(\"float\")"
   ]
  },
  {
   "cell_type": "code",
   "execution_count": 114,
   "metadata": {},
   "outputs": [],
   "source": [
    "df[\"Displacement_cc\"] = df[\"Displacement\"]"
   ]
  },
  {
   "cell_type": "code",
   "execution_count": 115,
   "metadata": {},
   "outputs": [
    {
     "data": {
      "text/plain": [
       "1598.000     4761\n",
       "999.000      2438\n",
       "1398.000     1314\n",
       "1399.000      749\n",
       "1229.000      677\n",
       "1956.000      670\n",
       "1461.000      595\n",
       "1490.000      559\n",
       "NaN           496\n",
       "1422.000      467\n",
       "1197.000      353\n",
       "898.000       351\n",
       "1395.000      320\n",
       "1968.000      301\n",
       "1149.000      288\n",
       "1618.000      212\n",
       "1798.000      210\n",
       "1498.000      196\n",
       "1600.000      130\n",
       "1248.000      110\n",
       "1997.000      103\n",
       "1364.000      102\n",
       "1400.000       90\n",
       "998.000        72\n",
       "1500.000       50\n",
       "2000.000       46\n",
       "1000.000       40\n",
       "1.000          36\n",
       "1998.000       25\n",
       "2480.000       20\n",
       "1984.000       18\n",
       "1200.000       18\n",
       "899.000        11\n",
       "1397.000       11\n",
       "160.000         6\n",
       "1499.000        5\n",
       "929.000         5\n",
       "139.000         4\n",
       "900.000         4\n",
       "1596.000        4\n",
       "997.000         4\n",
       "1199.000        3\n",
       "1599.000        3\n",
       "1396.000        3\n",
       "1495.000        2\n",
       "1300.000        2\n",
       "1589.000        2\n",
       "2.000           2\n",
       "995.000         2\n",
       "1568.000        1\n",
       "1584.000        1\n",
       "16000.000       1\n",
       "1369.000        1\n",
       "996.000         1\n",
       "1686.000        1\n",
       "1100.000        1\n",
       "1496.000        1\n",
       "1195.000        1\n",
       "1896.000        1\n",
       "1239.000        1\n",
       "890.000         1\n",
       "973.000         1\n",
       "1198.000        1\n",
       "1333.000        1\n",
       "15898.000       1\n",
       "1995.000        1\n",
       "2967.000        1\n",
       "1800.000        1\n",
       "1350.000        1\n",
       "1580.000        1\n",
       "1696.000        1\n",
       "122.000         1\n",
       "140.000         1\n",
       "1368.000        1\n",
       "1390.000        1\n",
       "54.000          1\n",
       "1856.000        1\n",
       "1533.000        1\n",
       "Name: Displacement_cc, dtype: int64"
      ]
     },
     "execution_count": 115,
     "metadata": {},
     "output_type": "execute_result"
    }
   ],
   "source": [
    "df[\"Displacement_cc\"].value_counts(dropna=False)"
   ]
  },
  {
   "cell_type": "code",
   "execution_count": 116,
   "metadata": {},
   "outputs": [],
   "source": [
    "df.drop(\"Displacement\", axis=1, inplace=True)"
   ]
  },
  {
   "cell_type": "markdown",
   "metadata": {},
   "source": [
    "## Cylinders"
   ]
  },
  {
   "cell_type": "code",
   "execution_count": 117,
   "metadata": {},
   "outputs": [
    {
     "ename": "TypeError",
     "evalue": "unhashable type: 'list'",
     "output_type": "error",
     "traceback": [
      "\u001b[1;31m---------------------------------------------------------------------------\u001b[0m",
      "\u001b[1;31mTypeError\u001b[0m                                 Traceback (most recent call last)",
      "\u001b[1;32mpandas\\_libs\\hashtable_class_helper.pxi\u001b[0m in \u001b[0;36mpandas._libs.hashtable.PyObjectHashTable.map_locations\u001b[1;34m()\u001b[0m\n",
      "\u001b[1;31mTypeError\u001b[0m: unhashable type: 'list'"
     ]
    },
    {
     "name": "stderr",
     "output_type": "stream",
     "text": [
      "Exception ignored in: 'pandas._libs.index.IndexEngine._call_map_locations'\n",
      "Traceback (most recent call last):\n",
      "  File \"pandas\\_libs\\hashtable_class_helper.pxi\", line 4588, in pandas._libs.hashtable.PyObjectHashTable.map_locations\n",
      "TypeError: unhashable type: 'list'\n"
     ]
    },
    {
     "data": {
      "text/plain": [
       "[\\n4\\n]    8105\n",
       "NaN        5680\n",
       "[\\n3\\n]    2104\n",
       "[\\n5\\n]      22\n",
       "[\\n6\\n]       3\n",
       "[\\n2\\n]       2\n",
       "[\\n8\\n]       2\n",
       "[\\n1\\n]       1\n",
       "Name: Cylinders, dtype: int64"
      ]
     },
     "execution_count": 117,
     "metadata": {},
     "output_type": "execute_result"
    }
   ],
   "source": [
    "df[\"Cylinders\"].value_counts(dropna=False)"
   ]
  },
  {
   "cell_type": "code",
   "execution_count": 118,
   "metadata": {},
   "outputs": [],
   "source": [
    "df[\"Cylinders\"] = df.Cylinders.str[0].str.strip('\\n').astype(\"float\")"
   ]
  },
  {
   "cell_type": "code",
   "execution_count": 119,
   "metadata": {},
   "outputs": [
    {
     "data": {
      "text/plain": [
       "4.000    8105\n",
       "NaN      5680\n",
       "3.000    2104\n",
       "5.000      22\n",
       "6.000       3\n",
       "8.000       2\n",
       "2.000       2\n",
       "1.000       1\n",
       "Name: Cylinders, dtype: int64"
      ]
     },
     "execution_count": 119,
     "metadata": {},
     "output_type": "execute_result"
    }
   ],
   "source": [
    "df[\"Cylinders\"].value_counts(dropna=False)"
   ]
  },
  {
   "cell_type": "markdown",
   "metadata": {},
   "source": [
    "## Weight"
   ]
  },
  {
   "cell_type": "code",
   "execution_count": 120,
   "metadata": {},
   "outputs": [
    {
     "ename": "TypeError",
     "evalue": "unhashable type: 'list'",
     "output_type": "error",
     "traceback": [
      "\u001b[1;31m---------------------------------------------------------------------------\u001b[0m",
      "\u001b[1;31mTypeError\u001b[0m                                 Traceback (most recent call last)",
      "\u001b[1;32mpandas\\_libs\\hashtable_class_helper.pxi\u001b[0m in \u001b[0;36mpandas._libs.hashtable.PyObjectHashTable.map_locations\u001b[1;34m()\u001b[0m\n",
      "\u001b[1;31mTypeError\u001b[0m: unhashable type: 'list'"
     ]
    },
    {
     "name": "stderr",
     "output_type": "stream",
     "text": [
      "Exception ignored in: 'pandas._libs.index.IndexEngine._call_map_locations'\n",
      "Traceback (most recent call last):\n",
      "  File \"pandas\\_libs\\hashtable_class_helper.pxi\", line 4588, in pandas._libs.hashtable.PyObjectHashTable.map_locations\n",
      "TypeError: unhashable type: 'list'\n"
     ]
    },
    {
     "data": {
      "text/plain": [
       "NaN               6974\n",
       "[\\n1,163 kg\\n]     574\n",
       "[\\n1,360 kg\\n]     356\n",
       "[\\n1,165 kg\\n]     301\n",
       "[\\n1,335 kg\\n]     242\n",
       "                  ... \n",
       "[\\n1,761 kg\\n]       1\n",
       "[\\n1,331 kg\\n]       1\n",
       "[\\n1,974 kg\\n]       1\n",
       "[\\n1,711 kg\\n]       1\n",
       "[\\n1,686 kg\\n]       1\n",
       "Name: Weight, Length: 435, dtype: int64"
      ]
     },
     "execution_count": 120,
     "metadata": {},
     "output_type": "execute_result"
    }
   ],
   "source": [
    "df[\"Weight\"].value_counts(dropna=False)"
   ]
  },
  {
   "cell_type": "code",
   "execution_count": 121,
   "metadata": {},
   "outputs": [],
   "source": [
    "df[\"Weight_kg\"] = df.Weight.str[0].str.strip('\\n').str.replace(',','').str.extract('(\\d{1,6})')[0].astype('float')"
   ]
  },
  {
   "cell_type": "code",
   "execution_count": 122,
   "metadata": {},
   "outputs": [
    {
     "data": {
      "text/plain": [
       "NaN         6974\n",
       "1163.000     574\n",
       "1360.000     356\n",
       "1165.000     301\n",
       "1335.000     242\n",
       "            ... \n",
       "1161.000       1\n",
       "1254.000       1\n",
       "1379.000       1\n",
       "1575.000       1\n",
       "1159.000       1\n",
       "Name: Weight_kg, Length: 435, dtype: int64"
      ]
     },
     "execution_count": 122,
     "metadata": {},
     "output_type": "execute_result"
    }
   ],
   "source": [
    "df[\"Weight_kg\"].value_counts(dropna=False)"
   ]
  },
  {
   "cell_type": "code",
   "execution_count": 123,
   "metadata": {},
   "outputs": [],
   "source": [
    "df.drop(\"Weight\", axis=1, inplace=True)"
   ]
  },
  {
   "cell_type": "markdown",
   "metadata": {},
   "source": [
    "## Drive chain"
   ]
  },
  {
   "cell_type": "code",
   "execution_count": 124,
   "metadata": {},
   "outputs": [
    {
     "ename": "TypeError",
     "evalue": "unhashable type: 'list'",
     "output_type": "error",
     "traceback": [
      "\u001b[1;31m---------------------------------------------------------------------------\u001b[0m",
      "\u001b[1;31mTypeError\u001b[0m                                 Traceback (most recent call last)",
      "\u001b[1;32mpandas\\_libs\\hashtable_class_helper.pxi\u001b[0m in \u001b[0;36mpandas._libs.hashtable.PyObjectHashTable.map_locations\u001b[1;34m()\u001b[0m\n",
      "\u001b[1;31mTypeError\u001b[0m: unhashable type: 'list'"
     ]
    },
    {
     "name": "stderr",
     "output_type": "stream",
     "text": [
      "Exception ignored in: 'pandas._libs.index.IndexEngine._call_map_locations'\n",
      "Traceback (most recent call last):\n",
      "  File \"pandas\\_libs\\hashtable_class_helper.pxi\", line 4588, in pandas._libs.hashtable.PyObjectHashTable.map_locations\n",
      "TypeError: unhashable type: 'list'\n"
     ]
    },
    {
     "data": {
      "text/plain": [
       "[\\nfront\\n]    8886\n",
       "NaN            6858\n",
       "[\\n4WD\\n]       171\n",
       "[\\nrear\\n]        4\n",
       "Name: Drive chain, dtype: int64"
      ]
     },
     "execution_count": 124,
     "metadata": {},
     "output_type": "execute_result"
    }
   ],
   "source": [
    "df[\"Drive chain\"].value_counts(dropna=False)"
   ]
  },
  {
   "cell_type": "code",
   "execution_count": 125,
   "metadata": {},
   "outputs": [],
   "source": [
    "df['Drive_chain'] = df['Drive chain'].str[0].str.strip('\\n')"
   ]
  },
  {
   "cell_type": "code",
   "execution_count": 126,
   "metadata": {},
   "outputs": [
    {
     "data": {
      "text/plain": [
       "front    8886\n",
       "NaN      6858\n",
       "4WD       171\n",
       "rear        4\n",
       "Name: Drive_chain, dtype: int64"
      ]
     },
     "execution_count": 126,
     "metadata": {},
     "output_type": "execute_result"
    }
   ],
   "source": [
    "df[\"Drive_chain\"].value_counts(dropna=False)"
   ]
  },
  {
   "cell_type": "code",
   "execution_count": 127,
   "metadata": {},
   "outputs": [],
   "source": [
    "df.drop(\"Drive chain\", axis=1, inplace=True)"
   ]
  },
  {
   "cell_type": "markdown",
   "metadata": {},
   "source": [
    "## Fuel"
   ]
  },
  {
   "cell_type": "code",
   "execution_count": 128,
   "metadata": {},
   "outputs": [
    {
     "ename": "TypeError",
     "evalue": "unhashable type: 'list'",
     "output_type": "error",
     "traceback": [
      "\u001b[1;31m---------------------------------------------------------------------------\u001b[0m",
      "\u001b[1;31mTypeError\u001b[0m                                 Traceback (most recent call last)",
      "\u001b[1;32mpandas\\_libs\\hashtable_class_helper.pxi\u001b[0m in \u001b[0;36mpandas._libs.hashtable.PyObjectHashTable.map_locations\u001b[1;34m()\u001b[0m\n",
      "\u001b[1;31mTypeError\u001b[0m: unhashable type: 'list'"
     ]
    },
    {
     "name": "stderr",
     "output_type": "stream",
     "text": [
      "Exception ignored in: 'pandas._libs.index.IndexEngine._call_map_locations'\n",
      "Traceback (most recent call last):\n",
      "  File \"pandas\\_libs\\hashtable_class_helper.pxi\", line 4588, in pandas._libs.hashtable.PyObjectHashTable.map_locations\n",
      "TypeError: unhashable type: 'list'\n"
     ]
    },
    {
     "data": {
      "text/plain": [
       "[\\n, Diesel (Particulate Filter), \\n]                                                                                                       4315\n",
       "[\\n, Super 95, \\n]                                                                                                                          3338\n",
       "[\\n, Gasoline, \\n]                                                                                                                          3175\n",
       "[\\n, Diesel, \\n]                                                                                                                            2984\n",
       "[\\n, Super 95 / Regular/Benzine 91, \\n]                                                                                                      424\n",
       "[\\n, Regular/Benzine 91, \\n]                                                                                                                 354\n",
       "[\\n, Super E10 95, \\n]                                                                                                                       331\n",
       "[\\n, Super 95 (Particulate Filter), \\n]                                                                                                      268\n",
       "[\\n, Super 95 / Super E10 95, \\n]                                                                                                            131\n",
       "[\\n, Regular/Benzine 91 (Particulate Filter), \\n]                                                                                            100\n",
       "[\\n, Super 95 / Super Plus 98, \\n]                                                                                                            85\n",
       "[\\n, Gasoline (Particulate Filter), \\n]                                                                                                       77\n",
       "[\\n, Super 95 / Super Plus 98 / Super E10 95 / Super Plus E10 98, \\n]                                                                         40\n",
       "[\\n, Super E10 95 / Super 95, \\n]                                                                                                             38\n",
       "[\\n, CNG, \\n]                                                                                                                                 33\n",
       "[\\n, Super 95 / Super E10 95 (Particulate Filter), \\n]                                                                                        25\n",
       "[\\n, Super E10 95 / Super 95 / Super Plus 98 / Super Plus E10 98, \\n]                                                                         19\n",
       "[\\n, LPG, \\n]                                                                                                                                 16\n",
       "[\\n, Super 95 / Super Plus 98 (Particulate Filter), \\n]                                                                                       14\n",
       "[\\n, Regular/Benzine 91 / Super 95 / Super Plus 98 / Regular/Benzine E10 91 / Super E10 95 / Super Plus E10 98, \\n]                           13\n",
       "[\\n, Regular/Benzine E10 91, \\n]                                                                                                              11\n",
       "[\\n, Liquid petroleum gas (LPG), \\n]                                                                                                          10\n",
       "[\\n, Super 95 / Super Plus 98 / Super E10 95, \\n]                                                                                              8\n",
       "[\\n, Super E10 95 (Particulate Filter), \\n]                                                                                                    7\n",
       "[\\n, Super 95 / Regular/Benzine 91 / Super Plus 98 / Regular/Benzine E10 91 / Super E10 95 / Super Plus E10 98, \\n]                            7\n",
       "[\\n, Regular/Benzine 91 / Regular/Benzine E10 91, \\n]                                                                                          7\n",
       "[\\n, Super Plus 98, \\n]                                                                                                                        7\n",
       "[\\n, Super 95 / Super Plus 98 / Super Plus E10 98 / Super E10 95, \\n]                                                                          5\n",
       "[\\n, Others, \\n]                                                                                                                               5\n",
       "[\\n, Super 95 / Super Plus 98 / Super E10 95 / Super Plus E10 98 (Particulate Filter), \\n]                                                     4\n",
       "[\\n, Super 95 / Super E10 95 / Super Plus E10 98 / Super Plus 98, \\n]                                                                          4\n",
       "[\\n, Regular/Benzine 91 / Super 95 / Super Plus 98 / Regular/Benzine E10 91 / Super Plus E10 98 / Super E10 95, \\n]                            4\n",
       "[\\n, Electric/Gasoline, \\n]                                                                                                                    4\n",
       "[\\n, Super E10 95 / Super Plus E10 98, \\n]                                                                                                     4\n",
       "[\\n, CNG (Particulate Filter), \\n]                                                                                                             3\n",
       "[\\n, Super E10 95 / Super 95 / Super Plus 98, \\n]                                                                                              3\n",
       "[\\n, Super E10 95 / Super 95 / Super Plus 98 / Super Plus E10 98 (Particulate Filter), \\n]                                                     3\n",
       "[\\n, Regular/Benzine 91 / Super 95 / Super Plus 98 / Super Plus E10 98 / Super E10 95 / Regular/Benzine E10 91, \\n]                            2\n",
       "[\\n, Super E10 95 / Regular/Benzine 91, \\n]                                                                                                    2\n",
       "[\\n, Super 95 / Regular/Benzine 91 / Super Plus 98, \\n]                                                                                        2\n",
       "[\\n, Super Plus E10 98 / Super 95 / Super Plus 98 / Super E10 95, \\n]                                                                          1\n",
       "[\\n, Regular/Benzine 91 / Super 95, \\n]                                                                                                        1\n",
       "[\\n, Regular/Benzine 91 / Super 95 / Super E10 95 / Super Plus E10 98 / Super Plus 98 / Regular/Benzine E10 91, \\n]                            1\n",
       "[\\n, Super 95 / Super Plus 98 / Super Plus E10 98, \\n]                                                                                         1\n",
       "[\\n, Super 95 / Regular/Benzine 91 / Super E10 95 / Super Plus E10 98 / Super Plus 98, \\n]                                                     1\n",
       "[\\n, Super 95 / Super Plus 98 / Regular/Benzine E10 91 / Super Plus E10 98 / Super E10 95 / Regular/Benzine 91, \\n]                            1\n",
       "[\\n, Super 95 / Regular/Benzine 91 / Super E10 95 / Super Plus E10 98 / Super Plus 98 / Regular/Benzine E10 91, \\n]                            1\n",
       "[\\n, Super 95 / Regular/Benzine E10 91 / Super E10 95, \\n]                                                                                     1\n",
       "[\\n, Regular/Benzine 91 / Super 95 / Super Plus E10 98 / Super E10 95 / Regular/Benzine E10 91 / Super Plus 98, \\n]                            1\n",
       "[\\n, Regular/Benzine E10 91 / Regular/Benzine 91 / Super 95 / Super Plus 98 / Super E10 95 / Super Plus E10 98, \\n]                            1\n",
       "[\\n, Super 95 / Super E10 95 / Regular/Benzine 91, \\n]                                                                                         1\n",
       "[\\n, Super 95 / Regular/Benzine 91 / Super E10 95 / Super Plus 98 / Super Plus E10 98 / Regular/Benzine E10 91, \\n]                            1\n",
       "[\\n, Domestic gas H, \\n]                                                                                                                       1\n",
       "[\\n, Regular/Benzine 91 / Super 95 / Regular/Benzine E10 91 / Super E10 95 / Super Plus 98 / Super Plus E10 98, \\n]                            1\n",
       "[\\n, Super Plus 98 / Super 95 / Super E10 95, \\n]                                                                                              1\n",
       "[\\n, Others (Particulate Filter), \\n]                                                                                                          1\n",
       "[\\n, Super Plus E10 98, \\n]                                                                                                                    1\n",
       "[\\n, Super 95 / Super E10 95 / Super Plus E10 98, \\n]                                                                                          1\n",
       "[\\n, Super 95 / Biodiesel, \\n]                                                                                                                 1\n",
       "[\\n, Electric, \\n]                                                                                                                             1\n",
       "[\\n, Regular/Benzine 91 / Super 95 / Super Plus 98 / Super Plus E10 98 / Super E10 95 / Regular/Benzine E10 91 (Particulate Filter), \\n]       1\n",
       "[\\n, Regular/Benzine 91 / Super 95 / Regular/Benzine E10 91, \\n]                                                                               1\n",
       "[\\n, Regular/Benzine E10 91 / Super E10 95 / Super Plus E10 98 / Super Plus 98 / Super 95 / Regular/Benzine 91, \\n]                            1\n",
       "[\\n, Super 95 / Regular/Benzine 91 (Particulate Filter), \\n]                                                                                   1\n",
       "[\\n, Super E10 95 / Regular/Benzine 91 / Regular/Benzine E10 91 / Super 95, \\n]                                                                1\n",
       "[\\n, Super 95 / Regular/Benzine E10 91, \\n]                                                                                                    1\n",
       "[\\n, Super Plus 98 / Regular/Benzine 91, \\n]                                                                                                   1\n",
       "[\\n, Regular/Benzine 91 / Super 95 / Super E10 95, \\n]                                                                                         1\n",
       "[\\n, Super Plus 98 / Super 95 / Super Plus E10 98, \\n]                                                                                         1\n",
       "[\\n, Biogas, \\n]                                                                                                                               1\n",
       "[\\n, Super Plus 98 / Super E10 95, \\n]                                                                                                         1\n",
       "[\\n, Super E10 95 / Regular/Benzine 91 / Super 95 / Super Plus 98 / Regular/Benzine E10 91 / Super Plus E10 98, \\n]                            1\n",
       "[\\n, Super 95 / Regular/Benzine 91 / Super Plus 98 / Regular/Benzine E10 91 / Super Plus E10 98 / Super E10 95, \\n]                            1\n",
       "[\\n, Regular/Benzine 91 / Super Plus 98 / Regular/Benzine E10 91 / Super 95 / Super E10 95 / Super Plus E10 98, \\n]                            1\n",
       "[\\n, Regular/Benzine 91 / Super 95 / Super E10 95 / Regular/Benzine E10 91, \\n]                                                                1\n",
       "[\\n, Regular/Benzine 91 / Super 95 / Super Plus 98, \\n]                                                                                        1\n",
       "[\\n, Super 95 / Super E10 95 / Super Plus 98, \\n]                                                                                              1\n",
       "Name: Fuel, dtype: int64"
      ]
     },
     "execution_count": 128,
     "metadata": {},
     "output_type": "execute_result"
    }
   ],
   "source": [
    "df[\"Fuel\"].value_counts(dropna=False)"
   ]
  },
  {
   "cell_type": "code",
   "execution_count": 129,
   "metadata": {},
   "outputs": [],
   "source": [
    "df[\"Fuel\"] = df.Fuel.str[1].str.split(\"/\").str[0].str.strip()"
   ]
  },
  {
   "cell_type": "code",
   "execution_count": 130,
   "metadata": {},
   "outputs": [
    {
     "data": {
      "text/plain": [
       "Diesel (Particulate Filter)          4315\n",
       "Super 95                             4100\n",
       "Gasoline                             3175\n",
       "Diesel                               2984\n",
       "Regular                               503\n",
       "Super E10 95                          402\n",
       "Super 95 (Particulate Filter)         268\n",
       "Gasoline (Particulate Filter)          77\n",
       "CNG                                    33\n",
       "LPG                                    16\n",
       "Super Plus 98                          11\n",
       "Liquid petroleum gas (LPG)             10\n",
       "Super E10 95 (Particulate Filter)       7\n",
       "Others                                  5\n",
       "Electric                                5\n",
       "CNG (Particulate Filter)                3\n",
       "Super Plus E10 98                       2\n",
       "Domestic gas H                          1\n",
       "Others (Particulate Filter)             1\n",
       "Biogas                                  1\n",
       "Name: Fuel, dtype: int64"
      ]
     },
     "execution_count": 130,
     "metadata": {},
     "output_type": "execute_result"
    }
   ],
   "source": [
    "df[\"Fuel\"].value_counts(dropna=False)"
   ]
  },
  {
   "cell_type": "code",
   "execution_count": 131,
   "metadata": {},
   "outputs": [],
   "source": [
    "df[\"Fuel\"] = df.Fuel.str.split(\"(\").str[0].str.strip()"
   ]
  },
  {
   "cell_type": "code",
   "execution_count": 132,
   "metadata": {},
   "outputs": [
    {
     "data": {
      "text/plain": [
       "Diesel                  7299\n",
       "Super 95                4368\n",
       "Gasoline                3252\n",
       "Regular                  503\n",
       "Super E10 95             409\n",
       "CNG                       36\n",
       "LPG                       16\n",
       "Super Plus 98             11\n",
       "Liquid petroleum gas      10\n",
       "Others                     6\n",
       "Electric                   5\n",
       "Super Plus E10 98          2\n",
       "Domestic gas H             1\n",
       "Biogas                     1\n",
       "Name: Fuel, dtype: int64"
      ]
     },
     "execution_count": 132,
     "metadata": {},
     "output_type": "execute_result"
    }
   ],
   "source": [
    "df[\"Fuel\"].value_counts(dropna=False)"
   ]
  },
  {
   "cell_type": "code",
   "execution_count": 133,
   "metadata": {},
   "outputs": [],
   "source": [
    "benzine = [\"Gasoline\", \"Super 95\",\"Regular\",\"Super E10 95\",\"Super Plus 98\",\"Super Plus E10 98\", \"Others\"]\n",
    "lpg = [\"LPG\",\"Liquid petroleum gas\", \"CNG\", \"Biogas\", \"Domestic gas H\"]\n",
    "def fueltype(x):\n",
    "    if x in benzine:\n",
    "        return \"Benzine\"\n",
    "    elif x in lpg:\n",
    "        return \"LPG/CNG\"\n",
    "    else:\n",
    "        return x\n",
    "df[\"Fuel\"] = df.Fuel.apply(fueltype)"
   ]
  },
  {
   "cell_type": "code",
   "execution_count": 134,
   "metadata": {},
   "outputs": [
    {
     "data": {
      "text/plain": [
       "Benzine     8551\n",
       "Diesel      7299\n",
       "LPG/CNG       64\n",
       "Electric       5\n",
       "Name: Fuel, dtype: int64"
      ]
     },
     "execution_count": 134,
     "metadata": {},
     "output_type": "execute_result"
    }
   ],
   "source": [
    "df.Fuel.value_counts(dropna=False)"
   ]
  },
  {
   "cell_type": "code",
   "execution_count": 135,
   "metadata": {},
   "outputs": [],
   "source": [
    "#alternative method\n",
    "#df[\"fuel_new\"] = df.Fuel.str[1]\n",
    "#diesel_bool = df[\"fuel_new\"].str.contains(\"diesel\", case = False, regex = True)\n",
    "#lpg_bool = df[\"fuel_new\"].str.contains(\"lpg|cng|bio|domestic|electric\", case = False, regex = True)\n",
    "#df.loc[diesel_bool, \"fuel_new\"] = \"Diesel\"\n",
    "#df.loc[lpg_bool, \"fuel_new\"] = \"LPG/CNG\"\n",
    "#benz = list(df.fuel_new.loc[lambda x : x != \"Diesel\"][lambda x : x != \"LPG/CNG\"].index)\n",
    "#df.fuel_new.iloc[benz] = \"Benzine\""
   ]
  },
  {
   "cell_type": "markdown",
   "metadata": {},
   "source": [
    "## Consumption"
   ]
  },
  {
   "cell_type": "code",
   "execution_count": 136,
   "metadata": {},
   "outputs": [
    {
     "ename": "TypeError",
     "evalue": "unhashable type: 'list'",
     "output_type": "error",
     "traceback": [
      "\u001b[1;31m---------------------------------------------------------------------------\u001b[0m",
      "\u001b[1;31mTypeError\u001b[0m                                 Traceback (most recent call last)",
      "\u001b[1;32mpandas\\_libs\\hashtable_class_helper.pxi\u001b[0m in \u001b[0;36mpandas._libs.hashtable.PyObjectHashTable.map_locations\u001b[1;34m()\u001b[0m\n",
      "\u001b[1;31mTypeError\u001b[0m: unhashable type: 'list'"
     ]
    },
    {
     "name": "stderr",
     "output_type": "stream",
     "text": [
      "Exception ignored in: 'pandas._libs.index.IndexEngine._call_map_locations'\n",
      "Traceback (most recent call last):\n",
      "  File \"pandas\\_libs\\hashtable_class_helper.pxi\", line 4588, in pandas._libs.hashtable.PyObjectHashTable.map_locations\n",
      "TypeError: unhashable type: 'list'\n"
     ]
    },
    {
     "data": {
      "text/plain": [
       "NaN                                                                                   1906\n",
       "[[3.9 l/100 km (comb)], [4.1 l/100 km (city)], [3.7 l/100 km (country)]]               304\n",
       "[[4.2 l/100 km (comb)], [5 l/100 km (city)], [3.7 l/100 km (country)]]                 276\n",
       "[[5.4 l/100 km (comb)], [6.8 l/100 km (city)], [4.5 l/100 km (country)]]               257\n",
       "[[3.8 l/100 km (comb)], [4.3 l/100 km (city)], [3.5 l/100 km (country)]]               253\n",
       "                                                                                      ... \n",
       "[[3.1 l/100 km (comb)], [], [3.5 l/100 km (country)]]                                    1\n",
       "[[5.2 l/100 km (comb)], [6 l/100 km (city)], [4.8 l/100 km (country)]]                   1\n",
       "[[5.3 l/100 km (comb)], [6 l/100 km (city)], [5 l/100 km (country)]]                     1\n",
       "[\\n, 6.5 l/100 km (comb), \\n, 8.1 l/100 km (city), \\n, 5.5 l/100 km (country), \\n]       1\n",
       "[[50 l/100 km (comb)], [64 l/100 km (city)], [42 l/100 km (country)]]                    1\n",
       "Name: Consumption, Length: 882, dtype: int64"
      ]
     },
     "execution_count": 136,
     "metadata": {},
     "output_type": "execute_result"
    }
   ],
   "source": [
    "df[\"Consumption\"].value_counts(dropna=False)"
   ]
  },
  {
   "cell_type": "code",
   "execution_count": 137,
   "metadata": {},
   "outputs": [],
   "source": [
    "def parser1(x):\n",
    "    if type(x) == float:\n",
    "        return np.nan\n",
    "    elif type(x[0]) == list:\n",
    "        if x[0] != []:\n",
    "            return x[0][0]\n",
    "        else:\n",
    "            return np.nan\n",
    "    else:\n",
    "        return x[1]\n",
    "\n",
    "def parser2(x):\n",
    "    if type(x) == float:\n",
    "        return np.nan\n",
    "    elif type(x[0]) == list:\n",
    "        if x[1] != []:\n",
    "            return x[1][0]\n",
    "        else:\n",
    "            return np.nan\n",
    "    elif x[3].endswith(')'):\n",
    "        return x[3]\n",
    "    else:\n",
    "        return np.nan\n",
    "\n",
    "def parser3(x):\n",
    "    if type(x) == float:\n",
    "        return np.nan\n",
    "    elif type(x[0]) == list:\n",
    "        if x[2] != []:\n",
    "            return x[2][0]\n",
    "        else:\n",
    "            return np.nan\n",
    "    elif type(x[0]) != list and x[3].endswith(')'):\n",
    "        return x[5]\n",
    "    else:\n",
    "        return np.nan"
   ]
  },
  {
   "cell_type": "code",
   "execution_count": 138,
   "metadata": {},
   "outputs": [],
   "source": [
    "df['cons_comb'] = df.Consumption.apply(parser1).str.extract('(\\d{1,2}.\\d|\\d{1,3})')[0].astype(\"float\")\n",
    "df['cons_city'] = df.Consumption.apply(parser2).str.extract('(\\d{1,2}.\\d|\\d{1,3})')[0].astype(\"float\")\n",
    "df['cons_country'] = df.Consumption.apply(parser3).str.extract('(\\d{1,2}.\\d|\\d{1,3})')[0].astype(\"float\")"
   ]
  },
  {
   "cell_type": "code",
   "execution_count": 139,
   "metadata": {
    "scrolled": true
   },
   "outputs": [
    {
     "data": {
      "text/plain": [
       "NaN      2033\n",
       "5.400     770\n",
       "3.900     733\n",
       "4.000     713\n",
       "5.100     657\n",
       "Name: cons_comb, dtype: int64"
      ]
     },
     "execution_count": 139,
     "metadata": {},
     "output_type": "execute_result"
    }
   ],
   "source": [
    "df[\"cons_comb\"].value_counts(dropna=False).head()"
   ]
  },
  {
   "cell_type": "code",
   "execution_count": 140,
   "metadata": {},
   "outputs": [],
   "source": [
    "df.drop('Consumption', axis=1,inplace=True)"
   ]
  },
  {
   "cell_type": "markdown",
   "metadata": {},
   "source": [
    "## CO2 Emission"
   ]
  },
  {
   "cell_type": "code",
   "execution_count": 141,
   "metadata": {},
   "outputs": [
    {
     "ename": "TypeError",
     "evalue": "unhashable type: 'list'",
     "output_type": "error",
     "traceback": [
      "\u001b[1;31m---------------------------------------------------------------------------\u001b[0m",
      "\u001b[1;31mTypeError\u001b[0m                                 Traceback (most recent call last)",
      "\u001b[1;32mpandas\\_libs\\hashtable_class_helper.pxi\u001b[0m in \u001b[0;36mpandas._libs.hashtable.PyObjectHashTable.map_locations\u001b[1;34m()\u001b[0m\n",
      "\u001b[1;31mTypeError\u001b[0m: unhashable type: 'list'"
     ]
    },
    {
     "name": "stderr",
     "output_type": "stream",
     "text": [
      "Exception ignored in: 'pandas._libs.index.IndexEngine._call_map_locations'\n",
      "Traceback (most recent call last):\n",
      "  File \"pandas\\_libs\\hashtable_class_helper.pxi\", line 4588, in pandas._libs.hashtable.PyObjectHashTable.map_locations\n",
      "TypeError: unhashable type: 'list'\n"
     ]
    },
    {
     "data": {
      "text/plain": [
       "NaN                             1808\n",
       "[\\n120 g CO2/km (comb)\\n]        740\n",
       "[[], [], []]                     628\n",
       "[\\n99 g CO2/km (comb)\\n]         545\n",
       "[\\n97 g CO2/km (comb)\\n]         537\n",
       "                                ... \n",
       "[\\n990 g CO2/km (comb)\\n]          1\n",
       "[\\n51 g CO2/km (comb)\\n]           1\n",
       "[\\n14,457 g CO2/km (comb)\\n]       1\n",
       "[\\n193 g CO2/km (comb)\\n]          1\n",
       "[\\n253 g CO2/km (comb)\\n]          1\n",
       "Name: CO2 Emission, Length: 124, dtype: int64"
      ]
     },
     "execution_count": 141,
     "metadata": {},
     "output_type": "execute_result"
    }
   ],
   "source": [
    "df[\"CO2 Emission\"].value_counts(dropna=False)"
   ]
  },
  {
   "cell_type": "code",
   "execution_count": 142,
   "metadata": {},
   "outputs": [],
   "source": [
    "df[\"CO2_Emission\"] = [item[0] if type(item) == list else item for item in df[\"CO2 Emission\"]]\n",
    "df[\"CO2_Emission\"] = df[\"CO2_Emission\"].str.strip(\"\\n\").str.rstrip(\" g CO2/km (comb)\").str.replace(\",\", \".\").astype(\"float\")"
   ]
  },
  {
   "cell_type": "code",
   "execution_count": 143,
   "metadata": {},
   "outputs": [
    {
     "data": {
      "text/plain": [
       "NaN        2436\n",
       "120.000     740\n",
       "99.000      545\n",
       "97.000      537\n",
       "104.000     501\n",
       "           ... \n",
       "160.000       1\n",
       "193.000       1\n",
       "165.000       1\n",
       "239.000       1\n",
       "45.000        1\n",
       "Name: CO2_Emission, Length: 121, dtype: int64"
      ]
     },
     "execution_count": 143,
     "metadata": {},
     "output_type": "execute_result"
    }
   ],
   "source": [
    "df[\"CO2_Emission\"].value_counts(dropna=False)"
   ]
  },
  {
   "cell_type": "code",
   "execution_count": 144,
   "metadata": {},
   "outputs": [],
   "source": [
    "df.drop(\"CO2 Emission\", axis=1, inplace=True)"
   ]
  },
  {
   "cell_type": "markdown",
   "metadata": {},
   "source": [
    "## Emission Class"
   ]
  },
  {
   "cell_type": "code",
   "execution_count": 145,
   "metadata": {},
   "outputs": [
    {
     "ename": "TypeError",
     "evalue": "unhashable type: 'list'",
     "output_type": "error",
     "traceback": [
      "\u001b[1;31m---------------------------------------------------------------------------\u001b[0m",
      "\u001b[1;31mTypeError\u001b[0m                                 Traceback (most recent call last)",
      "\u001b[1;32mpandas\\_libs\\hashtable_class_helper.pxi\u001b[0m in \u001b[0;36mpandas._libs.hashtable.PyObjectHashTable.map_locations\u001b[1;34m()\u001b[0m\n",
      "\u001b[1;31mTypeError\u001b[0m: unhashable type: 'list'"
     ]
    },
    {
     "name": "stderr",
     "output_type": "stream",
     "text": [
      "Exception ignored in: 'pandas._libs.index.IndexEngine._call_map_locations'\n",
      "Traceback (most recent call last):\n",
      "  File \"pandas\\_libs\\hashtable_class_helper.pxi\", line 4588, in pandas._libs.hashtable.PyObjectHashTable.map_locations\n",
      "TypeError: unhashable type: 'list'\n"
     ]
    },
    {
     "data": {
      "text/plain": [
       "[\\nEuro 6\\n]          10139\n",
       "NaN                    3021\n",
       "[\\nEuro 6d-TEMP\\n]     1845\n",
       "[[], [], []]            607\n",
       "[\\nEuro 6c\\n]           127\n",
       "[\\nEuro 5\\n]             78\n",
       "[\\nEuro 6d\\n]            62\n",
       "[\\nEuro 4\\n]             40\n",
       "Name: Emission Class, dtype: int64"
      ]
     },
     "execution_count": 145,
     "metadata": {},
     "output_type": "execute_result"
    }
   ],
   "source": [
    "df[\"Emission Class\"].value_counts(dropna=False)"
   ]
  },
  {
   "cell_type": "code",
   "execution_count": 146,
   "metadata": {},
   "outputs": [],
   "source": [
    "df[\"Emission_Class\"] = [item[0] if type(item) == list else item for item in df[\"Emission Class\"]]\n",
    "df[\"Emission_Class\"] = df[\"Emission_Class\"].str.strip(\"\\n\")"
   ]
  },
  {
   "cell_type": "code",
   "execution_count": 147,
   "metadata": {},
   "outputs": [
    {
     "data": {
      "text/plain": [
       "Euro 6          10139\n",
       "NaN              3628\n",
       "Euro 6d-TEMP     1845\n",
       "Euro 6c           127\n",
       "Euro 5             78\n",
       "Euro 6d            62\n",
       "Euro 4             40\n",
       "Name: Emission_Class, dtype: int64"
      ]
     },
     "execution_count": 147,
     "metadata": {},
     "output_type": "execute_result"
    }
   ],
   "source": [
    "df[\"Emission_Class\"].value_counts(dropna=False)"
   ]
  },
  {
   "cell_type": "code",
   "execution_count": 148,
   "metadata": {},
   "outputs": [],
   "source": [
    "df.replace({\"Emission_Class\" : {\"Euro 6d-TEMP\":\"Euro 6\", \"Euro 6c\":\"Euro 6\", \"Euro 6d\":\"Euro 6\"}}, regex = True, inplace = True)"
   ]
  },
  {
   "cell_type": "code",
   "execution_count": 149,
   "metadata": {},
   "outputs": [
    {
     "data": {
      "text/plain": [
       "Euro 6    12173\n",
       "NaN        3628\n",
       "Euro 5       78\n",
       "Euro 4       40\n",
       "Name: Emission_Class, dtype: int64"
      ]
     },
     "execution_count": 149,
     "metadata": {},
     "output_type": "execute_result"
    }
   ],
   "source": [
    "df[\"Emission_Class\"].value_counts(dropna=False)"
   ]
  },
  {
   "cell_type": "code",
   "execution_count": 150,
   "metadata": {},
   "outputs": [],
   "source": [
    "df.drop(\"Emission Class\", axis=1, inplace=True)"
   ]
  },
  {
   "cell_type": "markdown",
   "metadata": {},
   "source": [
    "## Emission Label"
   ]
  },
  {
   "cell_type": "code",
   "execution_count": 151,
   "metadata": {},
   "outputs": [
    {
     "ename": "TypeError",
     "evalue": "unhashable type: 'list'",
     "output_type": "error",
     "traceback": [
      "\u001b[1;31m---------------------------------------------------------------------------\u001b[0m",
      "\u001b[1;31mTypeError\u001b[0m                                 Traceback (most recent call last)",
      "\u001b[1;32mpandas\\_libs\\hashtable_class_helper.pxi\u001b[0m in \u001b[0;36mpandas._libs.hashtable.PyObjectHashTable.map_locations\u001b[1;34m()\u001b[0m\n",
      "\u001b[1;31mTypeError\u001b[0m: unhashable type: 'list'"
     ]
    },
    {
     "name": "stderr",
     "output_type": "stream",
     "text": [
      "Exception ignored in: 'pandas._libs.index.IndexEngine._call_map_locations'\n",
      "Traceback (most recent call last):\n",
      "  File \"pandas\\_libs\\hashtable_class_helper.pxi\", line 4588, in pandas._libs.hashtable.PyObjectHashTable.map_locations\n",
      "TypeError: unhashable type: 'list'\n"
     ]
    },
    {
     "data": {
      "text/plain": [
       "NaN                     11934\n",
       "[\\n4 (Green)\\n]          3553\n",
       "[\\n1 (No sticker)\\n]      381\n",
       "[[], [], []]               40\n",
       "[\\n5 (Blue)\\n]              8\n",
       "[\\n3 (Yellow)\\n]            2\n",
       "[\\n2 (Red)\\n]               1\n",
       "Name: Emission Label, dtype: int64"
      ]
     },
     "execution_count": 151,
     "metadata": {},
     "output_type": "execute_result"
    }
   ],
   "source": [
    "df[\"Emission Label\"].value_counts(dropna=False)"
   ]
  },
  {
   "cell_type": "code",
   "execution_count": 152,
   "metadata": {},
   "outputs": [],
   "source": [
    "df.drop(\"Emission Label\", axis=1, inplace=True)"
   ]
  },
  {
   "cell_type": "markdown",
   "metadata": {},
   "source": [
    "## Gears"
   ]
  },
  {
   "cell_type": "code",
   "execution_count": 153,
   "metadata": {},
   "outputs": [
    {
     "ename": "TypeError",
     "evalue": "unhashable type: 'list'",
     "output_type": "error",
     "traceback": [
      "\u001b[1;31m---------------------------------------------------------------------------\u001b[0m",
      "\u001b[1;31mTypeError\u001b[0m                                 Traceback (most recent call last)",
      "\u001b[1;32mpandas\\_libs\\hashtable_class_helper.pxi\u001b[0m in \u001b[0;36mpandas._libs.hashtable.PyObjectHashTable.map_locations\u001b[1;34m()\u001b[0m\n",
      "\u001b[1;31mTypeError\u001b[0m: unhashable type: 'list'"
     ]
    },
    {
     "name": "stderr",
     "output_type": "stream",
     "text": [
      "Exception ignored in: 'pandas._libs.index.IndexEngine._call_map_locations'\n",
      "Traceback (most recent call last):\n",
      "  File \"pandas\\_libs\\hashtable_class_helper.pxi\", line 4588, in pandas._libs.hashtable.PyObjectHashTable.map_locations\n",
      "TypeError: unhashable type: 'list'\n"
     ]
    },
    {
     "data": {
      "text/plain": [
       "[\\n6\\n]     5822\n",
       "NaN         4712\n",
       "[\\n5\\n]     3239\n",
       "[\\n7\\n]     1908\n",
       "[\\n8\\n]      224\n",
       "[\\n9\\n]        6\n",
       "[\\n4\\n]        2\n",
       "[\\n3\\n]        2\n",
       "[\\n1\\n]        2\n",
       "[\\n50\\n]       1\n",
       "[\\n2\\n]        1\n",
       "Name: Gears, dtype: int64"
      ]
     },
     "execution_count": 153,
     "metadata": {},
     "output_type": "execute_result"
    }
   ],
   "source": [
    "df[\"Gears\"].value_counts(dropna=False)"
   ]
  },
  {
   "cell_type": "code",
   "execution_count": 154,
   "metadata": {},
   "outputs": [],
   "source": [
    "df[\"Gears\"] = df.Gears.str[0].str.strip('\\n')"
   ]
  },
  {
   "cell_type": "code",
   "execution_count": 155,
   "metadata": {},
   "outputs": [
    {
     "data": {
      "text/plain": [
       "6      5822\n",
       "NaN    4712\n",
       "5      3239\n",
       "7      1908\n",
       "8       224\n",
       "9         6\n",
       "3         2\n",
       "1         2\n",
       "4         2\n",
       "50        1\n",
       "2         1\n",
       "Name: Gears, dtype: int64"
      ]
     },
     "execution_count": 155,
     "metadata": {},
     "output_type": "execute_result"
    }
   ],
   "source": [
    "df[\"Gears\"].value_counts(dropna=False)"
   ]
  },
  {
   "cell_type": "markdown",
   "metadata": {},
   "source": [
    "## Country version"
   ]
  },
  {
   "cell_type": "code",
   "execution_count": 156,
   "metadata": {},
   "outputs": [
    {
     "ename": "TypeError",
     "evalue": "unhashable type: 'list'",
     "output_type": "error",
     "traceback": [
      "\u001b[1;31m---------------------------------------------------------------------------\u001b[0m",
      "\u001b[1;31mTypeError\u001b[0m                                 Traceback (most recent call last)",
      "\u001b[1;32mpandas\\_libs\\hashtable_class_helper.pxi\u001b[0m in \u001b[0;36mpandas._libs.hashtable.PyObjectHashTable.map_locations\u001b[1;34m()\u001b[0m\n",
      "\u001b[1;31mTypeError\u001b[0m: unhashable type: 'list'"
     ]
    },
    {
     "name": "stderr",
     "output_type": "stream",
     "text": [
      "Exception ignored in: 'pandas._libs.index.IndexEngine._call_map_locations'\n",
      "Traceback (most recent call last):\n",
      "  File \"pandas\\_libs\\hashtable_class_helper.pxi\", line 4588, in pandas._libs.hashtable.PyObjectHashTable.map_locations\n",
      "TypeError: unhashable type: 'list'\n"
     ]
    },
    {
     "data": {
      "text/plain": [
       "NaN                     8333\n",
       "[\\nGermany\\n]           4502\n",
       "[\\nItaly\\n]             1038\n",
       "[\\nEuropean Union\\n]     507\n",
       "[\\nNetherlands\\n]        464\n",
       "[\\nSpain\\n]              325\n",
       "[\\nBelgium\\n]            314\n",
       "[\\nAustria\\n]            208\n",
       "[\\nCzech Republic\\n]      52\n",
       "[\\nPoland\\n]              49\n",
       "[\\nFrance\\n]              38\n",
       "[\\nDenmark\\n]             33\n",
       "[\\nHungary\\n]             28\n",
       "[\\nJapan\\n]                8\n",
       "[\\nSlovakia\\n]             4\n",
       "[\\nCroatia\\n]              4\n",
       "[\\nSweden\\n]               3\n",
       "[\\nBulgaria\\n]             2\n",
       "[\\nRomania\\n]              2\n",
       "[\\nEgypt\\n]                1\n",
       "[\\nSerbia\\n]               1\n",
       "[\\nLuxembourg\\n]           1\n",
       "[\\nSwitzerland\\n]          1\n",
       "[\\nSlovenia\\n]             1\n",
       "Name: Country version, dtype: int64"
      ]
     },
     "execution_count": 156,
     "metadata": {},
     "output_type": "execute_result"
    }
   ],
   "source": [
    "df[\"Country version\"].value_counts(dropna=False)"
   ]
  },
  {
   "cell_type": "code",
   "execution_count": 157,
   "metadata": {},
   "outputs": [],
   "source": [
    "df.drop(\"Country version\", axis=1, inplace=True)"
   ]
  },
  {
   "cell_type": "markdown",
   "metadata": {},
   "source": [
    "## Comfort_Convenience"
   ]
  },
  {
   "cell_type": "code",
   "execution_count": 158,
   "metadata": {},
   "outputs": [
    {
     "ename": "TypeError",
     "evalue": "unhashable type: 'list'",
     "output_type": "error",
     "traceback": [
      "\u001b[1;31m---------------------------------------------------------------------------\u001b[0m",
      "\u001b[1;31mTypeError\u001b[0m                                 Traceback (most recent call last)",
      "\u001b[1;32mpandas\\_libs\\hashtable_class_helper.pxi\u001b[0m in \u001b[0;36mpandas._libs.hashtable.PyObjectHashTable.map_locations\u001b[1;34m()\u001b[0m\n",
      "\u001b[1;31mTypeError\u001b[0m: unhashable type: 'list'"
     ]
    },
    {
     "name": "stderr",
     "output_type": "stream",
     "text": [
      "Exception ignored in: 'pandas._libs.index.IndexEngine._call_map_locations'\n",
      "Traceback (most recent call last):\n",
      "  File \"pandas\\_libs\\hashtable_class_helper.pxi\", line 4588, in pandas._libs.hashtable.PyObjectHashTable.map_locations\n",
      "TypeError: unhashable type: 'list'\n"
     ]
    },
    {
     "data": {
      "text/plain": [
       "NaN                                                                                                                                                                                                                                                                                                                                                                     920\n",
       "[Air conditioning, Electrical side mirrors, Hill Holder, Power windows]                                                                                                                                                                                                                                                                                                 216\n",
       "[Air conditioning, Electrical side mirrors, Power windows]                                                                                                                                                                                                                                                                                                              134\n",
       "[Air conditioning, Power windows]                                                                                                                                                                                                                                                                                                                                       130\n",
       "[Air conditioning, Armrest, Automatic climate control, Cruise control, Electrical side mirrors, Leather steering wheel, Light sensor, Lumbar support, Multi-function steering wheel, Navigation system, Park Distance Control, Parking assist system sensors front, Parking assist system sensors rear, Power windows, Rain sensor, Seat heating, Start-stop system]    105\n",
       "Name: Comfort_Convenience, dtype: int64"
      ]
     },
     "execution_count": 158,
     "metadata": {},
     "output_type": "execute_result"
    }
   ],
   "source": [
    "df[\"Comfort_Convenience\"].value_counts(dropna=False).head()"
   ]
  },
  {
   "cell_type": "code",
   "execution_count": 159,
   "metadata": {},
   "outputs": [],
   "source": [
    "df[\"Comfort_Convenience\"] = [\",\".join(item) if type(item) == list else item for item in df[\"Comfort_Convenience\"]]"
   ]
  },
  {
   "cell_type": "code",
   "execution_count": 160,
   "metadata": {},
   "outputs": [
    {
     "data": {
      "text/plain": [
       "NaN                                                                                                                                                                                                                                                                                                                                                   920\n",
       "Air conditioning,Electrical side mirrors,Hill Holder,Power windows                                                                                                                                                                                                                                                                                    216\n",
       "Air conditioning,Electrical side mirrors,Power windows                                                                                                                                                                                                                                                                                                134\n",
       "Air conditioning,Power windows                                                                                                                                                                                                                                                                                                                        130\n",
       "Air conditioning,Armrest,Automatic climate control,Cruise control,Electrical side mirrors,Leather steering wheel,Light sensor,Lumbar support,Multi-function steering wheel,Navigation system,Park Distance Control,Parking assist system sensors front,Parking assist system sensors rear,Power windows,Rain sensor,Seat heating,Start-stop system    105\n",
       "Name: Comfort_Convenience, dtype: int64"
      ]
     },
     "execution_count": 160,
     "metadata": {},
     "output_type": "execute_result"
    }
   ],
   "source": [
    "df[\"Comfort_Convenience\"].value_counts(dropna=False).head()"
   ]
  },
  {
   "cell_type": "markdown",
   "metadata": {},
   "source": [
    "## Entertainment_Media"
   ]
  },
  {
   "cell_type": "code",
   "execution_count": 161,
   "metadata": {},
   "outputs": [
    {
     "ename": "TypeError",
     "evalue": "unhashable type: 'list'",
     "output_type": "error",
     "traceback": [
      "\u001b[1;31m---------------------------------------------------------------------------\u001b[0m",
      "\u001b[1;31mTypeError\u001b[0m                                 Traceback (most recent call last)",
      "\u001b[1;32mpandas\\_libs\\hashtable_class_helper.pxi\u001b[0m in \u001b[0;36mpandas._libs.hashtable.PyObjectHashTable.map_locations\u001b[1;34m()\u001b[0m\n",
      "\u001b[1;31mTypeError\u001b[0m: unhashable type: 'list'"
     ]
    },
    {
     "name": "stderr",
     "output_type": "stream",
     "text": [
      "Exception ignored in: 'pandas._libs.index.IndexEngine._call_map_locations'\n",
      "Traceback (most recent call last):\n",
      "  File \"pandas\\_libs\\hashtable_class_helper.pxi\", line 4588, in pandas._libs.hashtable.PyObjectHashTable.map_locations\n",
      "TypeError: unhashable type: 'list'\n"
     ]
    },
    {
     "data": {
      "text/plain": [
       "NaN                                                                                 1374\n",
       "[Bluetooth, Hands-free equipment, On-board computer, Radio, USB]                    1282\n",
       "[Bluetooth, Hands-free equipment, MP3, On-board computer, Radio, USB]                982\n",
       "[Bluetooth, CD player, Hands-free equipment, MP3, On-board computer, Radio, USB]     783\n",
       "[On-board computer, Radio]                                                           487\n",
       "Name: Entertainment_Media, dtype: int64"
      ]
     },
     "execution_count": 161,
     "metadata": {},
     "output_type": "execute_result"
    }
   ],
   "source": [
    "df[\"Entertainment_Media\"].value_counts(dropna=False).head()"
   ]
  },
  {
   "cell_type": "code",
   "execution_count": 162,
   "metadata": {},
   "outputs": [],
   "source": [
    "df[\"Entertainment_Media\"] = [\",\".join(item) if type(item) == list else item for item in df[\"Entertainment_Media\"]]"
   ]
  },
  {
   "cell_type": "code",
   "execution_count": 163,
   "metadata": {},
   "outputs": [
    {
     "data": {
      "text/plain": [
       "NaN                                                                         1374\n",
       "Bluetooth,Hands-free equipment,On-board computer,Radio,USB                  1282\n",
       "Bluetooth,Hands-free equipment,MP3,On-board computer,Radio,USB               982\n",
       "Bluetooth,CD player,Hands-free equipment,MP3,On-board computer,Radio,USB     783\n",
       "On-board computer,Radio                                                      487\n",
       "Name: Entertainment_Media, dtype: int64"
      ]
     },
     "execution_count": 163,
     "metadata": {},
     "output_type": "execute_result"
    }
   ],
   "source": [
    "df[\"Entertainment_Media\"].value_counts(dropna=False).head()"
   ]
  },
  {
   "cell_type": "markdown",
   "metadata": {},
   "source": [
    "## Extras"
   ]
  },
  {
   "cell_type": "code",
   "execution_count": 164,
   "metadata": {},
   "outputs": [
    {
     "ename": "TypeError",
     "evalue": "unhashable type: 'list'",
     "output_type": "error",
     "traceback": [
      "\u001b[1;31m---------------------------------------------------------------------------\u001b[0m",
      "\u001b[1;31mTypeError\u001b[0m                                 Traceback (most recent call last)",
      "\u001b[1;32mpandas\\_libs\\hashtable_class_helper.pxi\u001b[0m in \u001b[0;36mpandas._libs.hashtable.PyObjectHashTable.map_locations\u001b[1;34m()\u001b[0m\n",
      "\u001b[1;31mTypeError\u001b[0m: unhashable type: 'list'"
     ]
    },
    {
     "name": "stderr",
     "output_type": "stream",
     "text": [
      "Exception ignored in: 'pandas._libs.index.IndexEngine._call_map_locations'\n",
      "Traceback (most recent call last):\n",
      "  File \"pandas\\_libs\\hashtable_class_helper.pxi\", line 4588, in pandas._libs.hashtable.PyObjectHashTable.map_locations\n",
      "TypeError: unhashable type: 'list'\n"
     ]
    },
    {
     "data": {
      "text/plain": [
       "[Alloy wheels]                                 3245\n",
       "NaN                                            2962\n",
       "[Alloy wheels, Touch screen]                    697\n",
       "[Alloy wheels, Voice Control]                   577\n",
       "[Alloy wheels, Touch screen, Voice Control]     541\n",
       "Name: Extras, dtype: int64"
      ]
     },
     "execution_count": 164,
     "metadata": {},
     "output_type": "execute_result"
    }
   ],
   "source": [
    "df[\"Extras\"].value_counts(dropna=False).head()"
   ]
  },
  {
   "cell_type": "code",
   "execution_count": 165,
   "metadata": {},
   "outputs": [],
   "source": [
    "df[\"Extras\"] = [\",\".join(item) if type(item) == list else item for item in df[\"Extras\"]]"
   ]
  },
  {
   "cell_type": "code",
   "execution_count": 166,
   "metadata": {},
   "outputs": [
    {
     "data": {
      "text/plain": [
       "Alloy wheels                               3245\n",
       "NaN                                        2962\n",
       "Alloy wheels,Touch screen                   697\n",
       "Alloy wheels,Voice Control                  577\n",
       "Alloy wheels,Touch screen,Voice Control     541\n",
       "Name: Extras, dtype: int64"
      ]
     },
     "execution_count": 166,
     "metadata": {},
     "output_type": "execute_result"
    }
   ],
   "source": [
    "df[\"Extras\"].value_counts(dropna=False).head()"
   ]
  },
  {
   "cell_type": "markdown",
   "metadata": {},
   "source": [
    "## Safety_Security"
   ]
  },
  {
   "cell_type": "code",
   "execution_count": 167,
   "metadata": {},
   "outputs": [
    {
     "ename": "TypeError",
     "evalue": "unhashable type: 'list'",
     "output_type": "error",
     "traceback": [
      "\u001b[1;31m---------------------------------------------------------------------------\u001b[0m",
      "\u001b[1;31mTypeError\u001b[0m                                 Traceback (most recent call last)",
      "\u001b[1;32mpandas\\_libs\\hashtable_class_helper.pxi\u001b[0m in \u001b[0;36mpandas._libs.hashtable.PyObjectHashTable.map_locations\u001b[1;34m()\u001b[0m\n",
      "\u001b[1;31mTypeError\u001b[0m: unhashable type: 'list'"
     ]
    },
    {
     "name": "stderr",
     "output_type": "stream",
     "text": [
      "Exception ignored in: 'pandas._libs.index.IndexEngine._call_map_locations'\n",
      "Traceback (most recent call last):\n",
      "  File \"pandas\\_libs\\hashtable_class_helper.pxi\", line 4588, in pandas._libs.hashtable.PyObjectHashTable.map_locations\n",
      "TypeError: unhashable type: 'list'\n"
     ]
    },
    {
     "data": {
      "text/plain": [
       "NaN                                                                                                                                                                                                                                                                       982\n",
       "[ABS, Central door lock, Daytime running lights, Driver-side airbag, Electronic stability control, Fog lights, Immobilizer, Isofix, Passenger-side airbag, Power steering, Side airbag, Tire pressure monitoring system, Traction control]                                538\n",
       "[ABS, Central door lock, Daytime running lights, Driver-side airbag, Electronic stability control, Immobilizer, Isofix, Passenger-side airbag, Power steering, Side airbag, Tire pressure monitoring system, Traction control]                                            480\n",
       "[ABS, Central door lock, Daytime running lights, Driver-side airbag, Electronic stability control, Immobilizer, Isofix, Passenger-side airbag, Power steering, Side airbag, Tire pressure monitoring system, Traction control, Xenon headlights]                          275\n",
       "[ABS, Central door lock, Daytime running lights, Driver-side airbag, Electronic stability control, Fog lights, Immobilizer, Isofix, LED Daytime Running Lights, Passenger-side airbag, Power steering, Side airbag, Tire pressure monitoring system, Traction control]    272\n",
       "Name: Safety_Security, dtype: int64"
      ]
     },
     "execution_count": 167,
     "metadata": {},
     "output_type": "execute_result"
    }
   ],
   "source": [
    "df[\"Safety_Security\"].value_counts(dropna=False).head()"
   ]
  },
  {
   "cell_type": "code",
   "execution_count": 168,
   "metadata": {},
   "outputs": [],
   "source": [
    "df[\"Safety_Security\"] = [\",\".join(item) if type(item) == list else item for item in df[\"Safety_Security\"]]"
   ]
  },
  {
   "cell_type": "code",
   "execution_count": 169,
   "metadata": {},
   "outputs": [
    {
     "data": {
      "text/plain": [
       "NaN                                                                                                                                                                                                                                                        982\n",
       "ABS,Central door lock,Daytime running lights,Driver-side airbag,Electronic stability control,Fog lights,Immobilizer,Isofix,Passenger-side airbag,Power steering,Side airbag,Tire pressure monitoring system,Traction control                               538\n",
       "ABS,Central door lock,Daytime running lights,Driver-side airbag,Electronic stability control,Immobilizer,Isofix,Passenger-side airbag,Power steering,Side airbag,Tire pressure monitoring system,Traction control                                          480\n",
       "ABS,Central door lock,Daytime running lights,Driver-side airbag,Electronic stability control,Immobilizer,Isofix,Passenger-side airbag,Power steering,Side airbag,Tire pressure monitoring system,Traction control,Xenon headlights                         275\n",
       "ABS,Central door lock,Daytime running lights,Driver-side airbag,Electronic stability control,Fog lights,Immobilizer,Isofix,LED Daytime Running Lights,Passenger-side airbag,Power steering,Side airbag,Tire pressure monitoring system,Traction control    272\n",
       "Name: Safety_Security, dtype: int64"
      ]
     },
     "execution_count": 169,
     "metadata": {},
     "output_type": "execute_result"
    }
   ],
   "source": [
    "df[\"Safety_Security\"].value_counts(dropna=False).head()"
   ]
  },
  {
   "cell_type": "markdown",
   "metadata": {},
   "source": [
    "## The End of Part-1"
   ]
  },
  {
   "cell_type": "code",
   "execution_count": 170,
   "metadata": {},
   "outputs": [
    {
     "data": {
      "text/plain": [
       "(15919, 33)"
      ]
     },
     "execution_count": 170,
     "metadata": {},
     "output_type": "execute_result"
    }
   ],
   "source": [
    "df.shape"
   ]
  },
  {
   "cell_type": "code",
   "execution_count": 171,
   "metadata": {},
   "outputs": [
    {
     "data": {
      "text/html": [
       "<div>\n",
       "<style scoped>\n",
       "    .dataframe tbody tr th:only-of-type {\n",
       "        vertical-align: middle;\n",
       "    }\n",
       "\n",
       "    .dataframe tbody tr th {\n",
       "        vertical-align: top;\n",
       "    }\n",
       "\n",
       "    .dataframe thead th {\n",
       "        text-align: right;\n",
       "    }\n",
       "</style>\n",
       "<table border=\"1\" class=\"dataframe\">\n",
       "  <thead>\n",
       "    <tr style=\"text-align: right;\">\n",
       "      <th></th>\n",
       "      <th>0</th>\n",
       "      <th>1</th>\n",
       "      <th>2</th>\n",
       "      <th>3</th>\n",
       "      <th>4</th>\n",
       "    </tr>\n",
       "  </thead>\n",
       "  <tbody>\n",
       "    <tr>\n",
       "      <th>make_model</th>\n",
       "      <td>Audi A1</td>\n",
       "      <td>Audi A1</td>\n",
       "      <td>Audi A1</td>\n",
       "      <td>Audi A1</td>\n",
       "      <td>Audi A1</td>\n",
       "    </tr>\n",
       "    <tr>\n",
       "      <th>body_type</th>\n",
       "      <td>Sedans</td>\n",
       "      <td>Sedans</td>\n",
       "      <td>Sedans</td>\n",
       "      <td>Sedans</td>\n",
       "      <td>Sedans</td>\n",
       "    </tr>\n",
       "    <tr>\n",
       "      <th>price</th>\n",
       "      <td>15770</td>\n",
       "      <td>14500</td>\n",
       "      <td>14640</td>\n",
       "      <td>14500</td>\n",
       "      <td>16790</td>\n",
       "    </tr>\n",
       "    <tr>\n",
       "      <th>vat</th>\n",
       "      <td>VAT deductible</td>\n",
       "      <td>Price negotiable</td>\n",
       "      <td>VAT deductible</td>\n",
       "      <td>None</td>\n",
       "      <td>None</td>\n",
       "    </tr>\n",
       "    <tr>\n",
       "      <th>km</th>\n",
       "      <td>56013.000</td>\n",
       "      <td>80000.000</td>\n",
       "      <td>83450.000</td>\n",
       "      <td>73000.000</td>\n",
       "      <td>16200.000</td>\n",
       "    </tr>\n",
       "    <tr>\n",
       "      <th>Type</th>\n",
       "      <td>Used</td>\n",
       "      <td>Used</td>\n",
       "      <td>Used</td>\n",
       "      <td>Used</td>\n",
       "      <td>Used</td>\n",
       "    </tr>\n",
       "    <tr>\n",
       "      <th>Warranty</th>\n",
       "      <td>NaN</td>\n",
       "      <td>NaN</td>\n",
       "      <td>NaN</td>\n",
       "      <td>NaN</td>\n",
       "      <td>NaN</td>\n",
       "    </tr>\n",
       "    <tr>\n",
       "      <th>Cylinders</th>\n",
       "      <td>3.000</td>\n",
       "      <td>4.000</td>\n",
       "      <td>NaN</td>\n",
       "      <td>3.000</td>\n",
       "      <td>3.000</td>\n",
       "    </tr>\n",
       "    <tr>\n",
       "      <th>Fuel</th>\n",
       "      <td>Diesel</td>\n",
       "      <td>Benzine</td>\n",
       "      <td>Diesel</td>\n",
       "      <td>Diesel</td>\n",
       "      <td>Diesel</td>\n",
       "    </tr>\n",
       "    <tr>\n",
       "      <th>Gears</th>\n",
       "      <td>NaN</td>\n",
       "      <td>7</td>\n",
       "      <td>NaN</td>\n",
       "      <td>6</td>\n",
       "      <td>NaN</td>\n",
       "    </tr>\n",
       "    <tr>\n",
       "      <th>Comfort_Convenience</th>\n",
       "      <td>Air conditioning,Armrest,Automatic climate con...</td>\n",
       "      <td>Air conditioning,Automatic climate control,Hil...</td>\n",
       "      <td>Air conditioning,Cruise control,Electrical sid...</td>\n",
       "      <td>Air suspension,Armrest,Auxiliary heating,Elect...</td>\n",
       "      <td>Air conditioning,Armrest,Automatic climate con...</td>\n",
       "    </tr>\n",
       "    <tr>\n",
       "      <th>Entertainment_Media</th>\n",
       "      <td>Bluetooth,Hands-free equipment,On-board comput...</td>\n",
       "      <td>Bluetooth,Hands-free equipment,On-board comput...</td>\n",
       "      <td>MP3,On-board computer</td>\n",
       "      <td>Bluetooth,CD player,Hands-free equipment,MP3,O...</td>\n",
       "      <td>Bluetooth,CD player,Hands-free equipment,MP3,O...</td>\n",
       "    </tr>\n",
       "    <tr>\n",
       "      <th>Extras</th>\n",
       "      <td>Alloy wheels,Catalytic Converter,Voice Control</td>\n",
       "      <td>Alloy wheels,Sport seats,Sport suspension,Voic...</td>\n",
       "      <td>Alloy wheels,Voice Control</td>\n",
       "      <td>Alloy wheels,Sport seats,Voice Control</td>\n",
       "      <td>Alloy wheels,Sport package,Sport suspension,Vo...</td>\n",
       "    </tr>\n",
       "    <tr>\n",
       "      <th>Safety_Security</th>\n",
       "      <td>ABS,Central door lock,Daytime running lights,D...</td>\n",
       "      <td>ABS,Central door lock,Central door lock with r...</td>\n",
       "      <td>ABS,Central door lock,Daytime running lights,D...</td>\n",
       "      <td>ABS,Alarm system,Central door lock with remote...</td>\n",
       "      <td>ABS,Central door lock,Driver-side airbag,Elect...</td>\n",
       "    </tr>\n",
       "    <tr>\n",
       "      <th>age</th>\n",
       "      <td>3.000</td>\n",
       "      <td>2.000</td>\n",
       "      <td>3.000</td>\n",
       "      <td>3.000</td>\n",
       "      <td>3.000</td>\n",
       "    </tr>\n",
       "    <tr>\n",
       "      <th>Previous_Owners</th>\n",
       "      <td>2.000</td>\n",
       "      <td>NaN</td>\n",
       "      <td>1.000</td>\n",
       "      <td>1.000</td>\n",
       "      <td>1.000</td>\n",
       "    </tr>\n",
       "    <tr>\n",
       "      <th>hp_kW</th>\n",
       "      <td>66.000</td>\n",
       "      <td>141.000</td>\n",
       "      <td>85.000</td>\n",
       "      <td>66.000</td>\n",
       "      <td>66.000</td>\n",
       "    </tr>\n",
       "    <tr>\n",
       "      <th>Inspection_new</th>\n",
       "      <td>Yes</td>\n",
       "      <td>NaN</td>\n",
       "      <td>NaN</td>\n",
       "      <td>NaN</td>\n",
       "      <td>Yes</td>\n",
       "    </tr>\n",
       "    <tr>\n",
       "      <th>Body_Color</th>\n",
       "      <td>Black</td>\n",
       "      <td>Red</td>\n",
       "      <td>Black</td>\n",
       "      <td>Brown</td>\n",
       "      <td>Black</td>\n",
       "    </tr>\n",
       "    <tr>\n",
       "      <th>Paint_Type</th>\n",
       "      <td>Metallic</td>\n",
       "      <td>NaN</td>\n",
       "      <td>Metallic</td>\n",
       "      <td>Metallic</td>\n",
       "      <td>Metallic</td>\n",
       "    </tr>\n",
       "    <tr>\n",
       "      <th>Upholstery_type</th>\n",
       "      <td>Cloth</td>\n",
       "      <td>Cloth</td>\n",
       "      <td>Cloth</td>\n",
       "      <td>NaN</td>\n",
       "      <td>Cloth</td>\n",
       "    </tr>\n",
       "    <tr>\n",
       "      <th>Upholstery_color</th>\n",
       "      <td>Black</td>\n",
       "      <td>Grey</td>\n",
       "      <td>Black</td>\n",
       "      <td>NaN</td>\n",
       "      <td>Black</td>\n",
       "    </tr>\n",
       "    <tr>\n",
       "      <th>Nr_of_Doors</th>\n",
       "      <td>5.000</td>\n",
       "      <td>3.000</td>\n",
       "      <td>4.000</td>\n",
       "      <td>3.000</td>\n",
       "      <td>5.000</td>\n",
       "    </tr>\n",
       "    <tr>\n",
       "      <th>Nr_of_Seats</th>\n",
       "      <td>5.000</td>\n",
       "      <td>4.000</td>\n",
       "      <td>4.000</td>\n",
       "      <td>4.000</td>\n",
       "      <td>5.000</td>\n",
       "    </tr>\n",
       "    <tr>\n",
       "      <th>Gearing_Type</th>\n",
       "      <td>Automatic</td>\n",
       "      <td>Automatic</td>\n",
       "      <td>Automatic</td>\n",
       "      <td>Automatic</td>\n",
       "      <td>Automatic</td>\n",
       "    </tr>\n",
       "    <tr>\n",
       "      <th>Displacement_cc</th>\n",
       "      <td>1422.000</td>\n",
       "      <td>1798.000</td>\n",
       "      <td>1598.000</td>\n",
       "      <td>1422.000</td>\n",
       "      <td>1422.000</td>\n",
       "    </tr>\n",
       "    <tr>\n",
       "      <th>Weight_kg</th>\n",
       "      <td>1220.000</td>\n",
       "      <td>1255.000</td>\n",
       "      <td>NaN</td>\n",
       "      <td>1195.000</td>\n",
       "      <td>NaN</td>\n",
       "    </tr>\n",
       "    <tr>\n",
       "      <th>Drive_chain</th>\n",
       "      <td>front</td>\n",
       "      <td>front</td>\n",
       "      <td>front</td>\n",
       "      <td>NaN</td>\n",
       "      <td>front</td>\n",
       "    </tr>\n",
       "    <tr>\n",
       "      <th>cons_comb</th>\n",
       "      <td>3.800</td>\n",
       "      <td>5.600</td>\n",
       "      <td>3.800</td>\n",
       "      <td>3.800</td>\n",
       "      <td>4.100</td>\n",
       "    </tr>\n",
       "    <tr>\n",
       "      <th>cons_city</th>\n",
       "      <td>4.300</td>\n",
       "      <td>7.100</td>\n",
       "      <td>4.400</td>\n",
       "      <td>4.300</td>\n",
       "      <td>4.600</td>\n",
       "    </tr>\n",
       "    <tr>\n",
       "      <th>cons_country</th>\n",
       "      <td>3.500</td>\n",
       "      <td>4.700</td>\n",
       "      <td>3.400</td>\n",
       "      <td>3.500</td>\n",
       "      <td>3.800</td>\n",
       "    </tr>\n",
       "    <tr>\n",
       "      <th>CO2_Emission</th>\n",
       "      <td>99.000</td>\n",
       "      <td>129.000</td>\n",
       "      <td>99.000</td>\n",
       "      <td>99.000</td>\n",
       "      <td>109.000</td>\n",
       "    </tr>\n",
       "    <tr>\n",
       "      <th>Emission_Class</th>\n",
       "      <td>Euro 6</td>\n",
       "      <td>Euro 6</td>\n",
       "      <td>Euro 6</td>\n",
       "      <td>Euro 6</td>\n",
       "      <td>Euro 6</td>\n",
       "    </tr>\n",
       "  </tbody>\n",
       "</table>\n",
       "</div>"
      ],
      "text/plain": [
       "                                                                     0  \\\n",
       "make_model                                                     Audi A1   \n",
       "body_type                                                       Sedans   \n",
       "price                                                            15770   \n",
       "vat                                                     VAT deductible   \n",
       "km                                                           56013.000   \n",
       "Type                                                              Used   \n",
       "Warranty                                                           NaN   \n",
       "Cylinders                                                        3.000   \n",
       "Fuel                                                            Diesel   \n",
       "Gears                                                              NaN   \n",
       "Comfort_Convenience  Air conditioning,Armrest,Automatic climate con...   \n",
       "Entertainment_Media  Bluetooth,Hands-free equipment,On-board comput...   \n",
       "Extras                  Alloy wheels,Catalytic Converter,Voice Control   \n",
       "Safety_Security      ABS,Central door lock,Daytime running lights,D...   \n",
       "age                                                              3.000   \n",
       "Previous_Owners                                                  2.000   \n",
       "hp_kW                                                           66.000   \n",
       "Inspection_new                                                     Yes   \n",
       "Body_Color                                                       Black   \n",
       "Paint_Type                                                    Metallic   \n",
       "Upholstery_type                                                  Cloth   \n",
       "Upholstery_color                                                 Black   \n",
       "Nr_of_Doors                                                      5.000   \n",
       "Nr_of_Seats                                                      5.000   \n",
       "Gearing_Type                                                 Automatic   \n",
       "Displacement_cc                                               1422.000   \n",
       "Weight_kg                                                     1220.000   \n",
       "Drive_chain                                                      front   \n",
       "cons_comb                                                        3.800   \n",
       "cons_city                                                        4.300   \n",
       "cons_country                                                     3.500   \n",
       "CO2_Emission                                                    99.000   \n",
       "Emission_Class                                                  Euro 6   \n",
       "\n",
       "                                                                     1  \\\n",
       "make_model                                                     Audi A1   \n",
       "body_type                                                       Sedans   \n",
       "price                                                            14500   \n",
       "vat                                                   Price negotiable   \n",
       "km                                                           80000.000   \n",
       "Type                                                              Used   \n",
       "Warranty                                                           NaN   \n",
       "Cylinders                                                        4.000   \n",
       "Fuel                                                           Benzine   \n",
       "Gears                                                                7   \n",
       "Comfort_Convenience  Air conditioning,Automatic climate control,Hil...   \n",
       "Entertainment_Media  Bluetooth,Hands-free equipment,On-board comput...   \n",
       "Extras               Alloy wheels,Sport seats,Sport suspension,Voic...   \n",
       "Safety_Security      ABS,Central door lock,Central door lock with r...   \n",
       "age                                                              2.000   \n",
       "Previous_Owners                                                    NaN   \n",
       "hp_kW                                                          141.000   \n",
       "Inspection_new                                                     NaN   \n",
       "Body_Color                                                         Red   \n",
       "Paint_Type                                                         NaN   \n",
       "Upholstery_type                                                  Cloth   \n",
       "Upholstery_color                                                  Grey   \n",
       "Nr_of_Doors                                                      3.000   \n",
       "Nr_of_Seats                                                      4.000   \n",
       "Gearing_Type                                                 Automatic   \n",
       "Displacement_cc                                               1798.000   \n",
       "Weight_kg                                                     1255.000   \n",
       "Drive_chain                                                      front   \n",
       "cons_comb                                                        5.600   \n",
       "cons_city                                                        7.100   \n",
       "cons_country                                                     4.700   \n",
       "CO2_Emission                                                   129.000   \n",
       "Emission_Class                                                  Euro 6   \n",
       "\n",
       "                                                                     2  \\\n",
       "make_model                                                     Audi A1   \n",
       "body_type                                                       Sedans   \n",
       "price                                                            14640   \n",
       "vat                                                     VAT deductible   \n",
       "km                                                           83450.000   \n",
       "Type                                                              Used   \n",
       "Warranty                                                           NaN   \n",
       "Cylinders                                                          NaN   \n",
       "Fuel                                                            Diesel   \n",
       "Gears                                                              NaN   \n",
       "Comfort_Convenience  Air conditioning,Cruise control,Electrical sid...   \n",
       "Entertainment_Media                              MP3,On-board computer   \n",
       "Extras                                      Alloy wheels,Voice Control   \n",
       "Safety_Security      ABS,Central door lock,Daytime running lights,D...   \n",
       "age                                                              3.000   \n",
       "Previous_Owners                                                  1.000   \n",
       "hp_kW                                                           85.000   \n",
       "Inspection_new                                                     NaN   \n",
       "Body_Color                                                       Black   \n",
       "Paint_Type                                                    Metallic   \n",
       "Upholstery_type                                                  Cloth   \n",
       "Upholstery_color                                                 Black   \n",
       "Nr_of_Doors                                                      4.000   \n",
       "Nr_of_Seats                                                      4.000   \n",
       "Gearing_Type                                                 Automatic   \n",
       "Displacement_cc                                               1598.000   \n",
       "Weight_kg                                                          NaN   \n",
       "Drive_chain                                                      front   \n",
       "cons_comb                                                        3.800   \n",
       "cons_city                                                        4.400   \n",
       "cons_country                                                     3.400   \n",
       "CO2_Emission                                                    99.000   \n",
       "Emission_Class                                                  Euro 6   \n",
       "\n",
       "                                                                     3  \\\n",
       "make_model                                                     Audi A1   \n",
       "body_type                                                       Sedans   \n",
       "price                                                            14500   \n",
       "vat                                                               None   \n",
       "km                                                           73000.000   \n",
       "Type                                                              Used   \n",
       "Warranty                                                           NaN   \n",
       "Cylinders                                                        3.000   \n",
       "Fuel                                                            Diesel   \n",
       "Gears                                                                6   \n",
       "Comfort_Convenience  Air suspension,Armrest,Auxiliary heating,Elect...   \n",
       "Entertainment_Media  Bluetooth,CD player,Hands-free equipment,MP3,O...   \n",
       "Extras                          Alloy wheels,Sport seats,Voice Control   \n",
       "Safety_Security      ABS,Alarm system,Central door lock with remote...   \n",
       "age                                                              3.000   \n",
       "Previous_Owners                                                  1.000   \n",
       "hp_kW                                                           66.000   \n",
       "Inspection_new                                                     NaN   \n",
       "Body_Color                                                       Brown   \n",
       "Paint_Type                                                    Metallic   \n",
       "Upholstery_type                                                    NaN   \n",
       "Upholstery_color                                                   NaN   \n",
       "Nr_of_Doors                                                      3.000   \n",
       "Nr_of_Seats                                                      4.000   \n",
       "Gearing_Type                                                 Automatic   \n",
       "Displacement_cc                                               1422.000   \n",
       "Weight_kg                                                     1195.000   \n",
       "Drive_chain                                                        NaN   \n",
       "cons_comb                                                        3.800   \n",
       "cons_city                                                        4.300   \n",
       "cons_country                                                     3.500   \n",
       "CO2_Emission                                                    99.000   \n",
       "Emission_Class                                                  Euro 6   \n",
       "\n",
       "                                                                     4  \n",
       "make_model                                                     Audi A1  \n",
       "body_type                                                       Sedans  \n",
       "price                                                            16790  \n",
       "vat                                                               None  \n",
       "km                                                           16200.000  \n",
       "Type                                                              Used  \n",
       "Warranty                                                           NaN  \n",
       "Cylinders                                                        3.000  \n",
       "Fuel                                                            Diesel  \n",
       "Gears                                                              NaN  \n",
       "Comfort_Convenience  Air conditioning,Armrest,Automatic climate con...  \n",
       "Entertainment_Media  Bluetooth,CD player,Hands-free equipment,MP3,O...  \n",
       "Extras               Alloy wheels,Sport package,Sport suspension,Vo...  \n",
       "Safety_Security      ABS,Central door lock,Driver-side airbag,Elect...  \n",
       "age                                                              3.000  \n",
       "Previous_Owners                                                  1.000  \n",
       "hp_kW                                                           66.000  \n",
       "Inspection_new                                                     Yes  \n",
       "Body_Color                                                       Black  \n",
       "Paint_Type                                                    Metallic  \n",
       "Upholstery_type                                                  Cloth  \n",
       "Upholstery_color                                                 Black  \n",
       "Nr_of_Doors                                                      5.000  \n",
       "Nr_of_Seats                                                      5.000  \n",
       "Gearing_Type                                                 Automatic  \n",
       "Displacement_cc                                               1422.000  \n",
       "Weight_kg                                                          NaN  \n",
       "Drive_chain                                                      front  \n",
       "cons_comb                                                        4.100  \n",
       "cons_city                                                        4.600  \n",
       "cons_country                                                     3.800  \n",
       "CO2_Emission                                                   109.000  \n",
       "Emission_Class                                                  Euro 6  "
      ]
     },
     "execution_count": 171,
     "metadata": {},
     "output_type": "execute_result"
    }
   ],
   "source": [
    "df.head().T"
   ]
  },
  {
   "cell_type": "code",
   "execution_count": 172,
   "metadata": {},
   "outputs": [
    {
     "name": "stdout",
     "output_type": "stream",
     "text": [
      "<class 'pandas.core.frame.DataFrame'>\n",
      "RangeIndex: 15919 entries, 0 to 15918\n",
      "Data columns (total 33 columns):\n",
      " #   Column               Non-Null Count  Dtype  \n",
      "---  ------               --------------  -----  \n",
      " 0   make_model           15919 non-null  object \n",
      " 1   body_type            15859 non-null  object \n",
      " 2   price                15919 non-null  int64  \n",
      " 3   vat                  11406 non-null  object \n",
      " 4   km                   14895 non-null  float64\n",
      " 5   Type                 15917 non-null  object \n",
      " 6   Warranty             4853 non-null   float64\n",
      " 7   Cylinders            10239 non-null  float64\n",
      " 8   Fuel                 15919 non-null  object \n",
      " 9   Gears                11207 non-null  object \n",
      " 10  Comfort_Convenience  14999 non-null  object \n",
      " 11  Entertainment_Media  14545 non-null  object \n",
      " 12  Extras               12957 non-null  object \n",
      " 13  Safety_Security      14937 non-null  object \n",
      " 14  age                  14322 non-null  float64\n",
      " 15  Previous_Owners      9279 non-null   float64\n",
      " 16  hp_kW                15831 non-null  float64\n",
      " 17  Inspection_new       3932 non-null   object \n",
      " 18  Body_Color           15322 non-null  object \n",
      " 19  Paint_Type           10147 non-null  object \n",
      " 20  Upholstery_type      11048 non-null  object \n",
      " 21  Upholstery_color     10841 non-null  object \n",
      " 22  Nr_of_Doors          15707 non-null  float64\n",
      " 23  Nr_of_Seats          14942 non-null  float64\n",
      " 24  Gearing_Type         15919 non-null  object \n",
      " 25  Displacement_cc      15423 non-null  float64\n",
      " 26  Weight_kg            8945 non-null   float64\n",
      " 27  Drive_chain          9061 non-null   object \n",
      " 28  cons_comb            13886 non-null  float64\n",
      " 29  cons_city            13483 non-null  float64\n",
      " 30  cons_country         13543 non-null  float64\n",
      " 31  CO2_Emission         13483 non-null  float64\n",
      " 32  Emission_Class       12291 non-null  object \n",
      "dtypes: float64(14), int64(1), object(18)\n",
      "memory usage: 4.0+ MB\n"
     ]
    }
   ],
   "source": [
    "df.info()"
   ]
  },
  {
   "cell_type": "code",
   "execution_count": 173,
   "metadata": {},
   "outputs": [],
   "source": [
    "df.to_csv(\"clean_scout.csv\", index=False)"
   ]
  },
  {
   "cell_type": "code",
   "execution_count": null,
   "metadata": {},
   "outputs": [],
   "source": []
  },
  {
   "cell_type": "code",
   "execution_count": null,
   "metadata": {},
   "outputs": [],
   "source": []
  },
  {
   "cell_type": "code",
   "execution_count": null,
   "metadata": {},
   "outputs": [],
   "source": []
  }
 ],
 "metadata": {
  "kernelspec": {
   "display_name": "Python 3",
   "language": "python",
   "name": "python3"
  },
  "language_info": {
   "codemirror_mode": {
    "name": "ipython",
    "version": 3
   },
   "file_extension": ".py",
   "mimetype": "text/x-python",
   "name": "python",
   "nbconvert_exporter": "python",
   "pygments_lexer": "ipython3",
   "version": "3.8.8"
  }
 },
 "nbformat": 4,
 "nbformat_minor": 4
}
