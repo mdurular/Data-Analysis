{
 "cells": [
  {
   "cell_type": "markdown",
   "metadata": {},
   "source": [
    "## Time Sensitive Real Interview Questions-1\n",
    "\n",
    "In this task below, you must answer these questions within 2 hours using data analysis skills (You can use any tool). Data file is provided via slack channel ."
   ]
  },
  {
   "cell_type": "markdown",
   "metadata": {},
   "source": [
    "#### 1. How many rows in the sales dataset? "
   ]
  },
  {
   "cell_type": "markdown",
   "metadata": {},
   "source": [
    "answer 1"
   ]
  },
  {
   "cell_type": "code",
   "execution_count": 1,
   "metadata": {},
   "outputs": [],
   "source": [
    "import pandas as pd\n",
    "import numpy as np\n",
    "import seaborn as sns\n",
    "import matplotlib.pyplot as plt"
   ]
  },
  {
   "cell_type": "code",
   "execution_count": 2,
   "metadata": {},
   "outputs": [],
   "source": [
    "sales = pd.read_csv(\"sales.csv\")"
   ]
  },
  {
   "cell_type": "code",
   "execution_count": 3,
   "metadata": {},
   "outputs": [
    {
     "data": {
      "text/plain": [
       "237671"
      ]
     },
     "execution_count": 3,
     "metadata": {},
     "output_type": "execute_result"
    }
   ],
   "source": [
    "len(sales)"
   ]
  },
  {
   "cell_type": "markdown",
   "metadata": {},
   "source": [
    "#### 2. How many columns in the sales dataset? "
   ]
  },
  {
   "cell_type": "markdown",
   "metadata": {},
   "source": [
    "answer 2"
   ]
  },
  {
   "cell_type": "code",
   "execution_count": 4,
   "metadata": {},
   "outputs": [
    {
     "data": {
      "text/plain": [
       "(237671, 10)"
      ]
     },
     "execution_count": 4,
     "metadata": {},
     "output_type": "execute_result"
    }
   ],
   "source": [
    "sales.shape"
   ]
  },
  {
   "cell_type": "code",
   "execution_count": 5,
   "metadata": {},
   "outputs": [
    {
     "data": {
      "text/html": [
       "<div>\n",
       "<style scoped>\n",
       "    .dataframe tbody tr th:only-of-type {\n",
       "        vertical-align: middle;\n",
       "    }\n",
       "\n",
       "    .dataframe tbody tr th {\n",
       "        vertical-align: top;\n",
       "    }\n",
       "\n",
       "    .dataframe thead th {\n",
       "        text-align: right;\n",
       "    }\n",
       "</style>\n",
       "<table border=\"1\" class=\"dataframe\">\n",
       "  <thead>\n",
       "    <tr style=\"text-align: right;\">\n",
       "      <th></th>\n",
       "      <th>buyer_id</th>\n",
       "      <th>buyer_country</th>\n",
       "      <th>seller_id</th>\n",
       "      <th>seller_country</th>\n",
       "      <th>product_code</th>\n",
       "      <th>category</th>\n",
       "      <th>brand</th>\n",
       "      <th>currency</th>\n",
       "      <th>price</th>\n",
       "      <th>date</th>\n",
       "    </tr>\n",
       "  </thead>\n",
       "  <tbody>\n",
       "    <tr>\n",
       "      <th>0</th>\n",
       "      <td>qzpjsi9t0o</td>\n",
       "      <td>GB</td>\n",
       "      <td>6oufpaot</td>\n",
       "      <td>GB</td>\n",
       "      <td>ydecnydr6obf</td>\n",
       "      <td>Dresses</td>\n",
       "      <td>NaN</td>\n",
       "      <td>GBP</td>\n",
       "      <td>19.11</td>\n",
       "      <td>2020-08-03</td>\n",
       "    </tr>\n",
       "    <tr>\n",
       "      <th>1</th>\n",
       "      <td>o79pns1qwo</td>\n",
       "      <td>GB</td>\n",
       "      <td>50xki2yg</td>\n",
       "      <td>GB</td>\n",
       "      <td>38chj507o6h2</td>\n",
       "      <td>Outerwear</td>\n",
       "      <td>Adidas Originals</td>\n",
       "      <td>GBP</td>\n",
       "      <td>15.92</td>\n",
       "      <td>2020-08-09</td>\n",
       "    </tr>\n",
       "    <tr>\n",
       "      <th>2</th>\n",
       "      <td>sjgbjdkhqx</td>\n",
       "      <td>GB</td>\n",
       "      <td>50xki2yg</td>\n",
       "      <td>GB</td>\n",
       "      <td>i9ynyxj5tdp8</td>\n",
       "      <td>Tops - Mens</td>\n",
       "      <td>NaN</td>\n",
       "      <td>GBP</td>\n",
       "      <td>6.37</td>\n",
       "      <td>2020-08-07</td>\n",
       "    </tr>\n",
       "    <tr>\n",
       "      <th>3</th>\n",
       "      <td>o79pns1qwo</td>\n",
       "      <td>GB</td>\n",
       "      <td>s0p322hh</td>\n",
       "      <td>GB</td>\n",
       "      <td>t50xe7moye8v</td>\n",
       "      <td>Tops - Mens</td>\n",
       "      <td>Berghaus</td>\n",
       "      <td>GBP</td>\n",
       "      <td>25.27</td>\n",
       "      <td>2020-08-09</td>\n",
       "    </tr>\n",
       "    <tr>\n",
       "      <th>4</th>\n",
       "      <td>o79pns1qwo</td>\n",
       "      <td>GB</td>\n",
       "      <td>dpkx192v</td>\n",
       "      <td>GB</td>\n",
       "      <td>hp4r9bjq68af</td>\n",
       "      <td>Bottoms - Womens</td>\n",
       "      <td>NaN</td>\n",
       "      <td>GBP</td>\n",
       "      <td>8.90</td>\n",
       "      <td>2020-08-09</td>\n",
       "    </tr>\n",
       "  </tbody>\n",
       "</table>\n",
       "</div>"
      ],
      "text/plain": [
       "     buyer_id buyer_country seller_id seller_country  product_code  \\\n",
       "0  qzpjsi9t0o            GB  6oufpaot             GB  ydecnydr6obf   \n",
       "1  o79pns1qwo            GB  50xki2yg             GB  38chj507o6h2   \n",
       "2  sjgbjdkhqx            GB  50xki2yg             GB  i9ynyxj5tdp8   \n",
       "3  o79pns1qwo            GB  s0p322hh             GB  t50xe7moye8v   \n",
       "4  o79pns1qwo            GB  dpkx192v             GB  hp4r9bjq68af   \n",
       "\n",
       "           category             brand currency  price        date  \n",
       "0           Dresses               NaN      GBP  19.11  2020-08-03  \n",
       "1         Outerwear  Adidas Originals      GBP  15.92  2020-08-09  \n",
       "2       Tops - Mens               NaN      GBP   6.37  2020-08-07  \n",
       "3       Tops - Mens          Berghaus      GBP  25.27  2020-08-09  \n",
       "4  Bottoms - Womens               NaN      GBP   8.90  2020-08-09  "
      ]
     },
     "execution_count": 5,
     "metadata": {},
     "output_type": "execute_result"
    }
   ],
   "source": [
    "sales.head()"
   ]
  },
  {
   "cell_type": "markdown",
   "metadata": {},
   "source": [
    "#### 3. What is the total number of sellers? "
   ]
  },
  {
   "cell_type": "markdown",
   "metadata": {},
   "source": [
    "answer 3"
   ]
  },
  {
   "cell_type": "code",
   "execution_count": 6,
   "metadata": {},
   "outputs": [
    {
     "data": {
      "text/plain": [
       "114227"
      ]
     },
     "execution_count": 6,
     "metadata": {},
     "output_type": "execute_result"
    }
   ],
   "source": [
    "sales.seller_id.nunique()"
   ]
  },
  {
   "cell_type": "markdown",
   "metadata": {},
   "source": [
    "#### 4. What is the total value of sales in EUR?"
   ]
  },
  {
   "cell_type": "markdown",
   "metadata": {},
   "source": [
    "answer 4"
   ]
  },
  {
   "cell_type": "code",
   "execution_count": 7,
   "metadata": {},
   "outputs": [],
   "source": [
    "currency = pd.read_csv('currency_rates.csv')"
   ]
  },
  {
   "cell_type": "code",
   "execution_count": 8,
   "metadata": {},
   "outputs": [
    {
     "data": {
      "text/html": [
       "<div>\n",
       "<style scoped>\n",
       "    .dataframe tbody tr th:only-of-type {\n",
       "        vertical-align: middle;\n",
       "    }\n",
       "\n",
       "    .dataframe tbody tr th {\n",
       "        vertical-align: top;\n",
       "    }\n",
       "\n",
       "    .dataframe thead th {\n",
       "        text-align: right;\n",
       "    }\n",
       "</style>\n",
       "<table border=\"1\" class=\"dataframe\">\n",
       "  <thead>\n",
       "    <tr style=\"text-align: right;\">\n",
       "      <th></th>\n",
       "      <th>currency</th>\n",
       "      <th>date</th>\n",
       "      <th>rate</th>\n",
       "    </tr>\n",
       "  </thead>\n",
       "  <tbody>\n",
       "    <tr>\n",
       "      <th>0</th>\n",
       "      <td>EUR</td>\n",
       "      <td>8/1/2020</td>\n",
       "      <td>1.0</td>\n",
       "    </tr>\n",
       "    <tr>\n",
       "      <th>1</th>\n",
       "      <td>EUR</td>\n",
       "      <td>8/2/2020</td>\n",
       "      <td>1.0</td>\n",
       "    </tr>\n",
       "    <tr>\n",
       "      <th>2</th>\n",
       "      <td>EUR</td>\n",
       "      <td>8/3/2020</td>\n",
       "      <td>1.0</td>\n",
       "    </tr>\n",
       "    <tr>\n",
       "      <th>3</th>\n",
       "      <td>EUR</td>\n",
       "      <td>8/4/2020</td>\n",
       "      <td>1.0</td>\n",
       "    </tr>\n",
       "    <tr>\n",
       "      <th>4</th>\n",
       "      <td>EUR</td>\n",
       "      <td>8/5/2020</td>\n",
       "      <td>1.0</td>\n",
       "    </tr>\n",
       "  </tbody>\n",
       "</table>\n",
       "</div>"
      ],
      "text/plain": [
       "  currency      date  rate\n",
       "0      EUR  8/1/2020   1.0\n",
       "1      EUR  8/2/2020   1.0\n",
       "2      EUR  8/3/2020   1.0\n",
       "3      EUR  8/4/2020   1.0\n",
       "4      EUR  8/5/2020   1.0"
      ]
     },
     "execution_count": 8,
     "metadata": {},
     "output_type": "execute_result"
    }
   ],
   "source": [
    "currency.head()"
   ]
  },
  {
   "cell_type": "code",
   "execution_count": 9,
   "metadata": {},
   "outputs": [
    {
     "data": {
      "text/plain": [
       "dtype('O')"
      ]
     },
     "execution_count": 9,
     "metadata": {},
     "output_type": "execute_result"
    }
   ],
   "source": [
    "currency.date.dtype"
   ]
  },
  {
   "cell_type": "code",
   "execution_count": 10,
   "metadata": {},
   "outputs": [],
   "source": [
    "currency.date = pd.to_datetime(currency.date)"
   ]
  },
  {
   "cell_type": "code",
   "execution_count": 11,
   "metadata": {},
   "outputs": [
    {
     "data": {
      "text/plain": [
       "numpy.datetime64"
      ]
     },
     "execution_count": 11,
     "metadata": {},
     "output_type": "execute_result"
    }
   ],
   "source": [
    "currency.date.dtype.type"
   ]
  },
  {
   "cell_type": "code",
   "execution_count": 12,
   "metadata": {},
   "outputs": [],
   "source": [
    "sales.date = pd.to_datetime(sales.date)"
   ]
  },
  {
   "cell_type": "code",
   "execution_count": 13,
   "metadata": {},
   "outputs": [
    {
     "data": {
      "text/plain": [
       "numpy.datetime64"
      ]
     },
     "execution_count": 13,
     "metadata": {},
     "output_type": "execute_result"
    }
   ],
   "source": [
    "sales.date.dtype.type"
   ]
  },
  {
   "cell_type": "code",
   "execution_count": 14,
   "metadata": {},
   "outputs": [],
   "source": [
    "new_df = sales.merge(currency, how = \"inner\", on = [\"currency\",\"date\"])"
   ]
  },
  {
   "cell_type": "code",
   "execution_count": 15,
   "metadata": {},
   "outputs": [
    {
     "data": {
      "text/html": [
       "<div>\n",
       "<style scoped>\n",
       "    .dataframe tbody tr th:only-of-type {\n",
       "        vertical-align: middle;\n",
       "    }\n",
       "\n",
       "    .dataframe tbody tr th {\n",
       "        vertical-align: top;\n",
       "    }\n",
       "\n",
       "    .dataframe thead th {\n",
       "        text-align: right;\n",
       "    }\n",
       "</style>\n",
       "<table border=\"1\" class=\"dataframe\">\n",
       "  <thead>\n",
       "    <tr style=\"text-align: right;\">\n",
       "      <th></th>\n",
       "      <th>buyer_id</th>\n",
       "      <th>buyer_country</th>\n",
       "      <th>seller_id</th>\n",
       "      <th>seller_country</th>\n",
       "      <th>product_code</th>\n",
       "      <th>category</th>\n",
       "      <th>brand</th>\n",
       "      <th>currency</th>\n",
       "      <th>price</th>\n",
       "      <th>date</th>\n",
       "      <th>rate</th>\n",
       "    </tr>\n",
       "  </thead>\n",
       "  <tbody>\n",
       "    <tr>\n",
       "      <th>237666</th>\n",
       "      <td>d7dx6f3qv7</td>\n",
       "      <td>RoW</td>\n",
       "      <td>e2p108mu</td>\n",
       "      <td>RoW</td>\n",
       "      <td>nan9a4p10ayk</td>\n",
       "      <td>Tops - Mens</td>\n",
       "      <td>NaN</td>\n",
       "      <td>PLN</td>\n",
       "      <td>4.24</td>\n",
       "      <td>2020-08-04</td>\n",
       "      <td>4.39693</td>\n",
       "    </tr>\n",
       "    <tr>\n",
       "      <th>237667</th>\n",
       "      <td>iaf2ck3rj6</td>\n",
       "      <td>IT</td>\n",
       "      <td>gjb1qntq</td>\n",
       "      <td>RoW</td>\n",
       "      <td>lxj477q1hab2</td>\n",
       "      <td>Accessories</td>\n",
       "      <td>NaN</td>\n",
       "      <td>CZK</td>\n",
       "      <td>3923.18</td>\n",
       "      <td>2020-08-04</td>\n",
       "      <td>26.12360</td>\n",
       "    </tr>\n",
       "    <tr>\n",
       "      <th>237668</th>\n",
       "      <td>tucgt70cwc</td>\n",
       "      <td>AU</td>\n",
       "      <td>9adnlxvr</td>\n",
       "      <td>RoW</td>\n",
       "      <td>2g0g0obhwjuc</td>\n",
       "      <td>Jewellery</td>\n",
       "      <td>NaN</td>\n",
       "      <td>PLN</td>\n",
       "      <td>525.82</td>\n",
       "      <td>2020-08-09</td>\n",
       "      <td>4.41427</td>\n",
       "    </tr>\n",
       "    <tr>\n",
       "      <th>237669</th>\n",
       "      <td>rrfjxzbdxu</td>\n",
       "      <td>US</td>\n",
       "      <td>w2pozh7u</td>\n",
       "      <td>US</td>\n",
       "      <td>5mm5eg99xbu2</td>\n",
       "      <td>Bottoms - Womens</td>\n",
       "      <td>Brandy Melville</td>\n",
       "      <td>BRL</td>\n",
       "      <td>34.92</td>\n",
       "      <td>2020-08-06</td>\n",
       "      <td>6.33240</td>\n",
       "    </tr>\n",
       "    <tr>\n",
       "      <th>237670</th>\n",
       "      <td>wnmihth4io</td>\n",
       "      <td>GB</td>\n",
       "      <td>5yogzc17</td>\n",
       "      <td>RoW</td>\n",
       "      <td>wrgq88ujwh5d</td>\n",
       "      <td>Bottoms - Womens</td>\n",
       "      <td>NaN</td>\n",
       "      <td>NOK</td>\n",
       "      <td>533.06</td>\n",
       "      <td>2020-08-08</td>\n",
       "      <td>10.64540</td>\n",
       "    </tr>\n",
       "  </tbody>\n",
       "</table>\n",
       "</div>"
      ],
      "text/plain": [
       "          buyer_id buyer_country seller_id seller_country  product_code  \\\n",
       "237666  d7dx6f3qv7           RoW  e2p108mu            RoW  nan9a4p10ayk   \n",
       "237667  iaf2ck3rj6            IT  gjb1qntq            RoW  lxj477q1hab2   \n",
       "237668  tucgt70cwc            AU  9adnlxvr            RoW  2g0g0obhwjuc   \n",
       "237669  rrfjxzbdxu            US  w2pozh7u             US  5mm5eg99xbu2   \n",
       "237670  wnmihth4io            GB  5yogzc17            RoW  wrgq88ujwh5d   \n",
       "\n",
       "                category            brand currency    price       date  \\\n",
       "237666       Tops - Mens              NaN      PLN     4.24 2020-08-04   \n",
       "237667       Accessories              NaN      CZK  3923.18 2020-08-04   \n",
       "237668         Jewellery              NaN      PLN   525.82 2020-08-09   \n",
       "237669  Bottoms - Womens  Brandy Melville      BRL    34.92 2020-08-06   \n",
       "237670  Bottoms - Womens              NaN      NOK   533.06 2020-08-08   \n",
       "\n",
       "            rate  \n",
       "237666   4.39693  \n",
       "237667  26.12360  \n",
       "237668   4.41427  \n",
       "237669   6.33240  \n",
       "237670  10.64540  "
      ]
     },
     "execution_count": 15,
     "metadata": {},
     "output_type": "execute_result"
    }
   ],
   "source": [
    "new_df.tail()"
   ]
  },
  {
   "cell_type": "code",
   "execution_count": 16,
   "metadata": {},
   "outputs": [],
   "source": [
    "new_df[\"total\"] = new_df.price / new_df.rate"
   ]
  },
  {
   "cell_type": "code",
   "execution_count": 17,
   "metadata": {},
   "outputs": [
    {
     "data": {
      "text/html": [
       "<div>\n",
       "<style scoped>\n",
       "    .dataframe tbody tr th:only-of-type {\n",
       "        vertical-align: middle;\n",
       "    }\n",
       "\n",
       "    .dataframe tbody tr th {\n",
       "        vertical-align: top;\n",
       "    }\n",
       "\n",
       "    .dataframe thead th {\n",
       "        text-align: right;\n",
       "    }\n",
       "</style>\n",
       "<table border=\"1\" class=\"dataframe\">\n",
       "  <thead>\n",
       "    <tr style=\"text-align: right;\">\n",
       "      <th></th>\n",
       "      <th>buyer_id</th>\n",
       "      <th>buyer_country</th>\n",
       "      <th>seller_id</th>\n",
       "      <th>seller_country</th>\n",
       "      <th>product_code</th>\n",
       "      <th>category</th>\n",
       "      <th>brand</th>\n",
       "      <th>currency</th>\n",
       "      <th>price</th>\n",
       "      <th>date</th>\n",
       "      <th>rate</th>\n",
       "      <th>total</th>\n",
       "    </tr>\n",
       "  </thead>\n",
       "  <tbody>\n",
       "    <tr>\n",
       "      <th>0</th>\n",
       "      <td>qzpjsi9t0o</td>\n",
       "      <td>GB</td>\n",
       "      <td>6oufpaot</td>\n",
       "      <td>GB</td>\n",
       "      <td>ydecnydr6obf</td>\n",
       "      <td>Dresses</td>\n",
       "      <td>NaN</td>\n",
       "      <td>GBP</td>\n",
       "      <td>19.11</td>\n",
       "      <td>2020-08-03</td>\n",
       "      <td>0.89935</td>\n",
       "      <td>21.248680</td>\n",
       "    </tr>\n",
       "    <tr>\n",
       "      <th>1</th>\n",
       "      <td>rd209r8c7c</td>\n",
       "      <td>GB</td>\n",
       "      <td>9p2ansc9</td>\n",
       "      <td>GB</td>\n",
       "      <td>wpxxf59cq7pc</td>\n",
       "      <td>Outerwear - Mens</td>\n",
       "      <td>Adidas Originals</td>\n",
       "      <td>GBP</td>\n",
       "      <td>24.91</td>\n",
       "      <td>2020-08-03</td>\n",
       "      <td>0.89935</td>\n",
       "      <td>27.697782</td>\n",
       "    </tr>\n",
       "    <tr>\n",
       "      <th>2</th>\n",
       "      <td>pqbcrl8azx</td>\n",
       "      <td>GB</td>\n",
       "      <td>r9zmzem8</td>\n",
       "      <td>GB</td>\n",
       "      <td>ua9mmn86wsqy</td>\n",
       "      <td>Tops - Womens</td>\n",
       "      <td>NaN</td>\n",
       "      <td>GBP</td>\n",
       "      <td>19.31</td>\n",
       "      <td>2020-08-03</td>\n",
       "      <td>0.89935</td>\n",
       "      <td>21.471062</td>\n",
       "    </tr>\n",
       "    <tr>\n",
       "      <th>3</th>\n",
       "      <td>j5en1rwmxp</td>\n",
       "      <td>GB</td>\n",
       "      <td>3o2nz88r</td>\n",
       "      <td>GB</td>\n",
       "      <td>tduo2uy8iszl</td>\n",
       "      <td>Bottoms - Womens</td>\n",
       "      <td>Urban Outfitters</td>\n",
       "      <td>GBP</td>\n",
       "      <td>16.98</td>\n",
       "      <td>2020-08-03</td>\n",
       "      <td>0.89935</td>\n",
       "      <td>18.880302</td>\n",
       "    </tr>\n",
       "    <tr>\n",
       "      <th>4</th>\n",
       "      <td>kjdezxeh1l</td>\n",
       "      <td>GB</td>\n",
       "      <td>7g56ublf</td>\n",
       "      <td>GB</td>\n",
       "      <td>39o00tcu89zq</td>\n",
       "      <td>Other</td>\n",
       "      <td>NaN</td>\n",
       "      <td>GBP</td>\n",
       "      <td>2.85</td>\n",
       "      <td>2020-08-03</td>\n",
       "      <td>0.89935</td>\n",
       "      <td>3.168955</td>\n",
       "    </tr>\n",
       "  </tbody>\n",
       "</table>\n",
       "</div>"
      ],
      "text/plain": [
       "     buyer_id buyer_country seller_id seller_country  product_code  \\\n",
       "0  qzpjsi9t0o            GB  6oufpaot             GB  ydecnydr6obf   \n",
       "1  rd209r8c7c            GB  9p2ansc9             GB  wpxxf59cq7pc   \n",
       "2  pqbcrl8azx            GB  r9zmzem8             GB  ua9mmn86wsqy   \n",
       "3  j5en1rwmxp            GB  3o2nz88r             GB  tduo2uy8iszl   \n",
       "4  kjdezxeh1l            GB  7g56ublf             GB  39o00tcu89zq   \n",
       "\n",
       "           category             brand currency  price       date     rate  \\\n",
       "0           Dresses               NaN      GBP  19.11 2020-08-03  0.89935   \n",
       "1  Outerwear - Mens  Adidas Originals      GBP  24.91 2020-08-03  0.89935   \n",
       "2     Tops - Womens               NaN      GBP  19.31 2020-08-03  0.89935   \n",
       "3  Bottoms - Womens  Urban Outfitters      GBP  16.98 2020-08-03  0.89935   \n",
       "4             Other               NaN      GBP   2.85 2020-08-03  0.89935   \n",
       "\n",
       "       total  \n",
       "0  21.248680  \n",
       "1  27.697782  \n",
       "2  21.471062  \n",
       "3  18.880302  \n",
       "4   3.168955  "
      ]
     },
     "execution_count": 17,
     "metadata": {},
     "output_type": "execute_result"
    }
   ],
   "source": [
    "new_df.head()"
   ]
  },
  {
   "cell_type": "code",
   "execution_count": 18,
   "metadata": {},
   "outputs": [
    {
     "data": {
      "text/plain": [
       "6471510.822498876"
      ]
     },
     "execution_count": 18,
     "metadata": {},
     "output_type": "execute_result"
    }
   ],
   "source": [
    "new_df.total.sum()"
   ]
  },
  {
   "cell_type": "markdown",
   "metadata": {},
   "source": [
    "#### 5. Which brand has the highest number of purchases during the period? *"
   ]
  },
  {
   "cell_type": "markdown",
   "metadata": {},
   "source": [
    "answer 5"
   ]
  },
  {
   "cell_type": "code",
   "execution_count": 19,
   "metadata": {},
   "outputs": [
    {
     "data": {
      "text/plain": [
       "Nike    9575\n",
       "Name: brand, dtype: int64"
      ]
     },
     "execution_count": 19,
     "metadata": {},
     "output_type": "execute_result"
    }
   ],
   "source": [
    "sales.brand.value_counts().head(1)  # nike"
   ]
  },
  {
   "cell_type": "code",
   "execution_count": 20,
   "metadata": {},
   "outputs": [
    {
     "data": {
      "image/png": "[encoded data removed]",
      "text/plain": [
       "<Figure size 432x288 with 1 Axes>"
      ]
     },
     "metadata": {
      "needs_background": "light"
     },
     "output_type": "display_data"
    }
   ],
   "source": [
    "sns.barplot(x= sales.brand.value_counts().head(10).index, y= sales.brand.value_counts().head(10).values)\n",
    "plt.xticks(rotation = 90);"
   ]
  },
  {
   "cell_type": "code",
   "execution_count": 21,
   "metadata": {},
   "outputs": [
    {
     "data": {
      "text/plain": [
       "<AxesSubplot:>"
      ]
     },
     "execution_count": 21,
     "metadata": {},
     "output_type": "execute_result"
    },
    {
     "data": {
      "image/png": "[encoded data removed]",
      "text/plain": [
       "<Figure size 432x288 with 1 Axes>"
      ]
     },
     "metadata": {
      "needs_background": "light"
     },
     "output_type": "display_data"
    }
   ],
   "source": [
    "sales.brand.value_counts().head(10).plot.bar()"
   ]
  },
  {
   "cell_type": "markdown",
   "metadata": {},
   "source": [
    "#### 6. How many items in the “Jewellery” category have no brand associated with them? *"
   ]
  },
  {
   "cell_type": "markdown",
   "metadata": {},
   "source": [
    "answer 6"
   ]
  },
  {
   "cell_type": "code",
   "execution_count": 22,
   "metadata": {},
   "outputs": [
    {
     "data": {
      "text/plain": [
       "10931"
      ]
     },
     "execution_count": 22,
     "metadata": {},
     "output_type": "execute_result"
    }
   ],
   "source": [
    "sales[(sales.category == \"Jewellery\")&(sales.brand.isnull())].product_code.nunique()"
   ]
  },
  {
   "cell_type": "markdown",
   "metadata": {},
   "source": [
    "#### 7. How many brands have between 35 and 55 transactions (inclusive)? (Suggested Chart Type: Bar Chart)"
   ]
  },
  {
   "cell_type": "code",
   "execution_count": 23,
   "metadata": {},
   "outputs": [
    {
     "data": {
      "text/plain": [
       "[['Missy Empire', 55],\n",
       " ['George', 55],\n",
       " ['Cotton On', 53],\n",
       " ['liquid blue', 52],\n",
       " ['Oasis', 52],\n",
       " ['Marlboro', 52],\n",
       " ['Moda Minx', 52],\n",
       " ['EGO', 51],\n",
       " ['Office', 51],\n",
       " ['UGG', 50],\n",
       " ['Chaps', 50],\n",
       " ['Anthropologie', 50],\n",
       " ['Kickers', 50],\n",
       " ['Real Techniques', 50],\n",
       " ['Clinique', 49],\n",
       " ['Bebe', 49],\n",
       " ['Patta', 49],\n",
       " ['Eddie Bauer', 48],\n",
       " ['Slazenger', 48],\n",
       " ['Demonia', 48],\n",
       " ['Vlone', 48],\n",
       " ['Whistles', 48],\n",
       " ['Paul Smith', 48],\n",
       " ['Boux Avenue', 47],\n",
       " ['Pink Boutique', 46],\n",
       " ['J.Crew', 46],\n",
       " ['F&F', 46],\n",
       " ['Fabletics', 46],\n",
       " ['Herschel Supply Co.', 46],\n",
       " ['LF', 45],\n",
       " ['Jerzees', 44],\n",
       " ['Banana Republic', 44],\n",
       " ['Travis Scott', 44],\n",
       " ['Garage', 44],\n",
       " ['Kaws', 44],\n",
       " ['Barbour', 44],\n",
       " ['Weekday', 43],\n",
       " ['Rat & Boa', 43],\n",
       " ['ARE YOU AM I', 43],\n",
       " ['Jeffrey Campbell', 43],\n",
       " ['Gym King', 43],\n",
       " ['Odd Future', 43],\n",
       " ['Skinnydip', 43],\n",
       " ['SIKSILK', 43],\n",
       " ['BaByliss', 42],\n",
       " ['NYX', 42],\n",
       " ['Select Fashion', 42],\n",
       " ['Faded Glory', 42],\n",
       " ['Laura Mercier', 42],\n",
       " ['Tripp NYC', 42],\n",
       " ['Polar Skate Co', 41],\n",
       " ['Karen Millen', 41],\n",
       " ['Buffalo London', 41],\n",
       " ['Mossimo', 41],\n",
       " ['Longchamp', 41],\n",
       " ['Gosha Rubchinskiy', 41],\n",
       " ['Dead Bored Club ', 40],\n",
       " [\"L'Oréal\", 40],\n",
       " ['New Era', 40],\n",
       " ['Betsey Johnson', 39],\n",
       " ['Sergio Tacchini', 39],\n",
       " ['Dune', 39],\n",
       " ['Vineyard Vines', 39],\n",
       " ['Paul & Shark', 38],\n",
       " ['For Love & Lemons', 37],\n",
       " ['BOSS', 37],\n",
       " ['The Hundreds', 37],\n",
       " ['Tillys', 37],\n",
       " ['Nordstrom', 37],\n",
       " ['Joules', 36],\n",
       " ['Maharishi', 36],\n",
       " ['Arizona', 36],\n",
       " ['Helly Hansen', 36],\n",
       " ['Mulberry', 35],\n",
       " ['Chi Chi London', 35],\n",
       " ['Xhilaration', 35],\n",
       " ['Bobbi Brown', 35],\n",
       " ['Mario Badescu', 35],\n",
       " ['Jansport', 35],\n",
       " ['Morgan De Toi', 35],\n",
       " ['ghd', 35]]"
      ]
     },
     "execution_count": 23,
     "metadata": {},
     "output_type": "execute_result"
    }
   ],
   "source": [
    "brands = []\n",
    "for i in sales.brand.value_counts().items():\n",
    "    if 35 <= i[1] <=55:\n",
    "        brands.append([i[0],i[1]])\n",
    "brands\n"
   ]
  },
  {
   "cell_type": "code",
   "execution_count": 24,
   "metadata": {},
   "outputs": [],
   "source": [
    "br=pd.DataFrame(brands, columns =['brand','number'])\n"
   ]
  },
  {
   "cell_type": "code",
   "execution_count": 25,
   "metadata": {},
   "outputs": [
    {
     "data": {
      "text/html": [
       "<div>\n",
       "<style scoped>\n",
       "    .dataframe tbody tr th:only-of-type {\n",
       "        vertical-align: middle;\n",
       "    }\n",
       "\n",
       "    .dataframe tbody tr th {\n",
       "        vertical-align: top;\n",
       "    }\n",
       "\n",
       "    .dataframe thead th {\n",
       "        text-align: right;\n",
       "    }\n",
       "</style>\n",
       "<table border=\"1\" class=\"dataframe\">\n",
       "  <thead>\n",
       "    <tr style=\"text-align: right;\">\n",
       "      <th></th>\n",
       "      <th>brand</th>\n",
       "      <th>number</th>\n",
       "    </tr>\n",
       "  </thead>\n",
       "  <tbody>\n",
       "    <tr>\n",
       "      <th>0</th>\n",
       "      <td>Missy Empire</td>\n",
       "      <td>55</td>\n",
       "    </tr>\n",
       "    <tr>\n",
       "      <th>1</th>\n",
       "      <td>George</td>\n",
       "      <td>55</td>\n",
       "    </tr>\n",
       "    <tr>\n",
       "      <th>2</th>\n",
       "      <td>Cotton On</td>\n",
       "      <td>53</td>\n",
       "    </tr>\n",
       "    <tr>\n",
       "      <th>3</th>\n",
       "      <td>liquid blue</td>\n",
       "      <td>52</td>\n",
       "    </tr>\n",
       "    <tr>\n",
       "      <th>4</th>\n",
       "      <td>Oasis</td>\n",
       "      <td>52</td>\n",
       "    </tr>\n",
       "    <tr>\n",
       "      <th>...</th>\n",
       "      <td>...</td>\n",
       "      <td>...</td>\n",
       "    </tr>\n",
       "    <tr>\n",
       "      <th>76</th>\n",
       "      <td>Bobbi Brown</td>\n",
       "      <td>35</td>\n",
       "    </tr>\n",
       "    <tr>\n",
       "      <th>77</th>\n",
       "      <td>Mario Badescu</td>\n",
       "      <td>35</td>\n",
       "    </tr>\n",
       "    <tr>\n",
       "      <th>78</th>\n",
       "      <td>Jansport</td>\n",
       "      <td>35</td>\n",
       "    </tr>\n",
       "    <tr>\n",
       "      <th>79</th>\n",
       "      <td>Morgan De Toi</td>\n",
       "      <td>35</td>\n",
       "    </tr>\n",
       "    <tr>\n",
       "      <th>80</th>\n",
       "      <td>ghd</td>\n",
       "      <td>35</td>\n",
       "    </tr>\n",
       "  </tbody>\n",
       "</table>\n",
       "<p>81 rows × 2 columns</p>\n",
       "</div>"
      ],
      "text/plain": [
       "            brand  number\n",
       "0    Missy Empire      55\n",
       "1          George      55\n",
       "2       Cotton On      53\n",
       "3     liquid blue      52\n",
       "4           Oasis      52\n",
       "..            ...     ...\n",
       "76    Bobbi Brown      35\n",
       "77  Mario Badescu      35\n",
       "78       Jansport      35\n",
       "79  Morgan De Toi      35\n",
       "80            ghd      35\n",
       "\n",
       "[81 rows x 2 columns]"
      ]
     },
     "execution_count": 25,
     "metadata": {},
     "output_type": "execute_result"
    }
   ],
   "source": [
    "br"
   ]
  },
  {
   "cell_type": "code",
   "execution_count": 26,
   "metadata": {},
   "outputs": [
    {
     "data": {
      "image/png": "[encoded data removed]",
      "text/plain": [
       "<Figure size 1296x720 with 1 Axes>"
      ]
     },
     "metadata": {
      "needs_background": "light"
     },
     "output_type": "display_data"
    }
   ],
   "source": [
    "y= br.number\n",
    "plt.figure(figsize=[18,10])\n",
    "sns.barplot(x=br.brand, y=br.number)\n",
    "for i,v in enumerate(y):\n",
    "    plt.text(i,v, str(v))\n",
    "plt.xticks(rotation = 90);"
   ]
  },
  {
   "cell_type": "markdown",
   "metadata": {},
   "source": [
    "#### How many pairs of shoes were purchased by Australian (AU) buyers?"
   ]
  },
  {
   "cell_type": "code",
   "execution_count": 27,
   "metadata": {},
   "outputs": [
    {
     "data": {
      "text/html": [
       "<div>\n",
       "<style scoped>\n",
       "    .dataframe tbody tr th:only-of-type {\n",
       "        vertical-align: middle;\n",
       "    }\n",
       "\n",
       "    .dataframe tbody tr th {\n",
       "        vertical-align: top;\n",
       "    }\n",
       "\n",
       "    .dataframe thead th {\n",
       "        text-align: right;\n",
       "    }\n",
       "</style>\n",
       "<table border=\"1\" class=\"dataframe\">\n",
       "  <thead>\n",
       "    <tr style=\"text-align: right;\">\n",
       "      <th></th>\n",
       "      <th>buyer_id</th>\n",
       "      <th>buyer_country</th>\n",
       "      <th>seller_id</th>\n",
       "      <th>seller_country</th>\n",
       "      <th>product_code</th>\n",
       "      <th>category</th>\n",
       "      <th>brand</th>\n",
       "      <th>currency</th>\n",
       "      <th>price</th>\n",
       "      <th>date</th>\n",
       "    </tr>\n",
       "  </thead>\n",
       "  <tbody>\n",
       "    <tr>\n",
       "      <th>0</th>\n",
       "      <td>qzpjsi9t0o</td>\n",
       "      <td>GB</td>\n",
       "      <td>6oufpaot</td>\n",
       "      <td>GB</td>\n",
       "      <td>ydecnydr6obf</td>\n",
       "      <td>Dresses</td>\n",
       "      <td>NaN</td>\n",
       "      <td>GBP</td>\n",
       "      <td>19.11</td>\n",
       "      <td>2020-08-03</td>\n",
       "    </tr>\n",
       "    <tr>\n",
       "      <th>1</th>\n",
       "      <td>o79pns1qwo</td>\n",
       "      <td>GB</td>\n",
       "      <td>50xki2yg</td>\n",
       "      <td>GB</td>\n",
       "      <td>38chj507o6h2</td>\n",
       "      <td>Outerwear</td>\n",
       "      <td>Adidas Originals</td>\n",
       "      <td>GBP</td>\n",
       "      <td>15.92</td>\n",
       "      <td>2020-08-09</td>\n",
       "    </tr>\n",
       "    <tr>\n",
       "      <th>2</th>\n",
       "      <td>sjgbjdkhqx</td>\n",
       "      <td>GB</td>\n",
       "      <td>50xki2yg</td>\n",
       "      <td>GB</td>\n",
       "      <td>i9ynyxj5tdp8</td>\n",
       "      <td>Tops - Mens</td>\n",
       "      <td>NaN</td>\n",
       "      <td>GBP</td>\n",
       "      <td>6.37</td>\n",
       "      <td>2020-08-07</td>\n",
       "    </tr>\n",
       "  </tbody>\n",
       "</table>\n",
       "</div>"
      ],
      "text/plain": [
       "     buyer_id buyer_country seller_id seller_country  product_code  \\\n",
       "0  qzpjsi9t0o            GB  6oufpaot             GB  ydecnydr6obf   \n",
       "1  o79pns1qwo            GB  50xki2yg             GB  38chj507o6h2   \n",
       "2  sjgbjdkhqx            GB  50xki2yg             GB  i9ynyxj5tdp8   \n",
       "\n",
       "      category             brand currency  price       date  \n",
       "0      Dresses               NaN      GBP  19.11 2020-08-03  \n",
       "1    Outerwear  Adidas Originals      GBP  15.92 2020-08-09  \n",
       "2  Tops - Mens               NaN      GBP   6.37 2020-08-07  "
      ]
     },
     "execution_count": 27,
     "metadata": {},
     "output_type": "execute_result"
    }
   ],
   "source": [
    "sales.head(3)"
   ]
  },
  {
   "cell_type": "code",
   "execution_count": 28,
   "metadata": {},
   "outputs": [
    {
     "data": {
      "text/plain": [
       "658"
      ]
     },
     "execution_count": 28,
     "metadata": {},
     "output_type": "execute_result"
    }
   ],
   "source": [
    "len(sales[(sales.category == 'Shoes') & (sales.buyer_country == 'AU')])"
   ]
  },
  {
   "cell_type": "markdown",
   "metadata": {},
   "source": [
    "#### Which brand has the highest average transaction value? Bring all values in Euros. (Suggested Chart Type: Horizontal Bar Chart)"
   ]
  },
  {
   "cell_type": "code",
   "execution_count": 29,
   "metadata": {},
   "outputs": [
    {
     "data": {
      "text/plain": [
       "Nike    9575\n",
       "Name: brand, dtype: int64"
      ]
     },
     "execution_count": 29,
     "metadata": {},
     "output_type": "execute_result"
    }
   ],
   "source": [
    "#işlem sayısı olarak\n",
    "new_df.brand.value_counts().head(1)"
   ]
  },
  {
   "cell_type": "code",
   "execution_count": 30,
   "metadata": {
    "scrolled": false
   },
   "outputs": [
    {
     "data": {
      "text/plain": [
       "brand\n",
       "Goyard            338.926936\n",
       "Loewe             334.530369\n",
       "Craig Green       266.792684\n",
       "TAG Heuer         224.586782\n",
       "Emilio Pucci      214.758636\n",
       "                     ...    \n",
       "Popular Sports      4.452175\n",
       "Max Factor          4.329298\n",
       "Bronica             3.329066\n",
       "360 Cashmere        0.950906\n",
       "36572               0.950199\n",
       "Name: total, Length: 1134, dtype: float64"
      ]
     },
     "execution_count": 30,
     "metadata": {},
     "output_type": "execute_result"
    }
   ],
   "source": [
    "#sales olarak\n",
    "new_df.groupby('brand')['total'].mean().sort_values(ascending = False)"
   ]
  },
  {
   "cell_type": "code",
   "execution_count": 31,
   "metadata": {},
   "outputs": [],
   "source": [
    "brands_mean = new_df.groupby('brand')['total'].mean().sort_values(ascending = False)"
   ]
  },
  {
   "cell_type": "code",
   "execution_count": 32,
   "metadata": {},
   "outputs": [
    {
     "data": {
      "image/png": "[encoded data removed]",
      "text/plain": [
       "<Figure size 864x576 with 1 Axes>"
      ]
     },
     "metadata": {
      "needs_background": "light"
     },
     "output_type": "display_data"
    }
   ],
   "source": [
    "y=brands_mean.values[0:10]\n",
    "plt.figure(figsize=[12,8])\n",
    "sns.barplot(x=brands_mean.index[0:10], y=brands_mean.values[0:10])\n",
    "for i,v in enumerate(y):\n",
    "    plt.text(i,v+10, str(round(v,2)),horizontalalignment='center', verticalalignment='center')\n",
    "plt.xticks(rotation = 90);"
   ]
  },
  {
   "cell_type": "markdown",
   "metadata": {},
   "source": [
    "#### What is the total value of items purchased by GB buyers from GB sellers?"
   ]
  },
  {
   "cell_type": "code",
   "execution_count": 33,
   "metadata": {},
   "outputs": [
    {
     "data": {
      "text/plain": [
       "3526745.033129233"
      ]
     },
     "execution_count": 33,
     "metadata": {},
     "output_type": "execute_result"
    }
   ],
   "source": [
    "new_df[(new_df.buyer_country=='GB') & (new_df.seller_country=='GB')]['total'].sum()"
   ]
  },
  {
   "cell_type": "markdown",
   "metadata": {},
   "source": [
    "#### What percentage of US sellers' transactions were purchased by US buyers?"
   ]
  },
  {
   "cell_type": "code",
   "execution_count": null,
   "metadata": {},
   "outputs": [],
   "source": []
  },
  {
   "cell_type": "code",
   "execution_count": 34,
   "metadata": {},
   "outputs": [
    {
     "data": {
      "text/plain": [
       "US     0.982304\n",
       "CA     0.004762\n",
       "RoW    0.004652\n",
       "GB     0.003666\n",
       "AU     0.002789\n",
       "DE     0.000804\n",
       "FR     0.000548\n",
       "IE     0.000341\n",
       "IT     0.000134\n",
       "Name: buyer_country, dtype: float64"
      ]
     },
     "execution_count": 34,
     "metadata": {},
     "output_type": "execute_result"
    }
   ],
   "source": [
    "sales[sales.seller_country == 'US']['buyer_country'].value_counts(normalize = True)"
   ]
  },
  {
   "cell_type": "markdown",
   "metadata": {},
   "source": [
    "#### Which country made the highest percentage of international purchases?"
   ]
  },
  {
   "cell_type": "code",
   "execution_count": 35,
   "metadata": {},
   "outputs": [],
   "source": [
    "international = new_df[new_df.seller_country != new_df.buyer_country]"
   ]
  },
  {
   "cell_type": "code",
   "execution_count": 36,
   "metadata": {},
   "outputs": [
    {
     "data": {
      "text/plain": [
       "RoW    0.272201\n",
       "Name: buyer_country, dtype: float64"
      ]
     },
     "execution_count": 36,
     "metadata": {},
     "output_type": "execute_result"
    }
   ],
   "source": [
    "international.buyer_country.value_counts(normalize=True).head(1)"
   ]
  },
  {
   "cell_type": "markdown",
   "metadata": {},
   "source": [
    "#### Which day has the highest value of purchases?"
   ]
  },
  {
   "cell_type": "code",
   "execution_count": 37,
   "metadata": {},
   "outputs": [
    {
     "data": {
      "text/html": [
       "<div>\n",
       "<style scoped>\n",
       "    .dataframe tbody tr th:only-of-type {\n",
       "        vertical-align: middle;\n",
       "    }\n",
       "\n",
       "    .dataframe tbody tr th {\n",
       "        vertical-align: top;\n",
       "    }\n",
       "\n",
       "    .dataframe thead th {\n",
       "        text-align: right;\n",
       "    }\n",
       "</style>\n",
       "<table border=\"1\" class=\"dataframe\">\n",
       "  <thead>\n",
       "    <tr style=\"text-align: right;\">\n",
       "      <th></th>\n",
       "      <th>date</th>\n",
       "      <th>total</th>\n",
       "    </tr>\n",
       "  </thead>\n",
       "  <tbody>\n",
       "    <tr>\n",
       "      <th>0</th>\n",
       "      <td>2020-08-03</td>\n",
       "      <td>1.005281e+06</td>\n",
       "    </tr>\n",
       "  </tbody>\n",
       "</table>\n",
       "</div>"
      ],
      "text/plain": [
       "        date         total\n",
       "0 2020-08-03  1.005281e+06"
      ]
     },
     "execution_count": 37,
     "metadata": {},
     "output_type": "execute_result"
    }
   ],
   "source": [
    "new_df.groupby('date')['total'].sum().reset_index().sort_values(by='total').tail(1)"
   ]
  },
  {
   "cell_type": "markdown",
   "metadata": {},
   "source": [
    "#### Which category has 2,324 transactions on 7 August?"
   ]
  },
  {
   "cell_type": "code",
   "execution_count": 38,
   "metadata": {},
   "outputs": [],
   "source": [
    "seven_august = new_df[new_df.date == '2020-08-07']"
   ]
  },
  {
   "cell_type": "code",
   "execution_count": 39,
   "metadata": {},
   "outputs": [
    {
     "data": {
      "text/plain": [
       "Jewellery    2324\n",
       "Name: category, dtype: int64"
      ]
     },
     "execution_count": 39,
     "metadata": {},
     "output_type": "execute_result"
    }
   ],
   "source": [
    "seven_august.category.value_counts()[seven_august.category.value_counts() == 2324]"
   ]
  },
  {
   "cell_type": "markdown",
   "metadata": {},
   "source": [
    "#### What percentage of global sales value on 4 August came from US sellers?"
   ]
  },
  {
   "cell_type": "code",
   "execution_count": 40,
   "metadata": {},
   "outputs": [],
   "source": [
    "four_august = new_df[new_df.date == '2020-08-04']"
   ]
  },
  {
   "cell_type": "code",
   "execution_count": 41,
   "metadata": {},
   "outputs": [],
   "source": [
    "#ücret olarak yüzde hesaplama\n",
    "top = four_august.total.sum()"
   ]
  },
  {
   "cell_type": "code",
   "execution_count": 42,
   "metadata": {},
   "outputs": [],
   "source": [
    "top_us = four_august[four_august.seller_country == 'US']['total'].sum()"
   ]
  },
  {
   "cell_type": "code",
   "execution_count": 43,
   "metadata": {},
   "outputs": [],
   "source": [
    "perc = top_us / top"
   ]
  },
  {
   "cell_type": "code",
   "execution_count": 44,
   "metadata": {},
   "outputs": [
    {
     "data": {
      "text/plain": [
       "0.3327165931227377"
      ]
     },
     "execution_count": 44,
     "metadata": {},
     "output_type": "execute_result"
    }
   ],
   "source": [
    "perc"
   ]
  },
  {
   "cell_type": "code",
   "execution_count": 45,
   "metadata": {},
   "outputs": [
    {
     "data": {
      "text/plain": [
       "GB     0.582431\n",
       "US     0.354303\n",
       "AU     0.028606\n",
       "IE     0.011037\n",
       "IT     0.010917\n",
       "CA     0.008024\n",
       "RoW    0.003967\n",
       "DE     0.000567\n",
       "FR     0.000149\n",
       "Name: seller_country, dtype: float64"
      ]
     },
     "execution_count": 45,
     "metadata": {},
     "output_type": "execute_result"
    }
   ],
   "source": [
    "#işlem olarak yüzde heaplama\n",
    "four_august.seller_country.value_counts(normalize = True)"
   ]
  },
  {
   "cell_type": "markdown",
   "metadata": {},
   "source": [
    "#### How many sellers in the US has more than 75 sales?"
   ]
  },
  {
   "cell_type": "code",
   "execution_count": 46,
   "metadata": {},
   "outputs": [
    {
     "data": {
      "text/html": [
       "<div>\n",
       "<style scoped>\n",
       "    .dataframe tbody tr th:only-of-type {\n",
       "        vertical-align: middle;\n",
       "    }\n",
       "\n",
       "    .dataframe tbody tr th {\n",
       "        vertical-align: top;\n",
       "    }\n",
       "\n",
       "    .dataframe thead th {\n",
       "        text-align: right;\n",
       "    }\n",
       "</style>\n",
       "<table border=\"1\" class=\"dataframe\">\n",
       "  <thead>\n",
       "    <tr style=\"text-align: right;\">\n",
       "      <th></th>\n",
       "      <th>buyer_id</th>\n",
       "      <th>buyer_country</th>\n",
       "      <th>seller_id</th>\n",
       "      <th>seller_country</th>\n",
       "      <th>product_code</th>\n",
       "      <th>category</th>\n",
       "      <th>brand</th>\n",
       "      <th>currency</th>\n",
       "      <th>price</th>\n",
       "      <th>date</th>\n",
       "      <th>rate</th>\n",
       "      <th>total</th>\n",
       "    </tr>\n",
       "  </thead>\n",
       "  <tbody>\n",
       "    <tr>\n",
       "      <th>0</th>\n",
       "      <td>qzpjsi9t0o</td>\n",
       "      <td>GB</td>\n",
       "      <td>6oufpaot</td>\n",
       "      <td>GB</td>\n",
       "      <td>ydecnydr6obf</td>\n",
       "      <td>Dresses</td>\n",
       "      <td>NaN</td>\n",
       "      <td>GBP</td>\n",
       "      <td>19.11</td>\n",
       "      <td>2020-08-03</td>\n",
       "      <td>0.89935</td>\n",
       "      <td>21.248680</td>\n",
       "    </tr>\n",
       "    <tr>\n",
       "      <th>1</th>\n",
       "      <td>rd209r8c7c</td>\n",
       "      <td>GB</td>\n",
       "      <td>9p2ansc9</td>\n",
       "      <td>GB</td>\n",
       "      <td>wpxxf59cq7pc</td>\n",
       "      <td>Outerwear - Mens</td>\n",
       "      <td>Adidas Originals</td>\n",
       "      <td>GBP</td>\n",
       "      <td>24.91</td>\n",
       "      <td>2020-08-03</td>\n",
       "      <td>0.89935</td>\n",
       "      <td>27.697782</td>\n",
       "    </tr>\n",
       "    <tr>\n",
       "      <th>2</th>\n",
       "      <td>pqbcrl8azx</td>\n",
       "      <td>GB</td>\n",
       "      <td>r9zmzem8</td>\n",
       "      <td>GB</td>\n",
       "      <td>ua9mmn86wsqy</td>\n",
       "      <td>Tops - Womens</td>\n",
       "      <td>NaN</td>\n",
       "      <td>GBP</td>\n",
       "      <td>19.31</td>\n",
       "      <td>2020-08-03</td>\n",
       "      <td>0.89935</td>\n",
       "      <td>21.471062</td>\n",
       "    </tr>\n",
       "  </tbody>\n",
       "</table>\n",
       "</div>"
      ],
      "text/plain": [
       "     buyer_id buyer_country seller_id seller_country  product_code  \\\n",
       "0  qzpjsi9t0o            GB  6oufpaot             GB  ydecnydr6obf   \n",
       "1  rd209r8c7c            GB  9p2ansc9             GB  wpxxf59cq7pc   \n",
       "2  pqbcrl8azx            GB  r9zmzem8             GB  ua9mmn86wsqy   \n",
       "\n",
       "           category             brand currency  price       date     rate  \\\n",
       "0           Dresses               NaN      GBP  19.11 2020-08-03  0.89935   \n",
       "1  Outerwear - Mens  Adidas Originals      GBP  24.91 2020-08-03  0.89935   \n",
       "2     Tops - Womens               NaN      GBP  19.31 2020-08-03  0.89935   \n",
       "\n",
       "       total  \n",
       "0  21.248680  \n",
       "1  27.697782  \n",
       "2  21.471062  "
      ]
     },
     "execution_count": 46,
     "metadata": {},
     "output_type": "execute_result"
    }
   ],
   "source": [
    "new_df.head(3)"
   ]
  },
  {
   "cell_type": "code",
   "execution_count": 47,
   "metadata": {},
   "outputs": [
    {
     "data": {
      "text/html": [
       "<div>\n",
       "<style scoped>\n",
       "    .dataframe tbody tr th:only-of-type {\n",
       "        vertical-align: middle;\n",
       "    }\n",
       "\n",
       "    .dataframe tbody tr th {\n",
       "        vertical-align: top;\n",
       "    }\n",
       "\n",
       "    .dataframe thead th {\n",
       "        text-align: right;\n",
       "    }\n",
       "</style>\n",
       "<table border=\"1\" class=\"dataframe\">\n",
       "  <thead>\n",
       "    <tr style=\"text-align: right;\">\n",
       "      <th></th>\n",
       "      <th>buyer_id</th>\n",
       "      <th>buyer_country</th>\n",
       "      <th>seller_id</th>\n",
       "      <th>seller_country</th>\n",
       "      <th>product_code</th>\n",
       "      <th>category</th>\n",
       "      <th>brand</th>\n",
       "      <th>currency</th>\n",
       "      <th>price</th>\n",
       "      <th>date</th>\n",
       "    </tr>\n",
       "  </thead>\n",
       "  <tbody>\n",
       "    <tr>\n",
       "      <th>0</th>\n",
       "      <td>qzpjsi9t0o</td>\n",
       "      <td>GB</td>\n",
       "      <td>6oufpaot</td>\n",
       "      <td>GB</td>\n",
       "      <td>ydecnydr6obf</td>\n",
       "      <td>Dresses</td>\n",
       "      <td>NaN</td>\n",
       "      <td>GBP</td>\n",
       "      <td>19.11</td>\n",
       "      <td>2020-08-03</td>\n",
       "    </tr>\n",
       "    <tr>\n",
       "      <th>1</th>\n",
       "      <td>o79pns1qwo</td>\n",
       "      <td>GB</td>\n",
       "      <td>50xki2yg</td>\n",
       "      <td>GB</td>\n",
       "      <td>38chj507o6h2</td>\n",
       "      <td>Outerwear</td>\n",
       "      <td>Adidas Originals</td>\n",
       "      <td>GBP</td>\n",
       "      <td>15.92</td>\n",
       "      <td>2020-08-09</td>\n",
       "    </tr>\n",
       "    <tr>\n",
       "      <th>2</th>\n",
       "      <td>sjgbjdkhqx</td>\n",
       "      <td>GB</td>\n",
       "      <td>50xki2yg</td>\n",
       "      <td>GB</td>\n",
       "      <td>i9ynyxj5tdp8</td>\n",
       "      <td>Tops - Mens</td>\n",
       "      <td>NaN</td>\n",
       "      <td>GBP</td>\n",
       "      <td>6.37</td>\n",
       "      <td>2020-08-07</td>\n",
       "    </tr>\n",
       "  </tbody>\n",
       "</table>\n",
       "</div>"
      ],
      "text/plain": [
       "     buyer_id buyer_country seller_id seller_country  product_code  \\\n",
       "0  qzpjsi9t0o            GB  6oufpaot             GB  ydecnydr6obf   \n",
       "1  o79pns1qwo            GB  50xki2yg             GB  38chj507o6h2   \n",
       "2  sjgbjdkhqx            GB  50xki2yg             GB  i9ynyxj5tdp8   \n",
       "\n",
       "      category             brand currency  price       date  \n",
       "0      Dresses               NaN      GBP  19.11 2020-08-03  \n",
       "1    Outerwear  Adidas Originals      GBP  15.92 2020-08-09  \n",
       "2  Tops - Mens               NaN      GBP   6.37 2020-08-07  "
      ]
     },
     "execution_count": 47,
     "metadata": {},
     "output_type": "execute_result"
    }
   ],
   "source": [
    "sales.head(3)"
   ]
  },
  {
   "cell_type": "code",
   "execution_count": 60,
   "metadata": {},
   "outputs": [],
   "source": [
    "a = sales[sales.seller_country == 'US'].groupby('seller_id')['product_code'].count()"
   ]
  },
  {
   "cell_type": "code",
   "execution_count": 62,
   "metadata": {},
   "outputs": [
    {
     "data": {
      "text/plain": [
       "22"
      ]
     },
     "execution_count": 62,
     "metadata": {},
     "output_type": "execute_result"
    }
   ],
   "source": [
    "len(a[a>75])"
   ]
  },
  {
   "cell_type": "markdown",
   "metadata": {},
   "source": [
    "#### Which seller in the US sold the most in terms of value?"
   ]
  },
  {
   "cell_type": "code",
   "execution_count": 66,
   "metadata": {},
   "outputs": [
    {
     "data": {
      "text/plain": [
       "seller_id\n",
       "pzsiehl0    24279.78\n",
       "Name: price, dtype: float64"
      ]
     },
     "execution_count": 66,
     "metadata": {},
     "output_type": "execute_result"
    }
   ],
   "source": [
    "sales[sales.seller_country == 'US'].groupby('seller_id')['price'].sum().sort_values(ascending = False).head(1)"
   ]
  },
  {
   "cell_type": "markdown",
   "metadata": {},
   "source": [
    "#### Which brand had the largest absolute € difference in average transaction value between domestic and international?"
   ]
  },
  {
   "cell_type": "code",
   "execution_count": 82,
   "metadata": {},
   "outputs": [],
   "source": [
    "international = new_df[new_df.seller_country != new_df.buyer_country].groupby('brand').total.mean().reset_index()"
   ]
  },
  {
   "cell_type": "code",
   "execution_count": 83,
   "metadata": {},
   "outputs": [
    {
     "data": {
      "text/html": [
       "<div>\n",
       "<style scoped>\n",
       "    .dataframe tbody tr th:only-of-type {\n",
       "        vertical-align: middle;\n",
       "    }\n",
       "\n",
       "    .dataframe tbody tr th {\n",
       "        vertical-align: top;\n",
       "    }\n",
       "\n",
       "    .dataframe thead th {\n",
       "        text-align: right;\n",
       "    }\n",
       "</style>\n",
       "<table border=\"1\" class=\"dataframe\">\n",
       "  <thead>\n",
       "    <tr style=\"text-align: right;\">\n",
       "      <th></th>\n",
       "      <th>brand</th>\n",
       "      <th>total</th>\n",
       "    </tr>\n",
       "  </thead>\n",
       "  <tbody>\n",
       "    <tr>\n",
       "      <th>0</th>\n",
       "      <td>&amp; Other Stories</td>\n",
       "      <td>42.343874</td>\n",
       "    </tr>\n",
       "    <tr>\n",
       "      <th>1</th>\n",
       "      <td>11 Degrees</td>\n",
       "      <td>20.156993</td>\n",
       "    </tr>\n",
       "    <tr>\n",
       "      <th>2</th>\n",
       "      <td>6%DOKIDOKI</td>\n",
       "      <td>76.539139</td>\n",
       "    </tr>\n",
       "    <tr>\n",
       "      <th>3</th>\n",
       "      <td>A-COLD-WALL</td>\n",
       "      <td>119.655268</td>\n",
       "    </tr>\n",
       "    <tr>\n",
       "      <th>4</th>\n",
       "      <td>A.P.C.</td>\n",
       "      <td>39.426484</td>\n",
       "    </tr>\n",
       "    <tr>\n",
       "      <th>...</th>\n",
       "      <td>...</td>\n",
       "      <td>...</td>\n",
       "    </tr>\n",
       "    <tr>\n",
       "      <th>435</th>\n",
       "      <td>ZAFUL</td>\n",
       "      <td>17.836962</td>\n",
       "    </tr>\n",
       "    <tr>\n",
       "      <th>436</th>\n",
       "      <td>Zadig &amp; Voltaire</td>\n",
       "      <td>96.444718</td>\n",
       "    </tr>\n",
       "    <tr>\n",
       "      <th>437</th>\n",
       "      <td>Zara</td>\n",
       "      <td>36.004586</td>\n",
       "    </tr>\n",
       "    <tr>\n",
       "      <th>438</th>\n",
       "      <td>Zoeva</td>\n",
       "      <td>21.455947</td>\n",
       "    </tr>\n",
       "    <tr>\n",
       "      <th>439</th>\n",
       "      <td>ghd</td>\n",
       "      <td>104.553967</td>\n",
       "    </tr>\n",
       "  </tbody>\n",
       "</table>\n",
       "<p>440 rows × 2 columns</p>\n",
       "</div>"
      ],
      "text/plain": [
       "                brand       total\n",
       "0     & Other Stories   42.343874\n",
       "1          11 Degrees   20.156993\n",
       "2          6%DOKIDOKI   76.539139\n",
       "3         A-COLD-WALL  119.655268\n",
       "4              A.P.C.   39.426484\n",
       "..                ...         ...\n",
       "435             ZAFUL   17.836962\n",
       "436  Zadig & Voltaire   96.444718\n",
       "437              Zara   36.004586\n",
       "438             Zoeva   21.455947\n",
       "439               ghd  104.553967\n",
       "\n",
       "[440 rows x 2 columns]"
      ]
     },
     "execution_count": 83,
     "metadata": {},
     "output_type": "execute_result"
    }
   ],
   "source": [
    "international"
   ]
  },
  {
   "cell_type": "code",
   "execution_count": 80,
   "metadata": {},
   "outputs": [],
   "source": [
    "domestic = new_df[new_df.seller_country == new_df.buyer_country].groupby('brand').total.mean().reset_index()"
   ]
  },
  {
   "cell_type": "code",
   "execution_count": 81,
   "metadata": {},
   "outputs": [
    {
     "data": {
      "text/html": [
       "<div>\n",
       "<style scoped>\n",
       "    .dataframe tbody tr th:only-of-type {\n",
       "        vertical-align: middle;\n",
       "    }\n",
       "\n",
       "    .dataframe tbody tr th {\n",
       "        vertical-align: top;\n",
       "    }\n",
       "\n",
       "    .dataframe thead th {\n",
       "        text-align: right;\n",
       "    }\n",
       "</style>\n",
       "<table border=\"1\" class=\"dataframe\">\n",
       "  <thead>\n",
       "    <tr style=\"text-align: right;\">\n",
       "      <th></th>\n",
       "      <th>brand</th>\n",
       "      <th>total</th>\n",
       "    </tr>\n",
       "  </thead>\n",
       "  <tbody>\n",
       "    <tr>\n",
       "      <th>0</th>\n",
       "      <td>&amp; Other Stories</td>\n",
       "      <td>32.610605</td>\n",
       "    </tr>\n",
       "    <tr>\n",
       "      <th>1</th>\n",
       "      <td>032c</td>\n",
       "      <td>36.693996</td>\n",
       "    </tr>\n",
       "    <tr>\n",
       "      <th>2</th>\n",
       "      <td>11 Degrees</td>\n",
       "      <td>13.971744</td>\n",
       "    </tr>\n",
       "    <tr>\n",
       "      <th>3</th>\n",
       "      <td>1822 Denim</td>\n",
       "      <td>18.089935</td>\n",
       "    </tr>\n",
       "    <tr>\n",
       "      <th>4</th>\n",
       "      <td>3.1 Phillip Lim</td>\n",
       "      <td>32.805235</td>\n",
       "    </tr>\n",
       "    <tr>\n",
       "      <th>...</th>\n",
       "      <td>...</td>\n",
       "      <td>...</td>\n",
       "    </tr>\n",
       "    <tr>\n",
       "      <th>1116</th>\n",
       "      <td>ghd</td>\n",
       "      <td>59.621800</td>\n",
       "    </tr>\n",
       "    <tr>\n",
       "      <th>1117</th>\n",
       "      <td>kensie</td>\n",
       "      <td>19.751443</td>\n",
       "    </tr>\n",
       "    <tr>\n",
       "      <th>1118</th>\n",
       "      <td>liquid blue</td>\n",
       "      <td>38.920505</td>\n",
       "    </tr>\n",
       "    <tr>\n",
       "      <th>1119</th>\n",
       "      <td>mixxmix</td>\n",
       "      <td>15.924378</td>\n",
       "    </tr>\n",
       "    <tr>\n",
       "      <th>1120</th>\n",
       "      <td>philosophy</td>\n",
       "      <td>22.519293</td>\n",
       "    </tr>\n",
       "  </tbody>\n",
       "</table>\n",
       "<p>1121 rows × 2 columns</p>\n",
       "</div>"
      ],
      "text/plain": [
       "                brand      total\n",
       "0     & Other Stories  32.610605\n",
       "1                032c  36.693996\n",
       "2          11 Degrees  13.971744\n",
       "3          1822 Denim  18.089935\n",
       "4     3.1 Phillip Lim  32.805235\n",
       "...               ...        ...\n",
       "1116              ghd  59.621800\n",
       "1117           kensie  19.751443\n",
       "1118      liquid blue  38.920505\n",
       "1119          mixxmix  15.924378\n",
       "1120       philosophy  22.519293\n",
       "\n",
       "[1121 rows x 2 columns]"
      ]
     },
     "execution_count": 81,
     "metadata": {},
     "output_type": "execute_result"
    }
   ],
   "source": [
    "domestic"
   ]
  },
  {
   "cell_type": "code",
   "execution_count": 87,
   "metadata": {},
   "outputs": [],
   "source": [
    "international_domestic = international.merge(domestic, how = 'inner', on = 'brand')"
   ]
  },
  {
   "cell_type": "code",
   "execution_count": 88,
   "metadata": {},
   "outputs": [
    {
     "data": {
      "text/html": [
       "<div>\n",
       "<style scoped>\n",
       "    .dataframe tbody tr th:only-of-type {\n",
       "        vertical-align: middle;\n",
       "    }\n",
       "\n",
       "    .dataframe tbody tr th {\n",
       "        vertical-align: top;\n",
       "    }\n",
       "\n",
       "    .dataframe thead th {\n",
       "        text-align: right;\n",
       "    }\n",
       "</style>\n",
       "<table border=\"1\" class=\"dataframe\">\n",
       "  <thead>\n",
       "    <tr style=\"text-align: right;\">\n",
       "      <th></th>\n",
       "      <th>brand</th>\n",
       "      <th>total_x</th>\n",
       "      <th>total_y</th>\n",
       "    </tr>\n",
       "  </thead>\n",
       "  <tbody>\n",
       "    <tr>\n",
       "      <th>0</th>\n",
       "      <td>&amp; Other Stories</td>\n",
       "      <td>42.343874</td>\n",
       "      <td>32.610605</td>\n",
       "    </tr>\n",
       "    <tr>\n",
       "      <th>1</th>\n",
       "      <td>11 Degrees</td>\n",
       "      <td>20.156993</td>\n",
       "      <td>13.971744</td>\n",
       "    </tr>\n",
       "    <tr>\n",
       "      <th>2</th>\n",
       "      <td>6%DOKIDOKI</td>\n",
       "      <td>76.539139</td>\n",
       "      <td>29.101939</td>\n",
       "    </tr>\n",
       "    <tr>\n",
       "      <th>3</th>\n",
       "      <td>A-COLD-WALL</td>\n",
       "      <td>119.655268</td>\n",
       "      <td>56.174666</td>\n",
       "    </tr>\n",
       "    <tr>\n",
       "      <th>4</th>\n",
       "      <td>A.P.C.</td>\n",
       "      <td>39.426484</td>\n",
       "      <td>38.244340</td>\n",
       "    </tr>\n",
       "    <tr>\n",
       "      <th>...</th>\n",
       "      <td>...</td>\n",
       "      <td>...</td>\n",
       "      <td>...</td>\n",
       "    </tr>\n",
       "    <tr>\n",
       "      <th>422</th>\n",
       "      <td>ZAFUL</td>\n",
       "      <td>17.836962</td>\n",
       "      <td>14.535228</td>\n",
       "    </tr>\n",
       "    <tr>\n",
       "      <th>423</th>\n",
       "      <td>Zadig &amp; Voltaire</td>\n",
       "      <td>96.444718</td>\n",
       "      <td>45.426505</td>\n",
       "    </tr>\n",
       "    <tr>\n",
       "      <th>424</th>\n",
       "      <td>Zara</td>\n",
       "      <td>36.004586</td>\n",
       "      <td>20.067448</td>\n",
       "    </tr>\n",
       "    <tr>\n",
       "      <th>425</th>\n",
       "      <td>Zoeva</td>\n",
       "      <td>21.455947</td>\n",
       "      <td>8.567322</td>\n",
       "    </tr>\n",
       "    <tr>\n",
       "      <th>426</th>\n",
       "      <td>ghd</td>\n",
       "      <td>104.553967</td>\n",
       "      <td>59.621800</td>\n",
       "    </tr>\n",
       "  </tbody>\n",
       "</table>\n",
       "<p>427 rows × 3 columns</p>\n",
       "</div>"
      ],
      "text/plain": [
       "                brand     total_x    total_y\n",
       "0     & Other Stories   42.343874  32.610605\n",
       "1          11 Degrees   20.156993  13.971744\n",
       "2          6%DOKIDOKI   76.539139  29.101939\n",
       "3         A-COLD-WALL  119.655268  56.174666\n",
       "4              A.P.C.   39.426484  38.244340\n",
       "..                ...         ...        ...\n",
       "422             ZAFUL   17.836962  14.535228\n",
       "423  Zadig & Voltaire   96.444718  45.426505\n",
       "424              Zara   36.004586  20.067448\n",
       "425             Zoeva   21.455947   8.567322\n",
       "426               ghd  104.553967  59.621800\n",
       "\n",
       "[427 rows x 3 columns]"
      ]
     },
     "execution_count": 88,
     "metadata": {},
     "output_type": "execute_result"
    }
   ],
   "source": [
    "international_domestic"
   ]
  },
  {
   "cell_type": "code",
   "execution_count": 89,
   "metadata": {},
   "outputs": [],
   "source": [
    "international_domestic['diffirence'] = international_domestic.total_x - international_domestic.total_y"
   ]
  },
  {
   "cell_type": "code",
   "execution_count": 92,
   "metadata": {},
   "outputs": [
    {
     "data": {
      "text/html": [
       "<div>\n",
       "<style scoped>\n",
       "    .dataframe tbody tr th:only-of-type {\n",
       "        vertical-align: middle;\n",
       "    }\n",
       "\n",
       "    .dataframe tbody tr th {\n",
       "        vertical-align: top;\n",
       "    }\n",
       "\n",
       "    .dataframe thead th {\n",
       "        text-align: right;\n",
       "    }\n",
       "</style>\n",
       "<table border=\"1\" class=\"dataframe\">\n",
       "  <thead>\n",
       "    <tr style=\"text-align: right;\">\n",
       "      <th></th>\n",
       "      <th>brand</th>\n",
       "      <th>total_x</th>\n",
       "      <th>total_y</th>\n",
       "      <th>diffirence</th>\n",
       "    </tr>\n",
       "  </thead>\n",
       "  <tbody>\n",
       "    <tr>\n",
       "      <th>146</th>\n",
       "      <td>Goyard</td>\n",
       "      <td>611.456926</td>\n",
       "      <td>202.661941</td>\n",
       "      <td>408.794985</td>\n",
       "    </tr>\n",
       "  </tbody>\n",
       "</table>\n",
       "</div>"
      ],
      "text/plain": [
       "      brand     total_x     total_y  diffirence\n",
       "146  Goyard  611.456926  202.661941  408.794985"
      ]
     },
     "execution_count": 92,
     "metadata": {},
     "output_type": "execute_result"
    }
   ],
   "source": [
    "international_domestic[international_domestic.diffirence == international_domestic.diffirence.max()]"
   ]
  },
  {
   "cell_type": "code",
   "execution_count": 94,
   "metadata": {},
   "outputs": [
    {
     "data": {
      "text/html": [
       "<div>\n",
       "<style scoped>\n",
       "    .dataframe tbody tr th:only-of-type {\n",
       "        vertical-align: middle;\n",
       "    }\n",
       "\n",
       "    .dataframe tbody tr th {\n",
       "        vertical-align: top;\n",
       "    }\n",
       "\n",
       "    .dataframe thead th {\n",
       "        text-align: right;\n",
       "    }\n",
       "</style>\n",
       "<table border=\"1\" class=\"dataframe\">\n",
       "  <thead>\n",
       "    <tr style=\"text-align: right;\">\n",
       "      <th></th>\n",
       "      <th>brand</th>\n",
       "      <th>total_x</th>\n",
       "      <th>total_y</th>\n",
       "      <th>diffirence</th>\n",
       "    </tr>\n",
       "  </thead>\n",
       "  <tbody>\n",
       "    <tr>\n",
       "      <th>146</th>\n",
       "      <td>Goyard</td>\n",
       "      <td>611.456926</td>\n",
       "      <td>202.661941</td>\n",
       "      <td>408.794985</td>\n",
       "    </tr>\n",
       "    <tr>\n",
       "      <th>215</th>\n",
       "      <td>Loewe</td>\n",
       "      <td>461.082817</td>\n",
       "      <td>81.425474</td>\n",
       "      <td>379.657343</td>\n",
       "    </tr>\n",
       "    <tr>\n",
       "      <th>159</th>\n",
       "      <td>Hermes</td>\n",
       "      <td>267.749153</td>\n",
       "      <td>57.048961</td>\n",
       "      <td>210.700192</td>\n",
       "    </tr>\n",
       "    <tr>\n",
       "      <th>270</th>\n",
       "      <td>Needles</td>\n",
       "      <td>314.338133</td>\n",
       "      <td>115.458082</td>\n",
       "      <td>198.880051</td>\n",
       "    </tr>\n",
       "    <tr>\n",
       "      <th>182</th>\n",
       "      <td>Jean-Paul Gaultier</td>\n",
       "      <td>255.332000</td>\n",
       "      <td>62.671312</td>\n",
       "      <td>192.660687</td>\n",
       "    </tr>\n",
       "    <tr>\n",
       "      <th>...</th>\n",
       "      <td>...</td>\n",
       "      <td>...</td>\n",
       "      <td>...</td>\n",
       "      <td>...</td>\n",
       "    </tr>\n",
       "    <tr>\n",
       "      <th>42</th>\n",
       "      <td>Balmain</td>\n",
       "      <td>24.829043</td>\n",
       "      <td>74.543019</td>\n",
       "      <td>-49.713976</td>\n",
       "    </tr>\n",
       "    <tr>\n",
       "      <th>229</th>\n",
       "      <td>Maison Margiela</td>\n",
       "      <td>115.535897</td>\n",
       "      <td>167.815184</td>\n",
       "      <td>-52.279287</td>\n",
       "    </tr>\n",
       "    <tr>\n",
       "      <th>233</th>\n",
       "      <td>Mansur Gavriel</td>\n",
       "      <td>109.078779</td>\n",
       "      <td>177.147715</td>\n",
       "      <td>-68.068936</td>\n",
       "    </tr>\n",
       "    <tr>\n",
       "      <th>335</th>\n",
       "      <td>Rick Owens</td>\n",
       "      <td>60.112860</td>\n",
       "      <td>181.538313</td>\n",
       "      <td>-121.425453</td>\n",
       "    </tr>\n",
       "    <tr>\n",
       "      <th>68</th>\n",
       "      <td>Canada Goose</td>\n",
       "      <td>6.195821</td>\n",
       "      <td>216.424622</td>\n",
       "      <td>-210.228801</td>\n",
       "    </tr>\n",
       "  </tbody>\n",
       "</table>\n",
       "<p>427 rows × 4 columns</p>\n",
       "</div>"
      ],
      "text/plain": [
       "                  brand     total_x     total_y  diffirence\n",
       "146              Goyard  611.456926  202.661941  408.794985\n",
       "215               Loewe  461.082817   81.425474  379.657343\n",
       "159              Hermes  267.749153   57.048961  210.700192\n",
       "270             Needles  314.338133  115.458082  198.880051\n",
       "182  Jean-Paul Gaultier  255.332000   62.671312  192.660687\n",
       "..                  ...         ...         ...         ...\n",
       "42              Balmain   24.829043   74.543019  -49.713976\n",
       "229     Maison Margiela  115.535897  167.815184  -52.279287\n",
       "233      Mansur Gavriel  109.078779  177.147715  -68.068936\n",
       "335          Rick Owens   60.112860  181.538313 -121.425453\n",
       "68         Canada Goose    6.195821  216.424622 -210.228801\n",
       "\n",
       "[427 rows x 4 columns]"
      ]
     },
     "execution_count": 94,
     "metadata": {},
     "output_type": "execute_result"
    }
   ],
   "source": [
    "international_domestic.sort_values(by = 'diffirence', ascending= False)"
   ]
  }
 ],
 "metadata": {
  "kernelspec": {
   "display_name": "Python 3",
   "language": "python",
   "name": "python3"
  },
  "language_info": {
   "codemirror_mode": {
    "name": "ipython",
    "version": 3
   },
   "file_extension": ".py",
   "mimetype": "text/x-python",
   "name": "python",
   "nbconvert_exporter": "python",
   "pygments_lexer": "ipython3",
   "version": "3.8.5"
  }
 },
 "nbformat": 4,
 "nbformat_minor": 5
}
