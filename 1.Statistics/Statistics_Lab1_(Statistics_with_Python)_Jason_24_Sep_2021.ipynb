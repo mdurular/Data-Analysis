{
  "nbformat": 4,
  "nbformat_minor": 0,
  "metadata": {
    "colab": {
      "name": "Statistics-Lab1 (Statistics with Python) @Jason - 24 Sep 2021.ipynb",
      "provenance": [],
      "collapsed_sections": []
    },
    "kernelspec": {
      "name": "python3",
      "display_name": "Python 3"
    }
  },
  "cells": [
    {
      "cell_type": "markdown",
      "metadata": {
        "id": "9kn7o5DQYI_s"
      },
      "source": [
        "## **Seaborn Dataset & Describing Data**"
      ]
    },
    {
      "cell_type": "markdown",
      "metadata": {
        "id": "6O5leNisYzFZ"
      },
      "source": [
        "Import all necessary libraries "
      ]
    },
    {
      "cell_type": "code",
      "metadata": {
        "id": "Ad5_ERPF3xZo"
      },
      "source": [
        "import seaborn as sns\n",
        "import numpy as np"
      ],
      "execution_count": 1,
      "outputs": []
    },
    {
      "cell_type": "markdown",
      "metadata": {
        "id": "oKUn9gkR4Goh"
      },
      "source": [
        "Seaborn comes with few built-in datasets.\n",
        "[Seaborn Datasets](https://github.com/mwaskom/seaborn-data)"
      ]
    },
    {
      "cell_type": "code",
      "metadata": {
        "colab": {
          "base_uri": "https://localhost:8080/"
        },
        "id": "nXNTdPIJ4wPY",
        "outputId": "cc605656-b4e6-4c73-ec1e-6ec808950662"
      },
      "source": [
        "sns.get_dataset_names() #list of Seaborn built-in datasets"
      ],
      "execution_count": 2,
      "outputs": [
        {
          "output_type": "execute_result",
          "data": {
            "text/plain": [
              "['anagrams',\n",
              " 'anscombe',\n",
              " 'attention',\n",
              " 'brain_networks',\n",
              " 'car_crashes',\n",
              " 'diamonds',\n",
              " 'dots',\n",
              " 'exercise',\n",
              " 'flights',\n",
              " 'fmri',\n",
              " 'gammas',\n",
              " 'geyser',\n",
              " 'iris',\n",
              " 'mpg',\n",
              " 'penguins',\n",
              " 'planets',\n",
              " 'tips',\n",
              " 'titanic']"
            ]
          },
          "metadata": {},
          "execution_count": 2
        }
      ]
    },
    {
      "cell_type": "markdown",
      "metadata": {
        "id": "V8NBLYfsZ9NM"
      },
      "source": [
        "Load mpg dataset from the online repository."
      ]
    },
    {
      "cell_type": "code",
      "metadata": {
        "id": "3TguzTdz31KM"
      },
      "source": [
        "df = sns.load_dataset(\"mpg\")"
      ],
      "execution_count": 3,
      "outputs": []
    },
    {
      "cell_type": "code",
      "metadata": {
        "colab": {
          "base_uri": "https://localhost:8080/",
          "height": 422
        },
        "id": "ctDK9lJU31QR",
        "outputId": "09952174-0bc0-4b2a-8ad8-9285444bef8d"
      },
      "source": [
        "df"
      ],
      "execution_count": 4,
      "outputs": [
        {
          "output_type": "execute_result",
          "data": {
            "text/html": [
              "<div>\n",
              "<style scoped>\n",
              "    .dataframe tbody tr th:only-of-type {\n",
              "        vertical-align: middle;\n",
              "    }\n",
              "\n",
              "    .dataframe tbody tr th {\n",
              "        vertical-align: top;\n",
              "    }\n",
              "\n",
              "    .dataframe thead th {\n",
              "        text-align: right;\n",
              "    }\n",
              "</style>\n",
              "<table border=\"1\" class=\"dataframe\">\n",
              "  <thead>\n",
              "    <tr style=\"text-align: right;\">\n",
              "      <th></th>\n",
              "      <th>mpg</th>\n",
              "      <th>cylinders</th>\n",
              "      <th>displacement</th>\n",
              "      <th>horsepower</th>\n",
              "      <th>weight</th>\n",
              "      <th>acceleration</th>\n",
              "      <th>model_year</th>\n",
              "      <th>origin</th>\n",
              "      <th>name</th>\n",
              "    </tr>\n",
              "  </thead>\n",
              "  <tbody>\n",
              "    <tr>\n",
              "      <th>0</th>\n",
              "      <td>18.0</td>\n",
              "      <td>8</td>\n",
              "      <td>307.0</td>\n",
              "      <td>130.0</td>\n",
              "      <td>3504</td>\n",
              "      <td>12.0</td>\n",
              "      <td>70</td>\n",
              "      <td>usa</td>\n",
              "      <td>chevrolet chevelle malibu</td>\n",
              "    </tr>\n",
              "    <tr>\n",
              "      <th>1</th>\n",
              "      <td>15.0</td>\n",
              "      <td>8</td>\n",
              "      <td>350.0</td>\n",
              "      <td>165.0</td>\n",
              "      <td>3693</td>\n",
              "      <td>11.5</td>\n",
              "      <td>70</td>\n",
              "      <td>usa</td>\n",
              "      <td>buick skylark 320</td>\n",
              "    </tr>\n",
              "    <tr>\n",
              "      <th>2</th>\n",
              "      <td>18.0</td>\n",
              "      <td>8</td>\n",
              "      <td>318.0</td>\n",
              "      <td>150.0</td>\n",
              "      <td>3436</td>\n",
              "      <td>11.0</td>\n",
              "      <td>70</td>\n",
              "      <td>usa</td>\n",
              "      <td>plymouth satellite</td>\n",
              "    </tr>\n",
              "    <tr>\n",
              "      <th>3</th>\n",
              "      <td>16.0</td>\n",
              "      <td>8</td>\n",
              "      <td>304.0</td>\n",
              "      <td>150.0</td>\n",
              "      <td>3433</td>\n",
              "      <td>12.0</td>\n",
              "      <td>70</td>\n",
              "      <td>usa</td>\n",
              "      <td>amc rebel sst</td>\n",
              "    </tr>\n",
              "    <tr>\n",
              "      <th>4</th>\n",
              "      <td>17.0</td>\n",
              "      <td>8</td>\n",
              "      <td>302.0</td>\n",
              "      <td>140.0</td>\n",
              "      <td>3449</td>\n",
              "      <td>10.5</td>\n",
              "      <td>70</td>\n",
              "      <td>usa</td>\n",
              "      <td>ford torino</td>\n",
              "    </tr>\n",
              "    <tr>\n",
              "      <th>...</th>\n",
              "      <td>...</td>\n",
              "      <td>...</td>\n",
              "      <td>...</td>\n",
              "      <td>...</td>\n",
              "      <td>...</td>\n",
              "      <td>...</td>\n",
              "      <td>...</td>\n",
              "      <td>...</td>\n",
              "      <td>...</td>\n",
              "    </tr>\n",
              "    <tr>\n",
              "      <th>393</th>\n",
              "      <td>27.0</td>\n",
              "      <td>4</td>\n",
              "      <td>140.0</td>\n",
              "      <td>86.0</td>\n",
              "      <td>2790</td>\n",
              "      <td>15.6</td>\n",
              "      <td>82</td>\n",
              "      <td>usa</td>\n",
              "      <td>ford mustang gl</td>\n",
              "    </tr>\n",
              "    <tr>\n",
              "      <th>394</th>\n",
              "      <td>44.0</td>\n",
              "      <td>4</td>\n",
              "      <td>97.0</td>\n",
              "      <td>52.0</td>\n",
              "      <td>2130</td>\n",
              "      <td>24.6</td>\n",
              "      <td>82</td>\n",
              "      <td>europe</td>\n",
              "      <td>vw pickup</td>\n",
              "    </tr>\n",
              "    <tr>\n",
              "      <th>395</th>\n",
              "      <td>32.0</td>\n",
              "      <td>4</td>\n",
              "      <td>135.0</td>\n",
              "      <td>84.0</td>\n",
              "      <td>2295</td>\n",
              "      <td>11.6</td>\n",
              "      <td>82</td>\n",
              "      <td>usa</td>\n",
              "      <td>dodge rampage</td>\n",
              "    </tr>\n",
              "    <tr>\n",
              "      <th>396</th>\n",
              "      <td>28.0</td>\n",
              "      <td>4</td>\n",
              "      <td>120.0</td>\n",
              "      <td>79.0</td>\n",
              "      <td>2625</td>\n",
              "      <td>18.6</td>\n",
              "      <td>82</td>\n",
              "      <td>usa</td>\n",
              "      <td>ford ranger</td>\n",
              "    </tr>\n",
              "    <tr>\n",
              "      <th>397</th>\n",
              "      <td>31.0</td>\n",
              "      <td>4</td>\n",
              "      <td>119.0</td>\n",
              "      <td>82.0</td>\n",
              "      <td>2720</td>\n",
              "      <td>19.4</td>\n",
              "      <td>82</td>\n",
              "      <td>usa</td>\n",
              "      <td>chevy s-10</td>\n",
              "    </tr>\n",
              "  </tbody>\n",
              "</table>\n",
              "<p>398 rows × 9 columns</p>\n",
              "</div>"
            ],
            "text/plain": [
              "      mpg  cylinders  ...  origin                       name\n",
              "0    18.0          8  ...     usa  chevrolet chevelle malibu\n",
              "1    15.0          8  ...     usa          buick skylark 320\n",
              "2    18.0          8  ...     usa         plymouth satellite\n",
              "3    16.0          8  ...     usa              amc rebel sst\n",
              "4    17.0          8  ...     usa                ford torino\n",
              "..    ...        ...  ...     ...                        ...\n",
              "393  27.0          4  ...     usa            ford mustang gl\n",
              "394  44.0          4  ...  europe                  vw pickup\n",
              "395  32.0          4  ...     usa              dodge rampage\n",
              "396  28.0          4  ...     usa                ford ranger\n",
              "397  31.0          4  ...     usa                 chevy s-10\n",
              "\n",
              "[398 rows x 9 columns]"
            ]
          },
          "metadata": {},
          "execution_count": 4
        }
      ]
    },
    {
      "cell_type": "markdown",
      "metadata": {
        "id": "z2cIcYvmaCXm"
      },
      "source": [
        "Return a tuple representing the dimensionality of the DataFrame."
      ]
    },
    {
      "cell_type": "code",
      "metadata": {
        "colab": {
          "base_uri": "https://localhost:8080/"
        },
        "id": "X6A3npOm31TP",
        "outputId": "35dff6dc-53bb-4c5d-b216-2d7318255631"
      },
      "source": [
        "df.shape "
      ],
      "execution_count": 5,
      "outputs": [
        {
          "output_type": "execute_result",
          "data": {
            "text/plain": [
              "(398, 9)"
            ]
          },
          "metadata": {},
          "execution_count": 5
        }
      ]
    },
    {
      "cell_type": "code",
      "metadata": {
        "colab": {
          "base_uri": "https://localhost:8080/"
        },
        "id": "xUYLUxUAbLqx",
        "outputId": "f1c54ca3-5c05-469a-c7b9-1cb8de62d41e"
      },
      "source": [
        "df.shape[1]"
      ],
      "execution_count": 6,
      "outputs": [
        {
          "output_type": "execute_result",
          "data": {
            "text/plain": [
              "9"
            ]
          },
          "metadata": {},
          "execution_count": 6
        }
      ]
    },
    {
      "cell_type": "markdown",
      "metadata": {
        "id": "aM8PpHv4aE8C"
      },
      "source": [
        "Return column labels of the DataFrame."
      ]
    },
    {
      "cell_type": "code",
      "metadata": {
        "colab": {
          "base_uri": "https://localhost:8080/"
        },
        "id": "AiW5ejJe47s9",
        "outputId": "864b50c4-c07d-4720-bc2b-ca785fc98c7d"
      },
      "source": [
        "df.columns"
      ],
      "execution_count": 7,
      "outputs": [
        {
          "output_type": "execute_result",
          "data": {
            "text/plain": [
              "Index(['mpg', 'cylinders', 'displacement', 'horsepower', 'weight',\n",
              "       'acceleration', 'model_year', 'origin', 'name'],\n",
              "      dtype='object')"
            ]
          },
          "metadata": {},
          "execution_count": 7
        }
      ]
    },
    {
      "cell_type": "markdown",
      "metadata": {
        "id": "rxj3OAxlaRLm"
      },
      "source": [
        "Describe the properties of this dataframe like column datatype etc."
      ]
    },
    {
      "cell_type": "code",
      "metadata": {
        "colab": {
          "base_uri": "https://localhost:8080/"
        },
        "id": "_99M0Jri50ke",
        "outputId": "57ca2415-c708-41e1-eb4e-638a35ca542c"
      },
      "source": [
        "df.info()"
      ],
      "execution_count": 8,
      "outputs": [
        {
          "output_type": "stream",
          "name": "stdout",
          "text": [
            "<class 'pandas.core.frame.DataFrame'>\n",
            "RangeIndex: 398 entries, 0 to 397\n",
            "Data columns (total 9 columns):\n",
            " #   Column        Non-Null Count  Dtype  \n",
            "---  ------        --------------  -----  \n",
            " 0   mpg           398 non-null    float64\n",
            " 1   cylinders     398 non-null    int64  \n",
            " 2   displacement  398 non-null    float64\n",
            " 3   horsepower    392 non-null    float64\n",
            " 4   weight        398 non-null    int64  \n",
            " 5   acceleration  398 non-null    float64\n",
            " 6   model_year    398 non-null    int64  \n",
            " 7   origin        398 non-null    object \n",
            " 8   name          398 non-null    object \n",
            "dtypes: float64(4), int64(3), object(2)\n",
            "memory usage: 28.1+ KB\n"
          ]
        }
      ]
    },
    {
      "cell_type": "markdown",
      "metadata": {
        "id": "mwSNp2BJacm-"
      },
      "source": [
        "Return a subset of the DataFrame’s columns based on the column dtypes."
      ]
    },
    {
      "cell_type": "code",
      "metadata": {
        "colab": {
          "base_uri": "https://localhost:8080/",
          "height": 422
        },
        "id": "qJbxxYkX6MJr",
        "outputId": "1ac0fe12-45fb-48ba-9dad-37bef3664ad0"
      },
      "source": [
        "df.select_dtypes(include=['object'])"
      ],
      "execution_count": 9,
      "outputs": [
        {
          "output_type": "execute_result",
          "data": {
            "text/html": [
              "<div>\n",
              "<style scoped>\n",
              "    .dataframe tbody tr th:only-of-type {\n",
              "        vertical-align: middle;\n",
              "    }\n",
              "\n",
              "    .dataframe tbody tr th {\n",
              "        vertical-align: top;\n",
              "    }\n",
              "\n",
              "    .dataframe thead th {\n",
              "        text-align: right;\n",
              "    }\n",
              "</style>\n",
              "<table border=\"1\" class=\"dataframe\">\n",
              "  <thead>\n",
              "    <tr style=\"text-align: right;\">\n",
              "      <th></th>\n",
              "      <th>origin</th>\n",
              "      <th>name</th>\n",
              "    </tr>\n",
              "  </thead>\n",
              "  <tbody>\n",
              "    <tr>\n",
              "      <th>0</th>\n",
              "      <td>usa</td>\n",
              "      <td>chevrolet chevelle malibu</td>\n",
              "    </tr>\n",
              "    <tr>\n",
              "      <th>1</th>\n",
              "      <td>usa</td>\n",
              "      <td>buick skylark 320</td>\n",
              "    </tr>\n",
              "    <tr>\n",
              "      <th>2</th>\n",
              "      <td>usa</td>\n",
              "      <td>plymouth satellite</td>\n",
              "    </tr>\n",
              "    <tr>\n",
              "      <th>3</th>\n",
              "      <td>usa</td>\n",
              "      <td>amc rebel sst</td>\n",
              "    </tr>\n",
              "    <tr>\n",
              "      <th>4</th>\n",
              "      <td>usa</td>\n",
              "      <td>ford torino</td>\n",
              "    </tr>\n",
              "    <tr>\n",
              "      <th>...</th>\n",
              "      <td>...</td>\n",
              "      <td>...</td>\n",
              "    </tr>\n",
              "    <tr>\n",
              "      <th>393</th>\n",
              "      <td>usa</td>\n",
              "      <td>ford mustang gl</td>\n",
              "    </tr>\n",
              "    <tr>\n",
              "      <th>394</th>\n",
              "      <td>europe</td>\n",
              "      <td>vw pickup</td>\n",
              "    </tr>\n",
              "    <tr>\n",
              "      <th>395</th>\n",
              "      <td>usa</td>\n",
              "      <td>dodge rampage</td>\n",
              "    </tr>\n",
              "    <tr>\n",
              "      <th>396</th>\n",
              "      <td>usa</td>\n",
              "      <td>ford ranger</td>\n",
              "    </tr>\n",
              "    <tr>\n",
              "      <th>397</th>\n",
              "      <td>usa</td>\n",
              "      <td>chevy s-10</td>\n",
              "    </tr>\n",
              "  </tbody>\n",
              "</table>\n",
              "<p>398 rows × 2 columns</p>\n",
              "</div>"
            ],
            "text/plain": [
              "     origin                       name\n",
              "0       usa  chevrolet chevelle malibu\n",
              "1       usa          buick skylark 320\n",
              "2       usa         plymouth satellite\n",
              "3       usa              amc rebel sst\n",
              "4       usa                ford torino\n",
              "..      ...                        ...\n",
              "393     usa            ford mustang gl\n",
              "394  europe                  vw pickup\n",
              "395     usa              dodge rampage\n",
              "396     usa                ford ranger\n",
              "397     usa                 chevy s-10\n",
              "\n",
              "[398 rows x 2 columns]"
            ]
          },
          "metadata": {},
          "execution_count": 9
        }
      ]
    },
    {
      "cell_type": "code",
      "metadata": {
        "colab": {
          "base_uri": "https://localhost:8080/",
          "height": 422
        },
        "id": "pL9a5I5Y6O_J",
        "outputId": "830fd908-1a2d-41dd-ebd7-d7cc5b1a780e"
      },
      "source": [
        "df.select_dtypes(exclude=['object'])"
      ],
      "execution_count": 10,
      "outputs": [
        {
          "output_type": "execute_result",
          "data": {
            "text/html": [
              "<div>\n",
              "<style scoped>\n",
              "    .dataframe tbody tr th:only-of-type {\n",
              "        vertical-align: middle;\n",
              "    }\n",
              "\n",
              "    .dataframe tbody tr th {\n",
              "        vertical-align: top;\n",
              "    }\n",
              "\n",
              "    .dataframe thead th {\n",
              "        text-align: right;\n",
              "    }\n",
              "</style>\n",
              "<table border=\"1\" class=\"dataframe\">\n",
              "  <thead>\n",
              "    <tr style=\"text-align: right;\">\n",
              "      <th></th>\n",
              "      <th>mpg</th>\n",
              "      <th>cylinders</th>\n",
              "      <th>displacement</th>\n",
              "      <th>horsepower</th>\n",
              "      <th>weight</th>\n",
              "      <th>acceleration</th>\n",
              "      <th>model_year</th>\n",
              "    </tr>\n",
              "  </thead>\n",
              "  <tbody>\n",
              "    <tr>\n",
              "      <th>0</th>\n",
              "      <td>18.0</td>\n",
              "      <td>8</td>\n",
              "      <td>307.0</td>\n",
              "      <td>130.0</td>\n",
              "      <td>3504</td>\n",
              "      <td>12.0</td>\n",
              "      <td>70</td>\n",
              "    </tr>\n",
              "    <tr>\n",
              "      <th>1</th>\n",
              "      <td>15.0</td>\n",
              "      <td>8</td>\n",
              "      <td>350.0</td>\n",
              "      <td>165.0</td>\n",
              "      <td>3693</td>\n",
              "      <td>11.5</td>\n",
              "      <td>70</td>\n",
              "    </tr>\n",
              "    <tr>\n",
              "      <th>2</th>\n",
              "      <td>18.0</td>\n",
              "      <td>8</td>\n",
              "      <td>318.0</td>\n",
              "      <td>150.0</td>\n",
              "      <td>3436</td>\n",
              "      <td>11.0</td>\n",
              "      <td>70</td>\n",
              "    </tr>\n",
              "    <tr>\n",
              "      <th>3</th>\n",
              "      <td>16.0</td>\n",
              "      <td>8</td>\n",
              "      <td>304.0</td>\n",
              "      <td>150.0</td>\n",
              "      <td>3433</td>\n",
              "      <td>12.0</td>\n",
              "      <td>70</td>\n",
              "    </tr>\n",
              "    <tr>\n",
              "      <th>4</th>\n",
              "      <td>17.0</td>\n",
              "      <td>8</td>\n",
              "      <td>302.0</td>\n",
              "      <td>140.0</td>\n",
              "      <td>3449</td>\n",
              "      <td>10.5</td>\n",
              "      <td>70</td>\n",
              "    </tr>\n",
              "    <tr>\n",
              "      <th>...</th>\n",
              "      <td>...</td>\n",
              "      <td>...</td>\n",
              "      <td>...</td>\n",
              "      <td>...</td>\n",
              "      <td>...</td>\n",
              "      <td>...</td>\n",
              "      <td>...</td>\n",
              "    </tr>\n",
              "    <tr>\n",
              "      <th>393</th>\n",
              "      <td>27.0</td>\n",
              "      <td>4</td>\n",
              "      <td>140.0</td>\n",
              "      <td>86.0</td>\n",
              "      <td>2790</td>\n",
              "      <td>15.6</td>\n",
              "      <td>82</td>\n",
              "    </tr>\n",
              "    <tr>\n",
              "      <th>394</th>\n",
              "      <td>44.0</td>\n",
              "      <td>4</td>\n",
              "      <td>97.0</td>\n",
              "      <td>52.0</td>\n",
              "      <td>2130</td>\n",
              "      <td>24.6</td>\n",
              "      <td>82</td>\n",
              "    </tr>\n",
              "    <tr>\n",
              "      <th>395</th>\n",
              "      <td>32.0</td>\n",
              "      <td>4</td>\n",
              "      <td>135.0</td>\n",
              "      <td>84.0</td>\n",
              "      <td>2295</td>\n",
              "      <td>11.6</td>\n",
              "      <td>82</td>\n",
              "    </tr>\n",
              "    <tr>\n",
              "      <th>396</th>\n",
              "      <td>28.0</td>\n",
              "      <td>4</td>\n",
              "      <td>120.0</td>\n",
              "      <td>79.0</td>\n",
              "      <td>2625</td>\n",
              "      <td>18.6</td>\n",
              "      <td>82</td>\n",
              "    </tr>\n",
              "    <tr>\n",
              "      <th>397</th>\n",
              "      <td>31.0</td>\n",
              "      <td>4</td>\n",
              "      <td>119.0</td>\n",
              "      <td>82.0</td>\n",
              "      <td>2720</td>\n",
              "      <td>19.4</td>\n",
              "      <td>82</td>\n",
              "    </tr>\n",
              "  </tbody>\n",
              "</table>\n",
              "<p>398 rows × 7 columns</p>\n",
              "</div>"
            ],
            "text/plain": [
              "      mpg  cylinders  displacement  ...  weight  acceleration  model_year\n",
              "0    18.0          8         307.0  ...    3504          12.0          70\n",
              "1    15.0          8         350.0  ...    3693          11.5          70\n",
              "2    18.0          8         318.0  ...    3436          11.0          70\n",
              "3    16.0          8         304.0  ...    3433          12.0          70\n",
              "4    17.0          8         302.0  ...    3449          10.5          70\n",
              "..    ...        ...           ...  ...     ...           ...         ...\n",
              "393  27.0          4         140.0  ...    2790          15.6          82\n",
              "394  44.0          4          97.0  ...    2130          24.6          82\n",
              "395  32.0          4         135.0  ...    2295          11.6          82\n",
              "396  28.0          4         120.0  ...    2625          18.6          82\n",
              "397  31.0          4         119.0  ...    2720          19.4          82\n",
              "\n",
              "[398 rows x 7 columns]"
            ]
          },
          "metadata": {},
          "execution_count": 10
        }
      ]
    },
    {
      "cell_type": "markdown",
      "metadata": {
        "id": "wgv7Del-7yoE"
      },
      "source": [
        "Let's inspect how many unique values are there in each column."
      ]
    },
    {
      "cell_type": "code",
      "metadata": {
        "colab": {
          "base_uri": "https://localhost:8080/"
        },
        "id": "INvkOyl_6YIf",
        "outputId": "5318887a-1e63-42b2-fdf6-46074de1a657"
      },
      "source": [
        "df.nunique(axis=0)"
      ],
      "execution_count": 11,
      "outputs": [
        {
          "output_type": "execute_result",
          "data": {
            "text/plain": [
              "mpg             129\n",
              "cylinders         5\n",
              "displacement     82\n",
              "horsepower       93\n",
              "weight          351\n",
              "acceleration     95\n",
              "model_year       13\n",
              "origin            3\n",
              "name            305\n",
              "dtype: int64"
            ]
          },
          "metadata": {},
          "execution_count": 11
        }
      ]
    },
    {
      "cell_type": "markdown",
      "metadata": {
        "id": "39OJ_uWOa1I9"
      },
      "source": [
        "Generate descriptive statistics."
      ]
    },
    {
      "cell_type": "code",
      "metadata": {
        "colab": {
          "base_uri": "https://localhost:8080/",
          "height": 299
        },
        "id": "NFMDvshT8u5C",
        "outputId": "939d80ae-6e41-4344-d180-5b777498f4b9"
      },
      "source": [
        "df.describe()"
      ],
      "execution_count": 12,
      "outputs": [
        {
          "output_type": "execute_result",
          "data": {
            "text/html": [
              "<div>\n",
              "<style scoped>\n",
              "    .dataframe tbody tr th:only-of-type {\n",
              "        vertical-align: middle;\n",
              "    }\n",
              "\n",
              "    .dataframe tbody tr th {\n",
              "        vertical-align: top;\n",
              "    }\n",
              "\n",
              "    .dataframe thead th {\n",
              "        text-align: right;\n",
              "    }\n",
              "</style>\n",
              "<table border=\"1\" class=\"dataframe\">\n",
              "  <thead>\n",
              "    <tr style=\"text-align: right;\">\n",
              "      <th></th>\n",
              "      <th>mpg</th>\n",
              "      <th>cylinders</th>\n",
              "      <th>displacement</th>\n",
              "      <th>horsepower</th>\n",
              "      <th>weight</th>\n",
              "      <th>acceleration</th>\n",
              "      <th>model_year</th>\n",
              "    </tr>\n",
              "  </thead>\n",
              "  <tbody>\n",
              "    <tr>\n",
              "      <th>count</th>\n",
              "      <td>398.000000</td>\n",
              "      <td>398.000000</td>\n",
              "      <td>398.000000</td>\n",
              "      <td>392.000000</td>\n",
              "      <td>398.000000</td>\n",
              "      <td>398.000000</td>\n",
              "      <td>398.000000</td>\n",
              "    </tr>\n",
              "    <tr>\n",
              "      <th>mean</th>\n",
              "      <td>23.514573</td>\n",
              "      <td>5.454774</td>\n",
              "      <td>193.425879</td>\n",
              "      <td>104.469388</td>\n",
              "      <td>2970.424623</td>\n",
              "      <td>15.568090</td>\n",
              "      <td>76.010050</td>\n",
              "    </tr>\n",
              "    <tr>\n",
              "      <th>std</th>\n",
              "      <td>7.815984</td>\n",
              "      <td>1.701004</td>\n",
              "      <td>104.269838</td>\n",
              "      <td>38.491160</td>\n",
              "      <td>846.841774</td>\n",
              "      <td>2.757689</td>\n",
              "      <td>3.697627</td>\n",
              "    </tr>\n",
              "    <tr>\n",
              "      <th>min</th>\n",
              "      <td>9.000000</td>\n",
              "      <td>3.000000</td>\n",
              "      <td>68.000000</td>\n",
              "      <td>46.000000</td>\n",
              "      <td>1613.000000</td>\n",
              "      <td>8.000000</td>\n",
              "      <td>70.000000</td>\n",
              "    </tr>\n",
              "    <tr>\n",
              "      <th>25%</th>\n",
              "      <td>17.500000</td>\n",
              "      <td>4.000000</td>\n",
              "      <td>104.250000</td>\n",
              "      <td>75.000000</td>\n",
              "      <td>2223.750000</td>\n",
              "      <td>13.825000</td>\n",
              "      <td>73.000000</td>\n",
              "    </tr>\n",
              "    <tr>\n",
              "      <th>50%</th>\n",
              "      <td>23.000000</td>\n",
              "      <td>4.000000</td>\n",
              "      <td>148.500000</td>\n",
              "      <td>93.500000</td>\n",
              "      <td>2803.500000</td>\n",
              "      <td>15.500000</td>\n",
              "      <td>76.000000</td>\n",
              "    </tr>\n",
              "    <tr>\n",
              "      <th>75%</th>\n",
              "      <td>29.000000</td>\n",
              "      <td>8.000000</td>\n",
              "      <td>262.000000</td>\n",
              "      <td>126.000000</td>\n",
              "      <td>3608.000000</td>\n",
              "      <td>17.175000</td>\n",
              "      <td>79.000000</td>\n",
              "    </tr>\n",
              "    <tr>\n",
              "      <th>max</th>\n",
              "      <td>46.600000</td>\n",
              "      <td>8.000000</td>\n",
              "      <td>455.000000</td>\n",
              "      <td>230.000000</td>\n",
              "      <td>5140.000000</td>\n",
              "      <td>24.800000</td>\n",
              "      <td>82.000000</td>\n",
              "    </tr>\n",
              "  </tbody>\n",
              "</table>\n",
              "</div>"
            ],
            "text/plain": [
              "              mpg   cylinders  ...  acceleration  model_year\n",
              "count  398.000000  398.000000  ...    398.000000  398.000000\n",
              "mean    23.514573    5.454774  ...     15.568090   76.010050\n",
              "std      7.815984    1.701004  ...      2.757689    3.697627\n",
              "min      9.000000    3.000000  ...      8.000000   70.000000\n",
              "25%     17.500000    4.000000  ...     13.825000   73.000000\n",
              "50%     23.000000    4.000000  ...     15.500000   76.000000\n",
              "75%     29.000000    8.000000  ...     17.175000   79.000000\n",
              "max     46.600000    8.000000  ...     24.800000   82.000000\n",
              "\n",
              "[8 rows x 7 columns]"
            ]
          },
          "metadata": {},
          "execution_count": 12
        }
      ]
    },
    {
      "cell_type": "markdown",
      "metadata": {
        "id": "Bo8_pdXHfqKg"
      },
      "source": [
        "# **Parameters & Statistics**"
      ]
    },
    {
      "cell_type": "markdown",
      "metadata": {
        "id": "oMvizIyYM6ke"
      },
      "source": [
        "![parameters_statistics.PNG](data:image/png;base64,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)"
      ]
    },
    {
      "cell_type": "markdown",
      "metadata": {
        "id": "QovUOHS-NofJ"
      },
      "source": [
        "# **Population and Sample**"
      ]
    },
    {
      "cell_type": "markdown",
      "metadata": {
        "id": "to0WyRGkbVic"
      },
      "source": [
        "Seed the generator. Then, create a population array. Return 100000 random integers from 0 (inclusive) to 100 (exclusive)."
      ]
    },
    {
      "cell_type": "code",
      "metadata": {
        "id": "Wucuddi4Nt76"
      },
      "source": [
        "np.random.seed(101)\n",
        "\n",
        "population = np.random.randint(0,100,size=100000)"
      ],
      "execution_count": 13,
      "outputs": []
    },
    {
      "cell_type": "code",
      "metadata": {
        "id": "6H6e7EISOU0R",
        "colab": {
          "base_uri": "https://localhost:8080/"
        },
        "outputId": "d43ac548-6a99-4401-cdb4-1bc6452c817c"
      },
      "source": [
        "population"
      ],
      "execution_count": 14,
      "outputs": [
        {
          "output_type": "execute_result",
          "data": {
            "text/plain": [
              "array([95, 11, 81, ..., 72, 75, 64])"
            ]
          },
          "metadata": {},
          "execution_count": 14
        }
      ]
    },
    {
      "cell_type": "markdown",
      "metadata": {
        "id": "uTOcTTO3b0VF"
      },
      "source": [
        "Generate a random sample (size=100) from population variable."
      ]
    },
    {
      "cell_type": "code",
      "metadata": {
        "id": "UsNi0AdZqc0S"
      },
      "source": [
        "np.random.seed(51)\n",
        "\n",
        "sample = np.random.choice(population, 100)"
      ],
      "execution_count": 15,
      "outputs": []
    },
    {
      "cell_type": "code",
      "metadata": {
        "id": "7-EB85Ldqc6d",
        "colab": {
          "base_uri": "https://localhost:8080/"
        },
        "outputId": "86a3c496-cab8-4fdd-cd20-959f07cb50aa"
      },
      "source": [
        "sample"
      ],
      "execution_count": 16,
      "outputs": [
        {
          "output_type": "execute_result",
          "data": {
            "text/plain": [
              "array([89, 69,  3, 24, 28,  1, 63, 44, 41, 23,  1, 53, 21, 23, 51, 90, 26,\n",
              "       54, 84, 83,  9, 64, 42, 15, 65, 37,  3, 29, 96, 90, 47, 73, 92, 87,\n",
              "       91, 67, 69, 14, 45, 11, 68, 70, 95, 21, 64, 77, 94, 63, 55, 36, 21,\n",
              "       46, 77, 82, 27, 89, 16, 97, 70, 85, 71, 50, 32, 99, 16, 34, 62, 87,\n",
              "       48, 37, 46, 25, 53,  4, 58, 18, 59, 68, 68, 90, 23, 56, 17, 86, 24,\n",
              "       47, 59,  6, 87, 38,  7, 96, 39, 50, 33, 13, 21,  4, 13, 43])"
            ]
          },
          "metadata": {},
          "execution_count": 16
        }
      ]
    },
    {
      "cell_type": "code",
      "metadata": {
        "id": "z2KHys_7qc-x",
        "colab": {
          "base_uri": "https://localhost:8080/"
        },
        "outputId": "bfd32fc2-074c-43b7-9e02-16fda757ca6f"
      },
      "source": [
        "population.mean()"
      ],
      "execution_count": 17,
      "outputs": [
        {
          "output_type": "execute_result",
          "data": {
            "text/plain": [
              "49.41751"
            ]
          },
          "metadata": {},
          "execution_count": 17
        }
      ]
    },
    {
      "cell_type": "code",
      "metadata": {
        "id": "rr4ReO_IqdBx",
        "colab": {
          "base_uri": "https://localhost:8080/"
        },
        "outputId": "80956c8c-4cfd-4cd0-e1a7-c9f4d02a2e2e"
      },
      "source": [
        "sample.mean()"
      ],
      "execution_count": 18,
      "outputs": [
        {
          "output_type": "execute_result",
          "data": {
            "text/plain": [
              "49.57"
            ]
          },
          "metadata": {},
          "execution_count": 18
        }
      ]
    },
    {
      "cell_type": "markdown",
      "metadata": {
        "id": "9WYoEBYZcJft"
      },
      "source": [
        "Create a list named sample_means, then calculate the mean value of 100 different sample. Each sample has 100 elements."
      ]
    },
    {
      "cell_type": "code",
      "metadata": {
        "id": "0jRsd44Yq9VN",
        "colab": {
          "base_uri": "https://localhost:8080/"
        },
        "outputId": "a37919e0-94eb-40b0-f440-dc7c5b61f0f2"
      },
      "source": [
        "sample_means = []\n",
        "for i in range(100):\n",
        "  sample = np.random.choice(population, 100)\n",
        "  sample_means.append(sample.mean())\n",
        "\n",
        "sample_means"
      ],
      "execution_count": 19,
      "outputs": [
        {
          "output_type": "execute_result",
          "data": {
            "text/plain": [
              "[51.7,\n",
              " 51.24,\n",
              " 50.63,\n",
              " 52.99,\n",
              " 44.44,\n",
              " 51.59,\n",
              " 51.29,\n",
              " 43.7,\n",
              " 46.87,\n",
              " 46.58,\n",
              " 45.55,\n",
              " 53.4,\n",
              " 46.02,\n",
              " 49.3,\n",
              " 46.13,\n",
              " 47.46,\n",
              " 46.66,\n",
              " 49.13,\n",
              " 52.13,\n",
              " 45.14,\n",
              " 46.81,\n",
              " 48.84,\n",
              " 45.91,\n",
              " 48.15,\n",
              " 53.72,\n",
              " 46.62,\n",
              " 47.74,\n",
              " 47.15,\n",
              " 47.63,\n",
              " 46.16,\n",
              " 50.25,\n",
              " 49.18,\n",
              " 48.51,\n",
              " 49.18,\n",
              " 47.11,\n",
              " 50.13,\n",
              " 47.34,\n",
              " 47.43,\n",
              " 49.44,\n",
              " 52.96,\n",
              " 41.62,\n",
              " 52.64,\n",
              " 43.67,\n",
              " 48.31,\n",
              " 50.61,\n",
              " 48.74,\n",
              " 46.13,\n",
              " 55.38,\n",
              " 51.09,\n",
              " 46.13,\n",
              " 51.61,\n",
              " 47.15,\n",
              " 48.86,\n",
              " 49.8,\n",
              " 48.66,\n",
              " 47.87,\n",
              " 46.56,\n",
              " 47.3,\n",
              " 44.52,\n",
              " 50.25,\n",
              " 53.42,\n",
              " 50.86,\n",
              " 49.22,\n",
              " 52.92,\n",
              " 51.27,\n",
              " 51.75,\n",
              " 49.06,\n",
              " 54.72,\n",
              " 45.74,\n",
              " 52.89,\n",
              " 52.38,\n",
              " 44.66,\n",
              " 48.02,\n",
              " 49.85,\n",
              " 51.61,\n",
              " 50.69,\n",
              " 45.19,\n",
              " 50.97,\n",
              " 49.36,\n",
              " 49.69,\n",
              " 52.1,\n",
              " 49.12,\n",
              " 45.78,\n",
              " 45.54,\n",
              " 47.23,\n",
              " 49.0,\n",
              " 44.12,\n",
              " 51.24,\n",
              " 50.43,\n",
              " 51.54,\n",
              " 50.57,\n",
              " 44.23,\n",
              " 52.53,\n",
              " 48.61,\n",
              " 49.29,\n",
              " 48.0,\n",
              " 55.59,\n",
              " 50.47,\n",
              " 45.97,\n",
              " 50.65]"
            ]
          },
          "metadata": {},
          "execution_count": 19
        }
      ]
    },
    {
      "cell_type": "code",
      "metadata": {
        "colab": {
          "base_uri": "https://localhost:8080/"
        },
        "id": "CwnxeY9pc8zF",
        "outputId": "b7979138-f27f-4853-b346-a139417b12e6"
      },
      "source": [
        "np.mean(sample_means) #mean of sample_means"
      ],
      "execution_count": 20,
      "outputs": [
        {
          "output_type": "execute_result",
          "data": {
            "text/plain": [
              "48.953900000000004"
            ]
          },
          "metadata": {},
          "execution_count": 20
        }
      ]
    },
    {
      "cell_type": "code",
      "metadata": {
        "colab": {
          "base_uri": "https://localhost:8080/"
        },
        "id": "1-63_IyZdBL7",
        "outputId": "a40f68b3-343d-4f38-fbf3-dcfec2348f54"
      },
      "source": [
        "type(sample_means) "
      ],
      "execution_count": 21,
      "outputs": [
        {
          "output_type": "execute_result",
          "data": {
            "text/plain": [
              "list"
            ]
          },
          "metadata": {},
          "execution_count": 21
        }
      ]
    },
    {
      "cell_type": "code",
      "metadata": {
        "colab": {
          "base_uri": "https://localhost:8080/"
        },
        "id": "GIx5q9SYdF_s",
        "outputId": "99a5a579-7edc-4c4a-d6ca-e9454f3b5079"
      },
      "source": [
        "type(sample)"
      ],
      "execution_count": 22,
      "outputs": [
        {
          "output_type": "execute_result",
          "data": {
            "text/plain": [
              "numpy.ndarray"
            ]
          },
          "metadata": {},
          "execution_count": 22
        }
      ]
    },
    {
      "cell_type": "code",
      "metadata": {
        "colab": {
          "base_uri": "https://localhost:8080/"
        },
        "id": "IfFl3dH4dJo0",
        "outputId": "a6d63440-3392-49d5-fe71-da6d71e35bf3"
      },
      "source": [
        "sample.mean()"
      ],
      "execution_count": 23,
      "outputs": [
        {
          "output_type": "execute_result",
          "data": {
            "text/plain": [
              "50.65"
            ]
          },
          "metadata": {},
          "execution_count": 23
        }
      ]
    },
    {
      "cell_type": "code",
      "metadata": {
        "id": "2qcWP_VNrVys",
        "colab": {
          "base_uri": "https://localhost:8080/"
        },
        "outputId": "bd930eee-497f-4fae-d9d4-c2856b35d804"
      },
      "source": [
        "population.mean()"
      ],
      "execution_count": 24,
      "outputs": [
        {
          "output_type": "execute_result",
          "data": {
            "text/plain": [
              "49.41751"
            ]
          },
          "metadata": {},
          "execution_count": 24
        }
      ]
    },
    {
      "cell_type": "code",
      "metadata": {
        "id": "fVha8_garWGf",
        "colab": {
          "base_uri": "https://localhost:8080/"
        },
        "outputId": "3f884a91-d0fe-4175-ff13-276234e99261"
      },
      "source": [
        "np.mean(sample_means)"
      ],
      "execution_count": 25,
      "outputs": [
        {
          "output_type": "execute_result",
          "data": {
            "text/plain": [
              "48.953900000000004"
            ]
          },
          "metadata": {},
          "execution_count": 25
        }
      ]
    },
    {
      "cell_type": "code",
      "metadata": {
        "id": "r80ByrljdPZF"
      },
      "source": [
        ""
      ],
      "execution_count": 25,
      "outputs": []
    }
  ]
}