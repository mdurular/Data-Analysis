{
 "cells": [
  {
   "cell_type": "code",
   "execution_count": 3,
   "id": "1e45fe4f",
   "metadata": {},
   "outputs": [],
   "source": [
    "import numpy as np\n",
    "import pandas as pd\n",
    "import matplotlib.pyplot as plt\n",
    "import seaborn as sns\n",
    "%matplotlib inline"
   ]
  },
  {
   "cell_type": "code",
   "execution_count": 5,
   "id": "93286b4c",
   "metadata": {},
   "outputs": [
    {
     "data": {
      "text/plain": [
       "array([28, 42, 30, 44, 38, 33, 29, 44, 34, 43, 26, 30, 34, 43, 25, 40, 26,\n",
       "       28, 36, 37, 32, 35, 31, 44, 25, 41, 41, 39, 29, 44, 42, 39, 32, 30,\n",
       "       40, 39, 36, 37, 34, 32, 27, 28, 29, 37, 29, 27, 34, 31, 36, 26])"
      ]
     },
     "execution_count": 5,
     "metadata": {},
     "output_type": "execute_result"
    }
   ],
   "source": [
    "age = np.random.randint(25,45,50)\n",
    "age"
   ]
  },
  {
   "cell_type": "code",
   "execution_count": 6,
   "id": "b99ac3fd",
   "metadata": {},
   "outputs": [],
   "source": [
    "age[0:2] = -1\n",
    "age[2:4] = 99"
   ]
  },
  {
   "cell_type": "code",
   "execution_count": 7,
   "id": "3d6f1ee4",
   "metadata": {},
   "outputs": [
    {
     "data": {
      "text/plain": [
       "array([-1, -1, 99, 99, 38, 33, 29, 44, 34, 43, 26, 30, 34, 43, 25, 40, 26,\n",
       "       28, 36, 37, 32, 35, 31, 44, 25, 41, 41, 39, 29, 44, 42, 39, 32, 30,\n",
       "       40, 39, 36, 37, 34, 32, 27, 28, 29, 37, 29, 27, 34, 31, 36, 26])"
      ]
     },
     "execution_count": 7,
     "metadata": {},
     "output_type": "execute_result"
    }
   ],
   "source": [
    "age"
   ]
  },
  {
   "cell_type": "code",
   "execution_count": 12,
   "id": "7790506d",
   "metadata": {},
   "outputs": [
    {
     "data": {
      "image/png": "[encoded data removed]",
      "text/plain": [
       "<Figure size 432x288 with 1 Axes>"
      ]
     },
     "metadata": {
      "needs_background": "light"
     },
     "output_type": "display_data"
    }
   ],
   "source": [
    "plt.hist(age, bins=40)\n",
    "plt.show()"
   ]
  },
  {
   "cell_type": "code",
   "execution_count": 14,
   "id": "d4ebfc25",
   "metadata": {},
   "outputs": [
    {
     "data": {
      "image/png": "[encoded data removed]",
      "text/plain": [
       "<Figure size 432x288 with 1 Axes>"
      ]
     },
     "metadata": {
      "needs_background": "light"
     },
     "output_type": "display_data"
    }
   ],
   "source": [
    "plt.boxplot(age)\n",
    "plt.show()"
   ]
  },
  {
   "cell_type": "code",
   "execution_count": 17,
   "id": "8f4b7050",
   "metadata": {},
   "outputs": [
    {
     "data": {
      "text/plain": [
       "array([-1, -1])"
      ]
     },
     "execution_count": 17,
     "metadata": {},
     "output_type": "execute_result"
    }
   ],
   "source": [
    "age[age<25] "
   ]
  },
  {
   "cell_type": "code",
   "execution_count": 18,
   "id": "caf3c359",
   "metadata": {},
   "outputs": [
    {
     "data": {
      "text/plain": [
       "array([99, 99])"
      ]
     },
     "execution_count": 18,
     "metadata": {},
     "output_type": "execute_result"
    }
   ],
   "source": [
    "age[age>50] "
   ]
  },
  {
   "cell_type": "code",
   "execution_count": 19,
   "id": "5d1197d5",
   "metadata": {},
   "outputs": [
    {
     "data": {
      "text/plain": [
       "array([False, False,  True,  True, False, False, False, False, False,\n",
       "       False, False, False, False, False, False, False, False, False,\n",
       "       False, False, False, False, False, False, False, False, False,\n",
       "       False, False, False, False, False, False, False, False, False,\n",
       "       False, False, False, False, False, False, False, False, False,\n",
       "       False, False, False, False, False])"
      ]
     },
     "execution_count": 19,
     "metadata": {},
     "output_type": "execute_result"
    }
   ],
   "source": [
    "age>50"
   ]
  },
  {
   "cell_type": "code",
   "execution_count": 20,
   "id": "6521155d",
   "metadata": {},
   "outputs": [
    {
     "data": {
      "text/plain": [
       "array([-1, -1, 35, 35, 38, 33, 29, 44, 34, 43, 26, 30, 34, 43, 25, 40, 26,\n",
       "       28, 36, 37, 32, 35, 31, 44, 25, 41, 41, 39, 29, 44, 42, 39, 32, 30,\n",
       "       40, 39, 36, 37, 34, 32, 27, 28, 29, 37, 29, 27, 34, 31, 36, 26])"
      ]
     },
     "execution_count": 20,
     "metadata": {},
     "output_type": "execute_result"
    }
   ],
   "source": [
    "age[age>50] = age.mean()\n",
    "age"
   ]
  },
  {
   "cell_type": "code",
   "execution_count": 27,
   "id": "53c23ba4",
   "metadata": {},
   "outputs": [
    {
     "data": {
      "text/plain": [
       "array([32, 32, 35, 35, 38, 33, 29, 44, 34, 43, 26, 30, 34, 43, 25, 40, 26,\n",
       "       28, 36, 37, 32, 35, 31, 44, 25, 41, 41, 39, 29, 44, 42, 39, 32, 30,\n",
       "       40, 39, 36, 37, 34, 32, 27, 28, 29, 37, 29, 27, 34, 31, 36, 26])"
      ]
     },
     "execution_count": 27,
     "metadata": {},
     "output_type": "execute_result"
    }
   ],
   "source": [
    "age[(age<25) | (age>50)] = age.mean()\n",
    "age"
   ]
  },
  {
   "cell_type": "code",
   "execution_count": 28,
   "id": "eccbc848",
   "metadata": {},
   "outputs": [
    {
     "data": {
      "text/plain": [
       "[-1, 3, 4, 6, 7, 8, 9]"
      ]
     },
     "execution_count": 28,
     "metadata": {},
     "output_type": "execute_result"
    }
   ],
   "source": [
    "sorted([7,3,6,8,9,4,-1])"
   ]
  },
  {
   "cell_type": "code",
   "execution_count": 30,
   "id": "a787b9e6",
   "metadata": {},
   "outputs": [
    {
     "data": {
      "text/plain": [
       "array([25, 25, 26, 26, 26, 27, 27, 28, 28, 29, 29, 29, 29, 30, 30, 31, 31,\n",
       "       32, 32, 32, 32, 32, 33, 34, 34, 34, 34, 35, 35, 35, 36, 36, 36, 37,\n",
       "       37, 37, 38, 39, 39, 39, 40, 40, 41, 41, 42, 43, 43, 44, 44, 44])"
      ]
     },
     "execution_count": 30,
     "metadata": {},
     "output_type": "execute_result"
    }
   ],
   "source": [
    "age.sort()\n",
    "age"
   ]
  },
  {
   "cell_type": "code",
   "execution_count": null,
   "id": "28527a17",
   "metadata": {},
   "outputs": [],
   "source": []
  }
 ],
 "metadata": {
  "kernelspec": {
   "display_name": "Python 3",
   "language": "python",
   "name": "python3"
  },
  "language_info": {
   "codemirror_mode": {
    "name": "ipython",
    "version": 3
   },
   "file_extension": ".py",
   "mimetype": "text/x-python",
   "name": "python",
   "nbconvert_exporter": "python",
   "pygments_lexer": "ipython3",
   "version": "3.8.8"
  }
 },
 "nbformat": 4,
 "nbformat_minor": 5
}
