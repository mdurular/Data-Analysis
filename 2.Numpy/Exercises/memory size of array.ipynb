{
 "cells": [
  {
   "cell_type": "markdown",
   "id": "b37b1cc6",
   "metadata": {},
   "source": [
    "How to find the memory size of any array? Create an array and  find its memory. "
   ]
  },
  {
   "cell_type": "code",
   "execution_count": 1,
   "id": "399cea3c",
   "metadata": {},
   "outputs": [],
   "source": [
    "import numpy as np"
   ]
  },
  {
   "cell_type": "code",
   "execution_count": 3,
   "id": "c3967d16",
   "metadata": {},
   "outputs": [
    {
     "name": "stdout",
     "output_type": "stream",
     "text": [
      "Memory size of a NumPy array: 40\n"
     ]
    }
   ],
   "source": [
    "x = np.array([1,2,3,4,5,11,12,13,14,15])\n",
    "  \n",
    "print(\"Memory size of a NumPy array:\", x.nbytes)"
   ]
  },
  {
   "cell_type": "code",
   "execution_count": 4,
   "id": "d47ba6d2",
   "metadata": {},
   "outputs": [
    {
     "name": "stdout",
     "output_type": "stream",
     "text": [
      "Memory size of a NumPy array: 40\n"
     ]
    }
   ],
   "source": [
    "memory = x.size * x.itemsize\n",
    "print(\"Memory size of a NumPy array:\", memory)"
   ]
  },
  {
   "cell_type": "code",
   "execution_count": null,
   "id": "727cf47b",
   "metadata": {},
   "outputs": [],
   "source": []
  }
 ],
 "metadata": {
  "kernelspec": {
   "display_name": "Python 3",
   "language": "python",
   "name": "python3"
  },
  "language_info": {
   "codemirror_mode": {
    "name": "ipython",
    "version": 3
   },
   "file_extension": ".py",
   "mimetype": "text/x-python",
   "name": "python",
   "nbconvert_exporter": "python",
   "pygments_lexer": "ipython3",
   "version": "3.8.8"
  }
 },
 "nbformat": 4,
 "nbformat_minor": 5
}
