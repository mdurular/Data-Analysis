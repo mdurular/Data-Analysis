{
 "cells": [
  {
   "cell_type": "markdown",
   "metadata": {},
   "source": [
    "# Exercises with Python\n",
    "\n",
    "Kamal.chouhbi@emines.um6p.ma\n",
    "\n",
    "\n",
    "https://docs.python.org/\n",
    "\n",
    "https://docs.scipy.org/doc/numpy/\n",
    "\n",
    "\n"
   ]
  },
  {
   "cell_type": "code",
   "execution_count": 1,
   "metadata": {},
   "outputs": [],
   "source": [
    "import numpy as np"
   ]
  },
  {
   "cell_type": "markdown",
   "metadata": {},
   "source": [
    "## Numpy\n",
    "### Exercise 1\n",
    "#### Creat an array of 450 random integers between -10 and 10\n",
    "\n",
    "https://docs.scipy.org/doc/numpy-1.15.1/reference/generated/numpy.random.randint.html"
   ]
  },
  {
   "cell_type": "code",
   "execution_count": 2,
   "metadata": {},
   "outputs": [
    {
     "data": {
      "text/plain": [
       "array([ -3,   1,  -7,  -8,   4,   2,   0,   6, -10,   4,   3, -10,   6,\n",
       "         5,  -9,  -4,   8,   7,  -9,   2,   9,  -2,  -9,   5, -10,   7,\n",
       "        -2,   3,  -1,   4,  -5,   9,  -5,   0,   7,   9,   7,  -3,   1,\n",
       "         2,  -6,  -6,   3,  -9,  -3,   2,  -4,  -8,   0,  -4,  -6,   7,\n",
       "        -7,   3,  -3,   2,  -1,  -7,  -4,  -4,   4,   1,  -3,  -6,  -4,\n",
       "         4,  -4,  -1,   2,  -3,  -4,   9,  -5,   0,   6,  -2,  -3,   0,\n",
       "        -8,   0,  -2,  -5,  -8,   5, -10,   0,   0,  -2,  -7,  -6,  -7,\n",
       "         3,   8,   3,   8,   7,  -3,   0,  -9,   6, -10,  -5,   2,   1,\n",
       "         5,  -8,  -8,   5,   3,   0,  -8,   5,  -4,   1,   8, -10,   3,\n",
       "         7,   6,   9,  -4, -10,   7, -10,   0,   6,  -2,   0,   4,   6,\n",
       "        -6,  -3,   2,   5,  -8,   8,   1,   8,  -6,   6,   7,  -3,   7,\n",
       "        -3,  -8,  -6,  -1, -10,  -2,  -6,   3,  -2,   4,  -4,  -6,  -4,\n",
       "         3,   1,   6,   8,  -9,   3,   8,   6,   6,  -6,  -2,   5,  -5,\n",
       "         6,   1,  -4,  -5,   8,  -2,   3,   9,  -1,  -1,   6,   4,  -9,\n",
       "        -8,  -5,   3,   2,   5,   9,   7,   0,  -5,   9,  -4,   5,   1,\n",
       "         5,   8,   2, -10,   5,   8,  -4,  -6,   7,  -4,  -8,  -7,   4,\n",
       "        -3,   9,  -8, -10,   1,  -4,   6,  -6,   7,   1,  -4,   8, -10,\n",
       "        -4,  -4,   6,  -8,   5,  -5,   7,   4,   2,   9,   9,  -5,   2,\n",
       "         0, -10,  -8,   9,  -5,   4,   0,   2,  -1,   6,   7,  -6,   6,\n",
       "        -9,  -6,  -2,  -6,   2,   7,   2,   7,   3,  -3,   2,  -7,  -8,\n",
       "         5,  -9,   1,  -5,   4,  -9,  -2,   7,  -9,  -1,   9, -10,  -3,\n",
       "         5,   1,  -9,  -7,  -2,  -6,  -3,   2,   5,   6, -10,  -5,  -3,\n",
       "        -4,  -5,  -7,  -9,  -9,  -4,  -3,   6, -10,   1,   7,   8,  -1,\n",
       "         0,   1,   2,  -2,   0,   3,  -3,   0,  -9,   1,  -5,   0,   1,\n",
       "         3, -10,  -9,  -5,   9,   3,   8,   0,  -4,   5,  -4,   2,  -6,\n",
       "         7,   3,  -2,   3,   6,  -7,   1,   0,   6,   0,   9,   1,   2,\n",
       "         9,   7,  -8,  -3,   8,  -3,  -3,  -3,   4,  -5,  -8,   5,   2,\n",
       "         4,   5,  -7,  -7,  -2,   0,   6, -10,   5,  -8,  -4,  -9,   2,\n",
       "         8,   8,   9,  -5, -10,  -9,   0,   3,  -8,   3,  -6,   0,  -5,\n",
       "        -1, -10,  -3,   8,   9,  -2,   2,  -5,   3,   0,  -3,   5,   0,\n",
       "        -9,   8,   0,  -5,  -4,  -3,  -4,  -4,   6,  -6, -10,  -7,   6,\n",
       "         5,   8,   4,   5,   9,  -8,   9,   1,   4,   8,   0,   3,   0,\n",
       "         5,   6,  -4,  -5,   5,   3,   6,  -4,   1,  -3,   5,  -4,  -7,\n",
       "         3,   3,  -2,  -3,   1,   0,   6,  -9,   1,  -2,   7,   4,   2,\n",
       "         1,   2,  -2,   6,  -2,   8,  -4,  -1])"
      ]
     },
     "execution_count": 2,
     "metadata": {},
     "output_type": "execute_result"
    }
   ],
   "source": [
    "array = np.random.randint(low=-10, high=10, size=450, dtype='l')\n",
    "\n",
    "array"
   ]
  },
  {
   "cell_type": "markdown",
   "metadata": {},
   "source": [
    "#### Resize it as a 5x70 matrix Is there a problem? If there is, correct it.\n",
    "\n",
    "We check what dimension our array has:"
   ]
  },
  {
   "cell_type": "code",
   "execution_count": 3,
   "metadata": {},
   "outputs": [
    {
     "data": {
      "text/plain": [
       "(450,)"
      ]
     },
     "execution_count": 3,
     "metadata": {},
     "output_type": "execute_result"
    }
   ],
   "source": [
    "array.shape"
   ]
  },
  {
   "cell_type": "markdown",
   "metadata": {},
   "source": [
    "We resize:"
   ]
  },
  {
   "cell_type": "code",
   "execution_count": 4,
   "metadata": {},
   "outputs": [
    {
     "ename": "ValueError",
     "evalue": "cannot reshape array of size 450 into shape (5,70)",
     "output_type": "error",
     "traceback": [
      "\u001b[1;31m---------------------------------------------------------------------------\u001b[0m",
      "\u001b[1;31mValueError\u001b[0m                                Traceback (most recent call last)",
      "\u001b[1;32m<ipython-input-4-93c53ed84f18>\u001b[0m in \u001b[0;36m<module>\u001b[1;34m\u001b[0m\n\u001b[1;32m----> 1\u001b[1;33m \u001b[0mmatrix\u001b[0m \u001b[1;33m=\u001b[0m \u001b[0marray\u001b[0m\u001b[1;33m.\u001b[0m\u001b[0mreshape\u001b[0m\u001b[1;33m(\u001b[0m\u001b[1;36m5\u001b[0m\u001b[1;33m,\u001b[0m\u001b[1;36m70\u001b[0m\u001b[1;33m)\u001b[0m\u001b[1;33m\u001b[0m\u001b[1;33m\u001b[0m\u001b[0m\n\u001b[0m",
      "\u001b[1;31mValueError\u001b[0m: cannot reshape array of size 450 into shape (5,70)"
     ]
    }
   ],
   "source": [
    "matrix = array.reshape(5,70)"
   ]
  },
  {
   "cell_type": "code",
   "execution_count": 5,
   "metadata": {},
   "outputs": [
    {
     "data": {
      "text/plain": [
       "array([[ -3,   1,  -7,  -8,   4,   2,   0,   6, -10,   4,   3, -10,   6,\n",
       "          5,  -9,  -4,   8,   7,  -9,   2,   9,  -2,  -9,   5, -10,   7,\n",
       "         -2,   3,  -1,   4,  -5,   9,  -5,   0,   7,   9,   7,  -3,   1,\n",
       "          2,  -6,  -6,   3,  -9,  -3,   2,  -4,  -8,   0,  -4,  -6,   7,\n",
       "         -7,   3,  -3,   2,  -1,  -7,  -4,  -4,   4,   1,  -3,  -6,  -4,\n",
       "          4,  -4,  -1,   2,  -3,  -4,   9,  -5,   0,   6,  -2,  -3,   0,\n",
       "         -8,   0,  -2,  -5,  -8,   5, -10,   0,   0,  -2,  -7,  -6],\n",
       "       [ -7,   3,   8,   3,   8,   7,  -3,   0,  -9,   6, -10,  -5,   2,\n",
       "          1,   5,  -8,  -8,   5,   3,   0,  -8,   5,  -4,   1,   8, -10,\n",
       "          3,   7,   6,   9,  -4, -10,   7, -10,   0,   6,  -2,   0,   4,\n",
       "          6,  -6,  -3,   2,   5,  -8,   8,   1,   8,  -6,   6,   7,  -3,\n",
       "          7,  -3,  -8,  -6,  -1, -10,  -2,  -6,   3,  -2,   4,  -4,  -6,\n",
       "         -4,   3,   1,   6,   8,  -9,   3,   8,   6,   6,  -6,  -2,   5,\n",
       "         -5,   6,   1,  -4,  -5,   8,  -2,   3,   9,  -1,  -1,   6],\n",
       "       [  4,  -9,  -8,  -5,   3,   2,   5,   9,   7,   0,  -5,   9,  -4,\n",
       "          5,   1,   5,   8,   2, -10,   5,   8,  -4,  -6,   7,  -4,  -8,\n",
       "         -7,   4,  -3,   9,  -8, -10,   1,  -4,   6,  -6,   7,   1,  -4,\n",
       "          8, -10,  -4,  -4,   6,  -8,   5,  -5,   7,   4,   2,   9,   9,\n",
       "         -5,   2,   0, -10,  -8,   9,  -5,   4,   0,   2,  -1,   6,   7,\n",
       "         -6,   6,  -9,  -6,  -2,  -6,   2,   7,   2,   7,   3,  -3,   2,\n",
       "         -7,  -8,   5,  -9,   1,  -5,   4,  -9,  -2,   7,  -9,  -1],\n",
       "       [  9, -10,  -3,   5,   1,  -9,  -7,  -2,  -6,  -3,   2,   5,   6,\n",
       "        -10,  -5,  -3,  -4,  -5,  -7,  -9,  -9,  -4,  -3,   6, -10,   1,\n",
       "          7,   8,  -1,   0,   1,   2,  -2,   0,   3,  -3,   0,  -9,   1,\n",
       "         -5,   0,   1,   3, -10,  -9,  -5,   9,   3,   8,   0,  -4,   5,\n",
       "         -4,   2,  -6,   7,   3,  -2,   3,   6,  -7,   1,   0,   6,   0,\n",
       "          9,   1,   2,   9,   7,  -8,  -3,   8,  -3,  -3,  -3,   4,  -5,\n",
       "         -8,   5,   2,   4,   5,  -7,  -7,  -2,   0,   6, -10,   5],\n",
       "       [ -8,  -4,  -9,   2,   8,   8,   9,  -5, -10,  -9,   0,   3,  -8,\n",
       "          3,  -6,   0,  -5,  -1, -10,  -3,   8,   9,  -2,   2,  -5,   3,\n",
       "          0,  -3,   5,   0,  -9,   8,   0,  -5,  -4,  -3,  -4,  -4,   6,\n",
       "         -6, -10,  -7,   6,   5,   8,   4,   5,   9,  -8,   9,   1,   4,\n",
       "          8,   0,   3,   0,   5,   6,  -4,  -5,   5,   3,   6,  -4,   1,\n",
       "         -3,   5,  -4,  -7,   3,   3,  -2,  -3,   1,   0,   6,  -9,   1,\n",
       "         -2,   7,   4,   2,   1,   2,  -2,   6,  -2,   8,  -4,  -1]])"
      ]
     },
     "execution_count": 5,
     "metadata": {},
     "output_type": "execute_result"
    }
   ],
   "source": [
    "matrix = array.reshape(5,90)\n",
    "matrix"
   ]
  },
  {
   "cell_type": "code",
   "execution_count": 6,
   "metadata": {},
   "outputs": [
    {
     "data": {
      "text/plain": [
       "(5, 90)"
      ]
     },
     "execution_count": 6,
     "metadata": {},
     "output_type": "execute_result"
    }
   ],
   "source": [
    "matrix.shape"
   ]
  },
  {
   "cell_type": "markdown",
   "metadata": {},
   "source": [
    "#### Get the positive numbers from that matrix using boolean indexing"
   ]
  },
  {
   "cell_type": "code",
   "execution_count": 7,
   "metadata": {},
   "outputs": [
    {
     "data": {
      "text/plain": [
       "array([[False,  True, False, False,  True,  True, False,  True, False,\n",
       "         True,  True, False,  True,  True, False, False,  True,  True,\n",
       "        False,  True,  True, False, False,  True, False,  True, False,\n",
       "         True, False,  True, False,  True, False, False,  True,  True,\n",
       "         True, False,  True,  True, False, False,  True, False, False,\n",
       "         True, False, False, False, False, False,  True, False,  True,\n",
       "        False,  True, False, False, False, False,  True,  True, False,\n",
       "        False, False,  True, False, False,  True, False, False,  True,\n",
       "        False, False,  True, False, False, False, False, False, False,\n",
       "        False, False,  True, False, False, False, False, False, False],\n",
       "       [False,  True,  True,  True,  True,  True, False, False, False,\n",
       "         True, False, False,  True,  True,  True, False, False,  True,\n",
       "         True, False, False,  True, False,  True,  True, False,  True,\n",
       "         True,  True,  True, False, False,  True, False, False,  True,\n",
       "        False, False,  True,  True, False, False,  True,  True, False,\n",
       "         True,  True,  True, False,  True,  True, False,  True, False,\n",
       "        False, False, False, False, False, False,  True, False,  True,\n",
       "        False, False, False,  True,  True,  True,  True, False,  True,\n",
       "         True,  True,  True, False, False,  True, False,  True,  True,\n",
       "        False, False,  True, False,  True,  True, False, False,  True],\n",
       "       [ True, False, False, False,  True,  True,  True,  True,  True,\n",
       "        False, False,  True, False,  True,  True,  True,  True,  True,\n",
       "        False,  True,  True, False, False,  True, False, False, False,\n",
       "         True, False,  True, False, False,  True, False,  True, False,\n",
       "         True,  True, False,  True, False, False, False,  True, False,\n",
       "         True, False,  True,  True,  True,  True,  True, False,  True,\n",
       "        False, False, False,  True, False,  True, False,  True, False,\n",
       "         True,  True, False,  True, False, False, False, False,  True,\n",
       "         True,  True,  True,  True, False,  True, False, False,  True,\n",
       "        False,  True, False,  True, False, False,  True, False, False],\n",
       "       [ True, False, False,  True,  True, False, False, False, False,\n",
       "        False,  True,  True,  True, False, False, False, False, False,\n",
       "        False, False, False, False, False,  True, False,  True,  True,\n",
       "         True, False, False,  True,  True, False, False,  True, False,\n",
       "        False, False,  True, False, False,  True,  True, False, False,\n",
       "        False,  True,  True,  True, False, False,  True, False,  True,\n",
       "        False,  True,  True, False,  True,  True, False,  True, False,\n",
       "         True, False,  True,  True,  True,  True,  True, False, False,\n",
       "         True, False, False, False,  True, False, False,  True,  True,\n",
       "         True,  True, False, False, False, False,  True, False,  True],\n",
       "       [False, False, False,  True,  True,  True,  True, False, False,\n",
       "        False, False,  True, False,  True, False, False, False, False,\n",
       "        False, False,  True,  True, False,  True, False,  True, False,\n",
       "        False,  True, False, False,  True, False, False, False, False,\n",
       "        False, False,  True, False, False, False,  True,  True,  True,\n",
       "         True,  True,  True, False,  True,  True,  True,  True, False,\n",
       "         True, False,  True,  True, False, False,  True,  True,  True,\n",
       "        False,  True, False,  True, False, False,  True,  True, False,\n",
       "        False,  True, False,  True, False,  True, False,  True,  True,\n",
       "         True,  True,  True, False,  True, False,  True, False, False]])"
      ]
     },
     "execution_count": 7,
     "metadata": {},
     "output_type": "execute_result"
    }
   ],
   "source": [
    "matrix>0"
   ]
  },
  {
   "cell_type": "code",
   "execution_count": 40,
   "metadata": {},
   "outputs": [
    {
     "data": {
      "text/plain": [
       "array([5, 9, 4, 3, 2, 2, 3, 2, 3, 8, 1, 7, 7, 3, 9, 1, 3, 1, 4, 4, 6, 8,\n",
       "       9, 1, 8, 1, 7, 9, 3, 8, 7, 8, 1, 3, 5, 7, 1, 6, 6, 5, 5, 5, 9, 5,\n",
       "       1, 5, 6, 3, 2, 2, 5, 2, 2, 8, 4, 3, 7, 6, 5, 7, 2, 3, 2, 1, 5, 3,\n",
       "       9, 7, 7, 6, 2, 6, 3, 9, 1, 4, 8, 1, 5, 8, 4, 9, 4, 7, 9, 9, 3, 1,\n",
       "       7, 3, 8, 4, 1, 6, 4, 4, 1, 7, 4, 8, 5, 4, 9, 9, 3, 1, 8, 7, 3, 5,\n",
       "       4, 4, 7, 7, 9, 1, 7, 7, 9, 5, 2, 7, 3, 7, 1, 8, 1, 7, 5, 1, 7, 5,\n",
       "       9, 8, 3, 7, 3, 1, 2, 2, 3, 8, 3, 3, 5, 1, 1, 5, 5, 3, 8, 7, 4, 2,\n",
       "       6, 1, 7, 8, 6, 5, 1, 5, 1, 2, 1, 4, 7, 3, 8, 3, 1, 1, 5, 9, 7, 1,\n",
       "       1, 2, 8, 8, 2, 2, 2, 9, 6])"
      ]
     },
     "execution_count": 40,
     "metadata": {},
     "output_type": "execute_result"
    }
   ],
   "source": [
    "matrix[matrix>0]"
   ]
  },
  {
   "cell_type": "markdown",
   "metadata": {},
   "source": [
    "#### Obtain with a function the non-duplicated data"
   ]
  },
  {
   "cell_type": "code",
   "execution_count": 8,
   "metadata": {},
   "outputs": [
    {
     "data": {
      "text/plain": [
       "list"
      ]
     },
     "execution_count": 8,
     "metadata": {},
     "output_type": "execute_result"
    }
   ],
   "source": [
    "# Example of set\n",
    "L = [1,1,2]\n",
    "type(L)"
   ]
  },
  {
   "cell_type": "code",
   "execution_count": 42,
   "metadata": {},
   "outputs": [
    {
     "data": {
      "text/plain": [
       "{1, 2}"
      ]
     },
     "execution_count": 42,
     "metadata": {},
     "output_type": "execute_result"
    }
   ],
   "source": [
    "set(L)"
   ]
  },
  {
   "cell_type": "code",
   "execution_count": 9,
   "metadata": {},
   "outputs": [
    {
     "data": {
      "text/plain": [
       "[1, 2]"
      ]
     },
     "execution_count": 9,
     "metadata": {},
     "output_type": "execute_result"
    }
   ],
   "source": [
    "# transformation back to list\n",
    "L = list(set(L))\n",
    "L"
   ]
  },
  {
   "cell_type": "code",
   "execution_count": 10,
   "metadata": {},
   "outputs": [
    {
     "data": {
      "text/plain": [
       "{-10, -9, -8, -7, -6, -5, -4, -3, -2, -1, 0, 1, 2, 3, 4, 5, 6, 7, 8, 9}"
      ]
     },
     "execution_count": 10,
     "metadata": {},
     "output_type": "execute_result"
    }
   ],
   "source": [
    "# array -> list -> set\n",
    "array = list(array)\n",
    "array = set(array)\n",
    "\n",
    "array"
   ]
  },
  {
   "cell_type": "code",
   "execution_count": 11,
   "metadata": {},
   "outputs": [
    {
     "data": {
      "text/plain": [
       "array([  0,   1,   2,   3,   4,   5,   6,   7,   8,   9,  -6, -10,  -9,\n",
       "        -8,  -7,  -2,  -5,  -4,  -3,  -1])"
      ]
     },
     "execution_count": 11,
     "metadata": {},
     "output_type": "execute_result"
    }
   ],
   "source": [
    "# set -> list -> array\n",
    "array = list(array)\n",
    "array = np.array(array)\n",
    "\n",
    "array"
   ]
  },
  {
   "cell_type": "markdown",
   "metadata": {},
   "source": [
    "In a line of code:"
   ]
  },
  {
   "cell_type": "code",
   "execution_count": 13,
   "metadata": {},
   "outputs": [
    {
     "data": {
      "text/plain": [
       "array([  0,   1,   2,   3,   4,   5,   6,   7,   8,   9, -10,  -9,  -8,\n",
       "        -7,  -6,  -5,  -4,  -3,  -2,  -1])"
      ]
     },
     "execution_count": 13,
     "metadata": {},
     "output_type": "execute_result"
    }
   ],
   "source": [
    "no_duplicados = np.array(list(set(array)))\n",
    "no_duplicados"
   ]
  },
  {
   "cell_type": "markdown",
   "metadata": {},
   "source": [
    "#### On the non-duplicated data, obtain the mean and quartiles."
   ]
  },
  {
   "cell_type": "code",
   "execution_count": 14,
   "metadata": {},
   "outputs": [
    {
     "data": {
      "text/plain": [
       "-0.5"
      ]
     },
     "execution_count": 14,
     "metadata": {},
     "output_type": "execute_result"
    }
   ],
   "source": [
    "# we use the mean function\n",
    "np.mean(no_duplicados)"
   ]
  },
  {
   "cell_type": "code",
   "execution_count": 49,
   "metadata": {},
   "outputs": [
    {
     "data": {
      "text/plain": [
       "-5.25"
      ]
     },
     "execution_count": 49,
     "metadata": {},
     "output_type": "execute_result"
    }
   ],
   "source": [
    "# percentiles\n",
    "np.percentile(no_duplicados, 25)"
   ]
  },
  {
   "cell_type": "markdown",
   "metadata": {},
   "source": [
    "#### For this array of non-duplicated elements, add a unit to each element."
   ]
  },
  {
   "cell_type": "code",
   "execution_count": 61,
   "metadata": {},
   "outputs": [],
   "source": [
    "array = array + 1"
   ]
  },
  {
   "cell_type": "markdown",
   "metadata": {},
   "source": [
    "#### Given this array x = np.array ([- 5,6, -7,9]), create another array in absolute value"
   ]
  },
  {
   "cell_type": "code",
   "execution_count": 70,
   "metadata": {},
   "outputs": [
    {
     "name": "stdout",
     "output_type": "stream",
     "text": [
      "[5 6 7 9]\n"
     ]
    }
   ],
   "source": [
    "x = np.array([-5,6,-7,9])\n",
    "print(np.absolute(x)) #Abs"
   ]
  },
  {
   "cell_type": "markdown",
   "metadata": {},
   "source": [
    "#### Given this array x = np.array ([- 5,6, -7,9]), transform it into a 2x2 matrix and calculate the maximum and minimum of each row and column."
   ]
  },
  {
   "cell_type": "code",
   "execution_count": 76,
   "metadata": {},
   "outputs": [
    {
     "name": "stdout",
     "output_type": "stream",
     "text": [
      "[6 9]\n",
      "[-5  9]\n"
     ]
    }
   ],
   "source": [
    "x = np.array([-5,6,-7,9])\n",
    "x = x.reshape(2,2)\n",
    "\n",
    "print(x.max(axis=1)) # Maximum of each row\n",
    "print(x.max(axis=0))"
   ]
  },
  {
   "cell_type": "markdown",
   "metadata": {},
   "source": [
    "#### Create a diagonal matrix"
   ]
  },
  {
   "cell_type": "code",
   "execution_count": 66,
   "metadata": {},
   "outputs": [
    {
     "data": {
      "text/plain": [
       "array([[0, 0, 0],\n",
       "       [0, 1, 0],\n",
       "       [0, 0, 2]])"
      ]
     },
     "execution_count": 66,
     "metadata": {},
     "output_type": "execute_result"
    }
   ],
   "source": [
    "a = np.diag(np.arange(3))\n",
    "a"
   ]
  },
  {
   "cell_type": "markdown",
   "metadata": {},
   "source": [
    "#### Create a matrix of 0 with 3x3 range"
   ]
  },
  {
   "cell_type": "code",
   "execution_count": 69,
   "metadata": {},
   "outputs": [
    {
     "data": {
      "text/plain": [
       "array([[0., 0., 0., 0., 0.],\n",
       "       [0., 0., 0., 0., 0.],\n",
       "       [0., 0., 0., 0., 0.]])"
      ]
     },
     "execution_count": 69,
     "metadata": {},
     "output_type": "execute_result"
    }
   ],
   "source": [
    "np.zeros((3,5),dtype=float)"
   ]
  },
  {
   "cell_type": "markdown",
   "metadata": {},
   "source": [
    "### Exercise 2"
   ]
  },
  {
   "cell_type": "markdown",
   "metadata": {},
   "source": [
    "#### Create two arrays of 20,000 items with random numbers of different distributions, but in a similar range of values"
   ]
  },
  {
   "cell_type": "code",
   "execution_count": 54,
   "metadata": {},
   "outputs": [],
   "source": [
    "a1 = np.random.gamma(10,0.5,20000)\n",
    "a2 = np.random.normal(4.5,0.5,20000)"
   ]
  },
  {
   "cell_type": "markdown",
   "metadata": {},
   "source": [
    "#### Calculate the mean and variance of the distributions"
   ]
  },
  {
   "cell_type": "code",
   "execution_count": 67,
   "metadata": {},
   "outputs": [
    {
     "name": "stdout",
     "output_type": "stream",
     "text": [
      "2.4869668989726277 0.25044781376407677\n"
     ]
    }
   ],
   "source": [
    "print(a1.var(),a2.var())"
   ]
  },
  {
   "cell_type": "markdown",
   "metadata": {},
   "source": [
    "#### Draw his histograms and compare them."
   ]
  },
  {
   "cell_type": "code",
   "execution_count": 55,
   "metadata": {},
   "outputs": [
    {
     "data": {
      "image/png": "[encoded data removed]",
      "text/plain": [
       "<matplotlib.figure.Figure at 0x258f784fa20>"
      ]
     },
     "metadata": {},
     "output_type": "display_data"
    }
   ],
   "source": [
    "import matplotlib.pyplot as plt\n",
    "import scipy.stats as stats\n",
    "%matplotlib inline \n",
    "plt.hist(a1,bins=200)\n",
    "plt.hist(a2,bins=200)\n",
    "plt.show()"
   ]
  },
  {
   "cell_type": "markdown",
   "metadata": {},
   "source": [
    "#### Search in scypy.stats for a function to make a check (by means of a t-test) of whether the average of the elements in the two arrays is different"
   ]
  },
  {
   "cell_type": "markdown",
   "metadata": {},
   "source": [
    "https://docs.scipy.org/doc/scipy/reference/stats.html"
   ]
  },
  {
   "cell_type": "code",
   "execution_count": 58,
   "metadata": {},
   "outputs": [
    {
     "data": {
      "text/plain": [
       "Ttest_indResult(statistic=41.97817646985726, pvalue=0.0)"
      ]
     },
     "execution_count": 58,
     "metadata": {},
     "output_type": "execute_result"
    }
   ],
   "source": [
    "test = stats.ttest_ind(a1,a2)\n",
    "test"
   ]
  },
  {
   "cell_type": "markdown",
   "metadata": {},
   "source": [
    "### Exercise 3"
   ]
  },
  {
   "cell_type": "markdown",
   "metadata": {},
   "source": [
    "#### If we do not find the distribution in the ScyPy libraries but we know it (\"we know the formula\"), we can always generate the random data by generating an array with the data in the range in which it is defined, and then randomly taking a number of elements of there (\"with replacement\"). Let's think if we have this function: f (t) defined by: f (t) = 2t / (1 + t ^ 2) ^ 2 with t> 0."
   ]
  },
  {
   "cell_type": "code",
   "execution_count": 68,
   "metadata": {},
   "outputs": [
    {
     "data": {
      "text/plain": [
       "[<matplotlib.lines.Line2D at 0x258f89d16d8>]"
      ]
     },
     "execution_count": 68,
     "metadata": {},
     "output_type": "execute_result"
    },
    {
     "data": {
      "image/png": "[encoded data removed]",
      "text/plain": [
       "<matplotlib.figure.Figure at 0x258f8955828>"
      ]
     },
     "metadata": {},
     "output_type": "display_data"
    }
   ],
   "source": [
    "x = np.linspace(0,10,100)\n",
    "y = (2*x)/(1+x**2)**2\n",
    "plt.plot(x,y)"
   ]
  },
  {
   "cell_type": "code",
   "execution_count": null,
   "metadata": {},
   "outputs": [],
   "source": []
  }
 ],
 "metadata": {
  "kernelspec": {
   "display_name": "Python 3",
   "language": "python",
   "name": "python3"
  },
  "language_info": {
   "codemirror_mode": {
    "name": "ipython",
    "version": 3
   },
   "file_extension": ".py",
   "mimetype": "text/x-python",
   "name": "python",
   "nbconvert_exporter": "python",
   "pygments_lexer": "ipython3",
   "version": "3.7.3"
  }
 },
 "nbformat": 4,
 "nbformat_minor": 2
}
