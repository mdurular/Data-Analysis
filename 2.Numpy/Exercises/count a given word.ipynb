{
 "cells": [
  {
   "cell_type": "raw",
   "id": "b6dff985",
   "metadata": {},
   "source": [
    "Write a NumPy program to count a given word in each row of a given array of string values.\n",
    "Sample output:\n",
    "Original array of string values:\n",
    "[['Python' 'NumPy' 'Exercises']\n",
    "['Python' 'Pandas' 'Exercises']\n",
    "['Python' 'Machine learning' 'Python']]\n",
    "Count 'Python' row wise in the above array of string values:\n",
    "[[1 0 0]\n",
    "[1 0 0]\n",
    "[1 0 1]]"
   ]
  },
  {
   "cell_type": "code",
   "execution_count": 3,
   "id": "13ffe639",
   "metadata": {},
   "outputs": [
    {
     "name": "stdout",
     "output_type": "stream",
     "text": [
      "Original array of string values:\n",
      "[['Python' 'NumPy' 'Exercises' 'Python']\n",
      " ['Python' 'Pandas' 'Exercises' 'Python']\n",
      " ['Python' 'Machine learning' 'Python' 'Python']]\n",
      "\n",
      "Count 'Python' row wise in the above array of string values:\n",
      "[[1 0 0 1]\n",
      " [1 0 0 1]\n",
      " [1 0 1 1]]\n"
     ]
    }
   ],
   "source": [
    "import numpy as np \n",
    "\n",
    "str1 = np.array([['Python','NumPy','Exercises','Python'],\n",
    "                 ['Python','Pandas','Exercises','Python'],\n",
    "                 ['Python','Machine learning','Python','Python']])\n",
    "print(\"Original array of string values:\") \n",
    "print(str1)\n",
    "print(\"\\nCount 'Python' row wise in the above array of string values:\")\n",
    "print(np.char.count(str1, 'Python'))"
   ]
  },
  {
   "cell_type": "code",
   "execution_count": null,
   "id": "aa693e0b",
   "metadata": {},
   "outputs": [],
   "source": []
  }
 ],
 "metadata": {
  "kernelspec": {
   "display_name": "Python 3",
   "language": "python",
   "name": "python3"
  },
  "language_info": {
   "codemirror_mode": {
    "name": "ipython",
    "version": 3
   },
   "file_extension": ".py",
   "mimetype": "text/x-python",
   "name": "python",
   "nbconvert_exporter": "python",
   "pygments_lexer": "ipython3",
   "version": "3.8.8"
  }
 },
 "nbformat": 4,
 "nbformat_minor": 5
}
