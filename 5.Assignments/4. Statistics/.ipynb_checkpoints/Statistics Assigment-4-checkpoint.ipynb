{
 "cells": [
  {
   "cell_type": "code",
   "execution_count": 1,
   "id": "45673a19",
   "metadata": {},
   "outputs": [],
   "source": [
    "import numpy as np\n",
    "import pandas as pd\n",
    "from scipy import stats\n",
    "import matplotlib.pyplot as plt"
   ]
  },
  {
   "cell_type": "markdown",
   "id": "79bda51f",
   "metadata": {},
   "source": [
    "# EXERCISE 1. "
   ]
  },
  {
   "cell_type": "markdown",
   "id": "a6acb41c",
   "metadata": {},
   "source": [
    "Answer the following questions by looking at the distribution table or coding with Python."
   ]
  },
  {
   "cell_type": "markdown",
   "id": "6c3b1e0a",
   "metadata": {},
   "source": [
    "1.\tA salesperson has found that the probability of a sale on a single contact is approximately .03. If the salesperson contacts 100 prospects, what is the approximate probability of making at least one sale? (Wackerly, Ex.3.135)"
   ]
  },
  {
   "cell_type": "code",
   "execution_count": 2,
   "id": "a5a760b6",
   "metadata": {},
   "outputs": [],
   "source": [
    "n = 100\n",
    "p = 0.03\n",
    "x = 0"
   ]
  },
  {
   "cell_type": "code",
   "execution_count": 3,
   "id": "03512aef",
   "metadata": {
    "scrolled": true
   },
   "outputs": [
    {
     "data": {
      "text/plain": [
       "0.9524474920745942"
      ]
     },
     "execution_count": 3,
     "metadata": {},
     "output_type": "execute_result"
    }
   ],
   "source": [
    "1-stats.binom.pmf(x,n,p)"
   ]
  },
  {
   "cell_type": "markdown",
   "id": "ec4bbec4",
   "metadata": {},
   "source": [
    "2.\tTen coins are tossed simultaneously. Find the probability of getting"
   ]
  },
  {
   "cell_type": "markdown",
   "id": "6faeb1af",
   "metadata": {},
   "source": [
    "(i) at least seven heads"
   ]
  },
  {
   "cell_type": "code",
   "execution_count": 4,
   "id": "7aeb1e54",
   "metadata": {},
   "outputs": [
    {
     "data": {
      "text/plain": [
       "0.171875"
      ]
     },
     "execution_count": 4,
     "metadata": {},
     "output_type": "execute_result"
    }
   ],
   "source": [
    "n = 10\n",
    "p = 0.5\n",
    "x = 6\n",
    "1-stats.binom.cdf(x,n,p)"
   ]
  },
  {
   "cell_type": "code",
   "execution_count": 5,
   "id": "c40c02be",
   "metadata": {},
   "outputs": [
    {
     "data": {
      "text/plain": [
       "0.17187500000000014"
      ]
     },
     "execution_count": 5,
     "metadata": {},
     "output_type": "execute_result"
    }
   ],
   "source": [
    "# solution-2\n",
    "\n",
    "stats.binom.pmf(7,n,p) + stats.binom.pmf(8,n,p) +stats.binom.pmf(9,n,p)+stats.binom.pmf(10,n,p) "
   ]
  },
  {
   "cell_type": "markdown",
   "id": "c01fcb98",
   "metadata": {},
   "source": [
    "\n",
    "(ii) exactly seven heads\n"
   ]
  },
  {
   "cell_type": "code",
   "execution_count": 6,
   "id": "7b507dfb",
   "metadata": {},
   "outputs": [
    {
     "data": {
      "text/plain": [
       "0.11718750000000014"
      ]
     },
     "execution_count": 6,
     "metadata": {},
     "output_type": "execute_result"
    }
   ],
   "source": [
    "x = 7\n",
    "stats.binom.pmf(x,n,p)"
   ]
  },
  {
   "cell_type": "markdown",
   "id": "a61a964a",
   "metadata": {},
   "source": [
    "\n",
    "(iii)at most seven heads\n"
   ]
  },
  {
   "cell_type": "code",
   "execution_count": 7,
   "id": "f37d1af4",
   "metadata": {},
   "outputs": [
    {
     "data": {
      "text/plain": [
       "0.9453125"
      ]
     },
     "execution_count": 7,
     "metadata": {},
     "output_type": "execute_result"
    }
   ],
   "source": [
    "x = 7\n",
    "stats.binom.cdf(x,n, p)"
   ]
  },
  {
   "cell_type": "markdown",
   "id": "f2df7ba4",
   "metadata": {},
   "source": [
    "# EXERCISE 2. "
   ]
  },
  {
   "cell_type": "markdown",
   "id": "7ed3c437",
   "metadata": {},
   "source": [
    "The cycle time for trucks hauling concrete to a highway construction site is uniformly distributed over the interval 50 to 70 minutes. What is the probability that the cycle time exceeds 65 minutes  if it is known that the cycle time exceeds 55 minutes? (Wackerly, Ex.4.51)"
   ]
  },
  {
   "cell_type": "code",
   "execution_count": 8,
   "id": "8a97dc60",
   "metadata": {},
   "outputs": [
    {
     "data": {
      "text/plain": [
       "0.25"
      ]
     },
     "execution_count": 8,
     "metadata": {},
     "output_type": "execute_result"
    }
   ],
   "source": [
    "a, b  = 50, 70\n",
    "Dist = stats.uniform(a,b-a)\n",
    "\n",
    "# A:\n",
    "pA=1-Dist.cdf(65)\n",
    "pA\n"
   ]
  },
  {
   "cell_type": "code",
   "execution_count": 9,
   "id": "c61afb67",
   "metadata": {},
   "outputs": [
    {
     "data": {
      "text/plain": [
       "0.75"
      ]
     },
     "execution_count": 9,
     "metadata": {},
     "output_type": "execute_result"
    }
   ],
   "source": [
    "# B:\n",
    "\n",
    "pB=1-Dist.cdf(55)\n",
    "pB"
   ]
  },
  {
   "cell_type": "code",
   "execution_count": 10,
   "id": "0339d593",
   "metadata": {},
   "outputs": [
    {
     "name": "stdout",
     "output_type": "stream",
     "text": [
      "p(A | B ):  0.3333333333333333\n"
     ]
    }
   ],
   "source": [
    "# p(A | B ) = p(A n B)/p( B )\n",
    "# p(A n B) = p( A ) \n",
    "pAB=pA/pB\n",
    "print(\"p(A | B ): \", pAB)"
   ]
  },
  {
   "cell_type": "markdown",
   "id": "de2e9118",
   "metadata": {},
   "source": [
    "# EXERCISE 3. "
   ]
  },
  {
   "cell_type": "markdown",
   "id": "6fb42348",
   "metadata": {},
   "source": [
    "The width of bolts of fabric is normally distributed with mean 950 mm (millimeters) and standard deviation 10 mm."
   ]
  },
  {
   "cell_type": "markdown",
   "id": "74eed095",
   "metadata": {},
   "source": [
    "1.\tWhat is the probability that a randomly chosen bolt has a width of between 947 and 958mm?"
   ]
  },
  {
   "cell_type": "code",
   "execution_count": 11,
   "id": "40488fbb",
   "metadata": {},
   "outputs": [],
   "source": [
    "mu=950\n",
    "sigma=10"
   ]
  },
  {
   "cell_type": "code",
   "execution_count": 12,
   "id": "f0814c9a",
   "metadata": {},
   "outputs": [
    {
     "data": {
      "text/plain": [
       "0.406056023605556"
      ]
     },
     "execution_count": 12,
     "metadata": {},
     "output_type": "execute_result"
    }
   ],
   "source": [
    "stats.norm.cdf(958,mu,sigma)-stats.norm.cdf(947,mu,sigma)"
   ]
  },
  {
   "cell_type": "markdown",
   "id": "ff41236f",
   "metadata": {},
   "source": [
    "2.\tWhat is the appropriate value for C such that a randomly chosen bolt has a width less than C with probability .8531? (Wackerly, Ex.4.73)"
   ]
  },
  {
   "cell_type": "code",
   "execution_count": 13,
   "id": "96916def",
   "metadata": {},
   "outputs": [
    {
     "data": {
      "text/plain": [
       "960.4982190962642"
      ]
     },
     "execution_count": 13,
     "metadata": {},
     "output_type": "execute_result"
    }
   ],
   "source": [
    "stats.norm.ppf(0.8531,mu,sigma)"
   ]
  },
  {
   "cell_type": "markdown",
   "id": "ad758d6b",
   "metadata": {},
   "source": [
    "# EXERCISE 4. "
   ]
  },
  {
   "cell_type": "markdown",
   "id": "54c7e7c1",
   "metadata": {},
   "source": [
    "Suppose scores on exams in statistics are normally distributed with an unknown population mean and a population standard deviation of 3 points. A random sample of 36 scores is taken and gives a sample mean (sample mean score) of 68. Find a confidence interval estimate for the population mean exam score (the mean score on all exams). Find a 90% confidence interval for the true (population) mean of statistics exam scores."
   ]
  },
  {
   "cell_type": "code",
   "execution_count": 14,
   "id": "76f03357",
   "metadata": {},
   "outputs": [
    {
     "data": {
      "text/plain": [
       "(67.17757318652427, 68.82242681347573)"
      ]
     },
     "execution_count": 14,
     "metadata": {},
     "output_type": "execute_result"
    }
   ],
   "source": [
    "# Standard deviation of Sample\n",
    "sigma = 3\n",
    "\n",
    "# Size of Sample\n",
    "n = 36\n",
    "\n",
    "# Sample mean\n",
    "xbar = 68\n",
    "\n",
    "# Confidence level\n",
    "cl = 0.90\n",
    "\n",
    "\n",
    "stats.norm.interval(alpha=cl, loc=xbar, scale=sigma/np.sqrt(n))"
   ]
  },
  {
   "cell_type": "markdown",
   "id": "f8a51ea5",
   "metadata": {},
   "source": [
    "# EXERCISE 5.  "
   ]
  },
  {
   "cell_type": "markdown",
   "id": "26749f29",
   "metadata": {},
   "source": [
    "What is the normal body temperature for healthy humans? A random sample of 130 healthy human body temperatures provided by Allen Shoemaker yielded 98.25 degrees and standard deviation 0.73 degrees."
   ]
  },
  {
   "cell_type": "markdown",
   "id": "45e4db65",
   "metadata": {},
   "source": [
    "1.\tGive a 99% confidence interval for the average body temperature of healthy people."
   ]
  },
  {
   "cell_type": "code",
   "execution_count": 15,
   "id": "d12632fc",
   "metadata": {},
   "outputs": [
    {
     "data": {
      "text/plain": [
       "(98.08508192246582, 98.41491807753418)"
      ]
     },
     "execution_count": 15,
     "metadata": {},
     "output_type": "execute_result"
    }
   ],
   "source": [
    "# Size of Sample \n",
    "n = 130\n",
    "\n",
    "# Mean of Sample \n",
    "xbar = 98.25\n",
    "\n",
    "# Sample standard deviation\n",
    "s = 0.73\n",
    "\n",
    "# Confidence level\n",
    "cl = 0.99\n",
    "\n",
    "stats.norm.interval(alpha=cl, loc=xbar, scale=s/np.sqrt(n))\n"
   ]
  },
  {
   "cell_type": "markdown",
   "id": "bd664b52",
   "metadata": {},
   "source": [
    "2.\tDoes the confidence interval obtained in part (a) contain the value 98.6 degrees, the accepted average temperature cited by physicians and others? What conclusions can you draw? (Wackerly, Ex.8.60)"
   ]
  },
  {
   "cell_type": "markdown",
   "id": "c5355aa5",
   "metadata": {},
   "source": [
    "No, the 99% confident interval doesn't contain 98.6 degrees.Normal body temperature, more humid, 98.6 degree is not contained in the interval. So that means it is possible that the standard for normal is no longer valid."
   ]
  }
 ],
 "metadata": {
  "kernelspec": {
   "display_name": "Python 3",
   "language": "python",
   "name": "python3"
  },
  "language_info": {
   "codemirror_mode": {
    "name": "ipython",
    "version": 3
   },
   "file_extension": ".py",
   "mimetype": "text/x-python",
   "name": "python",
   "nbconvert_exporter": "python",
   "pygments_lexer": "ipython3",
   "version": "3.8.8"
  }
 },
 "nbformat": 4,
 "nbformat_minor": 5
}
