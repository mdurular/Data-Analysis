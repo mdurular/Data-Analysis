{
 "cells": [
  {
   "cell_type": "code",
   "execution_count": 2,
   "id": "0f9faf09",
   "metadata": {},
   "outputs": [],
   "source": [
    "# Basic Libraries\n",
    "import pandas as pd\n",
    "import numpy as np\n",
    "\n",
    "# Libraries for visualizaton\n",
    "import matplotlib.pyplot as plt\n",
    "import seaborn as sns\n",
    "%matplotlib inline\n",
    "\n",
    "import warnings\n",
    "warnings.filterwarnings('ignore') "
   ]
  },
  {
   "cell_type": "code",
   "execution_count": 4,
   "id": "9722aca3",
   "metadata": {},
   "outputs": [
    {
     "data": {
      "text/html": [
       "<div>\n",
       "<style scoped>\n",
       "    .dataframe tbody tr th:only-of-type {\n",
       "        vertical-align: middle;\n",
       "    }\n",
       "\n",
       "    .dataframe tbody tr th {\n",
       "        vertical-align: top;\n",
       "    }\n",
       "\n",
       "    .dataframe thead th {\n",
       "        text-align: right;\n",
       "    }\n",
       "</style>\n",
       "<table border=\"1\" class=\"dataframe\">\n",
       "  <thead>\n",
       "    <tr style=\"text-align: right;\">\n",
       "      <th></th>\n",
       "      <th>buyer_id</th>\n",
       "      <th>buyer_country</th>\n",
       "      <th>seller_id</th>\n",
       "      <th>seller_country</th>\n",
       "      <th>product_code</th>\n",
       "      <th>category</th>\n",
       "      <th>brand</th>\n",
       "      <th>currency</th>\n",
       "      <th>price</th>\n",
       "      <th>date</th>\n",
       "    </tr>\n",
       "  </thead>\n",
       "  <tbody>\n",
       "    <tr>\n",
       "      <th>0</th>\n",
       "      <td>qzpjsi9t0o</td>\n",
       "      <td>GB</td>\n",
       "      <td>6oufpaot</td>\n",
       "      <td>GB</td>\n",
       "      <td>ydecnydr6obf</td>\n",
       "      <td>Dresses</td>\n",
       "      <td>NaN</td>\n",
       "      <td>GBP</td>\n",
       "      <td>19.11</td>\n",
       "      <td>2020-08-03</td>\n",
       "    </tr>\n",
       "    <tr>\n",
       "      <th>1</th>\n",
       "      <td>o79pns1qwo</td>\n",
       "      <td>GB</td>\n",
       "      <td>50xki2yg</td>\n",
       "      <td>GB</td>\n",
       "      <td>38chj507o6h2</td>\n",
       "      <td>Outerwear</td>\n",
       "      <td>Adidas Originals</td>\n",
       "      <td>GBP</td>\n",
       "      <td>15.92</td>\n",
       "      <td>2020-08-09</td>\n",
       "    </tr>\n",
       "    <tr>\n",
       "      <th>2</th>\n",
       "      <td>sjgbjdkhqx</td>\n",
       "      <td>GB</td>\n",
       "      <td>50xki2yg</td>\n",
       "      <td>GB</td>\n",
       "      <td>i9ynyxj5tdp8</td>\n",
       "      <td>Tops - Mens</td>\n",
       "      <td>NaN</td>\n",
       "      <td>GBP</td>\n",
       "      <td>6.37</td>\n",
       "      <td>2020-08-07</td>\n",
       "    </tr>\n",
       "    <tr>\n",
       "      <th>3</th>\n",
       "      <td>o79pns1qwo</td>\n",
       "      <td>GB</td>\n",
       "      <td>s0p322hh</td>\n",
       "      <td>GB</td>\n",
       "      <td>t50xe7moye8v</td>\n",
       "      <td>Tops - Mens</td>\n",
       "      <td>Berghaus</td>\n",
       "      <td>GBP</td>\n",
       "      <td>25.27</td>\n",
       "      <td>2020-08-09</td>\n",
       "    </tr>\n",
       "    <tr>\n",
       "      <th>4</th>\n",
       "      <td>o79pns1qwo</td>\n",
       "      <td>GB</td>\n",
       "      <td>dpkx192v</td>\n",
       "      <td>GB</td>\n",
       "      <td>hp4r9bjq68af</td>\n",
       "      <td>Bottoms - Womens</td>\n",
       "      <td>NaN</td>\n",
       "      <td>GBP</td>\n",
       "      <td>8.90</td>\n",
       "      <td>2020-08-09</td>\n",
       "    </tr>\n",
       "    <tr>\n",
       "      <th>...</th>\n",
       "      <td>...</td>\n",
       "      <td>...</td>\n",
       "      <td>...</td>\n",
       "      <td>...</td>\n",
       "      <td>...</td>\n",
       "      <td>...</td>\n",
       "      <td>...</td>\n",
       "      <td>...</td>\n",
       "      <td>...</td>\n",
       "      <td>...</td>\n",
       "    </tr>\n",
       "    <tr>\n",
       "      <th>237666</th>\n",
       "      <td>p7ibf7soot</td>\n",
       "      <td>GB</td>\n",
       "      <td>ss7jy9ks</td>\n",
       "      <td>GB</td>\n",
       "      <td>hzc7pmjxmsb6</td>\n",
       "      <td>Bottoms - Womens</td>\n",
       "      <td>NaN</td>\n",
       "      <td>GBP</td>\n",
       "      <td>17.11</td>\n",
       "      <td>2020-08-06</td>\n",
       "    </tr>\n",
       "    <tr>\n",
       "      <th>237667</th>\n",
       "      <td>2hg8zirueq</td>\n",
       "      <td>US</td>\n",
       "      <td>bk6apusi</td>\n",
       "      <td>US</td>\n",
       "      <td>fskn84lfyrvz</td>\n",
       "      <td>Home</td>\n",
       "      <td>NaN</td>\n",
       "      <td>USD</td>\n",
       "      <td>69.00</td>\n",
       "      <td>2020-08-05</td>\n",
       "    </tr>\n",
       "    <tr>\n",
       "      <th>237668</th>\n",
       "      <td>k5hmcfxcs6</td>\n",
       "      <td>GB</td>\n",
       "      <td>n2ez0xph</td>\n",
       "      <td>GB</td>\n",
       "      <td>5afe7yhdpcmz</td>\n",
       "      <td>Other</td>\n",
       "      <td>NaN</td>\n",
       "      <td>GBP</td>\n",
       "      <td>58.28</td>\n",
       "      <td>2020-08-05</td>\n",
       "    </tr>\n",
       "    <tr>\n",
       "      <th>237669</th>\n",
       "      <td>ca8nc8qv1x</td>\n",
       "      <td>GB</td>\n",
       "      <td>j1s4nqxb</td>\n",
       "      <td>GB</td>\n",
       "      <td>ktdrjbrq0fo2</td>\n",
       "      <td>Shoes</td>\n",
       "      <td>NaN</td>\n",
       "      <td>GBP</td>\n",
       "      <td>9.46</td>\n",
       "      <td>2020-08-05</td>\n",
       "    </tr>\n",
       "    <tr>\n",
       "      <th>237670</th>\n",
       "      <td>z09h7w9zcd</td>\n",
       "      <td>US</td>\n",
       "      <td>0au7baxi</td>\n",
       "      <td>US</td>\n",
       "      <td>0r1qni2g1zi4</td>\n",
       "      <td>Other</td>\n",
       "      <td>NaN</td>\n",
       "      <td>USD</td>\n",
       "      <td>160.76</td>\n",
       "      <td>2020-08-06</td>\n",
       "    </tr>\n",
       "  </tbody>\n",
       "</table>\n",
       "<p>237671 rows × 10 columns</p>\n",
       "</div>"
      ],
      "text/plain": [
       "          buyer_id buyer_country seller_id seller_country  product_code  \\\n",
       "0       qzpjsi9t0o            GB  6oufpaot             GB  ydecnydr6obf   \n",
       "1       o79pns1qwo            GB  50xki2yg             GB  38chj507o6h2   \n",
       "2       sjgbjdkhqx            GB  50xki2yg             GB  i9ynyxj5tdp8   \n",
       "3       o79pns1qwo            GB  s0p322hh             GB  t50xe7moye8v   \n",
       "4       o79pns1qwo            GB  dpkx192v             GB  hp4r9bjq68af   \n",
       "...            ...           ...       ...            ...           ...   \n",
       "237666  p7ibf7soot            GB  ss7jy9ks             GB  hzc7pmjxmsb6   \n",
       "237667  2hg8zirueq            US  bk6apusi             US  fskn84lfyrvz   \n",
       "237668  k5hmcfxcs6            GB  n2ez0xph             GB  5afe7yhdpcmz   \n",
       "237669  ca8nc8qv1x            GB  j1s4nqxb             GB  ktdrjbrq0fo2   \n",
       "237670  z09h7w9zcd            US  0au7baxi             US  0r1qni2g1zi4   \n",
       "\n",
       "                category             brand currency   price        date  \n",
       "0                Dresses               NaN      GBP   19.11  2020-08-03  \n",
       "1              Outerwear  Adidas Originals      GBP   15.92  2020-08-09  \n",
       "2            Tops - Mens               NaN      GBP    6.37  2020-08-07  \n",
       "3            Tops - Mens          Berghaus      GBP   25.27  2020-08-09  \n",
       "4       Bottoms - Womens               NaN      GBP    8.90  2020-08-09  \n",
       "...                  ...               ...      ...     ...         ...  \n",
       "237666  Bottoms - Womens               NaN      GBP   17.11  2020-08-06  \n",
       "237667              Home               NaN      USD   69.00  2020-08-05  \n",
       "237668             Other               NaN      GBP   58.28  2020-08-05  \n",
       "237669             Shoes               NaN      GBP    9.46  2020-08-05  \n",
       "237670             Other               NaN      USD  160.76  2020-08-06  \n",
       "\n",
       "[237671 rows x 10 columns]"
      ]
     },
     "execution_count": 4,
     "metadata": {},
     "output_type": "execute_result"
    }
   ],
   "source": [
    "df= pd.read_csv('sales_082020.csv')\n",
    "df"
   ]
  },
  {
   "cell_type": "code",
   "execution_count": 5,
   "id": "ceb64c9a",
   "metadata": {},
   "outputs": [
    {
     "data": {
      "text/html": [
       "<div>\n",
       "<style scoped>\n",
       "    .dataframe tbody tr th:only-of-type {\n",
       "        vertical-align: middle;\n",
       "    }\n",
       "\n",
       "    .dataframe tbody tr th {\n",
       "        vertical-align: top;\n",
       "    }\n",
       "\n",
       "    .dataframe thead th {\n",
       "        text-align: right;\n",
       "    }\n",
       "</style>\n",
       "<table border=\"1\" class=\"dataframe\">\n",
       "  <thead>\n",
       "    <tr style=\"text-align: right;\">\n",
       "      <th></th>\n",
       "      <th>currency</th>\n",
       "      <th>date</th>\n",
       "      <th>rate</th>\n",
       "    </tr>\n",
       "  </thead>\n",
       "  <tbody>\n",
       "    <tr>\n",
       "      <th>0</th>\n",
       "      <td>EUR</td>\n",
       "      <td>8/1/2020</td>\n",
       "      <td>1.0000</td>\n",
       "    </tr>\n",
       "    <tr>\n",
       "      <th>1</th>\n",
       "      <td>EUR</td>\n",
       "      <td>8/2/2020</td>\n",
       "      <td>1.0000</td>\n",
       "    </tr>\n",
       "    <tr>\n",
       "      <th>2</th>\n",
       "      <td>EUR</td>\n",
       "      <td>8/3/2020</td>\n",
       "      <td>1.0000</td>\n",
       "    </tr>\n",
       "    <tr>\n",
       "      <th>3</th>\n",
       "      <td>EUR</td>\n",
       "      <td>8/4/2020</td>\n",
       "      <td>1.0000</td>\n",
       "    </tr>\n",
       "    <tr>\n",
       "      <th>4</th>\n",
       "      <td>EUR</td>\n",
       "      <td>8/5/2020</td>\n",
       "      <td>1.0000</td>\n",
       "    </tr>\n",
       "    <tr>\n",
       "      <th>...</th>\n",
       "      <td>...</td>\n",
       "      <td>...</td>\n",
       "      <td>...</td>\n",
       "    </tr>\n",
       "    <tr>\n",
       "      <th>215</th>\n",
       "      <td>BRL</td>\n",
       "      <td>8/6/2020</td>\n",
       "      <td>6.3324</td>\n",
       "    </tr>\n",
       "    <tr>\n",
       "      <th>216</th>\n",
       "      <td>BRL</td>\n",
       "      <td>8/7/2020</td>\n",
       "      <td>6.4111</td>\n",
       "    </tr>\n",
       "    <tr>\n",
       "      <th>217</th>\n",
       "      <td>BRL</td>\n",
       "      <td>8/8/2020</td>\n",
       "      <td>6.4111</td>\n",
       "    </tr>\n",
       "    <tr>\n",
       "      <th>218</th>\n",
       "      <td>BRL</td>\n",
       "      <td>8/9/2020</td>\n",
       "      <td>6.4111</td>\n",
       "    </tr>\n",
       "    <tr>\n",
       "      <th>219</th>\n",
       "      <td>BRL</td>\n",
       "      <td>8/10/2020</td>\n",
       "      <td>6.4351</td>\n",
       "    </tr>\n",
       "  </tbody>\n",
       "</table>\n",
       "<p>220 rows × 3 columns</p>\n",
       "</div>"
      ],
      "text/plain": [
       "    currency       date    rate\n",
       "0        EUR   8/1/2020  1.0000\n",
       "1        EUR   8/2/2020  1.0000\n",
       "2        EUR   8/3/2020  1.0000\n",
       "3        EUR   8/4/2020  1.0000\n",
       "4        EUR   8/5/2020  1.0000\n",
       "..       ...        ...     ...\n",
       "215      BRL   8/6/2020  6.3324\n",
       "216      BRL   8/7/2020  6.4111\n",
       "217      BRL   8/8/2020  6.4111\n",
       "218      BRL   8/9/2020  6.4111\n",
       "219      BRL  8/10/2020  6.4351\n",
       "\n",
       "[220 rows x 3 columns]"
      ]
     },
     "execution_count": 5,
     "metadata": {},
     "output_type": "execute_result"
    }
   ],
   "source": [
    "df1= pd.read_csv('currency_rates_082020_EUR.csv')\n",
    "df1"
   ]
  },
  {
   "cell_type": "markdown",
   "id": "f043c251",
   "metadata": {},
   "source": [
    "1. How many rows in the sales dataset?(Just write numbers) *"
   ]
  },
  {
   "cell_type": "code",
   "execution_count": 19,
   "id": "5c237794",
   "metadata": {},
   "outputs": [
    {
     "data": {
      "text/plain": [
       "(237671, 10)"
      ]
     },
     "execution_count": 19,
     "metadata": {},
     "output_type": "execute_result"
    }
   ],
   "source": [
    "df.shape"
   ]
  },
  {
   "cell_type": "markdown",
   "id": "75bec4d3",
   "metadata": {},
   "source": [
    "2. How many columns in the sales dataset?(Just write numbers) *"
   ]
  },
  {
   "cell_type": "code",
   "execution_count": 20,
   "id": "cb035562",
   "metadata": {},
   "outputs": [
    {
     "data": {
      "text/plain": [
       "(237671, 10)"
      ]
     },
     "execution_count": 20,
     "metadata": {},
     "output_type": "execute_result"
    }
   ],
   "source": [
    "df.shape"
   ]
  },
  {
   "cell_type": "markdown",
   "id": "3a55a1f3",
   "metadata": {},
   "source": [
    "3. What is the total number of sellers?(Just write numbers) *"
   ]
  },
  {
   "cell_type": "code",
   "execution_count": 6,
   "id": "92750c04",
   "metadata": {},
   "outputs": [
    {
     "data": {
      "text/plain": [
       "114227"
      ]
     },
     "execution_count": 6,
     "metadata": {},
     "output_type": "execute_result"
    }
   ],
   "source": [
    "df.seller_id.nunique()"
   ]
  },
  {
   "cell_type": "code",
   "execution_count": 7,
   "id": "f92f0020",
   "metadata": {},
   "outputs": [
    {
     "data": {
      "text/plain": [
       "array(['GBP', 'USD', 'AUD', 'EUR', 'CAD', 'NZD', 'HKD', 'CHF', 'SEK',\n",
       "       'DKK', 'ILS', 'PLN', 'THB', 'MXN', 'JPY', 'NOK', 'SGD', 'MYR',\n",
       "       'TWD', 'HUF', 'CZK', 'BRL'], dtype=object)"
      ]
     },
     "execution_count": 7,
     "metadata": {},
     "output_type": "execute_result"
    }
   ],
   "source": [
    "df.currency.unique()"
   ]
  },
  {
   "cell_type": "markdown",
   "id": "6cf118e4",
   "metadata": {},
   "source": [
    "4. What is the total value of sales in EUR?(Just write numbers) *"
   ]
  },
  {
   "cell_type": "code",
   "execution_count": 16,
   "id": "5225c0be",
   "metadata": {},
   "outputs": [
    {
     "data": {
      "text/plain": [
       "275837.69"
      ]
     },
     "execution_count": 16,
     "metadata": {},
     "output_type": "execute_result"
    }
   ],
   "source": [
    "df.price[df.currency=='EUR'].sum()"
   ]
  },
  {
   "cell_type": "code",
   "execution_count": 15,
   "id": "1db01278",
   "metadata": {},
   "outputs": [
    {
     "data": {
      "text/plain": [
       "546        21.25\n",
       "948        55.26\n",
       "949        26.92\n",
       "950        62.28\n",
       "951        29.68\n",
       "           ...  \n",
       "237579     21.40\n",
       "237596      6.68\n",
       "237598     26.12\n",
       "237634    204.80\n",
       "237642     13.75\n",
       "Name: price, Length: 5934, dtype: float64"
      ]
     },
     "execution_count": 15,
     "metadata": {},
     "output_type": "execute_result"
    }
   ],
   "source": [
    "df.price[df.currency=='EUR']"
   ]
  },
  {
   "cell_type": "markdown",
   "id": "cd741cb6",
   "metadata": {},
   "source": [
    "5. Which brand has the highest number of purchases during the period?(Write down brand as in dataset, answer is case sensitive) *"
   ]
  },
  {
   "cell_type": "code",
   "execution_count": 23,
   "id": "37312bdb",
   "metadata": {},
   "outputs": [
    {
     "data": {
      "text/plain": [
       "Nike                  9575\n",
       "Brandy Melville       5065\n",
       "Topshop               4561\n",
       "PrettyLittle Thing    4136\n",
       "Adidas                3905\n",
       "                      ... \n",
       "Tibi                     1\n",
       "L*Space                  1\n",
       "Paco                     1\n",
       "SKAGEN                   1\n",
       "Ruby Rox                 1\n",
       "Name: brand, Length: 1134, dtype: int64"
      ]
     },
     "execution_count": 23,
     "metadata": {},
     "output_type": "execute_result"
    }
   ],
   "source": [
    "df.brand.value_counts()"
   ]
  },
  {
   "cell_type": "markdown",
   "id": "1ea03b83",
   "metadata": {},
   "source": [
    "6. How many items in the “Jewelry” category have no brand associated with them?(Just write numbers) *"
   ]
  },
  {
   "cell_type": "code",
   "execution_count": 36,
   "id": "3fc55486",
   "metadata": {},
   "outputs": [
    {
     "data": {
      "text/plain": [
       "13525"
      ]
     },
     "execution_count": 36,
     "metadata": {},
     "output_type": "execute_result"
    }
   ],
   "source": [
    "df.brand[df.category=='Jewellery'].isnull().sum()"
   ]
  },
  {
   "cell_type": "code",
   "execution_count": 44,
   "id": "ea82a738",
   "metadata": {},
   "outputs": [
    {
     "data": {
      "text/plain": [
       "13525"
      ]
     },
     "execution_count": 44,
     "metadata": {},
     "output_type": "execute_result"
    }
   ],
   "source": [
    "df.brand[df.category=='Jewellery'] .isna().sum()"
   ]
  },
  {
   "cell_type": "code",
   "execution_count": null,
   "id": "95107e7e",
   "metadata": {},
   "outputs": [],
   "source": []
  }
 ],
 "metadata": {
  "kernelspec": {
   "display_name": "Python 3",
   "language": "python",
   "name": "python3"
  },
  "language_info": {
   "codemirror_mode": {
    "name": "ipython",
    "version": 3
   },
   "file_extension": ".py",
   "mimetype": "text/x-python",
   "name": "python",
   "nbconvert_exporter": "python",
   "pygments_lexer": "ipython3",
   "version": "3.8.8"
  }
 },
 "nbformat": 4,
 "nbformat_minor": 5
}
